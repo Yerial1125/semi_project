{
 "cells": [
  {
   "cell_type": "markdown",
   "id": "dffbdad4",
   "metadata": {},
   "source": [
    "# ③학생의 독서에 대한 인식 분석"
   ]
  },
  {
   "cell_type": "markdown",
   "id": "33d5010a",
   "metadata": {},
   "source": [
    "- 연도별 그룹화 : groupby()"
   ]
  },
  {
   "cell_type": "code",
   "execution_count": 351,
   "id": "a0274516",
   "metadata": {},
   "outputs": [
    {
     "data": {
      "text/plain": [
       "<pandas.core.groupby.generic.DataFrameGroupBy object at 0x0000026585D73910>"
      ]
     },
     "execution_count": 351,
     "metadata": {},
     "output_type": "execute_result"
    }
   ],
   "source": [
    "stu_gr = total_stu.groupby('연도')\n",
    "stu_gr"
   ]
  },
  {
   "cell_type": "markdown",
   "id": "c924f448",
   "metadata": {},
   "source": [
    "## 1) 연도별 평균 독서시간"
   ]
  },
  {
   "cell_type": "markdown",
   "id": "abda748d",
   "metadata": {},
   "source": [
    "- 연도별 독서시간의 평균값 "
   ]
  },
  {
   "cell_type": "code",
   "execution_count": 352,
   "id": "34654b48",
   "metadata": {},
   "outputs": [],
   "source": [
    "read_avg_stu = stu_gr.mean().round(1).drop('월 평균 이용빈도',axis=1)"
   ]
  },
  {
   "cell_type": "code",
   "execution_count": 353,
   "id": "80c6f424",
   "metadata": {
    "scrolled": true
   },
   "outputs": [
    {
     "data": {
      "text/html": [
       "<div>\n",
       "<style scoped>\n",
       "    .dataframe tbody tr th:only-of-type {\n",
       "        vertical-align: middle;\n",
       "    }\n",
       "\n",
       "    .dataframe tbody tr th {\n",
       "        vertical-align: top;\n",
       "    }\n",
       "\n",
       "    .dataframe thead th {\n",
       "        text-align: right;\n",
       "    }\n",
       "</style>\n",
       "<table border=\"1\" class=\"dataframe\">\n",
       "  <thead>\n",
       "    <tr style=\"text-align: right;\">\n",
       "      <th></th>\n",
       "      <th>평일 평균 독서시간(분)</th>\n",
       "      <th>주말 평균 독서시간(분)</th>\n",
       "      <th>종이_평일 평균 독서시간(분)</th>\n",
       "      <th>종이_주말 평균 독서시간(분)</th>\n",
       "      <th>전자_평일 평균 독서시간(분)</th>\n",
       "      <th>전자_주말 평균 독서시간(분)</th>\n",
       "      <th>오디오_평일 평균 독서시간(분)</th>\n",
       "      <th>오디오_주말 평균 독서시간(분)</th>\n",
       "    </tr>\n",
       "    <tr>\n",
       "      <th>연도</th>\n",
       "      <th></th>\n",
       "      <th></th>\n",
       "      <th></th>\n",
       "      <th></th>\n",
       "      <th></th>\n",
       "      <th></th>\n",
       "      <th></th>\n",
       "      <th></th>\n",
       "    </tr>\n",
       "  </thead>\n",
       "  <tbody>\n",
       "    <tr>\n",
       "      <th>2017</th>\n",
       "      <td>40.0</td>\n",
       "      <td>55.1</td>\n",
       "      <td>0.0</td>\n",
       "      <td>0.0</td>\n",
       "      <td>0.0</td>\n",
       "      <td>0.0</td>\n",
       "      <td>0.0</td>\n",
       "      <td>0.0</td>\n",
       "    </tr>\n",
       "    <tr>\n",
       "      <th>2019</th>\n",
       "      <td>0.0</td>\n",
       "      <td>0.0</td>\n",
       "      <td>58.5</td>\n",
       "      <td>47.7</td>\n",
       "      <td>17.6</td>\n",
       "      <td>20.1</td>\n",
       "      <td>6.0</td>\n",
       "      <td>4.6</td>\n",
       "    </tr>\n",
       "    <tr>\n",
       "      <th>2021</th>\n",
       "      <td>0.0</td>\n",
       "      <td>0.0</td>\n",
       "      <td>35.9</td>\n",
       "      <td>41.9</td>\n",
       "      <td>29.8</td>\n",
       "      <td>42.9</td>\n",
       "      <td>6.8</td>\n",
       "      <td>8.7</td>\n",
       "    </tr>\n",
       "  </tbody>\n",
       "</table>\n",
       "</div>"
      ],
      "text/plain": [
       "      평일 평균 독서시간(분)  주말 평균 독서시간(분)  종이_평일 평균 독서시간(분)  종이_주말 평균 독서시간(분)  \\\n",
       "연도                                                                       \n",
       "2017           40.0           55.1               0.0               0.0   \n",
       "2019            0.0            0.0              58.5              47.7   \n",
       "2021            0.0            0.0              35.9              41.9   \n",
       "\n",
       "      전자_평일 평균 독서시간(분)  전자_주말 평균 독서시간(분)  오디오_평일 평균 독서시간(분)  오디오_주말 평균 독서시간(분)  \n",
       "연도                                                                              \n",
       "2017               0.0               0.0                0.0                0.0  \n",
       "2019              17.6              20.1                6.0                4.6  \n",
       "2021              29.8              42.9                6.8                8.7  "
      ]
     },
     "execution_count": 353,
     "metadata": {},
     "output_type": "execute_result"
    }
   ],
   "source": [
    "# 필요한 컬럼값 추출\n",
    "read_avg_stu = read_avg_stu.loc[:,'평일 평균 독서시간(분)':]\n",
    "read_avg_stu"
   ]
  },
  {
   "cell_type": "markdown",
   "id": "de66d126",
   "metadata": {},
   "source": [
    "- 2019,2021년의 종류별 독서시간을 전체 독서시간으로 변환"
   ]
  },
  {
   "cell_type": "code",
   "execution_count": 354,
   "id": "431118c5",
   "metadata": {},
   "outputs": [
    {
     "data": {
      "text/html": [
       "<div>\n",
       "<style scoped>\n",
       "    .dataframe tbody tr th:only-of-type {\n",
       "        vertical-align: middle;\n",
       "    }\n",
       "\n",
       "    .dataframe tbody tr th {\n",
       "        vertical-align: top;\n",
       "    }\n",
       "\n",
       "    .dataframe thead th {\n",
       "        text-align: right;\n",
       "    }\n",
       "</style>\n",
       "<table border=\"1\" class=\"dataframe\">\n",
       "  <thead>\n",
       "    <tr style=\"text-align: right;\">\n",
       "      <th></th>\n",
       "      <th>평일 평균 독서시간(분)</th>\n",
       "      <th>주말 평균 독서시간(분)</th>\n",
       "      <th>종이_평일 평균 독서시간(분)</th>\n",
       "      <th>종이_주말 평균 독서시간(분)</th>\n",
       "      <th>전자_평일 평균 독서시간(분)</th>\n",
       "      <th>전자_주말 평균 독서시간(분)</th>\n",
       "      <th>오디오_평일 평균 독서시간(분)</th>\n",
       "      <th>오디오_주말 평균 독서시간(분)</th>\n",
       "    </tr>\n",
       "    <tr>\n",
       "      <th>연도</th>\n",
       "      <th></th>\n",
       "      <th></th>\n",
       "      <th></th>\n",
       "      <th></th>\n",
       "      <th></th>\n",
       "      <th></th>\n",
       "      <th></th>\n",
       "      <th></th>\n",
       "    </tr>\n",
       "  </thead>\n",
       "  <tbody>\n",
       "    <tr>\n",
       "      <th>2017</th>\n",
       "      <td>40.0</td>\n",
       "      <td>55.1</td>\n",
       "      <td>0.0</td>\n",
       "      <td>0.0</td>\n",
       "      <td>0.0</td>\n",
       "      <td>0.0</td>\n",
       "      <td>0.0</td>\n",
       "      <td>0.0</td>\n",
       "    </tr>\n",
       "    <tr>\n",
       "      <th>2019</th>\n",
       "      <td>82.1</td>\n",
       "      <td>73.8</td>\n",
       "      <td>58.5</td>\n",
       "      <td>47.7</td>\n",
       "      <td>17.6</td>\n",
       "      <td>20.1</td>\n",
       "      <td>6.0</td>\n",
       "      <td>4.6</td>\n",
       "    </tr>\n",
       "    <tr>\n",
       "      <th>2021</th>\n",
       "      <td>72.5</td>\n",
       "      <td>91.6</td>\n",
       "      <td>35.9</td>\n",
       "      <td>41.9</td>\n",
       "      <td>29.8</td>\n",
       "      <td>42.9</td>\n",
       "      <td>6.8</td>\n",
       "      <td>8.7</td>\n",
       "    </tr>\n",
       "  </tbody>\n",
       "</table>\n",
       "</div>"
      ],
      "text/plain": [
       "      평일 평균 독서시간(분)  주말 평균 독서시간(분)  종이_평일 평균 독서시간(분)  종이_주말 평균 독서시간(분)  \\\n",
       "연도                                                                       \n",
       "2017           40.0           55.1               0.0               0.0   \n",
       "2019           82.1           73.8              58.5              47.7   \n",
       "2021           72.5           91.6              35.9              41.9   \n",
       "\n",
       "      전자_평일 평균 독서시간(분)  전자_주말 평균 독서시간(분)  오디오_평일 평균 독서시간(분)  오디오_주말 평균 독서시간(분)  \n",
       "연도                                                                              \n",
       "2017               0.0               0.0                0.0                0.0  \n",
       "2019              17.6              20.1                6.0                4.6  \n",
       "2021              29.8              42.9                6.8                8.7  "
      ]
     },
     "execution_count": 354,
     "metadata": {},
     "output_type": "execute_result"
    }
   ],
   "source": [
    "for i in range(1,3):\n",
    "    read_avg_stu.iloc[i,0] = read_avg_stu.iloc[i,2] + read_avg_stu.iloc[i,4] + read_avg_stu.iloc[i,6]\n",
    "    read_avg_stu.iloc[i,1] = read_avg_stu.iloc[i,3] + read_avg_stu.iloc[i,5] + read_avg_stu.iloc[i,6]\n",
    "    \n",
    "read_avg_stu"
   ]
  },
  {
   "cell_type": "markdown",
   "id": "6a70accb",
   "metadata": {},
   "source": [
    "- 종류별 평일/주말 평균 독서시간을 일 평균 독서시간을 변환"
   ]
  },
  {
   "cell_type": "code",
   "execution_count": 355,
   "id": "8f5e4adc",
   "metadata": {},
   "outputs": [
    {
     "data": {
      "text/html": [
       "<div>\n",
       "<style scoped>\n",
       "    .dataframe tbody tr th:only-of-type {\n",
       "        vertical-align: middle;\n",
       "    }\n",
       "\n",
       "    .dataframe tbody tr th {\n",
       "        vertical-align: top;\n",
       "    }\n",
       "\n",
       "    .dataframe thead th {\n",
       "        text-align: right;\n",
       "    }\n",
       "</style>\n",
       "<table border=\"1\" class=\"dataframe\">\n",
       "  <thead>\n",
       "    <tr style=\"text-align: right;\">\n",
       "      <th></th>\n",
       "      <th>평일 평균 독서시간(분)</th>\n",
       "      <th>주말 평균 독서시간(분)</th>\n",
       "      <th>일 평균 독서시간(분)</th>\n",
       "      <th>종이_평일 평균 독서시간(분)</th>\n",
       "      <th>종이_주말 평균 독서시간(분)</th>\n",
       "      <th>종이_일 평균 독서시간(분)</th>\n",
       "      <th>전자_평일 평균 독서시간(분)</th>\n",
       "      <th>전자_주말 평균 독서시간(분)</th>\n",
       "      <th>전자_일 평균 독서시간(분)</th>\n",
       "      <th>오디오_평일 평균 독서시간(분)</th>\n",
       "      <th>오디오_주말 평균 독서시간(분)</th>\n",
       "      <th>오디오_일 평균 독서시간(분)</th>\n",
       "    </tr>\n",
       "    <tr>\n",
       "      <th>연도</th>\n",
       "      <th></th>\n",
       "      <th></th>\n",
       "      <th></th>\n",
       "      <th></th>\n",
       "      <th></th>\n",
       "      <th></th>\n",
       "      <th></th>\n",
       "      <th></th>\n",
       "      <th></th>\n",
       "      <th></th>\n",
       "      <th></th>\n",
       "      <th></th>\n",
       "    </tr>\n",
       "  </thead>\n",
       "  <tbody>\n",
       "    <tr>\n",
       "      <th>2017</th>\n",
       "      <td>40.0</td>\n",
       "      <td>55.1</td>\n",
       "      <td>44.314286</td>\n",
       "      <td>0.0</td>\n",
       "      <td>0.0</td>\n",
       "      <td>0.000000</td>\n",
       "      <td>0.0</td>\n",
       "      <td>0.0</td>\n",
       "      <td>0.000000</td>\n",
       "      <td>0.0</td>\n",
       "      <td>0.0</td>\n",
       "      <td>0.000000</td>\n",
       "    </tr>\n",
       "    <tr>\n",
       "      <th>2019</th>\n",
       "      <td>82.1</td>\n",
       "      <td>73.8</td>\n",
       "      <td>79.728571</td>\n",
       "      <td>58.5</td>\n",
       "      <td>47.7</td>\n",
       "      <td>55.414286</td>\n",
       "      <td>17.6</td>\n",
       "      <td>20.1</td>\n",
       "      <td>18.314286</td>\n",
       "      <td>6.0</td>\n",
       "      <td>4.6</td>\n",
       "      <td>5.600000</td>\n",
       "    </tr>\n",
       "    <tr>\n",
       "      <th>2021</th>\n",
       "      <td>72.5</td>\n",
       "      <td>91.6</td>\n",
       "      <td>77.957143</td>\n",
       "      <td>35.9</td>\n",
       "      <td>41.9</td>\n",
       "      <td>37.614286</td>\n",
       "      <td>29.8</td>\n",
       "      <td>42.9</td>\n",
       "      <td>33.542857</td>\n",
       "      <td>6.8</td>\n",
       "      <td>8.7</td>\n",
       "      <td>7.342857</td>\n",
       "    </tr>\n",
       "  </tbody>\n",
       "</table>\n",
       "</div>"
      ],
      "text/plain": [
       "      평일 평균 독서시간(분)  주말 평균 독서시간(분)  일 평균 독서시간(분)  종이_평일 평균 독서시간(분)  \\\n",
       "연도                                                                   \n",
       "2017           40.0           55.1     44.314286               0.0   \n",
       "2019           82.1           73.8     79.728571              58.5   \n",
       "2021           72.5           91.6     77.957143              35.9   \n",
       "\n",
       "      종이_주말 평균 독서시간(분)  종이_일 평균 독서시간(분)  전자_평일 평균 독서시간(분)  전자_주말 평균 독서시간(분)  \\\n",
       "연도                                                                            \n",
       "2017               0.0         0.000000               0.0               0.0   \n",
       "2019              47.7        55.414286              17.6              20.1   \n",
       "2021              41.9        37.614286              29.8              42.9   \n",
       "\n",
       "      전자_일 평균 독서시간(분)  오디오_평일 평균 독서시간(분)  오디오_주말 평균 독서시간(분)  오디오_일 평균 독서시간(분)  \n",
       "연도                                                                             \n",
       "2017         0.000000                0.0                0.0          0.000000  \n",
       "2019        18.314286                6.0                4.6          5.600000  \n",
       "2021        33.542857                6.8                8.7          7.342857  "
      ]
     },
     "execution_count": 355,
     "metadata": {},
     "output_type": "execute_result"
    }
   ],
   "source": [
    "read_avg_stu.insert(2,'일 평균 독서시간(분)',(read_avg_stu.iloc[:,0]*5 + read_avg_stu.iloc[:,1]*2)/7)\n",
    "read_avg_stu.insert(5,'종이_일 평균 독서시간(분)',(read_avg_stu.iloc[:,3]*5 + read_avg_stu.iloc[:,4]*2)/7)\n",
    "read_avg_stu.insert(8,'전자_일 평균 독서시간(분)',(read_avg_stu.iloc[:,6]*5 + read_avg_stu.iloc[:,7]*2)/7)\n",
    "read_avg_stu.insert(11,'오디오_일 평균 독서시간(분)',(read_avg_stu.iloc[:,9]*5 + read_avg_stu.iloc[:,10]*2)/7)\n",
    "\n",
    "read_avg_stu"
   ]
  },
  {
   "cell_type": "markdown",
   "id": "49c9939f",
   "metadata": {},
   "source": [
    "------------------------------------"
   ]
  },
  {
   "cell_type": "markdown",
   "id": "e72d6821",
   "metadata": {},
   "source": [
    "### 연도별 평균 독서시간 변화 시각화 : line.plot()"
   ]
  },
  {
   "cell_type": "code",
   "execution_count": 356,
   "id": "2df7519f",
   "metadata": {
    "scrolled": true
   },
   "outputs": [
    {
     "data": {
      "text/plain": [
       "<AxesSubplot:title={'center':'학생들의 평균 독서시간'}, xlabel='연도'>"
      ]
     },
     "execution_count": 356,
     "metadata": {},
     "output_type": "execute_result"
    },
    {
     "data": {
      "image/png": "[encoded data removed]",
      "text/plain": [
       "<Figure size 500x300 with 1 Axes>"
      ]
     },
     "metadata": {},
     "output_type": "display_data"
    }
   ],
   "source": [
    "read_avg_stu.iloc[:,0:3].plot(figsize=(5,3), title='학생들의 평균 독서시간')"
   ]
  },
  {
   "cell_type": "markdown",
   "id": "113f2680",
   "metadata": {},
   "source": [
    "- 학생들의 주말 평균 독서시간은 꾸준한 증가세를 보인다."
   ]
  },
  {
   "cell_type": "markdown",
   "id": "af26663e",
   "metadata": {},
   "source": [
    "- 학생들의 일 평균 독서 시간과 평일 평균 독서 시간은 2019년에 크게 증가하였으나, 2021년에 감소세를 보인다."
   ]
  },
  {
   "cell_type": "code",
   "execution_count": 357,
   "id": "87489aaf",
   "metadata": {},
   "outputs": [
    {
     "data": {
      "text/plain": [
       "<AxesSubplot:title={'center':'종이책 평균 독서시간'}, xlabel='연도'>"
      ]
     },
     "execution_count": 357,
     "metadata": {},
     "output_type": "execute_result"
    },
    {
     "data": {
      "image/png": "[encoded data removed]",
      "text/plain": [
       "<Figure size 500x300 with 1 Axes>"
      ]
     },
     "metadata": {},
     "output_type": "display_data"
    }
   ],
   "source": [
    "read_avg_stu.iloc[1:3,3:6].plot(figsize=(5,3), title='종이책 평균 독서시간')"
   ]
  },
  {
   "cell_type": "code",
   "execution_count": 358,
   "id": "0f24cdf2",
   "metadata": {
    "scrolled": true
   },
   "outputs": [
    {
     "data": {
      "text/plain": [
       "<AxesSubplot:title={'center':'전자책 평균 독서시간'}, xlabel='연도'>"
      ]
     },
     "execution_count": 358,
     "metadata": {},
     "output_type": "execute_result"
    },
    {
     "data": {
      "image/png": "[encoded data removed]",
      "text/plain": [
       "<Figure size 500x300 with 1 Axes>"
      ]
     },
     "metadata": {},
     "output_type": "display_data"
    }
   ],
   "source": [
    "read_avg_stu.iloc[1:3,6:9].plot(figsize=(5,3), title='전자책 평균 독서시간')"
   ]
  },
  {
   "cell_type": "code",
   "execution_count": 359,
   "id": "730c74c9",
   "metadata": {
    "scrolled": true
   },
   "outputs": [
    {
     "data": {
      "text/plain": [
       "<AxesSubplot:title={'center':'오디오북 평균 독서시간'}, xlabel='연도'>"
      ]
     },
     "execution_count": 359,
     "metadata": {},
     "output_type": "execute_result"
    },
    {
     "data": {
      "image/png": "[encoded data removed]",
      "text/plain": [
       "<Figure size 500x300 with 1 Axes>"
      ]
     },
     "metadata": {},
     "output_type": "display_data"
    }
   ],
   "source": [
    "read_avg_stu.iloc[1:3,9:12].plot(figsize=(5,3), title='오디오북 평균 독서시간')"
   ]
  },
  {
   "cell_type": "markdown",
   "id": "3bb48cba",
   "metadata": {},
   "source": [
    "----------------------------------"
   ]
  },
  {
   "cell_type": "markdown",
   "id": "9233991a",
   "metadata": {},
   "source": [
    "## 2) 초/중/고등학생의 선호 독서분야 빈도 분석"
   ]
  },
  {
   "cell_type": "markdown",
   "id": "77a59576",
   "metadata": {},
   "source": [
    "- 필요한 컬럼값 추출 : df.loc[]"
   ]
  },
  {
   "cell_type": "code",
   "execution_count": 369,
   "id": "113acac0",
   "metadata": {},
   "outputs": [],
   "source": [
    "book_kind = total_stu.loc[:,['연도','학교구분','초등 독서분야 선호도1', '초등 독서분야 선호도2', '중고등 독서분야 선호도1', '중고등 독서분야 선호도2']]"
   ]
  },
  {
   "cell_type": "code",
   "execution_count": 370,
   "id": "006e3e05",
   "metadata": {
    "scrolled": true
   },
   "outputs": [
    {
     "data": {
      "text/html": [
       "<div>\n",
       "<style scoped>\n",
       "    .dataframe tbody tr th:only-of-type {\n",
       "        vertical-align: middle;\n",
       "    }\n",
       "\n",
       "    .dataframe tbody tr th {\n",
       "        vertical-align: top;\n",
       "    }\n",
       "\n",
       "    .dataframe thead th {\n",
       "        text-align: right;\n",
       "    }\n",
       "</style>\n",
       "<table border=\"1\" class=\"dataframe\">\n",
       "  <thead>\n",
       "    <tr style=\"text-align: right;\">\n",
       "      <th></th>\n",
       "      <th>연도</th>\n",
       "      <th>학교구분</th>\n",
       "      <th>초등 독서분야 선호도1</th>\n",
       "      <th>초등 독서분야 선호도2</th>\n",
       "      <th>중고등 독서분야 선호도1</th>\n",
       "      <th>중고등 독서분야 선호도2</th>\n",
       "    </tr>\n",
       "  </thead>\n",
       "  <tbody>\n",
       "    <tr>\n",
       "      <th>0</th>\n",
       "      <td>2017</td>\n",
       "      <td>초등</td>\n",
       "      <td>연예, 오락, 스포츠</td>\n",
       "      <td>동화/소설</td>\n",
       "      <td>0</td>\n",
       "      <td>0</td>\n",
       "    </tr>\n",
       "    <tr>\n",
       "      <th>1</th>\n",
       "      <td>2017</td>\n",
       "      <td>초등</td>\n",
       "      <td>동화/소설</td>\n",
       "      <td>동화/소설</td>\n",
       "      <td>0</td>\n",
       "      <td>0</td>\n",
       "    </tr>\n",
       "    <tr>\n",
       "      <th>2</th>\n",
       "      <td>2017</td>\n",
       "      <td>초등</td>\n",
       "      <td>역사, 위인전</td>\n",
       "      <td>사회</td>\n",
       "      <td>0</td>\n",
       "      <td>0</td>\n",
       "    </tr>\n",
       "    <tr>\n",
       "      <th>3</th>\n",
       "      <td>2017</td>\n",
       "      <td>초등</td>\n",
       "      <td>동화/소설</td>\n",
       "      <td>연예, 오락, 스포츠</td>\n",
       "      <td>0</td>\n",
       "      <td>0</td>\n",
       "    </tr>\n",
       "    <tr>\n",
       "      <th>4</th>\n",
       "      <td>2017</td>\n",
       "      <td>초등</td>\n",
       "      <td>역사, 위인전</td>\n",
       "      <td>연예, 오락, 스포츠</td>\n",
       "      <td>0</td>\n",
       "      <td>0</td>\n",
       "    </tr>\n",
       "    <tr>\n",
       "      <th>...</th>\n",
       "      <td>...</td>\n",
       "      <td>...</td>\n",
       "      <td>...</td>\n",
       "      <td>...</td>\n",
       "      <td>...</td>\n",
       "      <td>...</td>\n",
       "    </tr>\n",
       "    <tr>\n",
       "      <th>9770</th>\n",
       "      <td>2021</td>\n",
       "      <td>고등</td>\n",
       "      <td>0</td>\n",
       "      <td>0</td>\n",
       "      <td>0</td>\n",
       "      <td>0</td>\n",
       "    </tr>\n",
       "    <tr>\n",
       "      <th>9771</th>\n",
       "      <td>2021</td>\n",
       "      <td>고등</td>\n",
       "      <td>0</td>\n",
       "      <td>0</td>\n",
       "      <td>0</td>\n",
       "      <td>0</td>\n",
       "    </tr>\n",
       "    <tr>\n",
       "      <th>9772</th>\n",
       "      <td>2021</td>\n",
       "      <td>고등</td>\n",
       "      <td>0</td>\n",
       "      <td>0</td>\n",
       "      <td>0</td>\n",
       "      <td>0</td>\n",
       "    </tr>\n",
       "    <tr>\n",
       "      <th>9773</th>\n",
       "      <td>2021</td>\n",
       "      <td>고등</td>\n",
       "      <td>0</td>\n",
       "      <td>0</td>\n",
       "      <td>0</td>\n",
       "      <td>0</td>\n",
       "    </tr>\n",
       "    <tr>\n",
       "      <th>9774</th>\n",
       "      <td>2021</td>\n",
       "      <td>고등</td>\n",
       "      <td>0</td>\n",
       "      <td>0</td>\n",
       "      <td>가정, 육아, 요리</td>\n",
       "      <td>연예, 오락, 스포츠, 취미, 여행</td>\n",
       "    </tr>\n",
       "  </tbody>\n",
       "</table>\n",
       "<p>9775 rows × 6 columns</p>\n",
       "</div>"
      ],
      "text/plain": [
       "        연도 학교구분 초등 독서분야 선호도1 초등 독서분야 선호도2 중고등 독서분야 선호도1         중고등 독서분야 선호도2\n",
       "0     2017   초등  연예, 오락, 스포츠        동화/소설             0                     0\n",
       "1     2017   초등        동화/소설        동화/소설             0                     0\n",
       "2     2017   초등      역사, 위인전           사회             0                     0\n",
       "3     2017   초등        동화/소설  연예, 오락, 스포츠             0                     0\n",
       "4     2017   초등      역사, 위인전  연예, 오락, 스포츠             0                     0\n",
       "...    ...  ...          ...          ...           ...                   ...\n",
       "9770  2021   고등            0            0             0                     0\n",
       "9771  2021   고등            0            0             0                     0\n",
       "9772  2021   고등            0            0             0                     0\n",
       "9773  2021   고등            0            0             0                     0\n",
       "9774  2021   고등            0            0    가정, 육아, 요리  연예, 오락, 스포츠, 취미, 여행 \n",
       "\n",
       "[9775 rows x 6 columns]"
      ]
     },
     "execution_count": 370,
     "metadata": {},
     "output_type": "execute_result"
    }
   ],
   "source": [
    "book_kind"
   ]
  },
  {
   "cell_type": "markdown",
   "id": "d6148477",
   "metadata": {},
   "source": [
    "- 인덱스 설정"
   ]
  },
  {
   "cell_type": "code",
   "execution_count": 371,
   "id": "89b20ec3",
   "metadata": {},
   "outputs": [],
   "source": [
    "book_kind = book_kind.set_index('학교구분')"
   ]
  },
  {
   "cell_type": "code",
   "execution_count": 372,
   "id": "cda70f84",
   "metadata": {},
   "outputs": [
    {
     "data": {
      "text/html": [
       "<div>\n",
       "<style scoped>\n",
       "    .dataframe tbody tr th:only-of-type {\n",
       "        vertical-align: middle;\n",
       "    }\n",
       "\n",
       "    .dataframe tbody tr th {\n",
       "        vertical-align: top;\n",
       "    }\n",
       "\n",
       "    .dataframe thead th {\n",
       "        text-align: right;\n",
       "    }\n",
       "</style>\n",
       "<table border=\"1\" class=\"dataframe\">\n",
       "  <thead>\n",
       "    <tr style=\"text-align: right;\">\n",
       "      <th></th>\n",
       "      <th>연도</th>\n",
       "      <th>초등 독서분야 선호도1</th>\n",
       "      <th>초등 독서분야 선호도2</th>\n",
       "      <th>중고등 독서분야 선호도1</th>\n",
       "      <th>중고등 독서분야 선호도2</th>\n",
       "    </tr>\n",
       "    <tr>\n",
       "      <th>학교구분</th>\n",
       "      <th></th>\n",
       "      <th></th>\n",
       "      <th></th>\n",
       "      <th></th>\n",
       "      <th></th>\n",
       "    </tr>\n",
       "  </thead>\n",
       "  <tbody>\n",
       "    <tr>\n",
       "      <th>초등</th>\n",
       "      <td>2017</td>\n",
       "      <td>연예, 오락, 스포츠</td>\n",
       "      <td>동화/소설</td>\n",
       "      <td>0</td>\n",
       "      <td>0</td>\n",
       "    </tr>\n",
       "    <tr>\n",
       "      <th>초등</th>\n",
       "      <td>2017</td>\n",
       "      <td>동화/소설</td>\n",
       "      <td>동화/소설</td>\n",
       "      <td>0</td>\n",
       "      <td>0</td>\n",
       "    </tr>\n",
       "    <tr>\n",
       "      <th>초등</th>\n",
       "      <td>2017</td>\n",
       "      <td>역사, 위인전</td>\n",
       "      <td>사회</td>\n",
       "      <td>0</td>\n",
       "      <td>0</td>\n",
       "    </tr>\n",
       "    <tr>\n",
       "      <th>초등</th>\n",
       "      <td>2017</td>\n",
       "      <td>동화/소설</td>\n",
       "      <td>연예, 오락, 스포츠</td>\n",
       "      <td>0</td>\n",
       "      <td>0</td>\n",
       "    </tr>\n",
       "    <tr>\n",
       "      <th>초등</th>\n",
       "      <td>2017</td>\n",
       "      <td>역사, 위인전</td>\n",
       "      <td>연예, 오락, 스포츠</td>\n",
       "      <td>0</td>\n",
       "      <td>0</td>\n",
       "    </tr>\n",
       "    <tr>\n",
       "      <th>...</th>\n",
       "      <td>...</td>\n",
       "      <td>...</td>\n",
       "      <td>...</td>\n",
       "      <td>...</td>\n",
       "      <td>...</td>\n",
       "    </tr>\n",
       "    <tr>\n",
       "      <th>고등</th>\n",
       "      <td>2021</td>\n",
       "      <td>0</td>\n",
       "      <td>0</td>\n",
       "      <td>0</td>\n",
       "      <td>0</td>\n",
       "    </tr>\n",
       "    <tr>\n",
       "      <th>고등</th>\n",
       "      <td>2021</td>\n",
       "      <td>0</td>\n",
       "      <td>0</td>\n",
       "      <td>0</td>\n",
       "      <td>0</td>\n",
       "    </tr>\n",
       "    <tr>\n",
       "      <th>고등</th>\n",
       "      <td>2021</td>\n",
       "      <td>0</td>\n",
       "      <td>0</td>\n",
       "      <td>0</td>\n",
       "      <td>0</td>\n",
       "    </tr>\n",
       "    <tr>\n",
       "      <th>고등</th>\n",
       "      <td>2021</td>\n",
       "      <td>0</td>\n",
       "      <td>0</td>\n",
       "      <td>0</td>\n",
       "      <td>0</td>\n",
       "    </tr>\n",
       "    <tr>\n",
       "      <th>고등</th>\n",
       "      <td>2021</td>\n",
       "      <td>0</td>\n",
       "      <td>0</td>\n",
       "      <td>가정, 육아, 요리</td>\n",
       "      <td>연예, 오락, 스포츠, 취미, 여행</td>\n",
       "    </tr>\n",
       "  </tbody>\n",
       "</table>\n",
       "<p>9775 rows × 5 columns</p>\n",
       "</div>"
      ],
      "text/plain": [
       "        연도 초등 독서분야 선호도1 초등 독서분야 선호도2 중고등 독서분야 선호도1         중고등 독서분야 선호도2\n",
       "학교구분                                                                    \n",
       "초등    2017  연예, 오락, 스포츠        동화/소설             0                     0\n",
       "초등    2017        동화/소설        동화/소설             0                     0\n",
       "초등    2017      역사, 위인전           사회             0                     0\n",
       "초등    2017        동화/소설  연예, 오락, 스포츠             0                     0\n",
       "초등    2017      역사, 위인전  연예, 오락, 스포츠             0                     0\n",
       "...    ...          ...          ...           ...                   ...\n",
       "고등    2021            0            0             0                     0\n",
       "고등    2021            0            0             0                     0\n",
       "고등    2021            0            0             0                     0\n",
       "고등    2021            0            0             0                     0\n",
       "고등    2021            0            0    가정, 육아, 요리  연예, 오락, 스포츠, 취미, 여행 \n",
       "\n",
       "[9775 rows x 5 columns]"
      ]
     },
     "execution_count": 372,
     "metadata": {},
     "output_type": "execute_result"
    }
   ],
   "source": [
    "book_kind"
   ]
  },
  {
   "cell_type": "markdown",
   "id": "cc6c8cd1",
   "metadata": {},
   "source": [
    "### 초등학생의 선호 독서분야"
   ]
  },
  {
   "cell_type": "markdown",
   "id": "a94df1bb",
   "metadata": {},
   "source": [
    "- 필요 행 인덱스 추출"
   ]
  },
  {
   "cell_type": "code",
   "execution_count": 373,
   "id": "5117ae59",
   "metadata": {},
   "outputs": [],
   "source": [
    "book_kind_ele = book_kind.loc['초등']"
   ]
  },
  {
   "cell_type": "code",
   "execution_count": 374,
   "id": "4561f4a3",
   "metadata": {},
   "outputs": [
    {
     "data": {
      "text/html": [
       "<div>\n",
       "<style scoped>\n",
       "    .dataframe tbody tr th:only-of-type {\n",
       "        vertical-align: middle;\n",
       "    }\n",
       "\n",
       "    .dataframe tbody tr th {\n",
       "        vertical-align: top;\n",
       "    }\n",
       "\n",
       "    .dataframe thead th {\n",
       "        text-align: right;\n",
       "    }\n",
       "</style>\n",
       "<table border=\"1\" class=\"dataframe\">\n",
       "  <thead>\n",
       "    <tr style=\"text-align: right;\">\n",
       "      <th></th>\n",
       "      <th>연도</th>\n",
       "      <th>초등 독서분야 선호도1</th>\n",
       "      <th>초등 독서분야 선호도2</th>\n",
       "      <th>중고등 독서분야 선호도1</th>\n",
       "      <th>중고등 독서분야 선호도2</th>\n",
       "    </tr>\n",
       "    <tr>\n",
       "      <th>학교구분</th>\n",
       "      <th></th>\n",
       "      <th></th>\n",
       "      <th></th>\n",
       "      <th></th>\n",
       "      <th></th>\n",
       "    </tr>\n",
       "  </thead>\n",
       "  <tbody>\n",
       "    <tr>\n",
       "      <th>초등</th>\n",
       "      <td>2017</td>\n",
       "      <td>연예, 오락, 스포츠</td>\n",
       "      <td>동화/소설</td>\n",
       "      <td>0</td>\n",
       "      <td>0</td>\n",
       "    </tr>\n",
       "    <tr>\n",
       "      <th>초등</th>\n",
       "      <td>2017</td>\n",
       "      <td>동화/소설</td>\n",
       "      <td>동화/소설</td>\n",
       "      <td>0</td>\n",
       "      <td>0</td>\n",
       "    </tr>\n",
       "    <tr>\n",
       "      <th>초등</th>\n",
       "      <td>2017</td>\n",
       "      <td>역사, 위인전</td>\n",
       "      <td>사회</td>\n",
       "      <td>0</td>\n",
       "      <td>0</td>\n",
       "    </tr>\n",
       "    <tr>\n",
       "      <th>초등</th>\n",
       "      <td>2017</td>\n",
       "      <td>동화/소설</td>\n",
       "      <td>연예, 오락, 스포츠</td>\n",
       "      <td>0</td>\n",
       "      <td>0</td>\n",
       "    </tr>\n",
       "    <tr>\n",
       "      <th>초등</th>\n",
       "      <td>2017</td>\n",
       "      <td>역사, 위인전</td>\n",
       "      <td>연예, 오락, 스포츠</td>\n",
       "      <td>0</td>\n",
       "      <td>0</td>\n",
       "    </tr>\n",
       "    <tr>\n",
       "      <th>...</th>\n",
       "      <td>...</td>\n",
       "      <td>...</td>\n",
       "      <td>...</td>\n",
       "      <td>...</td>\n",
       "      <td>...</td>\n",
       "    </tr>\n",
       "    <tr>\n",
       "      <th>초등</th>\n",
       "      <td>2021</td>\n",
       "      <td>동화/소설</td>\n",
       "      <td>자기계발서</td>\n",
       "      <td>0</td>\n",
       "      <td>0</td>\n",
       "    </tr>\n",
       "    <tr>\n",
       "      <th>초등</th>\n",
       "      <td>2021</td>\n",
       "      <td>동화/소설</td>\n",
       "      <td>역사, 위인전</td>\n",
       "      <td>0</td>\n",
       "      <td>0</td>\n",
       "    </tr>\n",
       "    <tr>\n",
       "      <th>초등</th>\n",
       "      <td>2021</td>\n",
       "      <td>0</td>\n",
       "      <td>0</td>\n",
       "      <td>0</td>\n",
       "      <td>0</td>\n",
       "    </tr>\n",
       "    <tr>\n",
       "      <th>초등</th>\n",
       "      <td>2021</td>\n",
       "      <td>동화/소설</td>\n",
       "      <td>취미</td>\n",
       "      <td>0</td>\n",
       "      <td>0</td>\n",
       "    </tr>\n",
       "    <tr>\n",
       "      <th>초등</th>\n",
       "      <td>2021</td>\n",
       "      <td>예술, 문화</td>\n",
       "      <td>취미</td>\n",
       "      <td>0</td>\n",
       "      <td>0</td>\n",
       "    </tr>\n",
       "  </tbody>\n",
       "</table>\n",
       "<p>3218 rows × 5 columns</p>\n",
       "</div>"
      ],
      "text/plain": [
       "        연도 초등 독서분야 선호도1 초등 독서분야 선호도2 중고등 독서분야 선호도1 중고등 독서분야 선호도2\n",
       "학교구분                                                            \n",
       "초등    2017  연예, 오락, 스포츠        동화/소설             0             0\n",
       "초등    2017        동화/소설        동화/소설             0             0\n",
       "초등    2017      역사, 위인전           사회             0             0\n",
       "초등    2017        동화/소설  연예, 오락, 스포츠             0             0\n",
       "초등    2017      역사, 위인전  연예, 오락, 스포츠             0             0\n",
       "...    ...          ...          ...           ...           ...\n",
       "초등    2021        동화/소설        자기계발서             0             0\n",
       "초등    2021        동화/소설      역사, 위인전             0             0\n",
       "초등    2021            0            0             0             0\n",
       "초등    2021        동화/소설           취미             0             0\n",
       "초등    2021       예술, 문화           취미             0             0\n",
       "\n",
       "[3218 rows x 5 columns]"
      ]
     },
     "execution_count": 374,
     "metadata": {},
     "output_type": "execute_result"
    }
   ],
   "source": [
    "book_kind_ele"
   ]
  },
  {
   "cell_type": "markdown",
   "id": "add42105",
   "metadata": {},
   "source": [
    "- 연도별 그룹화"
   ]
  },
  {
   "cell_type": "code",
   "execution_count": 375,
   "id": "1aa0c384",
   "metadata": {},
   "outputs": [],
   "source": [
    "book_kind_ele_gr = book_kind_ele.groupby('연도')"
   ]
  },
  {
   "cell_type": "markdown",
   "id": "305e669f",
   "metadata": {},
   "source": [
    "- 함수 정의 : func_book_fav () - 초등학생의 선호 독서분야 순위를 구하는 함수"
   ]
  },
  {
   "cell_type": "code",
   "execution_count": 376,
   "id": "c69bf174",
   "metadata": {},
   "outputs": [],
   "source": [
    "def func_book_fav (gr) :\n",
    "    gr.replace({0:np.nan},inplace=True)\n",
    "    gr.dropna(thresh=3,inplace=True)\n",
    "    return gr['초등 독서분야 선호도1'].value_counts()*2 + gr['초등 독서분야 선호도2'].value_counts()"
   ]
  },
  {
   "cell_type": "markdown",
   "id": "28c03451",
   "metadata": {},
   "source": [
    "- 그룹별 함수 적용"
   ]
  },
  {
   "cell_type": "code",
   "execution_count": 377,
   "id": "5f701e72",
   "metadata": {},
   "outputs": [],
   "source": [
    "book_kind_ele = book_kind_ele_gr.apply(func_book_fav)"
   ]
  },
  {
   "cell_type": "code",
   "execution_count": 378,
   "id": "1ca4af92",
   "metadata": {},
   "outputs": [
    {
     "data": {
      "text/html": [
       "<div>\n",
       "<style scoped>\n",
       "    .dataframe tbody tr th:only-of-type {\n",
       "        vertical-align: middle;\n",
       "    }\n",
       "\n",
       "    .dataframe tbody tr th {\n",
       "        vertical-align: top;\n",
       "    }\n",
       "\n",
       "    .dataframe thead th {\n",
       "        text-align: right;\n",
       "    }\n",
       "</style>\n",
       "<table border=\"1\" class=\"dataframe\">\n",
       "  <thead>\n",
       "    <tr style=\"text-align: right;\">\n",
       "      <th></th>\n",
       "      <th>과학</th>\n",
       "      <th>그림책</th>\n",
       "      <th>기타</th>\n",
       "      <th>동시/시</th>\n",
       "      <th>동화/소설</th>\n",
       "      <th>사회</th>\n",
       "      <th>수필</th>\n",
       "      <th>역사, 위인전</th>\n",
       "      <th>연예, 오락, 스포츠</th>\n",
       "      <th>예술, 문화</th>\n",
       "      <th>자기계발서</th>\n",
       "      <th>종교</th>\n",
       "      <th>철학, 논리</th>\n",
       "      <th>취미</th>\n",
       "    </tr>\n",
       "    <tr>\n",
       "      <th>연도</th>\n",
       "      <th></th>\n",
       "      <th></th>\n",
       "      <th></th>\n",
       "      <th></th>\n",
       "      <th></th>\n",
       "      <th></th>\n",
       "      <th></th>\n",
       "      <th></th>\n",
       "      <th></th>\n",
       "      <th></th>\n",
       "      <th></th>\n",
       "      <th></th>\n",
       "      <th></th>\n",
       "      <th></th>\n",
       "    </tr>\n",
       "  </thead>\n",
       "  <tbody>\n",
       "    <tr>\n",
       "      <th>2017</th>\n",
       "      <td>204</td>\n",
       "      <td>169</td>\n",
       "      <td>208</td>\n",
       "      <td>36</td>\n",
       "      <td>1025</td>\n",
       "      <td>320</td>\n",
       "      <td>23</td>\n",
       "      <td>389</td>\n",
       "      <td>303</td>\n",
       "      <td>77</td>\n",
       "      <td>45</td>\n",
       "      <td>13</td>\n",
       "      <td>67</td>\n",
       "      <td>304</td>\n",
       "    </tr>\n",
       "    <tr>\n",
       "      <th>2019</th>\n",
       "      <td>162</td>\n",
       "      <td>201</td>\n",
       "      <td>163</td>\n",
       "      <td>19</td>\n",
       "      <td>955</td>\n",
       "      <td>310</td>\n",
       "      <td>18</td>\n",
       "      <td>356</td>\n",
       "      <td>325</td>\n",
       "      <td>61</td>\n",
       "      <td>27</td>\n",
       "      <td>18</td>\n",
       "      <td>60</td>\n",
       "      <td>310</td>\n",
       "    </tr>\n",
       "    <tr>\n",
       "      <th>2021</th>\n",
       "      <td>208</td>\n",
       "      <td>425</td>\n",
       "      <td>164</td>\n",
       "      <td>55</td>\n",
       "      <td>798</td>\n",
       "      <td>68</td>\n",
       "      <td>11</td>\n",
       "      <td>433</td>\n",
       "      <td>231</td>\n",
       "      <td>103</td>\n",
       "      <td>57</td>\n",
       "      <td>9</td>\n",
       "      <td>68</td>\n",
       "      <td>382</td>\n",
       "    </tr>\n",
       "  </tbody>\n",
       "</table>\n",
       "</div>"
      ],
      "text/plain": [
       "       과학  그림책   기타  동시/시  동화/소설   사회  수필  역사, 위인전  연예, 오락, 스포츠  예술, 문화  \\\n",
       "연도                                                                        \n",
       "2017  204  169  208    36   1025  320  23      389          303      77   \n",
       "2019  162  201  163    19    955  310  18      356          325      61   \n",
       "2021  208  425  164    55    798   68  11      433          231     103   \n",
       "\n",
       "      자기계발서  종교  철학, 논리   취미  \n",
       "연도                            \n",
       "2017     45  13      67  304  \n",
       "2019     27  18      60  310  \n",
       "2021     57   9      68  382  "
      ]
     },
     "execution_count": 378,
     "metadata": {},
     "output_type": "execute_result"
    }
   ],
   "source": [
    "book_kind_ele"
   ]
  },
  {
   "cell_type": "markdown",
   "id": "719680cb",
   "metadata": {},
   "source": [
    "- 백분율로 확인하기"
   ]
  },
  {
   "cell_type": "code",
   "execution_count": 380,
   "id": "942a595b",
   "metadata": {},
   "outputs": [
    {
     "data": {
      "text/html": [
       "<div>\n",
       "<style scoped>\n",
       "    .dataframe tbody tr th:only-of-type {\n",
       "        vertical-align: middle;\n",
       "    }\n",
       "\n",
       "    .dataframe tbody tr th {\n",
       "        vertical-align: top;\n",
       "    }\n",
       "\n",
       "    .dataframe thead th {\n",
       "        text-align: right;\n",
       "    }\n",
       "</style>\n",
       "<table border=\"1\" class=\"dataframe\">\n",
       "  <thead>\n",
       "    <tr style=\"text-align: right;\">\n",
       "      <th></th>\n",
       "      <th>과학</th>\n",
       "      <th>그림책</th>\n",
       "      <th>기타</th>\n",
       "      <th>동시/시</th>\n",
       "      <th>동화/소설</th>\n",
       "      <th>사회</th>\n",
       "      <th>수필</th>\n",
       "      <th>역사, 위인전</th>\n",
       "      <th>연예, 오락, 스포츠</th>\n",
       "      <th>예술, 문화</th>\n",
       "      <th>자기계발서</th>\n",
       "      <th>종교</th>\n",
       "      <th>철학, 논리</th>\n",
       "      <th>취미</th>\n",
       "    </tr>\n",
       "    <tr>\n",
       "      <th>연도</th>\n",
       "      <th></th>\n",
       "      <th></th>\n",
       "      <th></th>\n",
       "      <th></th>\n",
       "      <th></th>\n",
       "      <th></th>\n",
       "      <th></th>\n",
       "      <th></th>\n",
       "      <th></th>\n",
       "      <th></th>\n",
       "      <th></th>\n",
       "      <th></th>\n",
       "      <th></th>\n",
       "      <th></th>\n",
       "    </tr>\n",
       "  </thead>\n",
       "  <tbody>\n",
       "    <tr>\n",
       "      <th>2017</th>\n",
       "      <td>6.4</td>\n",
       "      <td>5.3</td>\n",
       "      <td>6.5</td>\n",
       "      <td>1.1</td>\n",
       "      <td>32.2</td>\n",
       "      <td>10.1</td>\n",
       "      <td>0.7</td>\n",
       "      <td>12.2</td>\n",
       "      <td>9.5</td>\n",
       "      <td>2.4</td>\n",
       "      <td>1.4</td>\n",
       "      <td>0.4</td>\n",
       "      <td>2.1</td>\n",
       "      <td>9.6</td>\n",
       "    </tr>\n",
       "    <tr>\n",
       "      <th>2019</th>\n",
       "      <td>5.4</td>\n",
       "      <td>6.7</td>\n",
       "      <td>5.5</td>\n",
       "      <td>0.6</td>\n",
       "      <td>32.0</td>\n",
       "      <td>10.4</td>\n",
       "      <td>0.6</td>\n",
       "      <td>11.9</td>\n",
       "      <td>10.9</td>\n",
       "      <td>2.0</td>\n",
       "      <td>0.9</td>\n",
       "      <td>0.6</td>\n",
       "      <td>2.0</td>\n",
       "      <td>10.4</td>\n",
       "    </tr>\n",
       "    <tr>\n",
       "      <th>2021</th>\n",
       "      <td>6.9</td>\n",
       "      <td>14.1</td>\n",
       "      <td>5.4</td>\n",
       "      <td>1.8</td>\n",
       "      <td>26.5</td>\n",
       "      <td>2.3</td>\n",
       "      <td>0.4</td>\n",
       "      <td>14.4</td>\n",
       "      <td>7.7</td>\n",
       "      <td>3.4</td>\n",
       "      <td>1.9</td>\n",
       "      <td>0.3</td>\n",
       "      <td>2.3</td>\n",
       "      <td>12.7</td>\n",
       "    </tr>\n",
       "  </tbody>\n",
       "</table>\n",
       "</div>"
      ],
      "text/plain": [
       "       과학   그림책   기타  동시/시  동화/소설    사회   수필  역사, 위인전  연예, 오락, 스포츠  예술, 문화  \\\n",
       "연도                                                                           \n",
       "2017  6.4   5.3  6.5   1.1   32.2  10.1  0.7     12.2          9.5     2.4   \n",
       "2019  5.4   6.7  5.5   0.6   32.0  10.4  0.6     11.9         10.9     2.0   \n",
       "2021  6.9  14.1  5.4   1.8   26.5   2.3  0.4     14.4          7.7     3.4   \n",
       "\n",
       "      자기계발서   종교  철학, 논리    취미  \n",
       "연도                              \n",
       "2017    1.4  0.4     2.1   9.6  \n",
       "2019    0.9  0.6     2.0  10.4  \n",
       "2021    1.9  0.3     2.3  12.7  "
      ]
     },
     "execution_count": 380,
     "metadata": {},
     "output_type": "execute_result"
    }
   ],
   "source": [
    "book_kind_ele_col =book_kind_ele.columns\n",
    "book_kind_ele = book_kind_ele.div(book_kind_ele[book_kind_ele_col].sum(axis = 1),axis = 0).round(3)*100\n",
    "book_kind_ele"
   ]
  },
  {
   "cell_type": "markdown",
   "id": "081dc6a6",
   "metadata": {},
   "source": [
    "### 중학생의 선호 독서분야"
   ]
  },
  {
   "cell_type": "markdown",
   "id": "f2eb3a42",
   "metadata": {},
   "source": [
    "- 필요 행 인덱스 추출"
   ]
  },
  {
   "cell_type": "code",
   "execution_count": 381,
   "id": "93bd3f61",
   "metadata": {},
   "outputs": [],
   "source": [
    "book_kind_mdl = book_kind.loc['중등']"
   ]
  },
  {
   "cell_type": "code",
   "execution_count": 382,
   "id": "31358429",
   "metadata": {},
   "outputs": [
    {
     "data": {
      "text/html": [
       "<div>\n",
       "<style scoped>\n",
       "    .dataframe tbody tr th:only-of-type {\n",
       "        vertical-align: middle;\n",
       "    }\n",
       "\n",
       "    .dataframe tbody tr th {\n",
       "        vertical-align: top;\n",
       "    }\n",
       "\n",
       "    .dataframe thead th {\n",
       "        text-align: right;\n",
       "    }\n",
       "</style>\n",
       "<table border=\"1\" class=\"dataframe\">\n",
       "  <thead>\n",
       "    <tr style=\"text-align: right;\">\n",
       "      <th></th>\n",
       "      <th>연도</th>\n",
       "      <th>초등 독서분야 선호도1</th>\n",
       "      <th>초등 독서분야 선호도2</th>\n",
       "      <th>중고등 독서분야 선호도1</th>\n",
       "      <th>중고등 독서분야 선호도2</th>\n",
       "    </tr>\n",
       "    <tr>\n",
       "      <th>학교구분</th>\n",
       "      <th></th>\n",
       "      <th></th>\n",
       "      <th></th>\n",
       "      <th></th>\n",
       "      <th></th>\n",
       "    </tr>\n",
       "  </thead>\n",
       "  <tbody>\n",
       "    <tr>\n",
       "      <th>중등</th>\n",
       "      <td>2017</td>\n",
       "      <td>0</td>\n",
       "      <td>0</td>\n",
       "      <td>문학(시/수필)</td>\n",
       "      <td>소설</td>\n",
       "    </tr>\n",
       "    <tr>\n",
       "      <th>중등</th>\n",
       "      <td>2017</td>\n",
       "      <td>0</td>\n",
       "      <td>0</td>\n",
       "      <td>소설</td>\n",
       "      <td>역사, 지리</td>\n",
       "    </tr>\n",
       "    <tr>\n",
       "      <th>중등</th>\n",
       "      <td>2017</td>\n",
       "      <td>0</td>\n",
       "      <td>0</td>\n",
       "      <td>소설</td>\n",
       "      <td>철학, 사상, 종교</td>\n",
       "    </tr>\n",
       "    <tr>\n",
       "      <th>중등</th>\n",
       "      <td>2017</td>\n",
       "      <td>0</td>\n",
       "      <td>0</td>\n",
       "      <td>문학(시/수필)</td>\n",
       "      <td>과학, 기술, 컴퓨터</td>\n",
       "    </tr>\n",
       "    <tr>\n",
       "      <th>중등</th>\n",
       "      <td>2017</td>\n",
       "      <td>0</td>\n",
       "      <td>0</td>\n",
       "      <td>소설</td>\n",
       "      <td>문학(시/수필)</td>\n",
       "    </tr>\n",
       "    <tr>\n",
       "      <th>...</th>\n",
       "      <td>...</td>\n",
       "      <td>...</td>\n",
       "      <td>...</td>\n",
       "      <td>...</td>\n",
       "      <td>...</td>\n",
       "    </tr>\n",
       "    <tr>\n",
       "      <th>중등</th>\n",
       "      <td>2021</td>\n",
       "      <td>0</td>\n",
       "      <td>0</td>\n",
       "      <td>문학(시/수필)</td>\n",
       "      <td>소설</td>\n",
       "    </tr>\n",
       "    <tr>\n",
       "      <th>중등</th>\n",
       "      <td>2021</td>\n",
       "      <td>0</td>\n",
       "      <td>0</td>\n",
       "      <td>소설</td>\n",
       "      <td>역사, 지리</td>\n",
       "    </tr>\n",
       "    <tr>\n",
       "      <th>중등</th>\n",
       "      <td>2021</td>\n",
       "      <td>0</td>\n",
       "      <td>0</td>\n",
       "      <td>소설</td>\n",
       "      <td>직업, 취업 관련</td>\n",
       "    </tr>\n",
       "    <tr>\n",
       "      <th>중등</th>\n",
       "      <td>2021</td>\n",
       "      <td>0</td>\n",
       "      <td>0</td>\n",
       "      <td>소설</td>\n",
       "      <td>과학, 기술, 컴퓨터</td>\n",
       "    </tr>\n",
       "    <tr>\n",
       "      <th>중등</th>\n",
       "      <td>2021</td>\n",
       "      <td>0</td>\n",
       "      <td>0</td>\n",
       "      <td>소설</td>\n",
       "      <td>과학, 기술, 컴퓨터</td>\n",
       "    </tr>\n",
       "  </tbody>\n",
       "</table>\n",
       "<p>3201 rows × 5 columns</p>\n",
       "</div>"
      ],
      "text/plain": [
       "        연도 초등 독서분야 선호도1 초등 독서분야 선호도2 중고등 독서분야 선호도1 중고등 독서분야 선호도2\n",
       "학교구분                                                            \n",
       "중등    2017            0            0      문학(시/수필)            소설\n",
       "중등    2017            0            0            소설        역사, 지리\n",
       "중등    2017            0            0            소설    철학, 사상, 종교\n",
       "중등    2017            0            0      문학(시/수필)   과학, 기술, 컴퓨터\n",
       "중등    2017            0            0            소설      문학(시/수필)\n",
       "...    ...          ...          ...           ...           ...\n",
       "중등    2021            0            0      문학(시/수필)            소설\n",
       "중등    2021            0            0            소설        역사, 지리\n",
       "중등    2021            0            0            소설     직업, 취업 관련\n",
       "중등    2021            0            0            소설   과학, 기술, 컴퓨터\n",
       "중등    2021            0            0            소설   과학, 기술, 컴퓨터\n",
       "\n",
       "[3201 rows x 5 columns]"
      ]
     },
     "execution_count": 382,
     "metadata": {},
     "output_type": "execute_result"
    }
   ],
   "source": [
    "book_kind_mdl"
   ]
  },
  {
   "cell_type": "markdown",
   "id": "bd905e4a",
   "metadata": {},
   "source": [
    "- 연도별 그룹화"
   ]
  },
  {
   "cell_type": "code",
   "execution_count": 383,
   "id": "188459b2",
   "metadata": {},
   "outputs": [],
   "source": [
    "book_kind_mdl_gr = book_kind_mdl.groupby('연도')"
   ]
  },
  {
   "cell_type": "markdown",
   "id": "d9951980",
   "metadata": {},
   "source": [
    "- 함수 정의 : func_book_fav () - 중고등학생의 선호 독서분야 순위를 구하는 함수"
   ]
  },
  {
   "cell_type": "code",
   "execution_count": 384,
   "id": "0b88cca6",
   "metadata": {},
   "outputs": [],
   "source": [
    "def func_book_fav (gr) :\n",
    "    gr.replace({0:np.nan},inplace=True)\n",
    "    gr.dropna(thresh=3,inplace=True)\n",
    "    return gr['중고등 독서분야 선호도1'].value_counts()*2 + gr['중고등 독서분야 선호도2'].value_counts()"
   ]
  },
  {
   "cell_type": "markdown",
   "id": "eda28efe",
   "metadata": {},
   "source": [
    "- 그룹별 함수 적용"
   ]
  },
  {
   "cell_type": "code",
   "execution_count": 385,
   "id": "0939090b",
   "metadata": {},
   "outputs": [],
   "source": [
    "book_kind_mdl = book_kind_mdl_gr.apply(func_book_fav)"
   ]
  },
  {
   "cell_type": "code",
   "execution_count": 386,
   "id": "0b121b46",
   "metadata": {},
   "outputs": [
    {
     "data": {
      "text/html": [
       "<div>\n",
       "<style scoped>\n",
       "    .dataframe tbody tr th:only-of-type {\n",
       "        vertical-align: middle;\n",
       "    }\n",
       "\n",
       "    .dataframe tbody tr th {\n",
       "        vertical-align: top;\n",
       "    }\n",
       "\n",
       "    .dataframe thead th {\n",
       "        text-align: right;\n",
       "    }\n",
       "</style>\n",
       "<table border=\"1\" class=\"dataframe\">\n",
       "  <thead>\n",
       "    <tr style=\"text-align: right;\">\n",
       "      <th></th>\n",
       "      <th>가정, 육아, 요리</th>\n",
       "      <th>경제, 경영</th>\n",
       "      <th>과학, 기술, 컴퓨터</th>\n",
       "      <th>기타</th>\n",
       "      <th>문학(시/수필)</th>\n",
       "      <th>소설</th>\n",
       "      <th>어학, 외국어</th>\n",
       "      <th>역사, 지리</th>\n",
       "      <th>연예, 오락, 스포츠, 취미, 여행</th>\n",
       "      <th>예술, 문화</th>\n",
       "      <th>자기계발서</th>\n",
       "      <th>정치, 사회, 시사</th>\n",
       "      <th>직업, 취업 관련</th>\n",
       "      <th>철학, 사상, 종교</th>\n",
       "    </tr>\n",
       "    <tr>\n",
       "      <th>연도</th>\n",
       "      <th></th>\n",
       "      <th></th>\n",
       "      <th></th>\n",
       "      <th></th>\n",
       "      <th></th>\n",
       "      <th></th>\n",
       "      <th></th>\n",
       "      <th></th>\n",
       "      <th></th>\n",
       "      <th></th>\n",
       "      <th></th>\n",
       "      <th></th>\n",
       "      <th></th>\n",
       "      <th></th>\n",
       "    </tr>\n",
       "  </thead>\n",
       "  <tbody>\n",
       "    <tr>\n",
       "      <th>2017</th>\n",
       "      <td>49</td>\n",
       "      <td>37</td>\n",
       "      <td>162</td>\n",
       "      <td>46</td>\n",
       "      <td>542</td>\n",
       "      <td>1097</td>\n",
       "      <td>37</td>\n",
       "      <td>144</td>\n",
       "      <td>316</td>\n",
       "      <td>133</td>\n",
       "      <td>83</td>\n",
       "      <td>45</td>\n",
       "      <td>101</td>\n",
       "      <td>55</td>\n",
       "    </tr>\n",
       "    <tr>\n",
       "      <th>2019</th>\n",
       "      <td>41</td>\n",
       "      <td>42</td>\n",
       "      <td>131</td>\n",
       "      <td>67</td>\n",
       "      <td>567</td>\n",
       "      <td>1107</td>\n",
       "      <td>26</td>\n",
       "      <td>112</td>\n",
       "      <td>361</td>\n",
       "      <td>126</td>\n",
       "      <td>80</td>\n",
       "      <td>43</td>\n",
       "      <td>99</td>\n",
       "      <td>48</td>\n",
       "    </tr>\n",
       "    <tr>\n",
       "      <th>2021</th>\n",
       "      <td>30</td>\n",
       "      <td>36</td>\n",
       "      <td>225</td>\n",
       "      <td>79</td>\n",
       "      <td>199</td>\n",
       "      <td>1266</td>\n",
       "      <td>39</td>\n",
       "      <td>177</td>\n",
       "      <td>418</td>\n",
       "      <td>136</td>\n",
       "      <td>117</td>\n",
       "      <td>72</td>\n",
       "      <td>138</td>\n",
       "      <td>62</td>\n",
       "    </tr>\n",
       "  </tbody>\n",
       "</table>\n",
       "</div>"
      ],
      "text/plain": [
       "      가정, 육아, 요리  경제, 경영  과학, 기술, 컴퓨터  기타  문학(시/수필)    소설  어학, 외국어  역사, 지리  \\\n",
       "연도                                                                           \n",
       "2017          49      37          162  46       542  1097       37     144   \n",
       "2019          41      42          131  67       567  1107       26     112   \n",
       "2021          30      36          225  79       199  1266       39     177   \n",
       "\n",
       "      연예, 오락, 스포츠, 취미, 여행   예술, 문화  자기계발서  정치, 사회, 시사  직업, 취업 관련  철학, 사상, 종교  \n",
       "연도                                                                            \n",
       "2017                   316     133     83          45        101          55  \n",
       "2019                   361     126     80          43         99          48  \n",
       "2021                   418     136    117          72        138          62  "
      ]
     },
     "execution_count": 386,
     "metadata": {},
     "output_type": "execute_result"
    }
   ],
   "source": [
    "book_kind_mdl"
   ]
  },
  {
   "cell_type": "markdown",
   "id": "a89fe79d",
   "metadata": {},
   "source": [
    "- 백분율로 확인하기"
   ]
  },
  {
   "cell_type": "code",
   "execution_count": 387,
   "id": "29903e5a",
   "metadata": {},
   "outputs": [
    {
     "data": {
      "text/html": [
       "<div>\n",
       "<style scoped>\n",
       "    .dataframe tbody tr th:only-of-type {\n",
       "        vertical-align: middle;\n",
       "    }\n",
       "\n",
       "    .dataframe tbody tr th {\n",
       "        vertical-align: top;\n",
       "    }\n",
       "\n",
       "    .dataframe thead th {\n",
       "        text-align: right;\n",
       "    }\n",
       "</style>\n",
       "<table border=\"1\" class=\"dataframe\">\n",
       "  <thead>\n",
       "    <tr style=\"text-align: right;\">\n",
       "      <th></th>\n",
       "      <th>가정, 육아, 요리</th>\n",
       "      <th>경제, 경영</th>\n",
       "      <th>과학, 기술, 컴퓨터</th>\n",
       "      <th>기타</th>\n",
       "      <th>문학(시/수필)</th>\n",
       "      <th>소설</th>\n",
       "      <th>어학, 외국어</th>\n",
       "      <th>역사, 지리</th>\n",
       "      <th>연예, 오락, 스포츠, 취미, 여행</th>\n",
       "      <th>예술, 문화</th>\n",
       "      <th>자기계발서</th>\n",
       "      <th>정치, 사회, 시사</th>\n",
       "      <th>직업, 취업 관련</th>\n",
       "      <th>철학, 사상, 종교</th>\n",
       "    </tr>\n",
       "    <tr>\n",
       "      <th>연도</th>\n",
       "      <th></th>\n",
       "      <th></th>\n",
       "      <th></th>\n",
       "      <th></th>\n",
       "      <th></th>\n",
       "      <th></th>\n",
       "      <th></th>\n",
       "      <th></th>\n",
       "      <th></th>\n",
       "      <th></th>\n",
       "      <th></th>\n",
       "      <th></th>\n",
       "      <th></th>\n",
       "      <th></th>\n",
       "    </tr>\n",
       "  </thead>\n",
       "  <tbody>\n",
       "    <tr>\n",
       "      <th>2017</th>\n",
       "      <td>1.7</td>\n",
       "      <td>1.3</td>\n",
       "      <td>5.7</td>\n",
       "      <td>1.6</td>\n",
       "      <td>19.0</td>\n",
       "      <td>38.5</td>\n",
       "      <td>1.3</td>\n",
       "      <td>5.1</td>\n",
       "      <td>11.1</td>\n",
       "      <td>4.7</td>\n",
       "      <td>2.9</td>\n",
       "      <td>1.6</td>\n",
       "      <td>3.5</td>\n",
       "      <td>1.9</td>\n",
       "    </tr>\n",
       "    <tr>\n",
       "      <th>2019</th>\n",
       "      <td>1.4</td>\n",
       "      <td>1.5</td>\n",
       "      <td>4.6</td>\n",
       "      <td>2.4</td>\n",
       "      <td>19.9</td>\n",
       "      <td>38.8</td>\n",
       "      <td>0.9</td>\n",
       "      <td>3.9</td>\n",
       "      <td>12.7</td>\n",
       "      <td>4.4</td>\n",
       "      <td>2.8</td>\n",
       "      <td>1.5</td>\n",
       "      <td>3.5</td>\n",
       "      <td>1.7</td>\n",
       "    </tr>\n",
       "    <tr>\n",
       "      <th>2021</th>\n",
       "      <td>1.0</td>\n",
       "      <td>1.2</td>\n",
       "      <td>7.5</td>\n",
       "      <td>2.6</td>\n",
       "      <td>6.6</td>\n",
       "      <td>42.3</td>\n",
       "      <td>1.3</td>\n",
       "      <td>5.9</td>\n",
       "      <td>14.0</td>\n",
       "      <td>4.5</td>\n",
       "      <td>3.9</td>\n",
       "      <td>2.4</td>\n",
       "      <td>4.6</td>\n",
       "      <td>2.1</td>\n",
       "    </tr>\n",
       "  </tbody>\n",
       "</table>\n",
       "</div>"
      ],
      "text/plain": [
       "      가정, 육아, 요리  경제, 경영  과학, 기술, 컴퓨터   기타  문학(시/수필)    소설  어학, 외국어  역사, 지리  \\\n",
       "연도                                                                            \n",
       "2017         1.7     1.3          5.7  1.6      19.0  38.5      1.3     5.1   \n",
       "2019         1.4     1.5          4.6  2.4      19.9  38.8      0.9     3.9   \n",
       "2021         1.0     1.2          7.5  2.6       6.6  42.3      1.3     5.9   \n",
       "\n",
       "      연예, 오락, 스포츠, 취미, 여행   예술, 문화  자기계발서  정치, 사회, 시사  직업, 취업 관련  철학, 사상, 종교  \n",
       "연도                                                                            \n",
       "2017                  11.1     4.7    2.9         1.6        3.5         1.9  \n",
       "2019                  12.7     4.4    2.8         1.5        3.5         1.7  \n",
       "2021                  14.0     4.5    3.9         2.4        4.6         2.1  "
      ]
     },
     "execution_count": 387,
     "metadata": {},
     "output_type": "execute_result"
    }
   ],
   "source": [
    "book_kind_mdl_col =book_kind_mdl.columns\n",
    "book_kind_mdl = book_kind_mdl.div(book_kind_mdl[book_kind_mdl_col].sum(axis = 1),axis = 0).round(3)*100\n",
    "book_kind_mdl"
   ]
  },
  {
   "cell_type": "markdown",
   "id": "74a1e80e",
   "metadata": {},
   "source": [
    "### 고등학생의 선호 독서분야"
   ]
  },
  {
   "cell_type": "markdown",
   "id": "b5423576",
   "metadata": {},
   "source": [
    "- 필요 행 인덱스 추출"
   ]
  },
  {
   "cell_type": "code",
   "execution_count": 388,
   "id": "96dca0df",
   "metadata": {},
   "outputs": [],
   "source": [
    "book_kind_high = book_kind.loc['고등']"
   ]
  },
  {
   "cell_type": "code",
   "execution_count": 389,
   "id": "98efe545",
   "metadata": {},
   "outputs": [
    {
     "data": {
      "text/html": [
       "<div>\n",
       "<style scoped>\n",
       "    .dataframe tbody tr th:only-of-type {\n",
       "        vertical-align: middle;\n",
       "    }\n",
       "\n",
       "    .dataframe tbody tr th {\n",
       "        vertical-align: top;\n",
       "    }\n",
       "\n",
       "    .dataframe thead th {\n",
       "        text-align: right;\n",
       "    }\n",
       "</style>\n",
       "<table border=\"1\" class=\"dataframe\">\n",
       "  <thead>\n",
       "    <tr style=\"text-align: right;\">\n",
       "      <th></th>\n",
       "      <th>연도</th>\n",
       "      <th>초등 독서분야 선호도1</th>\n",
       "      <th>초등 독서분야 선호도2</th>\n",
       "      <th>중고등 독서분야 선호도1</th>\n",
       "      <th>중고등 독서분야 선호도2</th>\n",
       "    </tr>\n",
       "    <tr>\n",
       "      <th>학교구분</th>\n",
       "      <th></th>\n",
       "      <th></th>\n",
       "      <th></th>\n",
       "      <th></th>\n",
       "      <th></th>\n",
       "    </tr>\n",
       "  </thead>\n",
       "  <tbody>\n",
       "    <tr>\n",
       "      <th>고등</th>\n",
       "      <td>2017</td>\n",
       "      <td>0</td>\n",
       "      <td>0</td>\n",
       "      <td>역사, 지리</td>\n",
       "      <td>소설</td>\n",
       "    </tr>\n",
       "    <tr>\n",
       "      <th>고등</th>\n",
       "      <td>2017</td>\n",
       "      <td>0</td>\n",
       "      <td>0</td>\n",
       "      <td>과학, 기술, 컴퓨터</td>\n",
       "      <td>문학(시/수필)</td>\n",
       "    </tr>\n",
       "    <tr>\n",
       "      <th>고등</th>\n",
       "      <td>2017</td>\n",
       "      <td>0</td>\n",
       "      <td>0</td>\n",
       "      <td>과학, 기술, 컴퓨터</td>\n",
       "      <td>소설</td>\n",
       "    </tr>\n",
       "    <tr>\n",
       "      <th>고등</th>\n",
       "      <td>2017</td>\n",
       "      <td>0</td>\n",
       "      <td>0</td>\n",
       "      <td>0</td>\n",
       "      <td>0</td>\n",
       "    </tr>\n",
       "    <tr>\n",
       "      <th>고등</th>\n",
       "      <td>2017</td>\n",
       "      <td>0</td>\n",
       "      <td>0</td>\n",
       "      <td>소설</td>\n",
       "      <td>철학, 사상, 종교</td>\n",
       "    </tr>\n",
       "    <tr>\n",
       "      <th>...</th>\n",
       "      <td>...</td>\n",
       "      <td>...</td>\n",
       "      <td>...</td>\n",
       "      <td>...</td>\n",
       "      <td>...</td>\n",
       "    </tr>\n",
       "    <tr>\n",
       "      <th>고등</th>\n",
       "      <td>2021</td>\n",
       "      <td>0</td>\n",
       "      <td>0</td>\n",
       "      <td>0</td>\n",
       "      <td>0</td>\n",
       "    </tr>\n",
       "    <tr>\n",
       "      <th>고등</th>\n",
       "      <td>2021</td>\n",
       "      <td>0</td>\n",
       "      <td>0</td>\n",
       "      <td>0</td>\n",
       "      <td>0</td>\n",
       "    </tr>\n",
       "    <tr>\n",
       "      <th>고등</th>\n",
       "      <td>2021</td>\n",
       "      <td>0</td>\n",
       "      <td>0</td>\n",
       "      <td>0</td>\n",
       "      <td>0</td>\n",
       "    </tr>\n",
       "    <tr>\n",
       "      <th>고등</th>\n",
       "      <td>2021</td>\n",
       "      <td>0</td>\n",
       "      <td>0</td>\n",
       "      <td>0</td>\n",
       "      <td>0</td>\n",
       "    </tr>\n",
       "    <tr>\n",
       "      <th>고등</th>\n",
       "      <td>2021</td>\n",
       "      <td>0</td>\n",
       "      <td>0</td>\n",
       "      <td>가정, 육아, 요리</td>\n",
       "      <td>연예, 오락, 스포츠, 취미, 여행</td>\n",
       "    </tr>\n",
       "  </tbody>\n",
       "</table>\n",
       "<p>3356 rows × 5 columns</p>\n",
       "</div>"
      ],
      "text/plain": [
       "        연도 초등 독서분야 선호도1 초등 독서분야 선호도2 중고등 독서분야 선호도1         중고등 독서분야 선호도2\n",
       "학교구분                                                                    \n",
       "고등    2017            0            0        역사, 지리                    소설\n",
       "고등    2017            0            0   과학, 기술, 컴퓨터              문학(시/수필)\n",
       "고등    2017            0            0   과학, 기술, 컴퓨터                    소설\n",
       "고등    2017            0            0             0                     0\n",
       "고등    2017            0            0            소설            철학, 사상, 종교\n",
       "...    ...          ...          ...           ...                   ...\n",
       "고등    2021            0            0             0                     0\n",
       "고등    2021            0            0             0                     0\n",
       "고등    2021            0            0             0                     0\n",
       "고등    2021            0            0             0                     0\n",
       "고등    2021            0            0    가정, 육아, 요리  연예, 오락, 스포츠, 취미, 여행 \n",
       "\n",
       "[3356 rows x 5 columns]"
      ]
     },
     "execution_count": 389,
     "metadata": {},
     "output_type": "execute_result"
    }
   ],
   "source": [
    "book_kind_high"
   ]
  },
  {
   "cell_type": "markdown",
   "id": "963f6a05",
   "metadata": {},
   "source": [
    "- 연도별 그룹화"
   ]
  },
  {
   "cell_type": "code",
   "execution_count": 390,
   "id": "b2c2ee4f",
   "metadata": {},
   "outputs": [],
   "source": [
    "book_kind_high_gr = book_kind_high.groupby('연도')"
   ]
  },
  {
   "cell_type": "markdown",
   "id": "53212a99",
   "metadata": {},
   "source": [
    "- 사용자 정의함수 호출: func_book_fav () - 초등학생의 선호 독서분야 순위를 구하는 함수\n",
    "- 그룹별 함수 적용"
   ]
  },
  {
   "cell_type": "code",
   "execution_count": 392,
   "id": "bc9ef528",
   "metadata": {},
   "outputs": [],
   "source": [
    "book_kind_high = book_kind_high_gr.apply(func_book_fav)"
   ]
  },
  {
   "cell_type": "code",
   "execution_count": 393,
   "id": "e56399c0",
   "metadata": {},
   "outputs": [
    {
     "data": {
      "text/html": [
       "<div>\n",
       "<style scoped>\n",
       "    .dataframe tbody tr th:only-of-type {\n",
       "        vertical-align: middle;\n",
       "    }\n",
       "\n",
       "    .dataframe tbody tr th {\n",
       "        vertical-align: top;\n",
       "    }\n",
       "\n",
       "    .dataframe thead th {\n",
       "        text-align: right;\n",
       "    }\n",
       "</style>\n",
       "<table border=\"1\" class=\"dataframe\">\n",
       "  <thead>\n",
       "    <tr style=\"text-align: right;\">\n",
       "      <th></th>\n",
       "      <th>가정, 육아, 요리</th>\n",
       "      <th>경제, 경영</th>\n",
       "      <th>과학, 기술, 컴퓨터</th>\n",
       "      <th>기타</th>\n",
       "      <th>문학(시/수필)</th>\n",
       "      <th>소설</th>\n",
       "      <th>어학, 외국어</th>\n",
       "      <th>역사, 지리</th>\n",
       "      <th>연예, 오락, 스포츠, 취미, 여행</th>\n",
       "      <th>예술, 문화</th>\n",
       "      <th>자기계발서</th>\n",
       "      <th>정치, 사회, 시사</th>\n",
       "      <th>직업, 취업 관련</th>\n",
       "      <th>철학, 사상, 종교</th>\n",
       "    </tr>\n",
       "    <tr>\n",
       "      <th>연도</th>\n",
       "      <th></th>\n",
       "      <th></th>\n",
       "      <th></th>\n",
       "      <th></th>\n",
       "      <th></th>\n",
       "      <th></th>\n",
       "      <th></th>\n",
       "      <th></th>\n",
       "      <th></th>\n",
       "      <th></th>\n",
       "      <th></th>\n",
       "      <th></th>\n",
       "      <th></th>\n",
       "      <th></th>\n",
       "    </tr>\n",
       "  </thead>\n",
       "  <tbody>\n",
       "    <tr>\n",
       "      <th>2017</th>\n",
       "      <td>45</td>\n",
       "      <td>80</td>\n",
       "      <td>203</td>\n",
       "      <td>36</td>\n",
       "      <td>633</td>\n",
       "      <td>1105</td>\n",
       "      <td>41</td>\n",
       "      <td>96</td>\n",
       "      <td>217</td>\n",
       "      <td>115</td>\n",
       "      <td>197</td>\n",
       "      <td>129</td>\n",
       "      <td>175</td>\n",
       "      <td>99</td>\n",
       "    </tr>\n",
       "    <tr>\n",
       "      <th>2019</th>\n",
       "      <td>28</td>\n",
       "      <td>70</td>\n",
       "      <td>285</td>\n",
       "      <td>27</td>\n",
       "      <td>459</td>\n",
       "      <td>883</td>\n",
       "      <td>21</td>\n",
       "      <td>79</td>\n",
       "      <td>190</td>\n",
       "      <td>107</td>\n",
       "      <td>129</td>\n",
       "      <td>71</td>\n",
       "      <td>185</td>\n",
       "      <td>67</td>\n",
       "    </tr>\n",
       "    <tr>\n",
       "      <th>2021</th>\n",
       "      <td>33</td>\n",
       "      <td>102</td>\n",
       "      <td>220</td>\n",
       "      <td>30</td>\n",
       "      <td>268</td>\n",
       "      <td>1145</td>\n",
       "      <td>31</td>\n",
       "      <td>107</td>\n",
       "      <td>287</td>\n",
       "      <td>121</td>\n",
       "      <td>148</td>\n",
       "      <td>94</td>\n",
       "      <td>229</td>\n",
       "      <td>107</td>\n",
       "    </tr>\n",
       "  </tbody>\n",
       "</table>\n",
       "</div>"
      ],
      "text/plain": [
       "      가정, 육아, 요리  경제, 경영  과학, 기술, 컴퓨터  기타  문학(시/수필)    소설  어학, 외국어  역사, 지리  \\\n",
       "연도                                                                           \n",
       "2017          45      80          203  36       633  1105       41      96   \n",
       "2019          28      70          285  27       459   883       21      79   \n",
       "2021          33     102          220  30       268  1145       31     107   \n",
       "\n",
       "      연예, 오락, 스포츠, 취미, 여행   예술, 문화  자기계발서  정치, 사회, 시사  직업, 취업 관련  철학, 사상, 종교  \n",
       "연도                                                                            \n",
       "2017                   217     115    197         129        175          99  \n",
       "2019                   190     107    129          71        185          67  \n",
       "2021                   287     121    148          94        229         107  "
      ]
     },
     "execution_count": 393,
     "metadata": {},
     "output_type": "execute_result"
    }
   ],
   "source": [
    "book_kind_high"
   ]
  },
  {
   "cell_type": "markdown",
   "id": "ad98f00a",
   "metadata": {},
   "source": [
    "- 백분율로 확인하기"
   ]
  },
  {
   "cell_type": "code",
   "execution_count": 394,
   "id": "9c08131b",
   "metadata": {},
   "outputs": [
    {
     "data": {
      "text/html": [
       "<div>\n",
       "<style scoped>\n",
       "    .dataframe tbody tr th:only-of-type {\n",
       "        vertical-align: middle;\n",
       "    }\n",
       "\n",
       "    .dataframe tbody tr th {\n",
       "        vertical-align: top;\n",
       "    }\n",
       "\n",
       "    .dataframe thead th {\n",
       "        text-align: right;\n",
       "    }\n",
       "</style>\n",
       "<table border=\"1\" class=\"dataframe\">\n",
       "  <thead>\n",
       "    <tr style=\"text-align: right;\">\n",
       "      <th></th>\n",
       "      <th>가정, 육아, 요리</th>\n",
       "      <th>경제, 경영</th>\n",
       "      <th>과학, 기술, 컴퓨터</th>\n",
       "      <th>기타</th>\n",
       "      <th>문학(시/수필)</th>\n",
       "      <th>소설</th>\n",
       "      <th>어학, 외국어</th>\n",
       "      <th>역사, 지리</th>\n",
       "      <th>연예, 오락, 스포츠, 취미, 여행</th>\n",
       "      <th>예술, 문화</th>\n",
       "      <th>자기계발서</th>\n",
       "      <th>정치, 사회, 시사</th>\n",
       "      <th>직업, 취업 관련</th>\n",
       "      <th>철학, 사상, 종교</th>\n",
       "    </tr>\n",
       "    <tr>\n",
       "      <th>연도</th>\n",
       "      <th></th>\n",
       "      <th></th>\n",
       "      <th></th>\n",
       "      <th></th>\n",
       "      <th></th>\n",
       "      <th></th>\n",
       "      <th></th>\n",
       "      <th></th>\n",
       "      <th></th>\n",
       "      <th></th>\n",
       "      <th></th>\n",
       "      <th></th>\n",
       "      <th></th>\n",
       "      <th></th>\n",
       "    </tr>\n",
       "  </thead>\n",
       "  <tbody>\n",
       "    <tr>\n",
       "      <th>2017</th>\n",
       "      <td>1.4</td>\n",
       "      <td>2.5</td>\n",
       "      <td>6.4</td>\n",
       "      <td>1.1</td>\n",
       "      <td>20.0</td>\n",
       "      <td>34.8</td>\n",
       "      <td>1.3</td>\n",
       "      <td>3.0</td>\n",
       "      <td>6.8</td>\n",
       "      <td>3.6</td>\n",
       "      <td>6.2</td>\n",
       "      <td>4.1</td>\n",
       "      <td>5.5</td>\n",
       "      <td>3.1</td>\n",
       "    </tr>\n",
       "    <tr>\n",
       "      <th>2019</th>\n",
       "      <td>1.1</td>\n",
       "      <td>2.7</td>\n",
       "      <td>11.0</td>\n",
       "      <td>1.0</td>\n",
       "      <td>17.6</td>\n",
       "      <td>33.9</td>\n",
       "      <td>0.8</td>\n",
       "      <td>3.0</td>\n",
       "      <td>7.3</td>\n",
       "      <td>4.1</td>\n",
       "      <td>5.0</td>\n",
       "      <td>2.7</td>\n",
       "      <td>7.1</td>\n",
       "      <td>2.6</td>\n",
       "    </tr>\n",
       "    <tr>\n",
       "      <th>2021</th>\n",
       "      <td>1.1</td>\n",
       "      <td>3.5</td>\n",
       "      <td>7.5</td>\n",
       "      <td>1.0</td>\n",
       "      <td>9.2</td>\n",
       "      <td>39.2</td>\n",
       "      <td>1.1</td>\n",
       "      <td>3.7</td>\n",
       "      <td>9.8</td>\n",
       "      <td>4.1</td>\n",
       "      <td>5.1</td>\n",
       "      <td>3.2</td>\n",
       "      <td>7.8</td>\n",
       "      <td>3.7</td>\n",
       "    </tr>\n",
       "  </tbody>\n",
       "</table>\n",
       "</div>"
      ],
      "text/plain": [
       "      가정, 육아, 요리  경제, 경영  과학, 기술, 컴퓨터   기타  문학(시/수필)    소설  어학, 외국어  역사, 지리  \\\n",
       "연도                                                                            \n",
       "2017         1.4     2.5          6.4  1.1      20.0  34.8      1.3     3.0   \n",
       "2019         1.1     2.7         11.0  1.0      17.6  33.9      0.8     3.0   \n",
       "2021         1.1     3.5          7.5  1.0       9.2  39.2      1.1     3.7   \n",
       "\n",
       "      연예, 오락, 스포츠, 취미, 여행   예술, 문화  자기계발서  정치, 사회, 시사  직업, 취업 관련  철학, 사상, 종교  \n",
       "연도                                                                            \n",
       "2017                   6.8     3.6    6.2         4.1        5.5         3.1  \n",
       "2019                   7.3     4.1    5.0         2.7        7.1         2.6  \n",
       "2021                   9.8     4.1    5.1         3.2        7.8         3.7  "
      ]
     },
     "execution_count": 394,
     "metadata": {},
     "output_type": "execute_result"
    }
   ],
   "source": [
    "book_kind_high_col = book_kind_high.columns\n",
    "book_kind_high =book_kind_high.div(book_kind_high[book_kind_high_col].sum(axis = 1),axis = 0).round(3)*100\n",
    "book_kind_high"
   ]
  },
  {
   "cell_type": "markdown",
   "id": "9594257a",
   "metadata": {},
   "source": [
    "### 초/중/고등학생의 선호 독서분야 연도별 변화 시각화"
   ]
  },
  {
   "cell_type": "code",
   "execution_count": 395,
   "id": "c268ab55",
   "metadata": {
    "scrolled": true
   },
   "outputs": [
    {
     "data": {
      "text/plain": [
       "<AxesSubplot:>"
      ]
     },
     "execution_count": 395,
     "metadata": {},
     "output_type": "execute_result"
    },
    {
     "data": {
      "image/png": "[encoded data removed]",
      "text/plain": [
       "<Figure size 640x480 with 1 Axes>"
      ]
     },
     "metadata": {},
     "output_type": "display_data"
    }
   ],
   "source": [
    "book_kind_ele.T.plot(kind='bar')"
   ]
  },
  {
   "cell_type": "code",
   "execution_count": 464,
   "id": "a652db4a",
   "metadata": {
    "scrolled": true
   },
   "outputs": [
    {
     "data": {
      "text/plain": [
       "<AxesSubplot:>"
      ]
     },
     "execution_count": 464,
     "metadata": {},
     "output_type": "execute_result"
    },
    {
     "data": {
      "image/png": "[encoded data removed]",
      "text/plain": [
       "<Figure size 640x480 with 1 Axes>"
      ]
     },
     "metadata": {},
     "output_type": "display_data"
    }
   ],
   "source": [
    "book_kind_mdl.T.plot(kind='bar')"
   ]
  },
  {
   "cell_type": "code",
   "execution_count": 465,
   "id": "6f37743d",
   "metadata": {
    "scrolled": false
   },
   "outputs": [
    {
     "data": {
      "text/plain": [
       "<AxesSubplot:>"
      ]
     },
     "execution_count": 465,
     "metadata": {},
     "output_type": "execute_result"
    },
    {
     "data": {
      "image/png": "[encoded data removed]",
      "text/plain": [
       "<Figure size 640x480 with 1 Axes>"
      ]
     },
     "metadata": {},
     "output_type": "display_data"
    }
   ],
   "source": [
    "book_kind_high.T.plot(kind='bar')"
   ]
  },
  {
   "cell_type": "markdown",
   "id": "457c2309",
   "metadata": {},
   "source": [
    "## 3) 학생 독서 장애 요인"
   ]
  },
  {
   "cell_type": "markdown",
   "id": "e21fc69d",
   "metadata": {},
   "source": [
    "- 필요한 컬럼 추출"
   ]
  },
  {
   "cell_type": "code",
   "execution_count": 360,
   "id": "878192a7",
   "metadata": {},
   "outputs": [],
   "source": [
    "reason_not_read = total_stu.loc[:,['연도', '독서장애요인1', '독서장애요인2']]\n",
    "reason_not_read"
   ]
  },
  {
   "cell_type": "code",
   "execution_count": 361,
   "id": "01977548",
   "metadata": {},
   "outputs": [
    {
     "data": {
      "text/html": [
       "<div>\n",
       "<style scoped>\n",
       "    .dataframe tbody tr th:only-of-type {\n",
       "        vertical-align: middle;\n",
       "    }\n",
       "\n",
       "    .dataframe tbody tr th {\n",
       "        vertical-align: top;\n",
       "    }\n",
       "\n",
       "    .dataframe thead th {\n",
       "        text-align: right;\n",
       "    }\n",
       "</style>\n",
       "<table border=\"1\" class=\"dataframe\">\n",
       "  <thead>\n",
       "    <tr style=\"text-align: right;\">\n",
       "      <th></th>\n",
       "      <th>연도</th>\n",
       "      <th>독서장애요인1</th>\n",
       "      <th>독서장애요인2</th>\n",
       "    </tr>\n",
       "  </thead>\n",
       "  <tbody>\n",
       "    <tr>\n",
       "      <th>0</th>\n",
       "      <td>2017</td>\n",
       "      <td>학업 때문에 책읽을시간이 없어서</td>\n",
       "      <td>기타</td>\n",
       "    </tr>\n",
       "    <tr>\n",
       "      <th>1</th>\n",
       "      <td>2017</td>\n",
       "      <td>학업 때문에 책읽을시간이 없어서</td>\n",
       "      <td>어떤 책을 읽을지 몰라서</td>\n",
       "    </tr>\n",
       "    <tr>\n",
       "      <th>2</th>\n",
       "      <td>2017</td>\n",
       "      <td>기타</td>\n",
       "      <td>책을 읽고 이해하기가 어려워서</td>\n",
       "    </tr>\n",
       "    <tr>\n",
       "      <th>3</th>\n",
       "      <td>2017</td>\n",
       "      <td>학업 때문에 책읽을시간이 없어서</td>\n",
       "      <td>읽을 만한 책이 없어서</td>\n",
       "    </tr>\n",
       "    <tr>\n",
       "      <th>4</th>\n",
       "      <td>2017</td>\n",
       "      <td>기타</td>\n",
       "      <td>책읽기가 싫고 습관이 들지않아서</td>\n",
       "    </tr>\n",
       "    <tr>\n",
       "      <th>...</th>\n",
       "      <td>...</td>\n",
       "      <td>...</td>\n",
       "      <td>...</td>\n",
       "    </tr>\n",
       "    <tr>\n",
       "      <th>9770</th>\n",
       "      <td>2021</td>\n",
       "      <td>책읽기가 싫고 습관이 들지않아서</td>\n",
       "      <td>휴대전화,인터넷,텔레비전,게임 등을 이용해서</td>\n",
       "    </tr>\n",
       "    <tr>\n",
       "      <th>9771</th>\n",
       "      <td>2021</td>\n",
       "      <td>휴대전화,인터넷,텔레비전,게임 등을 이용해서</td>\n",
       "      <td>책읽기가 싫고 습관이 들지않아서</td>\n",
       "    </tr>\n",
       "    <tr>\n",
       "      <th>9772</th>\n",
       "      <td>2021</td>\n",
       "      <td>책읽기가 싫고 습관이 들지않아서</td>\n",
       "      <td>휴대전화,인터넷,텔레비전,게임 등을 이용해서</td>\n",
       "    </tr>\n",
       "    <tr>\n",
       "      <th>9773</th>\n",
       "      <td>2021</td>\n",
       "      <td>어떤 책을 읽을지 몰라서</td>\n",
       "      <td>0</td>\n",
       "    </tr>\n",
       "    <tr>\n",
       "      <th>9774</th>\n",
       "      <td>2021</td>\n",
       "      <td>책을 읽을만한 가정환경이 아니어서</td>\n",
       "      <td>학업 때문에 책읽을시간이 없어서</td>\n",
       "    </tr>\n",
       "  </tbody>\n",
       "</table>\n",
       "<p>9775 rows × 3 columns</p>\n",
       "</div>"
      ],
      "text/plain": [
       "        연도                   독서장애요인1                   독서장애요인2\n",
       "0     2017         학업 때문에 책읽을시간이 없어서                        기타\n",
       "1     2017         학업 때문에 책읽을시간이 없어서             어떤 책을 읽을지 몰라서\n",
       "2     2017                        기타          책을 읽고 이해하기가 어려워서\n",
       "3     2017         학업 때문에 책읽을시간이 없어서              읽을 만한 책이 없어서\n",
       "4     2017                        기타         책읽기가 싫고 습관이 들지않아서\n",
       "...    ...                       ...                       ...\n",
       "9770  2021         책읽기가 싫고 습관이 들지않아서  휴대전화,인터넷,텔레비전,게임 등을 이용해서\n",
       "9771  2021  휴대전화,인터넷,텔레비전,게임 등을 이용해서         책읽기가 싫고 습관이 들지않아서\n",
       "9772  2021         책읽기가 싫고 습관이 들지않아서  휴대전화,인터넷,텔레비전,게임 등을 이용해서\n",
       "9773  2021             어떤 책을 읽을지 몰라서                         0\n",
       "9774  2021        책을 읽을만한 가정환경이 아니어서         학업 때문에 책읽을시간이 없어서\n",
       "\n",
       "[9775 rows x 3 columns]"
      ]
     },
     "execution_count": 361,
     "metadata": {},
     "output_type": "execute_result"
    }
   ],
   "source": [
    "reason_not_read"
   ]
  },
  {
   "cell_type": "markdown",
   "id": "c5f9f983",
   "metadata": {},
   "source": [
    "- 연도 기준 groupby()"
   ]
  },
  {
   "cell_type": "code",
   "execution_count": 362,
   "id": "2d4b3650",
   "metadata": {},
   "outputs": [],
   "source": [
    "reason_not_read_gr = reason_not_read.groupby('연도')"
   ]
  },
  {
   "cell_type": "markdown",
   "id": "e86dcd9a",
   "metadata": {},
   "source": [
    "- 함수 정의 :func_reason_not_read() - 독서장애요인 1순위에 가중치 2를 부여, 합산한 값 구하기"
   ]
  },
  {
   "cell_type": "code",
   "execution_count": 363,
   "id": "dfcc6fc5",
   "metadata": {},
   "outputs": [],
   "source": [
    "def func_reason_not_read (gr) :\n",
    "    gr.replace({9:np.nan,0:np.nan},inplace=True)\n",
    "    gr.dropna(how='any',inplace=True)\n",
    "    return gr['독서장애요인1'].value_counts()*2 + gr['독서장애요인2'].value_counts()"
   ]
  },
  {
   "cell_type": "markdown",
   "id": "517bcb4f",
   "metadata": {},
   "source": [
    "- 그룹화 함수 적용"
   ]
  },
  {
   "cell_type": "code",
   "execution_count": 364,
   "id": "9f1792e7",
   "metadata": {},
   "outputs": [],
   "source": [
    "reason_not_read = reason_not_read_gr.apply(func_reason_not_read)"
   ]
  },
  {
   "cell_type": "markdown",
   "id": "d4bb6d8a",
   "metadata": {},
   "source": [
    "- 다중인덱스 제거"
   ]
  },
  {
   "cell_type": "code",
   "execution_count": null,
   "id": "9a2f007b",
   "metadata": {},
   "outputs": [],
   "source": [
    "reason_not_read = reason_not_read.unstack(level=1)\n",
    "reason_not_read.fillna(0,inplace=True)"
   ]
  },
  {
   "cell_type": "code",
   "execution_count": 365,
   "id": "66733132",
   "metadata": {},
   "outputs": [],
   "source": [
    "# 시리즈 형태를 데이터 프레임으로 변경\n",
    "reason_not_read =pd.DataFrame(reason_not_read)"
   ]
  },
  {
   "cell_type": "code",
   "execution_count": 366,
   "id": "e25e9848",
   "metadata": {},
   "outputs": [
    {
     "data": {
      "text/html": [
       "<div>\n",
       "<style scoped>\n",
       "    .dataframe tbody tr th:only-of-type {\n",
       "        vertical-align: middle;\n",
       "    }\n",
       "\n",
       "    .dataframe tbody tr th {\n",
       "        vertical-align: top;\n",
       "    }\n",
       "\n",
       "    .dataframe thead th {\n",
       "        text-align: right;\n",
       "    }\n",
       "</style>\n",
       "<table border=\"1\" class=\"dataframe\">\n",
       "  <thead>\n",
       "    <tr style=\"text-align: right;\">\n",
       "      <th></th>\n",
       "      <th>기타</th>\n",
       "      <th>독서가 필요하다고 생각하지 않아서</th>\n",
       "      <th>부모님이 책읽는 것을 공부라고 생각하지 않으셔서</th>\n",
       "      <th>어떤 책을 읽을지 몰라서</th>\n",
       "      <th>읽을 만한 책이 없어서</th>\n",
       "      <th>책을 빌릴 곳이 없어서</th>\n",
       "      <th>책을 읽고 이해하기가 어려워서</th>\n",
       "      <th>책을 읽을만한 가정환경이 아니어서</th>\n",
       "      <th>책읽기가 싫고 습관이 들지않아서</th>\n",
       "      <th>학업 때문에 책읽을시간이 없어서</th>\n",
       "      <th>휴대전화,인터넷,텔레비전,게임 등을 이용해서</th>\n",
       "    </tr>\n",
       "    <tr>\n",
       "      <th>연도</th>\n",
       "      <th></th>\n",
       "      <th></th>\n",
       "      <th></th>\n",
       "      <th></th>\n",
       "      <th></th>\n",
       "      <th></th>\n",
       "      <th></th>\n",
       "      <th></th>\n",
       "      <th></th>\n",
       "      <th></th>\n",
       "      <th></th>\n",
       "    </tr>\n",
       "  </thead>\n",
       "  <tbody>\n",
       "    <tr>\n",
       "      <th>2017</th>\n",
       "      <td>384.0</td>\n",
       "      <td>216.0</td>\n",
       "      <td>74.0</td>\n",
       "      <td>668.0</td>\n",
       "      <td>716.0</td>\n",
       "      <td>43.0</td>\n",
       "      <td>213.0</td>\n",
       "      <td>187.0</td>\n",
       "      <td>1971.0</td>\n",
       "      <td>2718.0</td>\n",
       "      <td>2068.0</td>\n",
       "    </tr>\n",
       "    <tr>\n",
       "      <th>2019</th>\n",
       "      <td>259.0</td>\n",
       "      <td>0.0</td>\n",
       "      <td>67.0</td>\n",
       "      <td>709.0</td>\n",
       "      <td>737.0</td>\n",
       "      <td>50.0</td>\n",
       "      <td>232.0</td>\n",
       "      <td>168.0</td>\n",
       "      <td>1977.0</td>\n",
       "      <td>2402.0</td>\n",
       "      <td>2213.0</td>\n",
       "    </tr>\n",
       "    <tr>\n",
       "      <th>2021</th>\n",
       "      <td>256.0</td>\n",
       "      <td>0.0</td>\n",
       "      <td>59.0</td>\n",
       "      <td>525.0</td>\n",
       "      <td>564.0</td>\n",
       "      <td>79.0</td>\n",
       "      <td>220.0</td>\n",
       "      <td>139.0</td>\n",
       "      <td>3467.0</td>\n",
       "      <td>1957.0</td>\n",
       "      <td>2319.0</td>\n",
       "    </tr>\n",
       "  </tbody>\n",
       "</table>\n",
       "</div>"
      ],
      "text/plain": [
       "         기타  독서가 필요하다고 생각하지 않아서  부모님이 책읽는 것을 공부라고 생각하지 않으셔서  어떤 책을 읽을지 몰라서  \\\n",
       "연도                                                                           \n",
       "2017  384.0               216.0                        74.0          668.0   \n",
       "2019  259.0                 0.0                        67.0          709.0   \n",
       "2021  256.0                 0.0                        59.0          525.0   \n",
       "\n",
       "      읽을 만한 책이 없어서  책을 빌릴 곳이 없어서  책을 읽고 이해하기가 어려워서  책을 읽을만한 가정환경이 아니어서  \\\n",
       "연도                                                                       \n",
       "2017         716.0          43.0             213.0               187.0   \n",
       "2019         737.0          50.0             232.0               168.0   \n",
       "2021         564.0          79.0             220.0               139.0   \n",
       "\n",
       "      책읽기가 싫고 습관이 들지않아서  학업 때문에 책읽을시간이 없어서  휴대전화,인터넷,텔레비전,게임 등을 이용해서  \n",
       "연도                                                                    \n",
       "2017             1971.0             2718.0                    2068.0  \n",
       "2019             1977.0             2402.0                    2213.0  \n",
       "2021             3467.0             1957.0                    2319.0  "
      ]
     },
     "execution_count": 366,
     "metadata": {},
     "output_type": "execute_result"
    }
   ],
   "source": [
    "reason_not_read"
   ]
  },
  {
   "cell_type": "code",
   "execution_count": 367,
   "id": "66498fb4",
   "metadata": {
    "scrolled": true
   },
   "outputs": [
    {
     "data": {
      "text/html": [
       "<div>\n",
       "<style scoped>\n",
       "    .dataframe tbody tr th:only-of-type {\n",
       "        vertical-align: middle;\n",
       "    }\n",
       "\n",
       "    .dataframe tbody tr th {\n",
       "        vertical-align: top;\n",
       "    }\n",
       "\n",
       "    .dataframe thead th {\n",
       "        text-align: right;\n",
       "    }\n",
       "</style>\n",
       "<table border=\"1\" class=\"dataframe\">\n",
       "  <thead>\n",
       "    <tr style=\"text-align: right;\">\n",
       "      <th></th>\n",
       "      <th>기타</th>\n",
       "      <th>독서가 필요하다고 생각하지 않아서</th>\n",
       "      <th>부모님이 책읽는 것을 공부라고 생각하지 않으셔서</th>\n",
       "      <th>어떤 책을 읽을지 몰라서</th>\n",
       "      <th>읽을 만한 책이 없어서</th>\n",
       "      <th>책을 빌릴 곳이 없어서</th>\n",
       "      <th>책을 읽고 이해하기가 어려워서</th>\n",
       "      <th>책을 읽을만한 가정환경이 아니어서</th>\n",
       "      <th>책읽기가 싫고 습관이 들지않아서</th>\n",
       "      <th>학업 때문에 책읽을시간이 없어서</th>\n",
       "      <th>휴대전화,인터넷,텔레비전,게임 등을 이용해서</th>\n",
       "    </tr>\n",
       "    <tr>\n",
       "      <th>연도</th>\n",
       "      <th></th>\n",
       "      <th></th>\n",
       "      <th></th>\n",
       "      <th></th>\n",
       "      <th></th>\n",
       "      <th></th>\n",
       "      <th></th>\n",
       "      <th></th>\n",
       "      <th></th>\n",
       "      <th></th>\n",
       "      <th></th>\n",
       "    </tr>\n",
       "  </thead>\n",
       "  <tbody>\n",
       "    <tr>\n",
       "      <th>2017</th>\n",
       "      <td>4.1</td>\n",
       "      <td>2.3</td>\n",
       "      <td>0.8</td>\n",
       "      <td>7.2</td>\n",
       "      <td>7.7</td>\n",
       "      <td>0.5</td>\n",
       "      <td>2.3</td>\n",
       "      <td>2.0</td>\n",
       "      <td>21.3</td>\n",
       "      <td>29.4</td>\n",
       "      <td>22.3</td>\n",
       "    </tr>\n",
       "    <tr>\n",
       "      <th>2019</th>\n",
       "      <td>2.9</td>\n",
       "      <td>0.0</td>\n",
       "      <td>0.8</td>\n",
       "      <td>8.0</td>\n",
       "      <td>8.4</td>\n",
       "      <td>0.6</td>\n",
       "      <td>2.6</td>\n",
       "      <td>1.9</td>\n",
       "      <td>22.4</td>\n",
       "      <td>27.3</td>\n",
       "      <td>25.1</td>\n",
       "    </tr>\n",
       "    <tr>\n",
       "      <th>2021</th>\n",
       "      <td>2.7</td>\n",
       "      <td>0.0</td>\n",
       "      <td>0.6</td>\n",
       "      <td>5.5</td>\n",
       "      <td>5.9</td>\n",
       "      <td>0.8</td>\n",
       "      <td>2.3</td>\n",
       "      <td>1.5</td>\n",
       "      <td>36.2</td>\n",
       "      <td>20.4</td>\n",
       "      <td>24.2</td>\n",
       "    </tr>\n",
       "  </tbody>\n",
       "</table>\n",
       "</div>"
      ],
      "text/plain": [
       "       기타  독서가 필요하다고 생각하지 않아서  부모님이 책읽는 것을 공부라고 생각하지 않으셔서  어떤 책을 읽을지 몰라서  \\\n",
       "연도                                                                         \n",
       "2017  4.1                 2.3                         0.8            7.2   \n",
       "2019  2.9                 0.0                         0.8            8.0   \n",
       "2021  2.7                 0.0                         0.6            5.5   \n",
       "\n",
       "      읽을 만한 책이 없어서  책을 빌릴 곳이 없어서  책을 읽고 이해하기가 어려워서  책을 읽을만한 가정환경이 아니어서  \\\n",
       "연도                                                                       \n",
       "2017           7.7           0.5               2.3                 2.0   \n",
       "2019           8.4           0.6               2.6                 1.9   \n",
       "2021           5.9           0.8               2.3                 1.5   \n",
       "\n",
       "      책읽기가 싫고 습관이 들지않아서  학업 때문에 책읽을시간이 없어서  휴대전화,인터넷,텔레비전,게임 등을 이용해서  \n",
       "연도                                                                    \n",
       "2017               21.3               29.4                      22.3  \n",
       "2019               22.4               27.3                      25.1  \n",
       "2021               36.2               20.4                      24.2  "
      ]
     },
     "execution_count": 367,
     "metadata": {},
     "output_type": "execute_result"
    }
   ],
   "source": [
    "# 백분율로 확인하기\n",
    "reason_not_read_col = reason_not_read.columns\n",
    "reason_not_read = reason_not_read.div(reason_not_read[reason_not_read_col].sum(axis = 1),axis = 0).round(3)*100\n",
    "reason_not_read"
   ]
  },
  {
   "cell_type": "markdown",
   "id": "032aa653",
   "metadata": {},
   "source": [
    "- 2017년 : 학업 때문에 책읽을시간이 없어서 > 휴대전화,인터넷,텔레비전,게임 등을 이용해서 > 책읽기가 싫고 습관이 들지않아서\n",
    "\n",
    "- 2019년 : 학업 때문에 책읽을시간이 없어서 > 휴대전화,인터넷,텔레비전,게임 등을 이용해서 > 책읽기가 싫고 습관이 들지않아서\t\n",
    "\n",
    "- 2021년 : 책읽기가 싫고 습관이 들지않아서\t> 휴대전화,인터넷,텔레비전,게임 등을 이용해서 > 학업 때문에 책읽을시간이 없어서"
   ]
  },
  {
   "cell_type": "markdown",
   "id": "1ef26908",
   "metadata": {},
   "source": [
    "# ①학생들의 도서관 이용 분석"
   ]
  },
  {
   "cell_type": "markdown",
   "id": "eebef039",
   "metadata": {},
   "source": [
    "## 1) 지역별 학교 밖 도서관 이용률"
   ]
  },
  {
   "cell_type": "markdown",
   "id": "2c10a1ac",
   "metadata": {},
   "source": [
    "- 필요한 컬럼만 추출하여 데이터 프레임 형성"
   ]
  },
  {
   "cell_type": "code",
   "execution_count": 63,
   "id": "9ae95a49",
   "metadata": {
    "scrolled": true
   },
   "outputs": [],
   "source": [
    "area_stu = total_stu.loc[:,['연도','학교 소재지','학교 밖 도서관이용경험','월 평균 이용빈도', '연 평균 이용빈도', '주이용 도서관 종류1', \n",
    "                            '주이용 도서관 종류2', '이용 이유', '비이용 이유']]"
   ]
  },
  {
   "cell_type": "markdown",
   "id": "fa19c279",
   "metadata": {
    "scrolled": true
   },
   "source": [
    "- 연도와 학교소재지 다중인덱스 설정 : set_index()"
   ]
  },
  {
   "cell_type": "code",
   "execution_count": 64,
   "id": "32b773bf",
   "metadata": {
    "scrolled": true
   },
   "outputs": [
    {
     "data": {
      "text/html": [
       "<div>\n",
       "<style scoped>\n",
       "    .dataframe tbody tr th:only-of-type {\n",
       "        vertical-align: middle;\n",
       "    }\n",
       "\n",
       "    .dataframe tbody tr th {\n",
       "        vertical-align: top;\n",
       "    }\n",
       "\n",
       "    .dataframe thead th {\n",
       "        text-align: right;\n",
       "    }\n",
       "</style>\n",
       "<table border=\"1\" class=\"dataframe\">\n",
       "  <thead>\n",
       "    <tr style=\"text-align: right;\">\n",
       "      <th></th>\n",
       "      <th></th>\n",
       "      <th>학교 밖 도서관이용경험</th>\n",
       "      <th>월 평균 이용빈도</th>\n",
       "      <th>연 평균 이용빈도</th>\n",
       "      <th>주이용 도서관 종류1</th>\n",
       "      <th>주이용 도서관 종류2</th>\n",
       "      <th>이용 이유</th>\n",
       "      <th>비이용 이유</th>\n",
       "    </tr>\n",
       "    <tr>\n",
       "      <th>연도</th>\n",
       "      <th>학교 소재지</th>\n",
       "      <th></th>\n",
       "      <th></th>\n",
       "      <th></th>\n",
       "      <th></th>\n",
       "      <th></th>\n",
       "      <th></th>\n",
       "      <th></th>\n",
       "    </tr>\n",
       "  </thead>\n",
       "  <tbody>\n",
       "    <tr>\n",
       "      <th rowspan=\"5\" valign=\"top\">2017</th>\n",
       "      <th>서울</th>\n",
       "      <td>없다</td>\n",
       "      <td>0.0</td>\n",
       "      <td>0.0</td>\n",
       "      <td>0</td>\n",
       "      <td>0</td>\n",
       "      <td>0</td>\n",
       "      <td>기타</td>\n",
       "    </tr>\n",
       "    <tr>\n",
       "      <th>서울</th>\n",
       "      <td>있다</td>\n",
       "      <td>0.0</td>\n",
       "      <td>0.0</td>\n",
       "      <td>작은도서관</td>\n",
       "      <td>공공도서관</td>\n",
       "      <td>독서 및 도서 대출</td>\n",
       "      <td>0</td>\n",
       "    </tr>\n",
       "    <tr>\n",
       "      <th>서울</th>\n",
       "      <td>있다</td>\n",
       "      <td>0.0</td>\n",
       "      <td>0.0</td>\n",
       "      <td>어린이도서관</td>\n",
       "      <td>0</td>\n",
       "      <td>행사 참여</td>\n",
       "      <td>0</td>\n",
       "    </tr>\n",
       "    <tr>\n",
       "      <th>서울</th>\n",
       "      <td>있다</td>\n",
       "      <td>0.0</td>\n",
       "      <td>0.0</td>\n",
       "      <td>작은도서관</td>\n",
       "      <td>어린이도서관</td>\n",
       "      <td>숙제에 필요한 자료조사</td>\n",
       "      <td>0</td>\n",
       "    </tr>\n",
       "    <tr>\n",
       "      <th>서울</th>\n",
       "      <td>있다</td>\n",
       "      <td>0.0</td>\n",
       "      <td>0.0</td>\n",
       "      <td>기타</td>\n",
       "      <td>작은도서관</td>\n",
       "      <td>독서 및 도서 대출</td>\n",
       "      <td>0</td>\n",
       "    </tr>\n",
       "    <tr>\n",
       "      <th>...</th>\n",
       "      <th>...</th>\n",
       "      <td>...</td>\n",
       "      <td>...</td>\n",
       "      <td>...</td>\n",
       "      <td>...</td>\n",
       "      <td>...</td>\n",
       "      <td>...</td>\n",
       "      <td>...</td>\n",
       "    </tr>\n",
       "    <tr>\n",
       "      <th rowspan=\"5\" valign=\"top\">2021</th>\n",
       "      <th>충북</th>\n",
       "      <td>없다</td>\n",
       "      <td>0.0</td>\n",
       "      <td>0.0</td>\n",
       "      <td>0</td>\n",
       "      <td>0</td>\n",
       "      <td>0</td>\n",
       "      <td>책을 잘 읽지 않는다</td>\n",
       "    </tr>\n",
       "    <tr>\n",
       "      <th>충북</th>\n",
       "      <td>없다</td>\n",
       "      <td>0.0</td>\n",
       "      <td>0.0</td>\n",
       "      <td>0</td>\n",
       "      <td>0</td>\n",
       "      <td>0</td>\n",
       "      <td>책을 잘 읽지 않는다</td>\n",
       "    </tr>\n",
       "    <tr>\n",
       "      <th>충북</th>\n",
       "      <td>없다</td>\n",
       "      <td>0.0</td>\n",
       "      <td>0.0</td>\n",
       "      <td>0</td>\n",
       "      <td>0</td>\n",
       "      <td>0</td>\n",
       "      <td>책을 잘 읽지 않는다</td>\n",
       "    </tr>\n",
       "    <tr>\n",
       "      <th>충북</th>\n",
       "      <td>없다</td>\n",
       "      <td>0.0</td>\n",
       "      <td>0.0</td>\n",
       "      <td>0</td>\n",
       "      <td>0</td>\n",
       "      <td>0</td>\n",
       "      <td>이용 절차가 까다롭다</td>\n",
       "    </tr>\n",
       "    <tr>\n",
       "      <th>충북</th>\n",
       "      <td>없다</td>\n",
       "      <td>0.0</td>\n",
       "      <td>0.0</td>\n",
       "      <td>0</td>\n",
       "      <td>0</td>\n",
       "      <td>0</td>\n",
       "      <td>집에서 멀다</td>\n",
       "    </tr>\n",
       "  </tbody>\n",
       "</table>\n",
       "<p>9775 rows × 7 columns</p>\n",
       "</div>"
      ],
      "text/plain": [
       "            학교 밖 도서관이용경험  월 평균 이용빈도 연 평균 이용빈도 주이용 도서관 종류1 주이용 도서관 종류2  \\\n",
       "연도   학교 소재지                                                             \n",
       "2017 서울               없다        0.0       0.0           0           0   \n",
       "     서울               있다        0.0       0.0       작은도서관       공공도서관   \n",
       "     서울               있다        0.0       0.0      어린이도서관           0   \n",
       "     서울               있다        0.0       0.0       작은도서관      어린이도서관   \n",
       "     서울               있다        0.0       0.0          기타       작은도서관   \n",
       "...                  ...        ...       ...         ...         ...   \n",
       "2021 충북               없다        0.0       0.0           0           0   \n",
       "     충북               없다        0.0       0.0           0           0   \n",
       "     충북               없다        0.0       0.0           0           0   \n",
       "     충북               없다        0.0       0.0           0           0   \n",
       "     충북               없다        0.0       0.0           0           0   \n",
       "\n",
       "                    이용 이유       비이용 이유  \n",
       "연도   학교 소재지                             \n",
       "2017 서울                 0           기타  \n",
       "     서울        독서 및 도서 대출            0  \n",
       "     서울             행사 참여            0  \n",
       "     서울      숙제에 필요한 자료조사            0  \n",
       "     서울        독서 및 도서 대출            0  \n",
       "...                   ...          ...  \n",
       "2021 충북                 0  책을 잘 읽지 않는다  \n",
       "     충북                 0  책을 잘 읽지 않는다  \n",
       "     충북                 0  책을 잘 읽지 않는다  \n",
       "     충북                 0  이용 절차가 까다롭다  \n",
       "     충북                 0       집에서 멀다  \n",
       "\n",
       "[9775 rows x 7 columns]"
      ]
     },
     "execution_count": 64,
     "metadata": {},
     "output_type": "execute_result"
    }
   ],
   "source": [
    "area_stu = area_stu.set_index(['연도','학교 소재지'])\n",
    "area_stu"
   ]
  },
  {
   "cell_type": "markdown",
   "id": "4d328ba0",
   "metadata": {},
   "source": [
    "- 무응답 값 결측치 처리"
   ]
  },
  {
   "cell_type": "code",
   "execution_count": 65,
   "id": "6c952cde",
   "metadata": {},
   "outputs": [
    {
     "data": {
      "text/plain": [
       "array(['없다', '있다', 9], dtype=object)"
      ]
     },
     "execution_count": 65,
     "metadata": {},
     "output_type": "execute_result"
    }
   ],
   "source": [
    "area_stu['학교 밖 도서관이용경험'].unique()"
   ]
  },
  {
   "cell_type": "code",
   "execution_count": 66,
   "id": "1824edd0",
   "metadata": {},
   "outputs": [],
   "source": [
    "area_stu['학교 밖 도서관이용경험'].replace({9:np.nan},inplace=True)"
   ]
  },
  {
   "cell_type": "markdown",
   "id": "d31b05a0",
   "metadata": {},
   "source": [
    "###  지역별 학교 밖 도서관 이용률 계산"
   ]
  },
  {
   "cell_type": "markdown",
   "id": "6c88d561",
   "metadata": {},
   "source": [
    "- df.index.unique(), df.value_counts() 사용\n",
    "- 다중인덱스를 가진 데이터 프레임으로 출력"
   ]
  },
  {
   "cell_type": "code",
   "execution_count": 67,
   "id": "82ffb527",
   "metadata": {},
   "outputs": [],
   "source": [
    "list = area_stu.index.unique()\n",
    "area_lib = pd.DataFrame(columns=[[],[]])\n",
    "\n",
    "for yr_area in list:\n",
    "    lib_temp = area_stu.loc[yr_area]['학교 밖 도서관이용경험'].value_counts(normalize=True).round(2)*100\n",
    "    area_lib[yr_area[1],yr_area[0]] = lib_temp"
   ]
  },
  {
   "cell_type": "markdown",
   "id": "3d29c6fb",
   "metadata": {},
   "source": [
    "- 열 인덱스 기준 정렬"
   ]
  },
  {
   "cell_type": "code",
   "execution_count": 146,
   "id": "2bbba8dc",
   "metadata": {},
   "outputs": [],
   "source": [
    "area_lib = area_lib.sort_index(axis=1)"
   ]
  },
  {
   "cell_type": "markdown",
   "id": "8578ac6b",
   "metadata": {},
   "source": [
    "- 다중 인덱스 이름 설정"
   ]
  },
  {
   "cell_type": "code",
   "execution_count": 147,
   "id": "76209e83",
   "metadata": {},
   "outputs": [
    {
     "data": {
      "text/html": [
       "<div>\n",
       "<style scoped>\n",
       "    .dataframe tbody tr th:only-of-type {\n",
       "        vertical-align: middle;\n",
       "    }\n",
       "\n",
       "    .dataframe tbody tr th {\n",
       "        vertical-align: top;\n",
       "    }\n",
       "\n",
       "    .dataframe thead tr th {\n",
       "        text-align: left;\n",
       "    }\n",
       "</style>\n",
       "<table border=\"1\" class=\"dataframe\">\n",
       "  <thead>\n",
       "    <tr>\n",
       "      <th>지역</th>\n",
       "      <th colspan=\"3\" halign=\"left\">강원</th>\n",
       "      <th colspan=\"3\" halign=\"left\">경기</th>\n",
       "      <th colspan=\"3\" halign=\"left\">경남</th>\n",
       "      <th colspan=\"3\" halign=\"left\">경북</th>\n",
       "      <th colspan=\"3\" halign=\"left\">광주</th>\n",
       "      <th colspan=\"3\" halign=\"left\">대구</th>\n",
       "      <th colspan=\"3\" halign=\"left\">대전</th>\n",
       "      <th colspan=\"3\" halign=\"left\">부산</th>\n",
       "      <th colspan=\"3\" halign=\"left\">서울</th>\n",
       "      <th colspan=\"3\" halign=\"left\">세종</th>\n",
       "      <th colspan=\"3\" halign=\"left\">울산</th>\n",
       "      <th colspan=\"3\" halign=\"left\">인천</th>\n",
       "      <th colspan=\"3\" halign=\"left\">전남</th>\n",
       "      <th colspan=\"3\" halign=\"left\">전북</th>\n",
       "      <th colspan=\"3\" halign=\"left\">제주</th>\n",
       "      <th colspan=\"3\" halign=\"left\">충남</th>\n",
       "      <th colspan=\"3\" halign=\"left\">충북</th>\n",
       "    </tr>\n",
       "    <tr>\n",
       "      <th>연도</th>\n",
       "      <th>2017</th>\n",
       "      <th>2019</th>\n",
       "      <th>2021</th>\n",
       "      <th>2017</th>\n",
       "      <th>2019</th>\n",
       "      <th>2021</th>\n",
       "      <th>2017</th>\n",
       "      <th>2019</th>\n",
       "      <th>2021</th>\n",
       "      <th>2017</th>\n",
       "      <th>2019</th>\n",
       "      <th>2021</th>\n",
       "      <th>2017</th>\n",
       "      <th>2019</th>\n",
       "      <th>2021</th>\n",
       "      <th>2017</th>\n",
       "      <th>2019</th>\n",
       "      <th>2021</th>\n",
       "      <th>2017</th>\n",
       "      <th>2019</th>\n",
       "      <th>2021</th>\n",
       "      <th>2017</th>\n",
       "      <th>2019</th>\n",
       "      <th>2021</th>\n",
       "      <th>2017</th>\n",
       "      <th>...</th>\n",
       "      <th>2021</th>\n",
       "      <th>2017</th>\n",
       "      <th>2019</th>\n",
       "      <th>2021</th>\n",
       "      <th>2017</th>\n",
       "      <th>2019</th>\n",
       "      <th>2021</th>\n",
       "      <th>2017</th>\n",
       "      <th>2019</th>\n",
       "      <th>2021</th>\n",
       "      <th>2017</th>\n",
       "      <th>2019</th>\n",
       "      <th>2021</th>\n",
       "      <th>2017</th>\n",
       "      <th>2019</th>\n",
       "      <th>2021</th>\n",
       "      <th>2017</th>\n",
       "      <th>2019</th>\n",
       "      <th>2021</th>\n",
       "      <th>2017</th>\n",
       "      <th>2019</th>\n",
       "      <th>2021</th>\n",
       "      <th>2017</th>\n",
       "      <th>2019</th>\n",
       "      <th>2021</th>\n",
       "    </tr>\n",
       "  </thead>\n",
       "  <tbody>\n",
       "    <tr>\n",
       "      <th>있다</th>\n",
       "      <td>58.0</td>\n",
       "      <td>59.0</td>\n",
       "      <td>52.0</td>\n",
       "      <td>69.0</td>\n",
       "      <td>67.0</td>\n",
       "      <td>52.0</td>\n",
       "      <td>66.0</td>\n",
       "      <td>63.0</td>\n",
       "      <td>45.0</td>\n",
       "      <td>64.0</td>\n",
       "      <td>58.0</td>\n",
       "      <td>48.0</td>\n",
       "      <td>61.0</td>\n",
       "      <td>81.0</td>\n",
       "      <td>33.0</td>\n",
       "      <td>75.0</td>\n",
       "      <td>45.0</td>\n",
       "      <td>46.0</td>\n",
       "      <td>70.0</td>\n",
       "      <td>56.0</td>\n",
       "      <td>34.0</td>\n",
       "      <td>69.0</td>\n",
       "      <td>62.0</td>\n",
       "      <td>47.0</td>\n",
       "      <td>65.0</td>\n",
       "      <td>...</td>\n",
       "      <td>40.0</td>\n",
       "      <td>67.0</td>\n",
       "      <td>80.0</td>\n",
       "      <td>65.0</td>\n",
       "      <td>74.0</td>\n",
       "      <td>62.0</td>\n",
       "      <td>47.0</td>\n",
       "      <td>62.0</td>\n",
       "      <td>60.0</td>\n",
       "      <td>46.0</td>\n",
       "      <td>60.0</td>\n",
       "      <td>54.0</td>\n",
       "      <td>43.0</td>\n",
       "      <td>63.0</td>\n",
       "      <td>64.0</td>\n",
       "      <td>41.0</td>\n",
       "      <td>87.0</td>\n",
       "      <td>66.0</td>\n",
       "      <td>42.0</td>\n",
       "      <td>52.0</td>\n",
       "      <td>52.0</td>\n",
       "      <td>39.0</td>\n",
       "      <td>59.0</td>\n",
       "      <td>61.0</td>\n",
       "      <td>41.0</td>\n",
       "    </tr>\n",
       "    <tr>\n",
       "      <th>없다</th>\n",
       "      <td>42.0</td>\n",
       "      <td>41.0</td>\n",
       "      <td>48.0</td>\n",
       "      <td>31.0</td>\n",
       "      <td>33.0</td>\n",
       "      <td>48.0</td>\n",
       "      <td>34.0</td>\n",
       "      <td>37.0</td>\n",
       "      <td>55.0</td>\n",
       "      <td>36.0</td>\n",
       "      <td>42.0</td>\n",
       "      <td>52.0</td>\n",
       "      <td>39.0</td>\n",
       "      <td>19.0</td>\n",
       "      <td>67.0</td>\n",
       "      <td>25.0</td>\n",
       "      <td>55.0</td>\n",
       "      <td>54.0</td>\n",
       "      <td>30.0</td>\n",
       "      <td>44.0</td>\n",
       "      <td>66.0</td>\n",
       "      <td>31.0</td>\n",
       "      <td>38.0</td>\n",
       "      <td>53.0</td>\n",
       "      <td>35.0</td>\n",
       "      <td>...</td>\n",
       "      <td>60.0</td>\n",
       "      <td>33.0</td>\n",
       "      <td>20.0</td>\n",
       "      <td>35.0</td>\n",
       "      <td>26.0</td>\n",
       "      <td>38.0</td>\n",
       "      <td>53.0</td>\n",
       "      <td>38.0</td>\n",
       "      <td>40.0</td>\n",
       "      <td>54.0</td>\n",
       "      <td>40.0</td>\n",
       "      <td>46.0</td>\n",
       "      <td>57.0</td>\n",
       "      <td>37.0</td>\n",
       "      <td>36.0</td>\n",
       "      <td>59.0</td>\n",
       "      <td>13.0</td>\n",
       "      <td>34.0</td>\n",
       "      <td>58.0</td>\n",
       "      <td>48.0</td>\n",
       "      <td>48.0</td>\n",
       "      <td>61.0</td>\n",
       "      <td>41.0</td>\n",
       "      <td>39.0</td>\n",
       "      <td>59.0</td>\n",
       "    </tr>\n",
       "  </tbody>\n",
       "</table>\n",
       "<p>2 rows × 51 columns</p>\n",
       "</div>"
      ],
      "text/plain": [
       "지역    강원                경기                경남                경북              \\\n",
       "연도  2017  2019  2021  2017  2019  2021  2017  2019  2021  2017  2019  2021   \n",
       "있다  58.0  59.0  52.0  69.0  67.0  52.0  66.0  63.0  45.0  64.0  58.0  48.0   \n",
       "없다  42.0  41.0  48.0  31.0  33.0  48.0  34.0  37.0  55.0  36.0  42.0  52.0   \n",
       "\n",
       "지역    광주                대구                대전                부산              \\\n",
       "연도  2017  2019  2021  2017  2019  2021  2017  2019  2021  2017  2019  2021   \n",
       "있다  61.0  81.0  33.0  75.0  45.0  46.0  70.0  56.0  34.0  69.0  62.0  47.0   \n",
       "없다  39.0  19.0  67.0  25.0  55.0  54.0  30.0  44.0  66.0  31.0  38.0  53.0   \n",
       "\n",
       "지역    서울  ...          세종                울산                인천              \\\n",
       "연도  2017  ...  2021  2017  2019  2021  2017  2019  2021  2017  2019  2021   \n",
       "있다  65.0  ...  40.0  67.0  80.0  65.0  74.0  62.0  47.0  62.0  60.0  46.0   \n",
       "없다  35.0  ...  60.0  33.0  20.0  35.0  26.0  38.0  53.0  38.0  40.0  54.0   \n",
       "\n",
       "지역    전남                전북                제주                충남              \\\n",
       "연도  2017  2019  2021  2017  2019  2021  2017  2019  2021  2017  2019  2021   \n",
       "있다  60.0  54.0  43.0  63.0  64.0  41.0  87.0  66.0  42.0  52.0  52.0  39.0   \n",
       "없다  40.0  46.0  57.0  37.0  36.0  59.0  13.0  34.0  58.0  48.0  48.0  61.0   \n",
       "\n",
       "지역    충북              \n",
       "연도  2017  2019  2021  \n",
       "있다  59.0  61.0  41.0  \n",
       "없다  41.0  39.0  59.0  \n",
       "\n",
       "[2 rows x 51 columns]"
      ]
     },
     "execution_count": 147,
     "metadata": {},
     "output_type": "execute_result"
    }
   ],
   "source": [
    "area_lib.columns.names=['지역','연도']\n",
    "area_lib"
   ]
  },
  {
   "cell_type": "code",
   "execution_count": 148,
   "id": "588c9c62",
   "metadata": {},
   "outputs": [],
   "source": [
    "area_lib_gr = area_lib.groupby('연도',axis=1)"
   ]
  },
  {
   "cell_type": "code",
   "execution_count": 149,
   "id": "bb099a58",
   "metadata": {},
   "outputs": [],
   "source": [
    "area_lib_gr = area_lib_gr.get_group(2017)"
   ]
  },
  {
   "cell_type": "code",
   "execution_count": 150,
   "id": "af9dca50",
   "metadata": {},
   "outputs": [
    {
     "data": {
      "text/html": [
       "<div>\n",
       "<style scoped>\n",
       "    .dataframe tbody tr th:only-of-type {\n",
       "        vertical-align: middle;\n",
       "    }\n",
       "\n",
       "    .dataframe tbody tr th {\n",
       "        vertical-align: top;\n",
       "    }\n",
       "\n",
       "    .dataframe thead tr th {\n",
       "        text-align: left;\n",
       "    }\n",
       "</style>\n",
       "<table border=\"1\" class=\"dataframe\">\n",
       "  <thead>\n",
       "    <tr>\n",
       "      <th>지역</th>\n",
       "      <th>강원</th>\n",
       "      <th>경기</th>\n",
       "      <th>경남</th>\n",
       "      <th>경북</th>\n",
       "      <th>광주</th>\n",
       "      <th>대구</th>\n",
       "      <th>대전</th>\n",
       "      <th>부산</th>\n",
       "      <th>서울</th>\n",
       "      <th>세종</th>\n",
       "      <th>울산</th>\n",
       "      <th>인천</th>\n",
       "      <th>전남</th>\n",
       "      <th>전북</th>\n",
       "      <th>제주</th>\n",
       "      <th>충남</th>\n",
       "      <th>충북</th>\n",
       "    </tr>\n",
       "    <tr>\n",
       "      <th>연도</th>\n",
       "      <th>2017</th>\n",
       "      <th>2017</th>\n",
       "      <th>2017</th>\n",
       "      <th>2017</th>\n",
       "      <th>2017</th>\n",
       "      <th>2017</th>\n",
       "      <th>2017</th>\n",
       "      <th>2017</th>\n",
       "      <th>2017</th>\n",
       "      <th>2017</th>\n",
       "      <th>2017</th>\n",
       "      <th>2017</th>\n",
       "      <th>2017</th>\n",
       "      <th>2017</th>\n",
       "      <th>2017</th>\n",
       "      <th>2017</th>\n",
       "      <th>2017</th>\n",
       "    </tr>\n",
       "  </thead>\n",
       "  <tbody>\n",
       "    <tr>\n",
       "      <th>있다</th>\n",
       "      <td>58.0</td>\n",
       "      <td>69.0</td>\n",
       "      <td>66.0</td>\n",
       "      <td>64.0</td>\n",
       "      <td>61.0</td>\n",
       "      <td>75.0</td>\n",
       "      <td>70.0</td>\n",
       "      <td>69.0</td>\n",
       "      <td>65.0</td>\n",
       "      <td>67.0</td>\n",
       "      <td>74.0</td>\n",
       "      <td>62.0</td>\n",
       "      <td>60.0</td>\n",
       "      <td>63.0</td>\n",
       "      <td>87.0</td>\n",
       "      <td>52.0</td>\n",
       "      <td>59.0</td>\n",
       "    </tr>\n",
       "    <tr>\n",
       "      <th>없다</th>\n",
       "      <td>42.0</td>\n",
       "      <td>31.0</td>\n",
       "      <td>34.0</td>\n",
       "      <td>36.0</td>\n",
       "      <td>39.0</td>\n",
       "      <td>25.0</td>\n",
       "      <td>30.0</td>\n",
       "      <td>31.0</td>\n",
       "      <td>35.0</td>\n",
       "      <td>33.0</td>\n",
       "      <td>26.0</td>\n",
       "      <td>38.0</td>\n",
       "      <td>40.0</td>\n",
       "      <td>37.0</td>\n",
       "      <td>13.0</td>\n",
       "      <td>48.0</td>\n",
       "      <td>41.0</td>\n",
       "    </tr>\n",
       "  </tbody>\n",
       "</table>\n",
       "</div>"
      ],
      "text/plain": [
       "지역    강원    경기    경남    경북    광주    대구    대전    부산    서울    세종    울산    인천  \\\n",
       "연도  2017  2017  2017  2017  2017  2017  2017  2017  2017  2017  2017  2017   \n",
       "있다  58.0  69.0  66.0  64.0  61.0  75.0  70.0  69.0  65.0  67.0  74.0  62.0   \n",
       "없다  42.0  31.0  34.0  36.0  39.0  25.0  30.0  31.0  35.0  33.0  26.0  38.0   \n",
       "\n",
       "지역    전남    전북    제주    충남    충북  \n",
       "연도  2017  2017  2017  2017  2017  \n",
       "있다  60.0  63.0  87.0  52.0  59.0  \n",
       "없다  40.0  37.0  13.0  48.0  41.0  "
      ]
     },
     "execution_count": 150,
     "metadata": {},
     "output_type": "execute_result"
    }
   ],
   "source": [
    "area_lib_gr"
   ]
  },
  {
   "cell_type": "markdown",
   "id": "dbbf3738",
   "metadata": {},
   "source": [
    "----------------------------------------------"
   ]
  },
  {
   "cell_type": "markdown",
   "id": "d2482b61",
   "metadata": {},
   "source": [
    "### 지역별 학교 밖 도서관 이용률 시각화"
   ]
  },
  {
   "cell_type": "markdown",
   "id": "bd4c8888",
   "metadata": {},
   "source": [
    "- 학교 밖 도서관 이용률 추출"
   ]
  },
  {
   "cell_type": "code",
   "execution_count": 151,
   "id": "5a486509",
   "metadata": {},
   "outputs": [],
   "source": [
    "area_lib_plot = area_lib.iloc[0]"
   ]
  },
  {
   "cell_type": "markdown",
   "id": "409313ef",
   "metadata": {},
   "source": [
    "- 행인덱스 레벨 해제"
   ]
  },
  {
   "cell_type": "code",
   "execution_count": 152,
   "id": "059074ba",
   "metadata": {},
   "outputs": [],
   "source": [
    "area_lib_plot = pd.DataFrame(area_lib_plot).unstack()"
   ]
  },
  {
   "cell_type": "markdown",
   "id": "a06e346a",
   "metadata": {},
   "source": [
    " - 컬럼 이름 설정"
   ]
  },
  {
   "cell_type": "code",
   "execution_count": 153,
   "id": "e5641d46",
   "metadata": {},
   "outputs": [],
   "source": [
    "area_lib_plot.columns.names = ['이용 경험','연도']"
   ]
  },
  {
   "cell_type": "markdown",
   "id": "2b10d648",
   "metadata": {},
   "source": [
    "- 지역별 도서관 이용률 바 그래프  : plot.bar()"
   ]
  },
  {
   "cell_type": "code",
   "execution_count": 154,
   "id": "f6d69867",
   "metadata": {
    "scrolled": true
   },
   "outputs": [
    {
     "data": {
      "text/plain": [
       "<AxesSubplot:title={'center':'지역별 학생들의 학교 밖 도서관 이용률 변화'}, xlabel='지역'>"
      ]
     },
     "execution_count": 154,
     "metadata": {},
     "output_type": "execute_result"
    },
    {
     "data": {
      "image/png": "[encoded data removed]",
      "text/plain": [
       "<Figure size 1500x800 with 1 Axes>"
      ]
     },
     "metadata": {},
     "output_type": "display_data"
    }
   ],
   "source": [
    "area_lib_plot.plot.bar(figsize=(15,8), title = '지역별 학생들의 학교 밖 도서관 이용률 변화')"
   ]
  },
  {
   "cell_type": "markdown",
   "id": "f950d628",
   "metadata": {},
   "source": [
    "- 전국에서 학교 밖 도서관 이용률이 가장 높은 지역 Top5\n",
    "\n",
    "    -2017년: 제주 > 대구 > 울산 > 대전 > 경기 = 부산\n",
    "    \n",
    "    -2019년: 광주 > 세종 > 경기 > 제주 > 전북\n",
    "    \n",
    "    -2021년: 세종 > 강원 = 경기 > 경북 > 부산 = 울산\n",
    "    \n",
    "    \n",
    "- 대부분의 지역에서 학교 밖 도서관 이용률이 매해 감소하는 추세를 보인다."
   ]
  },
  {
   "cell_type": "markdown",
   "id": "f64b7a58",
   "metadata": {},
   "source": [
    "-----------------------------------------------------"
   ]
  },
  {
   "cell_type": "markdown",
   "id": "8da3c493",
   "metadata": {},
   "source": [
    "## 2) 학교 밖 도서관 월 평균 이용 빈도, 연 평균 이용 빈도"
   ]
  },
  {
   "cell_type": "markdown",
   "id": "092a2511",
   "metadata": {},
   "source": [
    "- 결측치 확인"
   ]
  },
  {
   "cell_type": "code",
   "execution_count": 155,
   "id": "142c9918",
   "metadata": {},
   "outputs": [
    {
     "data": {
      "text/plain": [
       "array([0.0, 2.0, 1.0, 8.0, 4.0, 20.0, 5.0, 137.0, '없음', 92.0, 60.0, 10.0,\n",
       "       7.0, 50.0, 6.0, 3.0, 100.0, 200.0, 140.0, 14.0, 300.0, 24.0, 48.0,\n",
       "       13.0, 30.0, 15.0, 11.0, 90.0, 80.0, 122.0, 23.0, 55.0, 18.0, 12.0,\n",
       "       9.0], dtype=object)"
      ]
     },
     "execution_count": 155,
     "metadata": {},
     "output_type": "execute_result"
    }
   ],
   "source": [
    "area_stu['연 평균 이용빈도'].unique()"
   ]
  },
  {
   "cell_type": "code",
   "execution_count": 156,
   "id": "9b8d3500",
   "metadata": {},
   "outputs": [],
   "source": [
    "# 기술통계를 위해 문자 '없음' -> 0으로 변경\n",
    "area_stu['연 평균 이용빈도'].replace({'없음':0},inplace=True)"
   ]
  },
  {
   "cell_type": "markdown",
   "id": "65cf3ce4",
   "metadata": {},
   "source": [
    "### [전체] 월 평균, 연 평균 학교 밖 도서관 이용 빈도 [전국] 평균"
   ]
  },
  {
   "cell_type": "markdown",
   "id": "f67517ed",
   "metadata": {},
   "source": [
    "- 평균값, 최대값 구하기 : describe()"
   ]
  },
  {
   "cell_type": "code",
   "execution_count": 157,
   "id": "8969cb5e",
   "metadata": {},
   "outputs": [
    {
     "data": {
      "text/html": [
       "<div>\n",
       "<style scoped>\n",
       "    .dataframe tbody tr th:only-of-type {\n",
       "        vertical-align: middle;\n",
       "    }\n",
       "\n",
       "    .dataframe tbody tr th {\n",
       "        vertical-align: top;\n",
       "    }\n",
       "\n",
       "    .dataframe thead th {\n",
       "        text-align: right;\n",
       "    }\n",
       "</style>\n",
       "<table border=\"1\" class=\"dataframe\">\n",
       "  <thead>\n",
       "    <tr style=\"text-align: right;\">\n",
       "      <th></th>\n",
       "      <th>월 평균 이용빈도</th>\n",
       "      <th>연 평균 이용빈도</th>\n",
       "    </tr>\n",
       "  </thead>\n",
       "  <tbody>\n",
       "    <tr>\n",
       "      <th>count</th>\n",
       "      <td>3126.0</td>\n",
       "      <td>3126.0</td>\n",
       "    </tr>\n",
       "    <tr>\n",
       "      <th>mean</th>\n",
       "      <td>1.8</td>\n",
       "      <td>1.5</td>\n",
       "    </tr>\n",
       "    <tr>\n",
       "      <th>std</th>\n",
       "      <td>3.8</td>\n",
       "      <td>10.9</td>\n",
       "    </tr>\n",
       "    <tr>\n",
       "      <th>min</th>\n",
       "      <td>0.0</td>\n",
       "      <td>0.0</td>\n",
       "    </tr>\n",
       "    <tr>\n",
       "      <th>25%</th>\n",
       "      <td>0.0</td>\n",
       "      <td>0.0</td>\n",
       "    </tr>\n",
       "    <tr>\n",
       "      <th>50%</th>\n",
       "      <td>0.0</td>\n",
       "      <td>0.0</td>\n",
       "    </tr>\n",
       "    <tr>\n",
       "      <th>75%</th>\n",
       "      <td>2.0</td>\n",
       "      <td>0.0</td>\n",
       "    </tr>\n",
       "    <tr>\n",
       "      <th>max</th>\n",
       "      <td>31.0</td>\n",
       "      <td>300.0</td>\n",
       "    </tr>\n",
       "  </tbody>\n",
       "</table>\n",
       "</div>"
      ],
      "text/plain": [
       "       월 평균 이용빈도  연 평균 이용빈도\n",
       "count     3126.0     3126.0\n",
       "mean         1.8        1.5\n",
       "std          3.8       10.9\n",
       "min          0.0        0.0\n",
       "25%          0.0        0.0\n",
       "50%          0.0        0.0\n",
       "75%          2.0        0.0\n",
       "max         31.0      300.0"
      ]
     },
     "execution_count": 157,
     "metadata": {},
     "output_type": "execute_result"
    },
    {
     "data": {
      "text/html": [
       "<div>\n",
       "<style scoped>\n",
       "    .dataframe tbody tr th:only-of-type {\n",
       "        vertical-align: middle;\n",
       "    }\n",
       "\n",
       "    .dataframe tbody tr th {\n",
       "        vertical-align: top;\n",
       "    }\n",
       "\n",
       "    .dataframe thead th {\n",
       "        text-align: right;\n",
       "    }\n",
       "</style>\n",
       "<table border=\"1\" class=\"dataframe\">\n",
       "  <thead>\n",
       "    <tr style=\"text-align: right;\">\n",
       "      <th></th>\n",
       "      <th>월 평균 이용빈도</th>\n",
       "      <th>연 평균 이용빈도</th>\n",
       "    </tr>\n",
       "  </thead>\n",
       "  <tbody>\n",
       "    <tr>\n",
       "      <th>count</th>\n",
       "      <td>3320.0</td>\n",
       "      <td>3320.0</td>\n",
       "    </tr>\n",
       "    <tr>\n",
       "      <th>mean</th>\n",
       "      <td>1.1</td>\n",
       "      <td>0.6</td>\n",
       "    </tr>\n",
       "    <tr>\n",
       "      <th>std</th>\n",
       "      <td>2.8</td>\n",
       "      <td>4.4</td>\n",
       "    </tr>\n",
       "    <tr>\n",
       "      <th>min</th>\n",
       "      <td>0.0</td>\n",
       "      <td>0.0</td>\n",
       "    </tr>\n",
       "    <tr>\n",
       "      <th>25%</th>\n",
       "      <td>0.0</td>\n",
       "      <td>0.0</td>\n",
       "    </tr>\n",
       "    <tr>\n",
       "      <th>50%</th>\n",
       "      <td>0.0</td>\n",
       "      <td>0.0</td>\n",
       "    </tr>\n",
       "    <tr>\n",
       "      <th>75%</th>\n",
       "      <td>1.0</td>\n",
       "      <td>0.0</td>\n",
       "    </tr>\n",
       "    <tr>\n",
       "      <th>max</th>\n",
       "      <td>27.0</td>\n",
       "      <td>200.0</td>\n",
       "    </tr>\n",
       "  </tbody>\n",
       "</table>\n",
       "</div>"
      ],
      "text/plain": [
       "       월 평균 이용빈도  연 평균 이용빈도\n",
       "count     3320.0     3320.0\n",
       "mean         1.1        0.6\n",
       "std          2.8        4.4\n",
       "min          0.0        0.0\n",
       "25%          0.0        0.0\n",
       "50%          0.0        0.0\n",
       "75%          1.0        0.0\n",
       "max         27.0      200.0"
      ]
     },
     "execution_count": 157,
     "metadata": {},
     "output_type": "execute_result"
    }
   ],
   "source": [
    "# 2017년은 월 평균 이용빈도, 연평균 이용빈도 설문X\n",
    "# 2019년, 2021년의 기술통계값, 소숫점 첫째자리까지\n",
    "area_stu.loc[[2019],:].describe().round(1)\n",
    "area_stu.loc[[2021],:].describe().round(1)"
   ]
  },
  {
   "cell_type": "markdown",
   "id": "0001e76b",
   "metadata": {},
   "source": [
    "- 2019년, 전국 학생의 월 평균 도서관 이용빈도는 약 1.8회, 연 평균 도서관 이용빈도는 약 1.5회\n",
    "\n",
    "- 2021년, 전국 학생의 월 평균 도서관 이용빈도는 약 1.1회, 연 평균 도서관 이용빈도는 약 0.6회\n",
    "\n",
    "    -->2019년 대비 2021년 전국 학생의 학교 밖 도서관 이용 빈도는 감소하였다.\n",
    "\n",
    "\n",
    "- 2019년, 월 평균 도서관 이용빈도가 가장 높은 학생은 월 31회, 연 평균 도서관 이용빈도가 가장 높은 학생은 연 300회 학교 밖 도서관을 이용했다.\n",
    "\n",
    "- 2021년, 월 평균 도서관 이용빈도가 가장 높은 학생은 월 27회, 연 평균 도서관 이용빈도가 가장 높은 학생은 연 200회 학교 밖 도서관을 이용했다."
   ]
  },
  {
   "cell_type": "markdown",
   "id": "613d9345",
   "metadata": {},
   "source": [
    "### [전체] 월 평균, 연 평균 학교 밖 도서관 이용 빈도 [지역별] 평균"
   ]
  },
  {
   "cell_type": "markdown",
   "id": "4a419b25",
   "metadata": {},
   "source": [
    "- df.index.unique(), df.value_counts() 사용\n",
    "- 다중인덱스를 가진 데이터 프레임으로 출력"
   ]
  },
  {
   "cell_type": "code",
   "execution_count": 158,
   "id": "6480dfa7",
   "metadata": {},
   "outputs": [],
   "source": [
    "# 2017년은 월 평균 이용빈도, 연 평균 이용빈도 설문X\n",
    "# 2019,2021년도 지역별 전체 학생들의 월 평균, 연 평균 이용\n",
    "list = area_stu.index.unique()\n",
    "area_freq = pd.DataFrame(columns=[[],[]])\n",
    "\n",
    "for yr_area in list:\n",
    "    if yr_area[0] != 2017 :\n",
    "        freq_temp = area_stu.loc[yr_area,:].mean().round(1)\n",
    "        area_freq[yr_area[1],yr_area[0]] = freq_temp\n"
   ]
  },
  {
   "cell_type": "markdown",
   "id": "12623461",
   "metadata": {},
   "source": [
    "- 열 인덱스 기준 정렬"
   ]
  },
  {
   "cell_type": "code",
   "execution_count": 159,
   "id": "42e1f818",
   "metadata": {},
   "outputs": [],
   "source": [
    "area_freq = area_freq.sort_index(axis=1)"
   ]
  },
  {
   "cell_type": "markdown",
   "id": "71ec56c0",
   "metadata": {},
   "source": [
    "- 다중 인덱스 이름 설정"
   ]
  },
  {
   "cell_type": "code",
   "execution_count": 160,
   "id": "a17fa3e7",
   "metadata": {},
   "outputs": [
    {
     "data": {
      "text/html": [
       "<div>\n",
       "<style scoped>\n",
       "    .dataframe tbody tr th:only-of-type {\n",
       "        vertical-align: middle;\n",
       "    }\n",
       "\n",
       "    .dataframe tbody tr th {\n",
       "        vertical-align: top;\n",
       "    }\n",
       "\n",
       "    .dataframe thead tr th {\n",
       "        text-align: left;\n",
       "    }\n",
       "</style>\n",
       "<table border=\"1\" class=\"dataframe\">\n",
       "  <thead>\n",
       "    <tr>\n",
       "      <th>지역</th>\n",
       "      <th colspan=\"2\" halign=\"left\">강원</th>\n",
       "      <th colspan=\"2\" halign=\"left\">경기</th>\n",
       "      <th colspan=\"2\" halign=\"left\">경남</th>\n",
       "      <th colspan=\"2\" halign=\"left\">경북</th>\n",
       "      <th colspan=\"2\" halign=\"left\">광주</th>\n",
       "      <th colspan=\"2\" halign=\"left\">대구</th>\n",
       "      <th colspan=\"2\" halign=\"left\">대전</th>\n",
       "      <th colspan=\"2\" halign=\"left\">부산</th>\n",
       "      <th colspan=\"2\" halign=\"left\">서울</th>\n",
       "      <th colspan=\"2\" halign=\"left\">세종</th>\n",
       "      <th colspan=\"2\" halign=\"left\">울산</th>\n",
       "      <th colspan=\"2\" halign=\"left\">인천</th>\n",
       "      <th colspan=\"2\" halign=\"left\">전남</th>\n",
       "      <th colspan=\"2\" halign=\"left\">전북</th>\n",
       "      <th colspan=\"2\" halign=\"left\">제주</th>\n",
       "      <th colspan=\"2\" halign=\"left\">충남</th>\n",
       "      <th colspan=\"2\" halign=\"left\">충북</th>\n",
       "    </tr>\n",
       "    <tr>\n",
       "      <th>연도</th>\n",
       "      <th>2019</th>\n",
       "      <th>2021</th>\n",
       "      <th>2019</th>\n",
       "      <th>2021</th>\n",
       "      <th>2019</th>\n",
       "      <th>2021</th>\n",
       "      <th>2019</th>\n",
       "      <th>2021</th>\n",
       "      <th>2019</th>\n",
       "      <th>2021</th>\n",
       "      <th>2019</th>\n",
       "      <th>2021</th>\n",
       "      <th>2019</th>\n",
       "      <th>2021</th>\n",
       "      <th>2019</th>\n",
       "      <th>2021</th>\n",
       "      <th>2019</th>\n",
       "      <th>2021</th>\n",
       "      <th>2019</th>\n",
       "      <th>2021</th>\n",
       "      <th>2019</th>\n",
       "      <th>2021</th>\n",
       "      <th>2019</th>\n",
       "      <th>2021</th>\n",
       "      <th>2019</th>\n",
       "      <th>2021</th>\n",
       "      <th>2019</th>\n",
       "      <th>2021</th>\n",
       "      <th>2019</th>\n",
       "      <th>2021</th>\n",
       "      <th>2019</th>\n",
       "      <th>2021</th>\n",
       "      <th>2019</th>\n",
       "      <th>2021</th>\n",
       "    </tr>\n",
       "  </thead>\n",
       "  <tbody>\n",
       "    <tr>\n",
       "      <th>월 평균 이용빈도</th>\n",
       "      <td>1.5</td>\n",
       "      <td>1.0</td>\n",
       "      <td>2.2</td>\n",
       "      <td>1.2</td>\n",
       "      <td>1.6</td>\n",
       "      <td>1.3</td>\n",
       "      <td>1.7</td>\n",
       "      <td>1.7</td>\n",
       "      <td>3.1</td>\n",
       "      <td>1.3</td>\n",
       "      <td>1.2</td>\n",
       "      <td>1.0</td>\n",
       "      <td>2.3</td>\n",
       "      <td>0.7</td>\n",
       "      <td>1.8</td>\n",
       "      <td>1.0</td>\n",
       "      <td>1.6</td>\n",
       "      <td>1.2</td>\n",
       "      <td>2.2</td>\n",
       "      <td>2.4</td>\n",
       "      <td>1.4</td>\n",
       "      <td>1.4</td>\n",
       "      <td>1.5</td>\n",
       "      <td>1.2</td>\n",
       "      <td>1.7</td>\n",
       "      <td>1.2</td>\n",
       "      <td>1.5</td>\n",
       "      <td>0.7</td>\n",
       "      <td>1.4</td>\n",
       "      <td>0.6</td>\n",
       "      <td>1.6</td>\n",
       "      <td>0.7</td>\n",
       "      <td>2.1</td>\n",
       "      <td>1.2</td>\n",
       "    </tr>\n",
       "    <tr>\n",
       "      <th>연 평균 이용빈도</th>\n",
       "      <td>1.8</td>\n",
       "      <td>0.7</td>\n",
       "      <td>2.6</td>\n",
       "      <td>0.8</td>\n",
       "      <td>0.8</td>\n",
       "      <td>0.8</td>\n",
       "      <td>0.5</td>\n",
       "      <td>0.6</td>\n",
       "      <td>0.7</td>\n",
       "      <td>0.1</td>\n",
       "      <td>0.4</td>\n",
       "      <td>0.4</td>\n",
       "      <td>0.4</td>\n",
       "      <td>0.3</td>\n",
       "      <td>0.7</td>\n",
       "      <td>0.7</td>\n",
       "      <td>1.7</td>\n",
       "      <td>0.3</td>\n",
       "      <td>0.7</td>\n",
       "      <td>0.4</td>\n",
       "      <td>0.9</td>\n",
       "      <td>0.7</td>\n",
       "      <td>1.4</td>\n",
       "      <td>0.3</td>\n",
       "      <td>1.2</td>\n",
       "      <td>0.2</td>\n",
       "      <td>1.2</td>\n",
       "      <td>0.4</td>\n",
       "      <td>1.2</td>\n",
       "      <td>0.6</td>\n",
       "      <td>1.3</td>\n",
       "      <td>0.4</td>\n",
       "      <td>1.6</td>\n",
       "      <td>1.6</td>\n",
       "    </tr>\n",
       "  </tbody>\n",
       "</table>\n",
       "</div>"
      ],
      "text/plain": [
       "지역          강원        경기        경남        경북        광주        대구        대전  \\\n",
       "연도        2019 2021 2019 2021 2019 2021 2019 2021 2019 2021 2019 2021 2019   \n",
       "월 평균 이용빈도  1.5  1.0  2.2  1.2  1.6  1.3  1.7  1.7  3.1  1.3  1.2  1.0  2.3   \n",
       "연 평균 이용빈도  1.8  0.7  2.6  0.8  0.8  0.8  0.5  0.6  0.7  0.1  0.4  0.4  0.4   \n",
       "\n",
       "지역               부산        서울        세종        울산        인천        전남       \\\n",
       "연도        2021 2019 2021 2019 2021 2019 2021 2019 2021 2019 2021 2019 2021   \n",
       "월 평균 이용빈도  0.7  1.8  1.0  1.6  1.2  2.2  2.4  1.4  1.4  1.5  1.2  1.7  1.2   \n",
       "연 평균 이용빈도  0.3  0.7  0.7  1.7  0.3  0.7  0.4  0.9  0.7  1.4  0.3  1.2  0.2   \n",
       "\n",
       "지역          전북        제주        충남        충북       \n",
       "연도        2019 2021 2019 2021 2019 2021 2019 2021  \n",
       "월 평균 이용빈도  1.5  0.7  1.4  0.6  1.6  0.7  2.1  1.2  \n",
       "연 평균 이용빈도  1.2  0.4  1.2  0.6  1.3  0.4  1.6  1.6  "
      ]
     },
     "execution_count": 160,
     "metadata": {},
     "output_type": "execute_result"
    }
   ],
   "source": [
    "area_freq.columns.names=['지역','연도']\n",
    "area_freq"
   ]
  },
  {
   "cell_type": "markdown",
   "id": "000fd95b",
   "metadata": {},
   "source": [
    "### 지역별 월 평균 학교 밖 도서관 이용빈도 시각화"
   ]
  },
  {
   "cell_type": "markdown",
   "id": "07a95370",
   "metadata": {},
   "source": [
    "- 학교 밖 도서관 월 평균 이용빈도 추출"
   ]
  },
  {
   "cell_type": "code",
   "execution_count": 161,
   "id": "c4e37e56",
   "metadata": {},
   "outputs": [],
   "source": [
    "area_freq_plot = area_freq.iloc[0]"
   ]
  },
  {
   "cell_type": "markdown",
   "id": "c596fc14",
   "metadata": {},
   "source": [
    "- 행인덱스 레벨 해제"
   ]
  },
  {
   "cell_type": "code",
   "execution_count": 162,
   "id": "512c7e48",
   "metadata": {},
   "outputs": [],
   "source": [
    "area_freq_plot = pd.DataFrame(area_freq_plot).unstack()"
   ]
  },
  {
   "cell_type": "markdown",
   "id": "7bc9e2fe",
   "metadata": {},
   "source": [
    "- 컬럼 이름 설정"
   ]
  },
  {
   "cell_type": "code",
   "execution_count": 163,
   "id": "df7aea9d",
   "metadata": {},
   "outputs": [],
   "source": [
    "area_freq_plot.columns.names = ['월 평균','연도']"
   ]
  },
  {
   "cell_type": "markdown",
   "id": "eee03be3",
   "metadata": {
    "scrolled": true
   },
   "source": [
    " - 월 평균 학교 밖 도서관 이용 빈도 바 그래프  : plot.bar()"
   ]
  },
  {
   "cell_type": "code",
   "execution_count": 164,
   "id": "0ec89b51",
   "metadata": {
    "scrolled": true
   },
   "outputs": [
    {
     "data": {
      "text/plain": [
       "<AxesSubplot:title={'center':'지역별 학생들의 월 평균 도서관 이용 빈도 변화'}, xlabel='지역'>"
      ]
     },
     "execution_count": 164,
     "metadata": {},
     "output_type": "execute_result"
    },
    {
     "data": {
      "image/png": "[encoded data removed]",
      "text/plain": [
       "<Figure size 1500x800 with 1 Axes>"
      ]
     },
     "metadata": {},
     "output_type": "display_data"
    }
   ],
   "source": [
    "area_freq_plot.plot.bar(figsize=(15,8), title = '지역별 학생들의 월 평균 도서관 이용 빈도 변화')"
   ]
  },
  {
   "cell_type": "markdown",
   "id": "0eaeb8dc",
   "metadata": {},
   "source": [
    "- 전국에서 학교 밖 도서관 월 이용 빈도가 가장 높은 지역 Top5\n",
    "    \n",
    "    -2019년: 광주 > 대전 > 경기 > 세종 > 충북\n",
    "    \n",
    "    -2021년: 세종 > 경북 > 울산 > 경남 > 광주\n",
    "    \n",
    "    \n",
    "- 대부분의 지역에서 학교 밖 도서관 이용빈도가 매해 감소하는 추세를 보인다."
   ]
  },
  {
   "cell_type": "markdown",
   "id": "9863d96c",
   "metadata": {},
   "source": [
    "### [도서관 이용 경험有] 월 평균, 연 평균 학교 밖 도서관 이용 빈도 [전국] 평균"
   ]
  },
  {
   "cell_type": "markdown",
   "id": "5dbf8ad5",
   "metadata": {},
   "source": [
    "- 필요 컬럼값 추출"
   ]
  },
  {
   "cell_type": "code",
   "execution_count": 165,
   "id": "2ca0dc44",
   "metadata": {},
   "outputs": [],
   "source": [
    "lib_freq = area_stu.loc[:,['월 평균 이용빈도','연 평균 이용빈도']]"
   ]
  },
  {
   "cell_type": "code",
   "execution_count": 166,
   "id": "b453c706",
   "metadata": {},
   "outputs": [],
   "source": [
    "# 결측치 처리\n",
    "lib_freq.replace({0:np.nan},inplace=True)\n",
    "lib_freq.dropna(how='all',inplace=True)"
   ]
  },
  {
   "cell_type": "markdown",
   "id": "fd686d50",
   "metadata": {},
   "source": [
    "- 평균값 : mean()"
   ]
  },
  {
   "cell_type": "code",
   "execution_count": 167,
   "id": "8812f8d9",
   "metadata": {
    "scrolled": true
   },
   "outputs": [
    {
     "data": {
      "text/plain": [
       "4.002572898799314"
      ]
     },
     "execution_count": 167,
     "metadata": {},
     "output_type": "execute_result"
    }
   ],
   "source": [
    "# 평균값 : 월 평균 이용빈도\n",
    "lib_freq['월 평균 이용빈도'].dropna().mean()"
   ]
  },
  {
   "cell_type": "code",
   "execution_count": 168,
   "id": "3133cbdd",
   "metadata": {},
   "outputs": [
    {
     "data": {
      "text/plain": [
       "7.341517857142857"
      ]
     },
     "execution_count": 168,
     "metadata": {},
     "output_type": "execute_result"
    }
   ],
   "source": [
    "# 평균값 : 일 평균 이용빈도\n",
    "lib_freq['연 평균 이용빈도'].dropna().mean()"
   ]
  },
  {
   "cell_type": "markdown",
   "id": "71513c93",
   "metadata": {},
   "source": [
    "- 월 평균 이용빈도 : 약 4회 \n",
    "- 연 평균 이용빈도 : 약 7.3회"
   ]
  },
  {
   "cell_type": "markdown",
   "id": "4095dc64",
   "metadata": {},
   "source": [
    "### [도서관 이용 경험有] 월 평균, 연 평균 학교 밖 도서관 이용 빈도 [지역별] 평균"
   ]
  },
  {
   "cell_type": "markdown",
   "id": "9769a601",
   "metadata": {},
   "source": [
    "- df.index.unique(), df.value_counts() 사용\n",
    "- 다중인덱스를 가진 데이터 프레임으로 출력"
   ]
  },
  {
   "cell_type": "code",
   "execution_count": 170,
   "id": "6dd3d03b",
   "metadata": {},
   "outputs": [],
   "source": [
    "# 2017년은 월 평균 이용빈도, 연 평균 이용빈도 설문X\n",
    "# 2019,2021년도 지역별 학생들의 월 평균, 연 평균 이용빈도\n",
    "\n",
    "list = area_stu.index.unique()\n",
    "area_freq_total = pd.DataFrame(columns=[[],[]])\n",
    "\n",
    "for yr_area in list:\n",
    "    if yr_area[0] != 2017 :\n",
    "        lib_freq_m =lib_freq.loc[yr_area]['월 평균 이용빈도'].dropna().mean()\n",
    "        lib_freq_y =lib_freq.loc[yr_area]['연 평균 이용빈도'].dropna().mean()\n",
    "        area_freq_total[yr_area] = lib_freq_m,lib_freq_y"
   ]
  },
  {
   "cell_type": "markdown",
   "id": "1650f380",
   "metadata": {},
   "source": [
    "- 컬럼, 인덱스명 설정"
   ]
  },
  {
   "cell_type": "code",
   "execution_count": 171,
   "id": "ab83c821",
   "metadata": {},
   "outputs": [],
   "source": [
    "area_freq_total.columns.names = ['연도','지역']\n",
    "area_freq_total.index = ['월 평균 이용빈도','연 평균 이용빈도']"
   ]
  },
  {
   "cell_type": "code",
   "execution_count": 172,
   "id": "be686091",
   "metadata": {
    "scrolled": true
   },
   "outputs": [],
   "source": [
    "# 소숫점 첫째자리까지\n",
    "area_freq_total = area_freq_total.round(1)"
   ]
  },
  {
   "cell_type": "markdown",
   "id": "1b781b2f",
   "metadata": {},
   "source": [
    "- 다중인덱스 레벨 변경, 컬럼명 기준 정렬"
   ]
  },
  {
   "cell_type": "code",
   "execution_count": 173,
   "id": "9eda8e21",
   "metadata": {},
   "outputs": [
    {
     "data": {
      "text/html": [
       "<div>\n",
       "<style scoped>\n",
       "    .dataframe tbody tr th:only-of-type {\n",
       "        vertical-align: middle;\n",
       "    }\n",
       "\n",
       "    .dataframe tbody tr th {\n",
       "        vertical-align: top;\n",
       "    }\n",
       "\n",
       "    .dataframe thead tr th {\n",
       "        text-align: left;\n",
       "    }\n",
       "</style>\n",
       "<table border=\"1\" class=\"dataframe\">\n",
       "  <thead>\n",
       "    <tr>\n",
       "      <th>지역</th>\n",
       "      <th colspan=\"2\" halign=\"left\">강원</th>\n",
       "      <th colspan=\"2\" halign=\"left\">경기</th>\n",
       "      <th colspan=\"2\" halign=\"left\">경남</th>\n",
       "      <th colspan=\"2\" halign=\"left\">경북</th>\n",
       "      <th colspan=\"2\" halign=\"left\">광주</th>\n",
       "      <th colspan=\"2\" halign=\"left\">대구</th>\n",
       "      <th colspan=\"2\" halign=\"left\">대전</th>\n",
       "      <th colspan=\"2\" halign=\"left\">부산</th>\n",
       "      <th colspan=\"2\" halign=\"left\">서울</th>\n",
       "      <th colspan=\"2\" halign=\"left\">세종</th>\n",
       "      <th colspan=\"2\" halign=\"left\">울산</th>\n",
       "      <th colspan=\"2\" halign=\"left\">인천</th>\n",
       "      <th colspan=\"2\" halign=\"left\">전남</th>\n",
       "      <th colspan=\"2\" halign=\"left\">전북</th>\n",
       "      <th colspan=\"2\" halign=\"left\">제주</th>\n",
       "      <th colspan=\"2\" halign=\"left\">충남</th>\n",
       "      <th colspan=\"2\" halign=\"left\">충북</th>\n",
       "    </tr>\n",
       "    <tr>\n",
       "      <th>연도</th>\n",
       "      <th>2019</th>\n",
       "      <th>2021</th>\n",
       "      <th>2019</th>\n",
       "      <th>2021</th>\n",
       "      <th>2019</th>\n",
       "      <th>2021</th>\n",
       "      <th>2019</th>\n",
       "      <th>2021</th>\n",
       "      <th>2019</th>\n",
       "      <th>2021</th>\n",
       "      <th>2019</th>\n",
       "      <th>2021</th>\n",
       "      <th>2019</th>\n",
       "      <th>2021</th>\n",
       "      <th>2019</th>\n",
       "      <th>2021</th>\n",
       "      <th>2019</th>\n",
       "      <th>2021</th>\n",
       "      <th>2019</th>\n",
       "      <th>2021</th>\n",
       "      <th>2019</th>\n",
       "      <th>2021</th>\n",
       "      <th>2019</th>\n",
       "      <th>2021</th>\n",
       "      <th>2019</th>\n",
       "      <th>2021</th>\n",
       "      <th>2019</th>\n",
       "      <th>2021</th>\n",
       "      <th>2019</th>\n",
       "      <th>2021</th>\n",
       "      <th>2019</th>\n",
       "      <th>2021</th>\n",
       "      <th>2019</th>\n",
       "      <th>2021</th>\n",
       "    </tr>\n",
       "  </thead>\n",
       "  <tbody>\n",
       "    <tr>\n",
       "      <th>월 평균 이용빈도</th>\n",
       "      <td>4.3</td>\n",
       "      <td>3.3</td>\n",
       "      <td>4.8</td>\n",
       "      <td>3.4</td>\n",
       "      <td>3.6</td>\n",
       "      <td>4.1</td>\n",
       "      <td>3.9</td>\n",
       "      <td>4.8</td>\n",
       "      <td>4.7</td>\n",
       "      <td>5.2</td>\n",
       "      <td>3.9</td>\n",
       "      <td>3.3</td>\n",
       "      <td>6.0</td>\n",
       "      <td>3.2</td>\n",
       "      <td>4.3</td>\n",
       "      <td>3.4</td>\n",
       "      <td>4.0</td>\n",
       "      <td>4.1</td>\n",
       "      <td>3.9</td>\n",
       "      <td>4.3</td>\n",
       "      <td>3.3</td>\n",
       "      <td>4.2</td>\n",
       "      <td>3.8</td>\n",
       "      <td>3.5</td>\n",
       "      <td>4.2</td>\n",
       "      <td>3.7</td>\n",
       "      <td>3.8</td>\n",
       "      <td>2.7</td>\n",
       "      <td>3.3</td>\n",
       "      <td>2.1</td>\n",
       "      <td>4.1</td>\n",
       "      <td>3.0</td>\n",
       "      <td>4.6</td>\n",
       "      <td>4.3</td>\n",
       "    </tr>\n",
       "    <tr>\n",
       "      <th>연 평균 이용빈도</th>\n",
       "      <td>8.6</td>\n",
       "      <td>3.8</td>\n",
       "      <td>17.7</td>\n",
       "      <td>4.9</td>\n",
       "      <td>4.6</td>\n",
       "      <td>5.8</td>\n",
       "      <td>5.2</td>\n",
       "      <td>6.6</td>\n",
       "      <td>5.3</td>\n",
       "      <td>1.8</td>\n",
       "      <td>3.5</td>\n",
       "      <td>3.3</td>\n",
       "      <td>3.0</td>\n",
       "      <td>3.1</td>\n",
       "      <td>5.1</td>\n",
       "      <td>4.3</td>\n",
       "      <td>10.6</td>\n",
       "      <td>3.4</td>\n",
       "      <td>3.8</td>\n",
       "      <td>4.5</td>\n",
       "      <td>5.5</td>\n",
       "      <td>5.0</td>\n",
       "      <td>7.9</td>\n",
       "      <td>3.6</td>\n",
       "      <td>10.7</td>\n",
       "      <td>2.4</td>\n",
       "      <td>5.8</td>\n",
       "      <td>3.0</td>\n",
       "      <td>5.9</td>\n",
       "      <td>4.1</td>\n",
       "      <td>14.5</td>\n",
       "      <td>2.8</td>\n",
       "      <td>10.4</td>\n",
       "      <td>17.5</td>\n",
       "    </tr>\n",
       "  </tbody>\n",
       "</table>\n",
       "</div>"
      ],
      "text/plain": [
       "지역          강원         경기        경남        경북        광주        대구        대전  \\\n",
       "연도        2019 2021  2019 2021 2019 2021 2019 2021 2019 2021 2019 2021 2019   \n",
       "월 평균 이용빈도  4.3  3.3   4.8  3.4  3.6  4.1  3.9  4.8  4.7  5.2  3.9  3.3  6.0   \n",
       "연 평균 이용빈도  8.6  3.8  17.7  4.9  4.6  5.8  5.2  6.6  5.3  1.8  3.5  3.3  3.0   \n",
       "\n",
       "지역               부산         서울        세종        울산        인천         전남       \\\n",
       "연도        2021 2019 2021  2019 2021 2019 2021 2019 2021 2019 2021  2019 2021   \n",
       "월 평균 이용빈도  3.2  4.3  3.4   4.0  4.1  3.9  4.3  3.3  4.2  3.8  3.5   4.2  3.7   \n",
       "연 평균 이용빈도  3.1  5.1  4.3  10.6  3.4  3.8  4.5  5.5  5.0  7.9  3.6  10.7  2.4   \n",
       "\n",
       "지역          전북        제주         충남         충북        \n",
       "연도        2019 2021 2019 2021  2019 2021  2019  2021  \n",
       "월 평균 이용빈도  3.8  2.7  3.3  2.1   4.1  3.0   4.6   4.3  \n",
       "연 평균 이용빈도  5.8  3.0  5.9  4.1  14.5  2.8  10.4  17.5  "
      ]
     },
     "execution_count": 173,
     "metadata": {},
     "output_type": "execute_result"
    }
   ],
   "source": [
    "area_freq_total = area_freq_total.swaplevel(i=-2, j=-1, axis=1).sort_index(axis=1)\n",
    "area_freq_total"
   ]
  },
  {
   "cell_type": "markdown",
   "id": "bb6e45eb",
   "metadata": {},
   "source": [
    "- 월 평균 이용빈도 추출"
   ]
  },
  {
   "cell_type": "code",
   "execution_count": 174,
   "id": "1e6c0368",
   "metadata": {},
   "outputs": [],
   "source": [
    "area_freq_m_plot = area_freq_total.iloc[0]"
   ]
  },
  {
   "cell_type": "markdown",
   "id": "8a1e558d",
   "metadata": {},
   "source": [
    "- 행인덱스 레벨 해제"
   ]
  },
  {
   "cell_type": "code",
   "execution_count": 175,
   "id": "70f72f93",
   "metadata": {},
   "outputs": [],
   "source": [
    "area_freq_m_plot = pd.DataFrame(area_freq_m_plot).unstack()\n",
    "\n",
    "area_freq_m_plot.columns.names = ['월 이용빈도','연도']"
   ]
  },
  {
   "cell_type": "markdown",
   "id": "6c9d1e75",
   "metadata": {},
   "source": [
    "- 지역별 월 평균 이용빈도 바 그래프  : plot.bar()"
   ]
  },
  {
   "cell_type": "code",
   "execution_count": 176,
   "id": "925379f4",
   "metadata": {},
   "outputs": [
    {
     "data": {
      "text/plain": [
       "<AxesSubplot:xlabel='지역'>"
      ]
     },
     "execution_count": 176,
     "metadata": {},
     "output_type": "execute_result"
    },
    {
     "data": {
      "image/png": "[encoded data removed]",
      "text/plain": [
       "<Figure size 1300x700 with 1 Axes>"
      ]
     },
     "metadata": {},
     "output_type": "display_data"
    }
   ],
   "source": [
    "area_freq_m_plot.plot.bar(figsize=(13,7))"
   ]
  },
  {
   "cell_type": "markdown",
   "id": "1bdb73b1",
   "metadata": {},
   "source": [
    "- 전국에서 학교 밖 도서관 월 이용 빈도가 가장 높은 지역 Top5\n",
    "    \n",
    "    -2019년: 대전 > 경기 > 광주 > 충북 > 강원 \n",
    "    \n",
    "    -2021년: 광주 > 경북 > 충북 > 세종 > 울산 \n",
    "    \n",
    "    \n",
    "- 대부분의 지역에서 학교 밖 도서관 이용빈도가 매해 감소하는 추세를 보인다."
   ]
  },
  {
   "cell_type": "markdown",
   "id": "36a0aa75",
   "metadata": {},
   "source": [
    "## 3) 주이용 도서관 종류"
   ]
  },
  {
   "cell_type": "markdown",
   "id": "7504f16f",
   "metadata": {},
   "source": [
    "- 필요한 컬럼 추출"
   ]
  },
  {
   "cell_type": "code",
   "execution_count": 180,
   "id": "5202851f",
   "metadata": {},
   "outputs": [],
   "source": [
    "main_lib = total_stu.loc[:,['연도', '주이용 도서관 종류1', '주이용 도서관 종류2']]"
   ]
  },
  {
   "cell_type": "code",
   "execution_count": 181,
   "id": "5f07b448",
   "metadata": {},
   "outputs": [
    {
     "data": {
      "text/html": [
       "<div>\n",
       "<style scoped>\n",
       "    .dataframe tbody tr th:only-of-type {\n",
       "        vertical-align: middle;\n",
       "    }\n",
       "\n",
       "    .dataframe tbody tr th {\n",
       "        vertical-align: top;\n",
       "    }\n",
       "\n",
       "    .dataframe thead th {\n",
       "        text-align: right;\n",
       "    }\n",
       "</style>\n",
       "<table border=\"1\" class=\"dataframe\">\n",
       "  <thead>\n",
       "    <tr style=\"text-align: right;\">\n",
       "      <th></th>\n",
       "      <th>연도</th>\n",
       "      <th>주이용 도서관 종류1</th>\n",
       "      <th>주이용 도서관 종류2</th>\n",
       "    </tr>\n",
       "  </thead>\n",
       "  <tbody>\n",
       "    <tr>\n",
       "      <th>0</th>\n",
       "      <td>2017</td>\n",
       "      <td>0</td>\n",
       "      <td>0</td>\n",
       "    </tr>\n",
       "    <tr>\n",
       "      <th>1</th>\n",
       "      <td>2017</td>\n",
       "      <td>작은도서관</td>\n",
       "      <td>공공도서관</td>\n",
       "    </tr>\n",
       "    <tr>\n",
       "      <th>2</th>\n",
       "      <td>2017</td>\n",
       "      <td>어린이도서관</td>\n",
       "      <td>0</td>\n",
       "    </tr>\n",
       "    <tr>\n",
       "      <th>3</th>\n",
       "      <td>2017</td>\n",
       "      <td>작은도서관</td>\n",
       "      <td>어린이도서관</td>\n",
       "    </tr>\n",
       "    <tr>\n",
       "      <th>4</th>\n",
       "      <td>2017</td>\n",
       "      <td>기타</td>\n",
       "      <td>작은도서관</td>\n",
       "    </tr>\n",
       "    <tr>\n",
       "      <th>...</th>\n",
       "      <td>...</td>\n",
       "      <td>...</td>\n",
       "      <td>...</td>\n",
       "    </tr>\n",
       "    <tr>\n",
       "      <th>9770</th>\n",
       "      <td>2021</td>\n",
       "      <td>0</td>\n",
       "      <td>0</td>\n",
       "    </tr>\n",
       "    <tr>\n",
       "      <th>9771</th>\n",
       "      <td>2021</td>\n",
       "      <td>0</td>\n",
       "      <td>0</td>\n",
       "    </tr>\n",
       "    <tr>\n",
       "      <th>9772</th>\n",
       "      <td>2021</td>\n",
       "      <td>0</td>\n",
       "      <td>0</td>\n",
       "    </tr>\n",
       "    <tr>\n",
       "      <th>9773</th>\n",
       "      <td>2021</td>\n",
       "      <td>0</td>\n",
       "      <td>0</td>\n",
       "    </tr>\n",
       "    <tr>\n",
       "      <th>9774</th>\n",
       "      <td>2021</td>\n",
       "      <td>0</td>\n",
       "      <td>0</td>\n",
       "    </tr>\n",
       "  </tbody>\n",
       "</table>\n",
       "<p>9775 rows × 3 columns</p>\n",
       "</div>"
      ],
      "text/plain": [
       "        연도 주이용 도서관 종류1 주이용 도서관 종류2\n",
       "0     2017           0           0\n",
       "1     2017       작은도서관       공공도서관\n",
       "2     2017      어린이도서관           0\n",
       "3     2017       작은도서관      어린이도서관\n",
       "4     2017          기타       작은도서관\n",
       "...    ...         ...         ...\n",
       "9770  2021           0           0\n",
       "9771  2021           0           0\n",
       "9772  2021           0           0\n",
       "9773  2021           0           0\n",
       "9774  2021           0           0\n",
       "\n",
       "[9775 rows x 3 columns]"
      ]
     },
     "execution_count": 181,
     "metadata": {},
     "output_type": "execute_result"
    }
   ],
   "source": [
    "main_lib"
   ]
  },
  {
   "cell_type": "markdown",
   "id": "6c8d38c3",
   "metadata": {},
   "source": [
    "- 연도기준 그룹화 : groupby()"
   ]
  },
  {
   "cell_type": "code",
   "execution_count": 182,
   "id": "794c6feb",
   "metadata": {},
   "outputs": [],
   "source": [
    "main_lib_gr = main_lib.groupby('연도')"
   ]
  },
  {
   "cell_type": "markdown",
   "id": "e68d9cc2",
   "metadata": {},
   "source": [
    "- 함수 정의 : 주이용 도서관 1순위에 가중치 2를 부여, 합산한 값 구하기."
   ]
  },
  {
   "cell_type": "code",
   "execution_count": 183,
   "id": "a0ade5c1",
   "metadata": {},
   "outputs": [],
   "source": [
    "def func_main_lib (gr) :\n",
    "    gr.replace({9:np.nan,0:np.nan},inplace=True)\n",
    "    gr.dropna(how='any',inplace=True)\n",
    "    return gr['주이용 도서관 종류1'].value_counts()*2 + gr['주이용 도서관 종류2'].value_counts()"
   ]
  },
  {
   "cell_type": "markdown",
   "id": "b68cc12d",
   "metadata": {},
   "source": [
    "- 그룹화에 함수 적용"
   ]
  },
  {
   "cell_type": "code",
   "execution_count": 184,
   "id": "6214f018",
   "metadata": {},
   "outputs": [
    {
     "data": {
      "text/html": [
       "<div>\n",
       "<style scoped>\n",
       "    .dataframe tbody tr th:only-of-type {\n",
       "        vertical-align: middle;\n",
       "    }\n",
       "\n",
       "    .dataframe tbody tr th {\n",
       "        vertical-align: top;\n",
       "    }\n",
       "\n",
       "    .dataframe thead th {\n",
       "        text-align: right;\n",
       "    }\n",
       "</style>\n",
       "<table border=\"1\" class=\"dataframe\">\n",
       "  <thead>\n",
       "    <tr style=\"text-align: right;\">\n",
       "      <th></th>\n",
       "      <th>공공도서관</th>\n",
       "      <th>기타</th>\n",
       "      <th>어린이도서관</th>\n",
       "      <th>작은도서관</th>\n",
       "    </tr>\n",
       "    <tr>\n",
       "      <th>연도</th>\n",
       "      <th></th>\n",
       "      <th></th>\n",
       "      <th></th>\n",
       "      <th></th>\n",
       "    </tr>\n",
       "  </thead>\n",
       "  <tbody>\n",
       "    <tr>\n",
       "      <th>2017</th>\n",
       "      <td>2698</td>\n",
       "      <td>182</td>\n",
       "      <td>541</td>\n",
       "      <td>1244</td>\n",
       "    </tr>\n",
       "    <tr>\n",
       "      <th>2019</th>\n",
       "      <td>2466</td>\n",
       "      <td>138</td>\n",
       "      <td>424</td>\n",
       "      <td>1187</td>\n",
       "    </tr>\n",
       "    <tr>\n",
       "      <th>2021</th>\n",
       "      <td>1919</td>\n",
       "      <td>93</td>\n",
       "      <td>302</td>\n",
       "      <td>1004</td>\n",
       "    </tr>\n",
       "  </tbody>\n",
       "</table>\n",
       "</div>"
      ],
      "text/plain": [
       "      공공도서관   기타  어린이도서관  작은도서관\n",
       "연도                             \n",
       "2017   2698  182     541   1244\n",
       "2019   2466  138     424   1187\n",
       "2021   1919   93     302   1004"
      ]
     },
     "execution_count": 184,
     "metadata": {},
     "output_type": "execute_result"
    }
   ],
   "source": [
    "lib_rank = main_lib_gr.apply(func_main_lib)\n",
    "lib_rank"
   ]
  },
  {
   "cell_type": "code",
   "execution_count": 185,
   "id": "889484e0",
   "metadata": {
    "scrolled": true
   },
   "outputs": [
    {
     "data": {
      "text/html": [
       "<div>\n",
       "<style scoped>\n",
       "    .dataframe tbody tr th:only-of-type {\n",
       "        vertical-align: middle;\n",
       "    }\n",
       "\n",
       "    .dataframe tbody tr th {\n",
       "        vertical-align: top;\n",
       "    }\n",
       "\n",
       "    .dataframe thead th {\n",
       "        text-align: right;\n",
       "    }\n",
       "</style>\n",
       "<table border=\"1\" class=\"dataframe\">\n",
       "  <thead>\n",
       "    <tr style=\"text-align: right;\">\n",
       "      <th></th>\n",
       "      <th>공공도서관</th>\n",
       "      <th>기타</th>\n",
       "      <th>어린이도서관</th>\n",
       "      <th>작은도서관</th>\n",
       "    </tr>\n",
       "    <tr>\n",
       "      <th>연도</th>\n",
       "      <th></th>\n",
       "      <th></th>\n",
       "      <th></th>\n",
       "      <th></th>\n",
       "    </tr>\n",
       "  </thead>\n",
       "  <tbody>\n",
       "    <tr>\n",
       "      <th>2017</th>\n",
       "      <td>57.8</td>\n",
       "      <td>3.9</td>\n",
       "      <td>11.6</td>\n",
       "      <td>26.7</td>\n",
       "    </tr>\n",
       "    <tr>\n",
       "      <th>2019</th>\n",
       "      <td>58.5</td>\n",
       "      <td>3.3</td>\n",
       "      <td>10.1</td>\n",
       "      <td>28.2</td>\n",
       "    </tr>\n",
       "    <tr>\n",
       "      <th>2021</th>\n",
       "      <td>57.8</td>\n",
       "      <td>2.8</td>\n",
       "      <td>9.1</td>\n",
       "      <td>30.3</td>\n",
       "    </tr>\n",
       "  </tbody>\n",
       "</table>\n",
       "</div>"
      ],
      "text/plain": [
       "      공공도서관   기타  어린이도서관  작은도서관\n",
       "연도                             \n",
       "2017   57.8  3.9    11.6   26.7\n",
       "2019   58.5  3.3    10.1   28.2\n",
       "2021   57.8  2.8     9.1   30.3"
      ]
     },
     "execution_count": 185,
     "metadata": {},
     "output_type": "execute_result"
    }
   ],
   "source": [
    "# 백분율로 확인하기\n",
    "lib_rank_col = lib_rank.columns\n",
    "lib_rank = lib_rank.div(lib_rank[lib_rank_col].sum(axis = 1),axis = 0).round(3)*100\n",
    "lib_rank"
   ]
  },
  {
   "cell_type": "markdown",
   "id": "7369b230",
   "metadata": {},
   "source": [
    "- 3개년 모두 **공동도서관 > 작은도서관 > 어린이도서관 > 기타** 순으로 주이용한다.\n",
    "\n",
    "\n",
    "- **작은 도서관 이용 비율은 꾸준히 증가**하고 있다"
   ]
  },
  {
   "cell_type": "markdown",
   "id": "68a94da8",
   "metadata": {},
   "source": [
    "## 4) 학교 밖 도서관을 이용하는 / 이용하지 않는 이유"
   ]
  },
  {
   "cell_type": "markdown",
   "id": "4d21610a",
   "metadata": {},
   "source": [
    "- 필요한 컬럼값 추출"
   ]
  },
  {
   "cell_type": "code",
   "execution_count": 187,
   "id": "0ebc040f",
   "metadata": {},
   "outputs": [
    {
     "data": {
      "text/html": [
       "<div>\n",
       "<style scoped>\n",
       "    .dataframe tbody tr th:only-of-type {\n",
       "        vertical-align: middle;\n",
       "    }\n",
       "\n",
       "    .dataframe tbody tr th {\n",
       "        vertical-align: top;\n",
       "    }\n",
       "\n",
       "    .dataframe thead th {\n",
       "        text-align: right;\n",
       "    }\n",
       "</style>\n",
       "<table border=\"1\" class=\"dataframe\">\n",
       "  <thead>\n",
       "    <tr style=\"text-align: right;\">\n",
       "      <th></th>\n",
       "      <th>연도</th>\n",
       "      <th>이용 이유</th>\n",
       "      <th>비이용 이유</th>\n",
       "    </tr>\n",
       "  </thead>\n",
       "  <tbody>\n",
       "    <tr>\n",
       "      <th>0</th>\n",
       "      <td>2017</td>\n",
       "      <td>0</td>\n",
       "      <td>기타</td>\n",
       "    </tr>\n",
       "    <tr>\n",
       "      <th>1</th>\n",
       "      <td>2017</td>\n",
       "      <td>독서 및 도서 대출</td>\n",
       "      <td>0</td>\n",
       "    </tr>\n",
       "    <tr>\n",
       "      <th>2</th>\n",
       "      <td>2017</td>\n",
       "      <td>행사 참여</td>\n",
       "      <td>0</td>\n",
       "    </tr>\n",
       "    <tr>\n",
       "      <th>3</th>\n",
       "      <td>2017</td>\n",
       "      <td>숙제에 필요한 자료조사</td>\n",
       "      <td>0</td>\n",
       "    </tr>\n",
       "    <tr>\n",
       "      <th>4</th>\n",
       "      <td>2017</td>\n",
       "      <td>독서 및 도서 대출</td>\n",
       "      <td>0</td>\n",
       "    </tr>\n",
       "    <tr>\n",
       "      <th>...</th>\n",
       "      <td>...</td>\n",
       "      <td>...</td>\n",
       "      <td>...</td>\n",
       "    </tr>\n",
       "    <tr>\n",
       "      <th>9770</th>\n",
       "      <td>2021</td>\n",
       "      <td>0</td>\n",
       "      <td>책을 잘 읽지 않는다</td>\n",
       "    </tr>\n",
       "    <tr>\n",
       "      <th>9771</th>\n",
       "      <td>2021</td>\n",
       "      <td>0</td>\n",
       "      <td>책을 잘 읽지 않는다</td>\n",
       "    </tr>\n",
       "    <tr>\n",
       "      <th>9772</th>\n",
       "      <td>2021</td>\n",
       "      <td>0</td>\n",
       "      <td>책을 잘 읽지 않는다</td>\n",
       "    </tr>\n",
       "    <tr>\n",
       "      <th>9773</th>\n",
       "      <td>2021</td>\n",
       "      <td>0</td>\n",
       "      <td>이용 절차가 까다롭다</td>\n",
       "    </tr>\n",
       "    <tr>\n",
       "      <th>9774</th>\n",
       "      <td>2021</td>\n",
       "      <td>0</td>\n",
       "      <td>집에서 멀다</td>\n",
       "    </tr>\n",
       "  </tbody>\n",
       "</table>\n",
       "<p>9775 rows × 3 columns</p>\n",
       "</div>"
      ],
      "text/plain": [
       "        연도         이용 이유       비이용 이유\n",
       "0     2017             0           기타\n",
       "1     2017    독서 및 도서 대출            0\n",
       "2     2017         행사 참여            0\n",
       "3     2017  숙제에 필요한 자료조사            0\n",
       "4     2017    독서 및 도서 대출            0\n",
       "...    ...           ...          ...\n",
       "9770  2021             0  책을 잘 읽지 않는다\n",
       "9771  2021             0  책을 잘 읽지 않는다\n",
       "9772  2021             0  책을 잘 읽지 않는다\n",
       "9773  2021             0  이용 절차가 까다롭다\n",
       "9774  2021             0       집에서 멀다\n",
       "\n",
       "[9775 rows x 3 columns]"
      ]
     },
     "execution_count": 187,
     "metadata": {},
     "output_type": "execute_result"
    }
   ],
   "source": [
    "reason_lib = total_stu.loc[:,['연도', '이용 이유', '비이용 이유']]\n",
    "reason_lib"
   ]
  },
  {
   "cell_type": "markdown",
   "id": "f4573f76",
   "metadata": {},
   "source": [
    "- 연도 기준 groupby()"
   ]
  },
  {
   "cell_type": "code",
   "execution_count": 188,
   "id": "d76a0e95",
   "metadata": {},
   "outputs": [],
   "source": [
    "reason_lib_gr = reason_lib.groupby('연도')"
   ]
  },
  {
   "cell_type": "markdown",
   "id": "18ea174b",
   "metadata": {},
   "source": [
    "### 도서관을 이용하는 이유"
   ]
  },
  {
   "cell_type": "markdown",
   "id": "dbeddc7c",
   "metadata": {},
   "source": [
    "- 도서관을 이용하는 이유의 빈도를 구하는 함수 정의"
   ]
  },
  {
   "cell_type": "code",
   "execution_count": 189,
   "id": "575b74f9",
   "metadata": {},
   "outputs": [],
   "source": [
    "def func_reason (gr) :\n",
    "    gr.replace({9:np.nan,0:np.nan},inplace=True)\n",
    "    return pd.DataFrame(gr['이용 이유'].value_counts())"
   ]
  },
  {
   "cell_type": "markdown",
   "id": "ece844a9",
   "metadata": {},
   "source": [
    "- 그룹화 함수 적용"
   ]
  },
  {
   "cell_type": "code",
   "execution_count": 190,
   "id": "90872e88",
   "metadata": {},
   "outputs": [],
   "source": [
    "reason_rank = reason_lib_gr.apply(func_reason)"
   ]
  },
  {
   "cell_type": "markdown",
   "id": "f5573683",
   "metadata": {},
   "source": [
    "- 다중인덱스 제거"
   ]
  },
  {
   "cell_type": "code",
   "execution_count": 191,
   "id": "a45e4c57",
   "metadata": {},
   "outputs": [
    {
     "data": {
      "text/html": [
       "<div>\n",
       "<style scoped>\n",
       "    .dataframe tbody tr th:only-of-type {\n",
       "        vertical-align: middle;\n",
       "    }\n",
       "\n",
       "    .dataframe tbody tr th {\n",
       "        vertical-align: top;\n",
       "    }\n",
       "\n",
       "    .dataframe thead tr th {\n",
       "        text-align: left;\n",
       "    }\n",
       "\n",
       "    .dataframe thead tr:last-of-type th {\n",
       "        text-align: right;\n",
       "    }\n",
       "</style>\n",
       "<table border=\"1\" class=\"dataframe\">\n",
       "  <thead>\n",
       "    <tr>\n",
       "      <th></th>\n",
       "      <th colspan=\"7\" halign=\"left\">이용 이유</th>\n",
       "    </tr>\n",
       "    <tr>\n",
       "      <th></th>\n",
       "      <th>기타</th>\n",
       "      <th>독서 및 도서 대출</th>\n",
       "      <th>비디오, 영화 감상</th>\n",
       "      <th>숙제에 필요한 자료조사</th>\n",
       "      <th>시험 공부</th>\n",
       "      <th>인터넷 이용</th>\n",
       "      <th>행사 참여</th>\n",
       "    </tr>\n",
       "    <tr>\n",
       "      <th>연도</th>\n",
       "      <th></th>\n",
       "      <th></th>\n",
       "      <th></th>\n",
       "      <th></th>\n",
       "      <th></th>\n",
       "      <th></th>\n",
       "      <th></th>\n",
       "    </tr>\n",
       "  </thead>\n",
       "  <tbody>\n",
       "    <tr>\n",
       "      <th>2017</th>\n",
       "      <td>72</td>\n",
       "      <td>1175</td>\n",
       "      <td>10</td>\n",
       "      <td>221</td>\n",
       "      <td>583</td>\n",
       "      <td>24</td>\n",
       "      <td>20</td>\n",
       "    </tr>\n",
       "    <tr>\n",
       "      <th>2019</th>\n",
       "      <td>67</td>\n",
       "      <td>1018</td>\n",
       "      <td>14</td>\n",
       "      <td>228</td>\n",
       "      <td>497</td>\n",
       "      <td>20</td>\n",
       "      <td>32</td>\n",
       "    </tr>\n",
       "    <tr>\n",
       "      <th>2021</th>\n",
       "      <td>63</td>\n",
       "      <td>1008</td>\n",
       "      <td>28</td>\n",
       "      <td>112</td>\n",
       "      <td>225</td>\n",
       "      <td>14</td>\n",
       "      <td>15</td>\n",
       "    </tr>\n",
       "  </tbody>\n",
       "</table>\n",
       "</div>"
      ],
      "text/plain": [
       "     이용 이유                                                      \n",
       "        기타 독서 및 도서 대출 비디오, 영화 감상 숙제에 필요한 자료조사 시험 공부 인터넷 이용 행사 참여\n",
       "연도                                                              \n",
       "2017    72       1175         10          221   583     24    20\n",
       "2019    67       1018         14          228   497     20    32\n",
       "2021    63       1008         28          112   225     14    15"
      ]
     },
     "execution_count": 191,
     "metadata": {},
     "output_type": "execute_result"
    }
   ],
   "source": [
    "reason_rank = reason_rank.unstack(level=1)\n",
    "reason_rank"
   ]
  },
  {
   "cell_type": "markdown",
   "id": "ad931f4b",
   "metadata": {
    "scrolled": false
   },
   "source": [
    "- 백분율로 확인하기 : value_count()"
   ]
  },
  {
   "cell_type": "code",
   "execution_count": 192,
   "id": "c02fe575",
   "metadata": {
    "scrolled": false
   },
   "outputs": [
    {
     "data": {
      "text/html": [
       "<div>\n",
       "<style scoped>\n",
       "    .dataframe tbody tr th:only-of-type {\n",
       "        vertical-align: middle;\n",
       "    }\n",
       "\n",
       "    .dataframe tbody tr th {\n",
       "        vertical-align: top;\n",
       "    }\n",
       "\n",
       "    .dataframe thead tr th {\n",
       "        text-align: left;\n",
       "    }\n",
       "\n",
       "    .dataframe thead tr:last-of-type th {\n",
       "        text-align: right;\n",
       "    }\n",
       "</style>\n",
       "<table border=\"1\" class=\"dataframe\">\n",
       "  <thead>\n",
       "    <tr>\n",
       "      <th></th>\n",
       "      <th colspan=\"7\" halign=\"left\">이용 이유</th>\n",
       "    </tr>\n",
       "    <tr>\n",
       "      <th></th>\n",
       "      <th>기타</th>\n",
       "      <th>독서 및 도서 대출</th>\n",
       "      <th>비디오, 영화 감상</th>\n",
       "      <th>숙제에 필요한 자료조사</th>\n",
       "      <th>시험 공부</th>\n",
       "      <th>인터넷 이용</th>\n",
       "      <th>행사 참여</th>\n",
       "    </tr>\n",
       "    <tr>\n",
       "      <th>연도</th>\n",
       "      <th></th>\n",
       "      <th></th>\n",
       "      <th></th>\n",
       "      <th></th>\n",
       "      <th></th>\n",
       "      <th></th>\n",
       "      <th></th>\n",
       "    </tr>\n",
       "  </thead>\n",
       "  <tbody>\n",
       "    <tr>\n",
       "      <th>2017</th>\n",
       "      <td>3.4</td>\n",
       "      <td>55.8</td>\n",
       "      <td>0.5</td>\n",
       "      <td>10.5</td>\n",
       "      <td>27.7</td>\n",
       "      <td>1.1</td>\n",
       "      <td>1.0</td>\n",
       "    </tr>\n",
       "    <tr>\n",
       "      <th>2019</th>\n",
       "      <td>3.6</td>\n",
       "      <td>54.3</td>\n",
       "      <td>0.7</td>\n",
       "      <td>12.2</td>\n",
       "      <td>26.5</td>\n",
       "      <td>1.1</td>\n",
       "      <td>1.7</td>\n",
       "    </tr>\n",
       "    <tr>\n",
       "      <th>2021</th>\n",
       "      <td>4.3</td>\n",
       "      <td>68.8</td>\n",
       "      <td>1.9</td>\n",
       "      <td>7.6</td>\n",
       "      <td>15.4</td>\n",
       "      <td>1.0</td>\n",
       "      <td>1.0</td>\n",
       "    </tr>\n",
       "  </tbody>\n",
       "</table>\n",
       "</div>"
      ],
      "text/plain": [
       "     이용 이유                                                      \n",
       "        기타 독서 및 도서 대출 비디오, 영화 감상 숙제에 필요한 자료조사 시험 공부 인터넷 이용 행사 참여\n",
       "연도                                                              \n",
       "2017   3.4       55.8        0.5         10.5  27.7    1.1   1.0\n",
       "2019   3.6       54.3        0.7         12.2  26.5    1.1   1.7\n",
       "2021   4.3       68.8        1.9          7.6  15.4    1.0   1.0"
      ]
     },
     "execution_count": 192,
     "metadata": {},
     "output_type": "execute_result"
    }
   ],
   "source": [
    "reason_rank_col = reason_rank.columns\n",
    "reason_rank = reason_rank.div(reason_rank[reason_rank_col].sum(axis = 1),axis = 0).round(3)*100\n",
    "reason_rank"
   ]
  },
  {
   "cell_type": "markdown",
   "id": "143d0936",
   "metadata": {},
   "source": [
    "- 도서관을 이용하는 이유는 3년 연속 **독서 및 도서대출 > 시험공부 > 숙제에 필요한 자료조사** 순이다.\n",
    "\n",
    "\n",
    "- 2019년 대비 2021년의 독서 및 도서 대출의 비율이 약 14.5 퍼센트 포인트 증가했다."
   ]
  },
  {
   "cell_type": "markdown",
   "id": "f5689792",
   "metadata": {},
   "source": [
    "### 도서관을 이용하지 않는 이유"
   ]
  },
  {
   "cell_type": "markdown",
   "id": "b60ea0b1",
   "metadata": {},
   "source": [
    "- 비이용 이유 데이터값의 빈도를 구하는 함수 정의"
   ]
  },
  {
   "cell_type": "code",
   "execution_count": 193,
   "id": "852ec21c",
   "metadata": {},
   "outputs": [],
   "source": [
    "def func_reason_not (gr) :\n",
    "    gr.replace({9:np.nan,0:np.nan},inplace=True)\n",
    "    return pd.DataFrame(gr['비이용 이유'].value_counts())"
   ]
  },
  {
   "cell_type": "markdown",
   "id": "c7253a30",
   "metadata": {},
   "source": [
    "- 그룹화 함수 적용"
   ]
  },
  {
   "cell_type": "code",
   "execution_count": 194,
   "id": "9a7edcbb",
   "metadata": {},
   "outputs": [],
   "source": [
    "reason_not_rank = reason_lib_gr.apply(func_reason_not)"
   ]
  },
  {
   "cell_type": "markdown",
   "id": "1cbab963",
   "metadata": {},
   "source": [
    "- 다중인덱스 제거"
   ]
  },
  {
   "cell_type": "code",
   "execution_count": 195,
   "id": "4b003d8f",
   "metadata": {},
   "outputs": [],
   "source": [
    "reason_not_rank = reason_not_rank.unstack(level=1)"
   ]
  },
  {
   "cell_type": "markdown",
   "id": "1bc7df61",
   "metadata": {},
   "source": [
    "- 결측치 제거"
   ]
  },
  {
   "cell_type": "code",
   "execution_count": 196,
   "id": "59cf720f",
   "metadata": {},
   "outputs": [
    {
     "data": {
      "text/html": [
       "<div>\n",
       "<style scoped>\n",
       "    .dataframe tbody tr th:only-of-type {\n",
       "        vertical-align: middle;\n",
       "    }\n",
       "\n",
       "    .dataframe tbody tr th {\n",
       "        vertical-align: top;\n",
       "    }\n",
       "\n",
       "    .dataframe thead tr th {\n",
       "        text-align: left;\n",
       "    }\n",
       "\n",
       "    .dataframe thead tr:last-of-type th {\n",
       "        text-align: right;\n",
       "    }\n",
       "</style>\n",
       "<table border=\"1\" class=\"dataframe\">\n",
       "  <thead>\n",
       "    <tr>\n",
       "      <th></th>\n",
       "      <th colspan=\"15\" halign=\"left\">비이용 이유</th>\n",
       "    </tr>\n",
       "    <tr>\n",
       "      <th></th>\n",
       "      <th>기타</th>\n",
       "      <th>독서 상담이나 안내자가 안 계신다</th>\n",
       "      <th>무응답</th>\n",
       "      <th>앉을 자리가 없다</th>\n",
       "      <th>없음</th>\n",
       "      <th>원하는 책이 없다</th>\n",
       "      <th>유익한 프로그램이 부족하다</th>\n",
       "      <th>이용 절차가 까다롭다</th>\n",
       "      <th>읽고 싶은 책은 사서 읽는다</th>\n",
       "      <th>읽을 만한 책이 없다</th>\n",
       "      <th>주로 학교도서관을 이용한다</th>\n",
       "      <th>집에서 멀다</th>\n",
       "      <th>책을 잘 읽지 않는다</th>\n",
       "      <th>책이 낡고, 시설이 쾌적하지 않다</th>\n",
       "      <th>학업 등의 이유로 바빠서 이용할 시간이 없다</th>\n",
       "    </tr>\n",
       "    <tr>\n",
       "      <th>연도</th>\n",
       "      <th></th>\n",
       "      <th></th>\n",
       "      <th></th>\n",
       "      <th></th>\n",
       "      <th></th>\n",
       "      <th></th>\n",
       "      <th></th>\n",
       "      <th></th>\n",
       "      <th></th>\n",
       "      <th></th>\n",
       "      <th></th>\n",
       "      <th></th>\n",
       "      <th></th>\n",
       "      <th></th>\n",
       "      <th></th>\n",
       "    </tr>\n",
       "  </thead>\n",
       "  <tbody>\n",
       "    <tr>\n",
       "      <th>2017</th>\n",
       "      <td>289.0</td>\n",
       "      <td>0.0</td>\n",
       "      <td>23.0</td>\n",
       "      <td>9.0</td>\n",
       "      <td>0.0</td>\n",
       "      <td>34.0</td>\n",
       "      <td>6.0</td>\n",
       "      <td>16.0</td>\n",
       "      <td>0.0</td>\n",
       "      <td>81.0</td>\n",
       "      <td>101.0</td>\n",
       "      <td>380.0</td>\n",
       "      <td>0.0</td>\n",
       "      <td>18.0</td>\n",
       "      <td>195.0</td>\n",
       "    </tr>\n",
       "    <tr>\n",
       "      <th>2019</th>\n",
       "      <td>81.0</td>\n",
       "      <td>2.0</td>\n",
       "      <td>13.0</td>\n",
       "      <td>0.0</td>\n",
       "      <td>24.0</td>\n",
       "      <td>0.0</td>\n",
       "      <td>3.0</td>\n",
       "      <td>31.0</td>\n",
       "      <td>90.0</td>\n",
       "      <td>0.0</td>\n",
       "      <td>159.0</td>\n",
       "      <td>399.0</td>\n",
       "      <td>0.0</td>\n",
       "      <td>107.0</td>\n",
       "      <td>284.0</td>\n",
       "    </tr>\n",
       "    <tr>\n",
       "      <th>2021</th>\n",
       "      <td>0.0</td>\n",
       "      <td>2.0</td>\n",
       "      <td>0.0</td>\n",
       "      <td>0.0</td>\n",
       "      <td>0.0</td>\n",
       "      <td>162.0</td>\n",
       "      <td>2.0</td>\n",
       "      <td>28.0</td>\n",
       "      <td>179.0</td>\n",
       "      <td>45.0</td>\n",
       "      <td>126.0</td>\n",
       "      <td>404.0</td>\n",
       "      <td>512.0</td>\n",
       "      <td>10.0</td>\n",
       "      <td>350.0</td>\n",
       "    </tr>\n",
       "  </tbody>\n",
       "</table>\n",
       "</div>"
      ],
      "text/plain": [
       "     비이용 이유                                                                    \\\n",
       "         기타 독서 상담이나 안내자가 안 계신다   무응답 앉을 자리가 없다    없음 원하는 책이 없다 유익한 프로그램이 부족하다   \n",
       "연도                                                                              \n",
       "2017  289.0                0.0  23.0       9.0   0.0      34.0            6.0   \n",
       "2019   81.0                2.0  13.0       0.0  24.0       0.0            3.0   \n",
       "2021    0.0                2.0   0.0       0.0   0.0     162.0            2.0   \n",
       "\n",
       "                                                                    \\\n",
       "     이용 절차가 까다롭다 읽고 싶은 책은 사서 읽는다 읽을 만한 책이 없다 주로 학교도서관을 이용한다 집에서 멀다   \n",
       "연도                                                                   \n",
       "2017        16.0             0.0        81.0          101.0  380.0   \n",
       "2019        31.0            90.0         0.0          159.0  399.0   \n",
       "2021        28.0           179.0        45.0          126.0  404.0   \n",
       "\n",
       "                                                              \n",
       "     책을 잘 읽지 않는다 책이 낡고, 시설이 쾌적하지 않다 학업 등의 이유로 바빠서 이용할 시간이 없다  \n",
       "연도                                                            \n",
       "2017         0.0               18.0                    195.0  \n",
       "2019         0.0              107.0                    284.0  \n",
       "2021       512.0               10.0                    350.0  "
      ]
     },
     "execution_count": 196,
     "metadata": {},
     "output_type": "execute_result"
    }
   ],
   "source": [
    "reason_not_rank.fillna(0,inplace=True)\n",
    "reason_not_rank"
   ]
  },
  {
   "cell_type": "markdown",
   "id": "32c76d2a",
   "metadata": {
    "scrolled": false
   },
   "source": [
    "- 백분율로 확인하기"
   ]
  },
  {
   "cell_type": "code",
   "execution_count": 197,
   "id": "37279ff1",
   "metadata": {
    "scrolled": false
   },
   "outputs": [
    {
     "data": {
      "text/html": [
       "<div>\n",
       "<style scoped>\n",
       "    .dataframe tbody tr th:only-of-type {\n",
       "        vertical-align: middle;\n",
       "    }\n",
       "\n",
       "    .dataframe tbody tr th {\n",
       "        vertical-align: top;\n",
       "    }\n",
       "\n",
       "    .dataframe thead tr th {\n",
       "        text-align: left;\n",
       "    }\n",
       "\n",
       "    .dataframe thead tr:last-of-type th {\n",
       "        text-align: right;\n",
       "    }\n",
       "</style>\n",
       "<table border=\"1\" class=\"dataframe\">\n",
       "  <thead>\n",
       "    <tr>\n",
       "      <th></th>\n",
       "      <th colspan=\"15\" halign=\"left\">비이용 이유</th>\n",
       "    </tr>\n",
       "    <tr>\n",
       "      <th></th>\n",
       "      <th>기타</th>\n",
       "      <th>독서 상담이나 안내자가 안 계신다</th>\n",
       "      <th>무응답</th>\n",
       "      <th>앉을 자리가 없다</th>\n",
       "      <th>없음</th>\n",
       "      <th>원하는 책이 없다</th>\n",
       "      <th>유익한 프로그램이 부족하다</th>\n",
       "      <th>이용 절차가 까다롭다</th>\n",
       "      <th>읽고 싶은 책은 사서 읽는다</th>\n",
       "      <th>읽을 만한 책이 없다</th>\n",
       "      <th>주로 학교도서관을 이용한다</th>\n",
       "      <th>집에서 멀다</th>\n",
       "      <th>책을 잘 읽지 않는다</th>\n",
       "      <th>책이 낡고, 시설이 쾌적하지 않다</th>\n",
       "      <th>학업 등의 이유로 바빠서 이용할 시간이 없다</th>\n",
       "    </tr>\n",
       "    <tr>\n",
       "      <th>연도</th>\n",
       "      <th></th>\n",
       "      <th></th>\n",
       "      <th></th>\n",
       "      <th></th>\n",
       "      <th></th>\n",
       "      <th></th>\n",
       "      <th></th>\n",
       "      <th></th>\n",
       "      <th></th>\n",
       "      <th></th>\n",
       "      <th></th>\n",
       "      <th></th>\n",
       "      <th></th>\n",
       "      <th></th>\n",
       "      <th></th>\n",
       "    </tr>\n",
       "  </thead>\n",
       "  <tbody>\n",
       "    <tr>\n",
       "      <th>2017</th>\n",
       "      <td>25.1</td>\n",
       "      <td>0.0</td>\n",
       "      <td>2.0</td>\n",
       "      <td>0.8</td>\n",
       "      <td>0.0</td>\n",
       "      <td>3.0</td>\n",
       "      <td>0.5</td>\n",
       "      <td>1.4</td>\n",
       "      <td>0.0</td>\n",
       "      <td>7.0</td>\n",
       "      <td>8.8</td>\n",
       "      <td>33.0</td>\n",
       "      <td>0.0</td>\n",
       "      <td>1.6</td>\n",
       "      <td>16.9</td>\n",
       "    </tr>\n",
       "    <tr>\n",
       "      <th>2019</th>\n",
       "      <td>6.8</td>\n",
       "      <td>0.2</td>\n",
       "      <td>1.1</td>\n",
       "      <td>0.0</td>\n",
       "      <td>2.0</td>\n",
       "      <td>0.0</td>\n",
       "      <td>0.3</td>\n",
       "      <td>2.6</td>\n",
       "      <td>7.5</td>\n",
       "      <td>0.0</td>\n",
       "      <td>13.3</td>\n",
       "      <td>33.4</td>\n",
       "      <td>0.0</td>\n",
       "      <td>9.0</td>\n",
       "      <td>23.8</td>\n",
       "    </tr>\n",
       "    <tr>\n",
       "      <th>2021</th>\n",
       "      <td>0.0</td>\n",
       "      <td>0.1</td>\n",
       "      <td>0.0</td>\n",
       "      <td>0.0</td>\n",
       "      <td>0.0</td>\n",
       "      <td>8.9</td>\n",
       "      <td>0.1</td>\n",
       "      <td>1.5</td>\n",
       "      <td>9.8</td>\n",
       "      <td>2.5</td>\n",
       "      <td>6.9</td>\n",
       "      <td>22.2</td>\n",
       "      <td>28.1</td>\n",
       "      <td>0.5</td>\n",
       "      <td>19.2</td>\n",
       "    </tr>\n",
       "  </tbody>\n",
       "</table>\n",
       "</div>"
      ],
      "text/plain": [
       "     비이용 이유                                                                  \\\n",
       "         기타 독서 상담이나 안내자가 안 계신다  무응답 앉을 자리가 없다   없음 원하는 책이 없다 유익한 프로그램이 부족하다   \n",
       "연도                                                                            \n",
       "2017   25.1                0.0  2.0       0.8  0.0       3.0            0.5   \n",
       "2019    6.8                0.2  1.1       0.0  2.0       0.0            0.3   \n",
       "2021    0.0                0.1  0.0       0.0  0.0       8.9            0.1   \n",
       "\n",
       "                                                                    \\\n",
       "     이용 절차가 까다롭다 읽고 싶은 책은 사서 읽는다 읽을 만한 책이 없다 주로 학교도서관을 이용한다 집에서 멀다   \n",
       "연도                                                                   \n",
       "2017         1.4             0.0         7.0            8.8   33.0   \n",
       "2019         2.6             7.5         0.0           13.3   33.4   \n",
       "2021         1.5             9.8         2.5            6.9   22.2   \n",
       "\n",
       "                                                              \n",
       "     책을 잘 읽지 않는다 책이 낡고, 시설이 쾌적하지 않다 학업 등의 이유로 바빠서 이용할 시간이 없다  \n",
       "연도                                                            \n",
       "2017         0.0                1.6                     16.9  \n",
       "2019         0.0                9.0                     23.8  \n",
       "2021        28.1                0.5                     19.2  "
      ]
     },
     "execution_count": 197,
     "metadata": {},
     "output_type": "execute_result"
    }
   ],
   "source": [
    "reason_not_rank_col = reason_not_rank.columns\n",
    "reason_not_rank = reason_not_rank.div(reason_not_rank[reason_not_rank_col].sum(axis = 1),axis = 0).round(3)*100\n",
    "reason_not_rank"
   ]
  },
  {
   "cell_type": "markdown",
   "id": "dddb754e",
   "metadata": {},
   "source": [
    "- 2017년, 2019년 도서관을 이용하지 않는 이유는 **집에서 멀다**가 약 33%로 가장 높다.\n",
    "\n",
    "\n",
    "- 2021년에는 **책을 잘 읽지 않는다**는 이유가 1위를 차지했지만, **집에서 멀다**는 이유가 2위로 여전히 높다."
   ]
  },
  {
   "cell_type": "markdown",
   "id": "babd19d0",
   "metadata": {},
   "source": [
    "## 5) 도서 선택시 이용 정보, 도서 입수경로"
   ]
  },
  {
   "cell_type": "markdown",
   "id": "d474a917",
   "metadata": {},
   "source": [
    "### 도서 선택시 이용 정보"
   ]
  },
  {
   "cell_type": "markdown",
   "id": "f4f46ff4",
   "metadata": {},
   "source": [
    "- 필요한 컬럼값 추출"
   ]
  },
  {
   "cell_type": "code",
   "execution_count": 198,
   "id": "2b562657",
   "metadata": {},
   "outputs": [],
   "source": [
    "book_stu = total_stu.loc[:,['연도','도서 선택시 이용정보1','도서 선택시 이용정보2', '도서 입수경로1', '도서 입수경로2']]"
   ]
  },
  {
   "cell_type": "markdown",
   "id": "7514a8f0",
   "metadata": {},
   "source": [
    "- 연도별 그룹화 : groupby()"
   ]
  },
  {
   "cell_type": "code",
   "execution_count": 199,
   "id": "cdde27d4",
   "metadata": {},
   "outputs": [],
   "source": [
    "stu_year = book_stu.groupby('연도')"
   ]
  },
  {
   "cell_type": "markdown",
   "id": "af51412d",
   "metadata": {},
   "source": [
    "- 함수 정의 : 도서 선택 시 이용하는 정보 1순위에 가중치 2를 부여, 합산한 값 구하기"
   ]
  },
  {
   "cell_type": "code",
   "execution_count": 204,
   "id": "702b98aa",
   "metadata": {},
   "outputs": [],
   "source": [
    "def func_book_info (gr) :\n",
    "    gr.replace({9:np.nan,0:np.nan},inplace=True)\n",
    "    gr.dropna(how='any',inplace=True)\n",
    "    return gr['도서 선택시 이용정보1'].value_counts()*2 + gr['도서 선택시 이용정보2'].value_counts()"
   ]
  },
  {
   "cell_type": "markdown",
   "id": "7722fe6e",
   "metadata": {},
   "source": [
    "- 그룹화에 함수 적용"
   ]
  },
  {
   "cell_type": "code",
   "execution_count": 205,
   "id": "faffea98",
   "metadata": {},
   "outputs": [
    {
     "data": {
      "text/html": [
       "<div>\n",
       "<style scoped>\n",
       "    .dataframe tbody tr th:only-of-type {\n",
       "        vertical-align: middle;\n",
       "    }\n",
       "\n",
       "    .dataframe tbody tr th {\n",
       "        vertical-align: top;\n",
       "    }\n",
       "\n",
       "    .dataframe thead th {\n",
       "        text-align: right;\n",
       "    }\n",
       "</style>\n",
       "<table border=\"1\" class=\"dataframe\">\n",
       "  <thead>\n",
       "    <tr style=\"text-align: right;\">\n",
       "      <th></th>\n",
       "      <th>SNS 책 소개</th>\n",
       "      <th>가족, 선생님, 친구 추천</th>\n",
       "      <th>각종 기관의 추천도서</th>\n",
       "      <th>기타</th>\n",
       "      <th>드라마, 영화의 원작</th>\n",
       "      <th>베스트셀러</th>\n",
       "      <th>서점, 도서관 등에서 책을 직접 보고</th>\n",
       "      <th>신문이나 잡지의 책 소개, 광고</th>\n",
       "      <th>유명인, 전문가 추천</th>\n",
       "      <th>유튜브, 책방송 팟캐스트의 책 소개</th>\n",
       "      <th>인터넷의 책 소개, 광고</th>\n",
       "      <th>텔레비전이나 라디오의 책 소개, 광고</th>\n",
       "    </tr>\n",
       "    <tr>\n",
       "      <th>연도</th>\n",
       "      <th></th>\n",
       "      <th></th>\n",
       "      <th></th>\n",
       "      <th></th>\n",
       "      <th></th>\n",
       "      <th></th>\n",
       "      <th></th>\n",
       "      <th></th>\n",
       "      <th></th>\n",
       "      <th></th>\n",
       "      <th></th>\n",
       "      <th></th>\n",
       "    </tr>\n",
       "  </thead>\n",
       "  <tbody>\n",
       "    <tr>\n",
       "      <th>2017</th>\n",
       "      <td>462</td>\n",
       "      <td>1257</td>\n",
       "      <td>404</td>\n",
       "      <td>282</td>\n",
       "      <td>553</td>\n",
       "      <td>750</td>\n",
       "      <td>2615</td>\n",
       "      <td>191</td>\n",
       "      <td>218</td>\n",
       "      <td>16</td>\n",
       "      <td>583</td>\n",
       "      <td>220</td>\n",
       "    </tr>\n",
       "    <tr>\n",
       "      <th>2019</th>\n",
       "      <td>698</td>\n",
       "      <td>1175</td>\n",
       "      <td>390</td>\n",
       "      <td>257</td>\n",
       "      <td>579</td>\n",
       "      <td>820</td>\n",
       "      <td>2538</td>\n",
       "      <td>168</td>\n",
       "      <td>204</td>\n",
       "      <td>364</td>\n",
       "      <td>626</td>\n",
       "      <td>269</td>\n",
       "    </tr>\n",
       "    <tr>\n",
       "      <th>2021</th>\n",
       "      <td>651</td>\n",
       "      <td>1343</td>\n",
       "      <td>452</td>\n",
       "      <td>321</td>\n",
       "      <td>577</td>\n",
       "      <td>965</td>\n",
       "      <td>2451</td>\n",
       "      <td>180</td>\n",
       "      <td>248</td>\n",
       "      <td>365</td>\n",
       "      <td>759</td>\n",
       "      <td>211</td>\n",
       "    </tr>\n",
       "  </tbody>\n",
       "</table>\n",
       "</div>"
      ],
      "text/plain": [
       "      SNS 책 소개  가족, 선생님, 친구 추천  각종 기관의 추천도서   기타  드라마, 영화의 원작  베스트셀러  \\\n",
       "연도                                                                     \n",
       "2017       462            1257          404  282          553    750   \n",
       "2019       698            1175          390  257          579    820   \n",
       "2021       651            1343          452  321          577    965   \n",
       "\n",
       "      서점, 도서관 등에서 책을 직접 보고  신문이나 잡지의 책 소개, 광고  유명인, 전문가 추천  \\\n",
       "연도                                                           \n",
       "2017                  2615                191          218   \n",
       "2019                  2538                168          204   \n",
       "2021                  2451                180          248   \n",
       "\n",
       "      유튜브, 책방송 팟캐스트의 책 소개  인터넷의 책 소개, 광고  텔레비전이나 라디오의 책 소개, 광고  \n",
       "연도                                                              \n",
       "2017                   16            583                   220  \n",
       "2019                  364            626                   269  \n",
       "2021                  365            759                   211  "
      ]
     },
     "execution_count": 205,
     "metadata": {},
     "output_type": "execute_result"
    }
   ],
   "source": [
    "book_info_rank = stu_year.apply(func_book_info)\n",
    "book_info_rank"
   ]
  },
  {
   "cell_type": "markdown",
   "id": "58e96089",
   "metadata": {
    "scrolled": false
   },
   "source": [
    "- 백분율로 확인하기"
   ]
  },
  {
   "cell_type": "code",
   "execution_count": 206,
   "id": "8fa421ff",
   "metadata": {
    "scrolled": false
   },
   "outputs": [
    {
     "data": {
      "text/html": [
       "<div>\n",
       "<style scoped>\n",
       "    .dataframe tbody tr th:only-of-type {\n",
       "        vertical-align: middle;\n",
       "    }\n",
       "\n",
       "    .dataframe tbody tr th {\n",
       "        vertical-align: top;\n",
       "    }\n",
       "\n",
       "    .dataframe thead th {\n",
       "        text-align: right;\n",
       "    }\n",
       "</style>\n",
       "<table border=\"1\" class=\"dataframe\">\n",
       "  <thead>\n",
       "    <tr style=\"text-align: right;\">\n",
       "      <th></th>\n",
       "      <th>SNS 책 소개</th>\n",
       "      <th>가족, 선생님, 친구 추천</th>\n",
       "      <th>각종 기관의 추천도서</th>\n",
       "      <th>기타</th>\n",
       "      <th>드라마, 영화의 원작</th>\n",
       "      <th>베스트셀러</th>\n",
       "      <th>서점, 도서관 등에서 책을 직접 보고</th>\n",
       "      <th>신문이나 잡지의 책 소개, 광고</th>\n",
       "      <th>유명인, 전문가 추천</th>\n",
       "      <th>유튜브, 책방송 팟캐스트의 책 소개</th>\n",
       "      <th>인터넷의 책 소개, 광고</th>\n",
       "      <th>텔레비전이나 라디오의 책 소개, 광고</th>\n",
       "    </tr>\n",
       "    <tr>\n",
       "      <th>연도</th>\n",
       "      <th></th>\n",
       "      <th></th>\n",
       "      <th></th>\n",
       "      <th></th>\n",
       "      <th></th>\n",
       "      <th></th>\n",
       "      <th></th>\n",
       "      <th></th>\n",
       "      <th></th>\n",
       "      <th></th>\n",
       "      <th></th>\n",
       "      <th></th>\n",
       "    </tr>\n",
       "  </thead>\n",
       "  <tbody>\n",
       "    <tr>\n",
       "      <th>2017</th>\n",
       "      <td>6.1</td>\n",
       "      <td>16.6</td>\n",
       "      <td>5.4</td>\n",
       "      <td>3.7</td>\n",
       "      <td>7.3</td>\n",
       "      <td>9.9</td>\n",
       "      <td>34.6</td>\n",
       "      <td>2.5</td>\n",
       "      <td>2.9</td>\n",
       "      <td>0.2</td>\n",
       "      <td>7.7</td>\n",
       "      <td>2.9</td>\n",
       "    </tr>\n",
       "    <tr>\n",
       "      <th>2019</th>\n",
       "      <td>8.6</td>\n",
       "      <td>14.5</td>\n",
       "      <td>4.8</td>\n",
       "      <td>3.2</td>\n",
       "      <td>7.2</td>\n",
       "      <td>10.1</td>\n",
       "      <td>31.4</td>\n",
       "      <td>2.1</td>\n",
       "      <td>2.5</td>\n",
       "      <td>4.5</td>\n",
       "      <td>7.7</td>\n",
       "      <td>3.3</td>\n",
       "    </tr>\n",
       "    <tr>\n",
       "      <th>2021</th>\n",
       "      <td>7.6</td>\n",
       "      <td>15.8</td>\n",
       "      <td>5.3</td>\n",
       "      <td>3.8</td>\n",
       "      <td>6.8</td>\n",
       "      <td>11.3</td>\n",
       "      <td>28.8</td>\n",
       "      <td>2.1</td>\n",
       "      <td>2.9</td>\n",
       "      <td>4.3</td>\n",
       "      <td>8.9</td>\n",
       "      <td>2.5</td>\n",
       "    </tr>\n",
       "  </tbody>\n",
       "</table>\n",
       "</div>"
      ],
      "text/plain": [
       "      SNS 책 소개  가족, 선생님, 친구 추천  각종 기관의 추천도서   기타  드라마, 영화의 원작  베스트셀러  \\\n",
       "연도                                                                     \n",
       "2017       6.1            16.6          5.4  3.7          7.3    9.9   \n",
       "2019       8.6            14.5          4.8  3.2          7.2   10.1   \n",
       "2021       7.6            15.8          5.3  3.8          6.8   11.3   \n",
       "\n",
       "      서점, 도서관 등에서 책을 직접 보고  신문이나 잡지의 책 소개, 광고  유명인, 전문가 추천  \\\n",
       "연도                                                           \n",
       "2017                  34.6                2.5          2.9   \n",
       "2019                  31.4                2.1          2.5   \n",
       "2021                  28.8                2.1          2.9   \n",
       "\n",
       "      유튜브, 책방송 팟캐스트의 책 소개  인터넷의 책 소개, 광고  텔레비전이나 라디오의 책 소개, 광고  \n",
       "연도                                                              \n",
       "2017                  0.2            7.7                   2.9  \n",
       "2019                  4.5            7.7                   3.3  \n",
       "2021                  4.3            8.9                   2.5  "
      ]
     },
     "execution_count": 206,
     "metadata": {},
     "output_type": "execute_result"
    }
   ],
   "source": [
    "book_info_rank_col = book_info_rank.columns\n",
    "book_info_rank = book_info_rank.div(book_info_rank[book_info_rank_col].sum(axis = 1),axis = 0).round(3)*100\n",
    "book_info_rank"
   ]
  },
  {
   "cell_type": "markdown",
   "id": "37564331",
   "metadata": {},
   "source": [
    "- 3년 모두 **서점, 도서관 등에서 책을 직접 보고** 결정하는 비율이 가장 높다."
   ]
  },
  {
   "cell_type": "markdown",
   "id": "3e50b631",
   "metadata": {},
   "source": [
    "### 도서 입수 경로"
   ]
  },
  {
   "cell_type": "markdown",
   "id": "b332e12f",
   "metadata": {},
   "source": [
    "- 함수 정의 : 도서 입수 경로 1순위에 가중치 2를 부여, 합산한 값 구하기"
   ]
  },
  {
   "cell_type": "code",
   "execution_count": 220,
   "id": "31505383",
   "metadata": {},
   "outputs": [],
   "source": [
    "def func_book_get (gr) :\n",
    "    gr.replace({9:np.nan,0:np.nan},inplace = True)\n",
    "    gr.dropna(how='any',inplace=True)\n",
    "    return gr['도서 입수경로1'].value_counts()*2 + gr['도서 입수경로2'].value_counts()"
   ]
  },
  {
   "cell_type": "markdown",
   "id": "1657c7dc",
   "metadata": {},
   "source": [
    "- 그룹화에 함수 적용"
   ]
  },
  {
   "cell_type": "code",
   "execution_count": 221,
   "id": "9d00458a",
   "metadata": {},
   "outputs": [],
   "source": [
    "book_get_rank = stu_year.apply(func_book_get)\n",
    "book_get_rank = pd.DataFrame(book_get_rank)"
   ]
  },
  {
   "cell_type": "markdown",
   "id": "a3cd7387",
   "metadata": {},
   "source": [
    "- 행인덱스 레벨 해제"
   ]
  },
  {
   "cell_type": "code",
   "execution_count": 222,
   "id": "7cf8b023",
   "metadata": {},
   "outputs": [],
   "source": [
    "book_get_rank = book_get_rank.unstack(level=1)"
   ]
  },
  {
   "cell_type": "markdown",
   "id": "59c28bd5",
   "metadata": {},
   "source": [
    "- 결측치 처리"
   ]
  },
  {
   "cell_type": "code",
   "execution_count": 223,
   "id": "f2faa2fa",
   "metadata": {},
   "outputs": [],
   "source": [
    "book_get_rank.fillna(0,inplace=True)"
   ]
  },
  {
   "cell_type": "markdown",
   "id": "52cc0cf2",
   "metadata": {},
   "source": [
    "- 다중인덱스 특정 레벨 제거"
   ]
  },
  {
   "cell_type": "code",
   "execution_count": 224,
   "id": "dcefc3b5",
   "metadata": {},
   "outputs": [],
   "source": [
    "book_get_rank = book_get_rank.droplevel(level=0,axis=1)"
   ]
  },
  {
   "cell_type": "markdown",
   "id": "c5e5a3ce",
   "metadata": {
    "scrolled": false
   },
   "source": [
    "- 백분율로 확인하기"
   ]
  },
  {
   "cell_type": "code",
   "execution_count": 225,
   "id": "b47759a7",
   "metadata": {
    "scrolled": false
   },
   "outputs": [
    {
     "data": {
      "text/html": [
       "<div>\n",
       "<style scoped>\n",
       "    .dataframe tbody tr th:only-of-type {\n",
       "        vertical-align: middle;\n",
       "    }\n",
       "\n",
       "    .dataframe tbody tr th {\n",
       "        vertical-align: top;\n",
       "    }\n",
       "\n",
       "    .dataframe thead th {\n",
       "        text-align: right;\n",
       "    }\n",
       "</style>\n",
       "<table border=\"1\" class=\"dataframe\">\n",
       "  <thead>\n",
       "    <tr style=\"text-align: right;\">\n",
       "      <th></th>\n",
       "      <th>구입하지 않고 서점에서 독서</th>\n",
       "      <th>기타</th>\n",
       "      <th>도서 대여점에서 대여</th>\n",
       "      <th>부모님께서 구입</th>\n",
       "      <th>선물받은 책</th>\n",
       "      <th>주위 사람에게 대여</th>\n",
       "      <th>직접 구입</th>\n",
       "      <th>집에 있는 책</th>\n",
       "      <th>학교 도서관 대여</th>\n",
       "      <th>학교 밖 도서관 대여</th>\n",
       "    </tr>\n",
       "    <tr>\n",
       "      <th>연도</th>\n",
       "      <th></th>\n",
       "      <th></th>\n",
       "      <th></th>\n",
       "      <th></th>\n",
       "      <th></th>\n",
       "      <th></th>\n",
       "      <th></th>\n",
       "      <th></th>\n",
       "      <th></th>\n",
       "      <th></th>\n",
       "    </tr>\n",
       "  </thead>\n",
       "  <tbody>\n",
       "    <tr>\n",
       "      <th>2017</th>\n",
       "      <td>2.5</td>\n",
       "      <td>1.8</td>\n",
       "      <td>2.8</td>\n",
       "      <td>10.8</td>\n",
       "      <td>0.0</td>\n",
       "      <td>5.9</td>\n",
       "      <td>25.4</td>\n",
       "      <td>15.7</td>\n",
       "      <td>23.4</td>\n",
       "      <td>11.7</td>\n",
       "    </tr>\n",
       "    <tr>\n",
       "      <th>2019</th>\n",
       "      <td>2.2</td>\n",
       "      <td>1.2</td>\n",
       "      <td>2.3</td>\n",
       "      <td>10.0</td>\n",
       "      <td>0.0</td>\n",
       "      <td>4.6</td>\n",
       "      <td>27.3</td>\n",
       "      <td>15.9</td>\n",
       "      <td>24.0</td>\n",
       "      <td>12.4</td>\n",
       "    </tr>\n",
       "    <tr>\n",
       "      <th>2021</th>\n",
       "      <td>0.0</td>\n",
       "      <td>2.4</td>\n",
       "      <td>0.0</td>\n",
       "      <td>14.0</td>\n",
       "      <td>2.2</td>\n",
       "      <td>4.6</td>\n",
       "      <td>31.4</td>\n",
       "      <td>17.9</td>\n",
       "      <td>15.9</td>\n",
       "      <td>11.5</td>\n",
       "    </tr>\n",
       "  </tbody>\n",
       "</table>\n",
       "</div>"
      ],
      "text/plain": [
       "      구입하지 않고 서점에서 독서   기타  도서 대여점에서 대여  부모님께서 구입  선물받은 책  주위 사람에게 대여  직접 구입  \\\n",
       "연도                                                                             \n",
       "2017              2.5  1.8          2.8      10.8     0.0         5.9   25.4   \n",
       "2019              2.2  1.2          2.3      10.0     0.0         4.6   27.3   \n",
       "2021              0.0  2.4          0.0      14.0     2.2         4.6   31.4   \n",
       "\n",
       "      집에 있는 책  학교 도서관 대여  학교 밖 도서관 대여  \n",
       "연도                                     \n",
       "2017     15.7       23.4         11.7  \n",
       "2019     15.9       24.0         12.4  \n",
       "2021     17.9       15.9         11.5  "
      ]
     },
     "execution_count": 225,
     "metadata": {},
     "output_type": "execute_result"
    }
   ],
   "source": [
    "book_get_rank_col = book_get_rank.columns\n",
    "book_get_rank = book_get_rank.div(book_get_rank[book_get_rank_col].sum(axis = 1),axis = 0).round(3)*100\n",
    "book_get_rank"
   ]
  },
  {
   "cell_type": "markdown",
   "id": "b1dba1e2",
   "metadata": {},
   "source": [
    "- 2017년, 2019년은 **직접 구입 > 학교 도서관 > 집에 있는 책** 순으로 도서를 입수하는 비율이 높다.\n",
    "\n",
    "\n",
    "- 매년 책을 **직접 구입**하여 읽는 비율이 가장 높다."
   ]
  },
  {
   "cell_type": "markdown",
   "id": "91b4be57",
   "metadata": {},
   "source": [
    "- 필요한 컬럼값 추출"
   ]
  },
  {
   "cell_type": "markdown",
   "id": "93a1a502",
   "metadata": {},
   "source": [
    "- 연도별 그룹화 : groupby()"
   ]
  },
  {
   "cell_type": "markdown",
   "id": "013b7a48",
   "metadata": {},
   "source": [
    "- 함수 정의 : 도서 선택 시 이용하는 정보 1순위에 가중치 2를 부여, 합산한 값 구하기"
   ]
  },
  {
   "cell_type": "markdown",
   "id": "c1d6e49c",
   "metadata": {},
   "source": [
    "- 그룹화에 함수 적용"
   ]
  },
  {
   "cell_type": "markdown",
   "id": "7ed9e044",
   "metadata": {
    "scrolled": false
   },
   "source": [
    "- 백분율로 확인하기"
   ]
  },
  {
   "cell_type": "markdown",
   "id": "aa53f4bd",
   "metadata": {},
   "source": [
    "- 도서관을 이용하는 이유의 빈도를 구하는 함수 정의"
   ]
  },
  {
   "cell_type": "markdown",
   "id": "2acc0958",
   "metadata": {},
   "source": [
    "- 빈도 측정 : value_counts()"
   ]
  },
  {
   "cell_type": "markdown",
   "id": "923e9d06",
   "metadata": {},
   "source": [
    "- 데이터 값 확인"
   ]
  },
  {
   "cell_type": "markdown",
   "id": "a5bf0211",
   "metadata": {},
   "source": [
    "- 필요한 컬럼값 추출"
   ]
  },
  {
   "cell_type": "markdown",
   "id": "8509d3fb",
   "metadata": {},
   "source": [
    "- df.index.unique(), df.value_counts() 사용\n",
    "- 다중인덱스를 가진 데이터 프레임으로 출력"
   ]
  }
 ],
 "metadata": {
  "kernelspec": {
   "display_name": "Python 3 (ipykernel)",
   "language": "python",
   "name": "python3"
  },
  "language_info": {
   "codemirror_mode": {
    "name": "ipython",
    "version": 3
   },
   "file_extension": ".py",
   "mimetype": "text/x-python",
   "name": "python",
   "nbconvert_exporter": "python",
   "pygments_lexer": "ipython3",
   "version": "3.9.13"
  }
 },
 "nbformat": 4,
 "nbformat_minor": 5
}

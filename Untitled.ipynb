{
 "cells": [
  {
   "cell_type": "markdown",
   "id": "2c5d0913",
   "metadata": {},
   "source": [
    "- 빈도 측정 : value_counts()"
   ]
  },
  {
   "cell_type": "markdown",
   "id": "dfe0f3d6",
   "metadata": {},
   "source": [
    "- 데이터 값 확인"
   ]
  },
  {
   "cell_type": "markdown",
   "id": "a5bf0211",
   "metadata": {},
   "source": [
    "- 필요한 컬럼값 추출"
   ]
  },
  {
   "cell_type": "markdown",
   "id": "ed012621",
   "metadata": {},
   "source": [
    "- df.index.unique(), df.value_counts() 사용\n",
    "- 다중인덱스를 가진 데이터 프레임으로 출력"
   ]
  }
 ],
 "metadata": {
  "kernelspec": {
   "display_name": "Python 3 (ipykernel)",
   "language": "python",
   "name": "python3"
  },
  "language_info": {
   "codemirror_mode": {
    "name": "ipython",
    "version": 3
   },
   "file_extension": ".py",
   "mimetype": "text/x-python",
   "name": "python",
   "nbconvert_exporter": "python",
   "pygments_lexer": "ipython3",
   "version": "3.9.13"
  }
 },
 "nbformat": 4,
 "nbformat_minor": 5
}

{
 "cells": [
  {
   "cell_type": "markdown",
   "id": "4ebf3d54",
   "metadata": {},
   "source": [
    "# 세미프로젝트_E조(MGP조)"
   ]
  },
  {
   "cell_type": "markdown",
   "id": "c3739c30",
   "metadata": {},
   "source": [
    "## 주제 : <작은 도서관 운영 실태 분석 및 시각화>"
   ]
  },
  {
   "cell_type": "code",
   "execution_count": 1,
   "id": "dd210d08",
   "metadata": {},
   "outputs": [],
   "source": [
    "import pandas as pd\n",
    "import numpy as sns"
   ]
  },
  {
   "cell_type": "code",
   "execution_count": 5,
   "id": "7d16617a",
   "metadata": {},
   "outputs": [
    {
     "name": "stdout",
     "output_type": "stream",
     "text": [
      "   id  code1  type1  code2  type2  area  area25  city  age1  sex  ...  a281  \\\n",
      "0   1     29      1     41      2     1       1     1    52    1  ...   NaN   \n",
      "1   2     29      1     37      2     1       1     1    30    1  ...   NaN   \n",
      "2   3     29      1     31      2     1       1     1    47    2  ...   NaN   \n",
      "3   4     29      1     34      2     1       1     1    42    1  ...   NaN   \n",
      "4   5     29      1     23      2     1       1     1    54    2  ...   NaN   \n",
      "\n",
      "   a291  a292  xa29  edu1  edu2  job  xjob  inc        wt  \n",
      "0   NaN   NaN   NaN     5   1.0    8   NaN    4  1.685111  \n",
      "1   NaN   NaN   NaN     5   1.0    3   NaN    4  1.552768  \n",
      "2   NaN   NaN   NaN     5   1.0   13   NaN    4  1.430842  \n",
      "3   NaN   NaN   NaN     5   1.0    7   NaN    4  1.709064  \n",
      "4   NaN   NaN   NaN     4   1.0    5   NaN    5  1.356241  \n",
      "\n",
      "[5 rows x 211 columns]\n"
     ]
    }
   ],
   "source": [
    "reading_survey_adult = pd.read_excel('data/Reading_survey_adult_2021.xlsx')\n",
    "print(reading_survey_adult.head())"
   ]
  },
  {
   "cell_type": "code",
   "execution_count": null,
   "id": "2e359954",
   "metadata": {},
   "outputs": [],
   "source": [
    "reading"
   ]
  },
  {
   "cell_type": "code",
   "execution_count": null,
   "id": "245e65ee",
   "metadata": {},
   "outputs": [],
   "source": []
  }
 ],
 "metadata": {
  "kernelspec": {
   "display_name": "Python 3 (ipykernel)",
   "language": "python",
   "name": "python3"
  },
  "language_info": {
   "codemirror_mode": {
    "name": "ipython",
    "version": 3
   },
   "file_extension": ".py",
   "mimetype": "text/x-python",
   "name": "python",
   "nbconvert_exporter": "python",
   "pygments_lexer": "ipython3",
   "version": "3.9.13"
  }
 },
 "nbformat": 4,
 "nbformat_minor": 5
}

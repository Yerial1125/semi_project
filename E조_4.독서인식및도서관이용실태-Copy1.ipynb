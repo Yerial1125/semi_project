{
 "cells": [
  {
   "cell_type": "markdown",
   "id": "4b261b82",
   "metadata": {},
   "source": [
    "# 세미프로젝트_E조(MGP조)"
   ]
  },
  {
   "cell_type": "markdown",
   "id": "54683b84",
   "metadata": {},
   "source": [
    "# 4. 독서에 대한 인식 및 도서관 이용실태 파악"
   ]
  },
  {
   "cell_type": "code",
   "execution_count": 1,
   "id": "27ee2ee5",
   "metadata": {},
   "outputs": [],
   "source": [
    "# pandas, numpy 추출\n",
    "import pandas as pd\n",
    "import numpy as np"
   ]
  },
  {
   "cell_type": "code",
   "execution_count": 2,
   "id": "ba1e106c",
   "metadata": {},
   "outputs": [],
   "source": [
    "import warnings\n",
    "warnings.filterwarnings(action='ignore')"
   ]
  },
  {
   "cell_type": "code",
   "execution_count": 3,
   "id": "6fd1ec5e",
   "metadata": {},
   "outputs": [],
   "source": [
    "from IPython.core.interactiveshell import InteractiveShell\n",
    "InteractiveShell.ast_node_interactivity=\"all\""
   ]
  },
  {
   "cell_type": "code",
   "execution_count": 4,
   "id": "0e42e40d",
   "metadata": {},
   "outputs": [],
   "source": [
    "pd.set_option('display.max_columns', 50)\n",
    "pd.set_option('display.max_rows', 50)"
   ]
  },
  {
   "cell_type": "code",
   "execution_count": 5,
   "id": "ed25996d",
   "metadata": {},
   "outputs": [],
   "source": [
    "import matplotlib.pyplot as plt\n",
    "import platform\n",
    "\n",
    "from matplotlib import font_manager, rc\n",
    "plt.rcParams['axes.unicode_minus'] = False\n",
    "\n",
    "if platform.system() == 'Darwin':  # 맥OS \n",
    "    rc('font', family='AppleGothic')\n",
    "elif platform.system() == 'Windows':  # 윈도우\n",
    "    path = \"c:/Windows/Fonts/malgun.ttf\"\n",
    "    font_name = font_manager.FontProperties(fname=path).get_name()\n",
    "    rc('font', family=font_name)\n",
    "else:\n",
    "    print('Unknown system...  sorry~~~')"
   ]
  },
  {
   "cell_type": "markdown",
   "id": "02d54cd7",
   "metadata": {},
   "source": [
    "---------------------------------"
   ]
  },
  {
   "cell_type": "markdown",
   "id": "3aff90db",
   "metadata": {},
   "source": [
    "### - 필요한 데이터 csv파일 불러오기 : pd.read_csv()"
   ]
  },
  {
   "cell_type": "markdown",
   "id": "a128b1f4",
   "metadata": {},
   "source": [
    "- 활용데이터 : <국민독서실태조사> 성인/학생 _ 2017년, 2019년, 2021년"
   ]
  },
  {
   "cell_type": "code",
   "execution_count": 6,
   "id": "5d95a7ea",
   "metadata": {},
   "outputs": [],
   "source": [
    "# csv 파일 불러오기 : pd.read_csv()\n",
    "temp1 = pd.read_csv('data/2017_Stu.csv',encoding='cp949')\n",
    "temp2 = pd.read_csv('data/2019_Stu.csv',encoding='cp949')\n",
    "temp3 = pd.read_csv('data/2021_Stu.csv',encoding='cp949')\n",
    "temp4 = pd.read_csv('data/2017_Adult.csv',encoding='cp949')\n",
    "temp5 = pd.read_csv('data/2019_Adult.csv',encoding='cp949')\n",
    "temp6 = pd.read_csv('data/2021_Adult.csv',encoding='cp949')"
   ]
  },
  {
   "cell_type": "markdown",
   "id": "e176d467",
   "metadata": {},
   "source": [
    "---------------------------------------"
   ]
  },
  {
   "cell_type": "markdown",
   "id": "4ef66873",
   "metadata": {},
   "source": [
    "## ⑤ 통합한 데이터 CSV로 저장 : to_csv()"
   ]
  },
  {
   "cell_type": "code",
   "execution_count": 7,
   "id": "b7379a76",
   "metadata": {},
   "outputs": [],
   "source": [
    "# 2017,2019,2021년 학생 독서실태조사\n",
    "total_stu = pd.read_csv('data/total_stu.csv')"
   ]
  },
  {
   "cell_type": "code",
   "execution_count": 8,
   "id": "91a4ddc9",
   "metadata": {},
   "outputs": [],
   "source": [
    "# 2017,2019,2021년 성인 독서실태조사\n",
    "total_adult = pd.read_csv('data/total_adult.csv')"
   ]
  },
  {
   "cell_type": "code",
   "execution_count": 9,
   "id": "c1b1e96b",
   "metadata": {},
   "outputs": [],
   "source": [
    "# 2021년 성인 코로나 이후 독서 변화\n",
    "Adult_covid_2021 = pd.read_csv('data/adult_covid.csv')"
   ]
  },
  {
   "cell_type": "code",
   "execution_count": 10,
   "id": "e605e85f",
   "metadata": {},
   "outputs": [],
   "source": [
    "# 2021년 학생 코로나 이후 독서 변화\n",
    "Stu_covid_2021 = pd.read_csv('data/stu_covid.csv')"
   ]
  },
  {
   "cell_type": "code",
   "execution_count": 11,
   "id": "243da71b",
   "metadata": {},
   "outputs": [],
   "source": [
    "# 2021년 성인 전자책 독서\n",
    "ebook_adult = pd.read_csv('data/adult_ebook.csv')"
   ]
  },
  {
   "cell_type": "markdown",
   "id": "706948c1",
   "metadata": {},
   "source": [
    "-----------------------------------"
   ]
  },
  {
   "cell_type": "markdown",
   "id": "87bc6d3c",
   "metadata": {},
   "source": [
    "-----------------------------------"
   ]
  },
  {
   "cell_type": "markdown",
   "id": "d85b555f",
   "metadata": {},
   "source": [
    "-----------------------------------"
   ]
  },
  {
   "cell_type": "markdown",
   "id": "62425470",
   "metadata": {},
   "source": [
    "# 2) 데이터 분석(EDA)"
   ]
  },
  {
   "cell_type": "markdown",
   "id": "1543b544",
   "metadata": {},
   "source": [
    "- 이하의 데이터 통계 결과는 표본조사에 따른 가중치를 계산하지 않은 단순 통계로, 통계청 제공 결과와 다를 수 있습니다."
   ]
  },
  {
   "cell_type": "markdown",
   "id": "8930e8a8",
   "metadata": {},
   "source": [
    "---------------------"
   ]
  },
  {
   "cell_type": "markdown",
   "id": "5794f0cd",
   "metadata": {},
   "source": [
    "## 분석 항목"
   ]
  },
  {
   "cell_type": "markdown",
   "id": "3e31fe9b",
   "metadata": {},
   "source": [
    "### ① 학생들의 도서관 이용 분석\n",
    "- 전국에서 학교 밖 도서관 이용률이 가장 높은 지역은 어디인가?\n",
    "- 전국에서 월 평균/연 평균 학교 밖 도서관 이용빈도가 가장 높은 지역은 어디인가?\n",
    "- 학생들이 주로 이용하는 도서관 종류는 무엇인가?\n",
    "- 학생들이 학교 밖 도서관을 이용하는 이유 또는 이용하지 않는 이유는 무엇인가?\n",
    "- 학생들이 도서 선택시 이용하는 정보와 도서 입수 경로는 무엇인가? \n",
    "\n",
    "### ② 성인들의 도서관 이용 분석\n",
    "- 전국에서 도서관 이용률이 가장 높은 지역은 어디인가?\n",
    "- 전국에서 월 평균/연 평균 도서관 이용빈도가 가장 높은 지역은 어디인가?\n",
    "- 성인들이 주로 이용하는 도서관 종류는 무엇인가?\n",
    "- 성인들이 도서관을 이용하는 목적 또는 이용하지 않는 이유는 무엇인가?\n",
    "- 성인들이 도서 선택시 이용하는 정보와 도서 입수 경로는 무엇인가? \n",
    "\n",
    "### ③ 학생들의 독서 인식 분석\n",
    "- 학생들의 평균 독서시간의 연도별 변화는 어떠한가?\n",
    "- 학생들이 선호하는 도서 종류 순위는 무엇인가?\n",
    "- 학생들의 주된 독서 장애요인은 무엇인가?\n",
    "\n",
    "### ④ 성인들의 독서 인식 분석\n",
    "- 성인들의 평균 독서시간의 연도별 변화는 어떠한가?\n",
    "- 성인들이 선호하는 도서 종류 순위는 무엇인가?\n",
    "- 성인들이 전자책을 이용하는 이유는 무엇인가?\n",
    "- 성인들의 주된 독서 장애요인은 무엇인가?\n",
    "\n",
    "### ⑤ 코로나 이후 학생, 성인들의 독서생활 변화\n",
    "- 코로나 이후 독서량의 변화는 어떠한가?\n",
    "- 코로나 이후 도서관 또는 전자도서관 이용의 변화는 어떠한가?"
   ]
  },
  {
   "cell_type": "markdown",
   "id": "76447939",
   "metadata": {},
   "source": [
    "---------------------------------------"
   ]
  },
  {
   "cell_type": "markdown",
   "id": "266b3ca1",
   "metadata": {},
   "source": [
    "----------------------------------------"
   ]
  },
  {
   "cell_type": "markdown",
   "id": "1ef26908",
   "metadata": {},
   "source": [
    "# ①학생들의 도서관 이용 분석"
   ]
  },
  {
   "cell_type": "markdown",
   "id": "eebef039",
   "metadata": {},
   "source": [
    "## 1) 지역별 학교 밖 도서관 이용률"
   ]
  },
  {
   "cell_type": "markdown",
   "id": "aa4875e0",
   "metadata": {},
   "source": [
    "- 필요한 컬럼만 추출하여 데이터 프레임 형성"
   ]
  },
  {
   "cell_type": "code",
   "execution_count": 12,
   "id": "9ae95a49",
   "metadata": {
    "scrolled": true
   },
   "outputs": [],
   "source": [
    "area_stu = total_stu.loc[:,['연도','학교 소재지','학교 밖 도서관이용경험','월 평균 이용빈도', '연 평균 이용빈도', '주이용 도서관 종류1', \n",
    "                            '주이용 도서관 종류2', '이용 이유', '비이용 이유']]"
   ]
  },
  {
   "cell_type": "markdown",
   "id": "32a29699",
   "metadata": {
    "scrolled": true
   },
   "source": [
    "- 연도와 학교소재지 다중인덱스 설정 : set_index()"
   ]
  },
  {
   "cell_type": "code",
   "execution_count": 13,
   "id": "32b773bf",
   "metadata": {
    "scrolled": true
   },
   "outputs": [
    {
     "data": {
      "text/html": [
       "<div>\n",
       "<style scoped>\n",
       "    .dataframe tbody tr th:only-of-type {\n",
       "        vertical-align: middle;\n",
       "    }\n",
       "\n",
       "    .dataframe tbody tr th {\n",
       "        vertical-align: top;\n",
       "    }\n",
       "\n",
       "    .dataframe thead th {\n",
       "        text-align: right;\n",
       "    }\n",
       "</style>\n",
       "<table border=\"1\" class=\"dataframe\">\n",
       "  <thead>\n",
       "    <tr style=\"text-align: right;\">\n",
       "      <th></th>\n",
       "      <th></th>\n",
       "      <th>학교 밖 도서관이용경험</th>\n",
       "      <th>월 평균 이용빈도</th>\n",
       "      <th>연 평균 이용빈도</th>\n",
       "      <th>주이용 도서관 종류1</th>\n",
       "      <th>주이용 도서관 종류2</th>\n",
       "      <th>이용 이유</th>\n",
       "      <th>비이용 이유</th>\n",
       "    </tr>\n",
       "    <tr>\n",
       "      <th>연도</th>\n",
       "      <th>학교 소재지</th>\n",
       "      <th></th>\n",
       "      <th></th>\n",
       "      <th></th>\n",
       "      <th></th>\n",
       "      <th></th>\n",
       "      <th></th>\n",
       "      <th></th>\n",
       "    </tr>\n",
       "  </thead>\n",
       "  <tbody>\n",
       "    <tr>\n",
       "      <th rowspan=\"5\" valign=\"top\">2017</th>\n",
       "      <th>서울</th>\n",
       "      <td>없다</td>\n",
       "      <td>0.0</td>\n",
       "      <td>0.0</td>\n",
       "      <td>0</td>\n",
       "      <td>0</td>\n",
       "      <td>0</td>\n",
       "      <td>기타</td>\n",
       "    </tr>\n",
       "    <tr>\n",
       "      <th>서울</th>\n",
       "      <td>있다</td>\n",
       "      <td>0.0</td>\n",
       "      <td>0.0</td>\n",
       "      <td>작은도서관</td>\n",
       "      <td>공공도서관</td>\n",
       "      <td>독서 및 도서 대출</td>\n",
       "      <td>0</td>\n",
       "    </tr>\n",
       "    <tr>\n",
       "      <th>서울</th>\n",
       "      <td>있다</td>\n",
       "      <td>0.0</td>\n",
       "      <td>0.0</td>\n",
       "      <td>어린이도서관</td>\n",
       "      <td>0</td>\n",
       "      <td>행사 참여</td>\n",
       "      <td>0</td>\n",
       "    </tr>\n",
       "    <tr>\n",
       "      <th>서울</th>\n",
       "      <td>있다</td>\n",
       "      <td>0.0</td>\n",
       "      <td>0.0</td>\n",
       "      <td>작은도서관</td>\n",
       "      <td>어린이도서관</td>\n",
       "      <td>숙제에 필요한 자료조사</td>\n",
       "      <td>0</td>\n",
       "    </tr>\n",
       "    <tr>\n",
       "      <th>서울</th>\n",
       "      <td>있다</td>\n",
       "      <td>0.0</td>\n",
       "      <td>0.0</td>\n",
       "      <td>기타</td>\n",
       "      <td>작은도서관</td>\n",
       "      <td>독서 및 도서 대출</td>\n",
       "      <td>0</td>\n",
       "    </tr>\n",
       "    <tr>\n",
       "      <th>...</th>\n",
       "      <th>...</th>\n",
       "      <td>...</td>\n",
       "      <td>...</td>\n",
       "      <td>...</td>\n",
       "      <td>...</td>\n",
       "      <td>...</td>\n",
       "      <td>...</td>\n",
       "      <td>...</td>\n",
       "    </tr>\n",
       "    <tr>\n",
       "      <th rowspan=\"5\" valign=\"top\">2021</th>\n",
       "      <th>충북</th>\n",
       "      <td>없다</td>\n",
       "      <td>0.0</td>\n",
       "      <td>0.0</td>\n",
       "      <td>0</td>\n",
       "      <td>0</td>\n",
       "      <td>0</td>\n",
       "      <td>책을 잘 읽지 않는다</td>\n",
       "    </tr>\n",
       "    <tr>\n",
       "      <th>충북</th>\n",
       "      <td>없다</td>\n",
       "      <td>0.0</td>\n",
       "      <td>0.0</td>\n",
       "      <td>0</td>\n",
       "      <td>0</td>\n",
       "      <td>0</td>\n",
       "      <td>책을 잘 읽지 않는다</td>\n",
       "    </tr>\n",
       "    <tr>\n",
       "      <th>충북</th>\n",
       "      <td>없다</td>\n",
       "      <td>0.0</td>\n",
       "      <td>0.0</td>\n",
       "      <td>0</td>\n",
       "      <td>0</td>\n",
       "      <td>0</td>\n",
       "      <td>책을 잘 읽지 않는다</td>\n",
       "    </tr>\n",
       "    <tr>\n",
       "      <th>충북</th>\n",
       "      <td>없다</td>\n",
       "      <td>0.0</td>\n",
       "      <td>0.0</td>\n",
       "      <td>0</td>\n",
       "      <td>0</td>\n",
       "      <td>0</td>\n",
       "      <td>이용 절차가 까다롭다</td>\n",
       "    </tr>\n",
       "    <tr>\n",
       "      <th>충북</th>\n",
       "      <td>없다</td>\n",
       "      <td>0.0</td>\n",
       "      <td>0.0</td>\n",
       "      <td>0</td>\n",
       "      <td>0</td>\n",
       "      <td>0</td>\n",
       "      <td>집에서 멀다</td>\n",
       "    </tr>\n",
       "  </tbody>\n",
       "</table>\n",
       "<p>9775 rows × 7 columns</p>\n",
       "</div>"
      ],
      "text/plain": [
       "            학교 밖 도서관이용경험  월 평균 이용빈도 연 평균 이용빈도 주이용 도서관 종류1 주이용 도서관 종류2  \\\n",
       "연도   학교 소재지                                                             \n",
       "2017 서울               없다        0.0       0.0           0           0   \n",
       "     서울               있다        0.0       0.0       작은도서관       공공도서관   \n",
       "     서울               있다        0.0       0.0      어린이도서관           0   \n",
       "     서울               있다        0.0       0.0       작은도서관      어린이도서관   \n",
       "     서울               있다        0.0       0.0          기타       작은도서관   \n",
       "...                  ...        ...       ...         ...         ...   \n",
       "2021 충북               없다        0.0       0.0           0           0   \n",
       "     충북               없다        0.0       0.0           0           0   \n",
       "     충북               없다        0.0       0.0           0           0   \n",
       "     충북               없다        0.0       0.0           0           0   \n",
       "     충북               없다        0.0       0.0           0           0   \n",
       "\n",
       "                    이용 이유       비이용 이유  \n",
       "연도   학교 소재지                             \n",
       "2017 서울                 0           기타  \n",
       "     서울        독서 및 도서 대출            0  \n",
       "     서울             행사 참여            0  \n",
       "     서울      숙제에 필요한 자료조사            0  \n",
       "     서울        독서 및 도서 대출            0  \n",
       "...                   ...          ...  \n",
       "2021 충북                 0  책을 잘 읽지 않는다  \n",
       "     충북                 0  책을 잘 읽지 않는다  \n",
       "     충북                 0  책을 잘 읽지 않는다  \n",
       "     충북                 0  이용 절차가 까다롭다  \n",
       "     충북                 0       집에서 멀다  \n",
       "\n",
       "[9775 rows x 7 columns]"
      ]
     },
     "execution_count": 13,
     "metadata": {},
     "output_type": "execute_result"
    }
   ],
   "source": [
    "area_stu = area_stu.set_index(['연도','학교 소재지'])\n",
    "area_stu"
   ]
  },
  {
   "cell_type": "markdown",
   "id": "1991275d",
   "metadata": {},
   "source": [
    "- 무응답 값 결측치 처리"
   ]
  },
  {
   "cell_type": "code",
   "execution_count": 14,
   "id": "c29326f3",
   "metadata": {},
   "outputs": [
    {
     "data": {
      "text/plain": [
       "array(['없다', '있다', '9'], dtype=object)"
      ]
     },
     "execution_count": 14,
     "metadata": {},
     "output_type": "execute_result"
    }
   ],
   "source": [
    "area_stu['학교 밖 도서관이용경험'].unique()"
   ]
  },
  {
   "cell_type": "code",
   "execution_count": 15,
   "id": "1824edd0",
   "metadata": {},
   "outputs": [],
   "source": [
    "area_stu['학교 밖 도서관이용경험'].replace({9:np.nan},inplace=True)"
   ]
  },
  {
   "cell_type": "markdown",
   "id": "f3f10353",
   "metadata": {},
   "source": [
    "###  지역별 학교 밖 도서관 이용률 계산"
   ]
  },
  {
   "cell_type": "markdown",
   "id": "eacc5c04",
   "metadata": {},
   "source": [
    "- df.index.unique(), df.value_counts() 사용\n",
    "- 다중인덱스를 가진 데이터 프레임으로 출력"
   ]
  },
  {
   "cell_type": "code",
   "execution_count": 16,
   "id": "82ffb527",
   "metadata": {},
   "outputs": [],
   "source": [
    "list = area_stu.index.unique()\n",
    "area_lib = pd.DataFrame(columns=[[],[]])\n",
    "\n",
    "for yr_area in list:\n",
    "    lib_temp = area_stu.loc[yr_area]['학교 밖 도서관이용경험'].value_counts(normalize=True).round(2)*100\n",
    "    area_lib[yr_area[1],yr_area[0]] = lib_temp"
   ]
  },
  {
   "cell_type": "markdown",
   "id": "c9e5a7eb",
   "metadata": {},
   "source": [
    "- 열 인덱스 기준 정렬"
   ]
  },
  {
   "cell_type": "code",
   "execution_count": 17,
   "id": "2bbba8dc",
   "metadata": {},
   "outputs": [],
   "source": [
    "area_lib_stu = area_lib.sort_index(axis=1)"
   ]
  },
  {
   "cell_type": "markdown",
   "id": "79177795",
   "metadata": {},
   "source": [
    "- 다중 인덱스 이름 설정"
   ]
  },
  {
   "cell_type": "code",
   "execution_count": 18,
   "id": "76209e83",
   "metadata": {},
   "outputs": [
    {
     "data": {
      "text/html": [
       "<div>\n",
       "<style scoped>\n",
       "    .dataframe tbody tr th:only-of-type {\n",
       "        vertical-align: middle;\n",
       "    }\n",
       "\n",
       "    .dataframe tbody tr th {\n",
       "        vertical-align: top;\n",
       "    }\n",
       "\n",
       "    .dataframe thead tr th {\n",
       "        text-align: left;\n",
       "    }\n",
       "</style>\n",
       "<table border=\"1\" class=\"dataframe\">\n",
       "  <thead>\n",
       "    <tr>\n",
       "      <th>지역</th>\n",
       "      <th colspan=\"3\" halign=\"left\">강원</th>\n",
       "      <th colspan=\"3\" halign=\"left\">경기</th>\n",
       "      <th colspan=\"3\" halign=\"left\">경남</th>\n",
       "      <th colspan=\"3\" halign=\"left\">경북</th>\n",
       "      <th colspan=\"3\" halign=\"left\">광주</th>\n",
       "      <th colspan=\"3\" halign=\"left\">대구</th>\n",
       "      <th colspan=\"3\" halign=\"left\">대전</th>\n",
       "      <th colspan=\"3\" halign=\"left\">부산</th>\n",
       "      <th colspan=\"3\" halign=\"left\">서울</th>\n",
       "      <th colspan=\"3\" halign=\"left\">세종</th>\n",
       "      <th colspan=\"3\" halign=\"left\">울산</th>\n",
       "      <th colspan=\"3\" halign=\"left\">인천</th>\n",
       "      <th colspan=\"3\" halign=\"left\">전남</th>\n",
       "      <th colspan=\"3\" halign=\"left\">전북</th>\n",
       "      <th colspan=\"3\" halign=\"left\">제주</th>\n",
       "      <th colspan=\"3\" halign=\"left\">충남</th>\n",
       "      <th colspan=\"3\" halign=\"left\">충북</th>\n",
       "    </tr>\n",
       "    <tr>\n",
       "      <th>연도</th>\n",
       "      <th>2017</th>\n",
       "      <th>2019</th>\n",
       "      <th>2021</th>\n",
       "      <th>2017</th>\n",
       "      <th>2019</th>\n",
       "      <th>2021</th>\n",
       "      <th>2017</th>\n",
       "      <th>2019</th>\n",
       "      <th>2021</th>\n",
       "      <th>2017</th>\n",
       "      <th>2019</th>\n",
       "      <th>2021</th>\n",
       "      <th>2017</th>\n",
       "      <th>2019</th>\n",
       "      <th>2021</th>\n",
       "      <th>2017</th>\n",
       "      <th>2019</th>\n",
       "      <th>2021</th>\n",
       "      <th>2017</th>\n",
       "      <th>2019</th>\n",
       "      <th>2021</th>\n",
       "      <th>2017</th>\n",
       "      <th>2019</th>\n",
       "      <th>2021</th>\n",
       "      <th>2017</th>\n",
       "      <th>...</th>\n",
       "      <th>2021</th>\n",
       "      <th>2017</th>\n",
       "      <th>2019</th>\n",
       "      <th>2021</th>\n",
       "      <th>2017</th>\n",
       "      <th>2019</th>\n",
       "      <th>2021</th>\n",
       "      <th>2017</th>\n",
       "      <th>2019</th>\n",
       "      <th>2021</th>\n",
       "      <th>2017</th>\n",
       "      <th>2019</th>\n",
       "      <th>2021</th>\n",
       "      <th>2017</th>\n",
       "      <th>2019</th>\n",
       "      <th>2021</th>\n",
       "      <th>2017</th>\n",
       "      <th>2019</th>\n",
       "      <th>2021</th>\n",
       "      <th>2017</th>\n",
       "      <th>2019</th>\n",
       "      <th>2021</th>\n",
       "      <th>2017</th>\n",
       "      <th>2019</th>\n",
       "      <th>2021</th>\n",
       "    </tr>\n",
       "  </thead>\n",
       "  <tbody>\n",
       "    <tr>\n",
       "      <th>있다</th>\n",
       "      <td>58.0</td>\n",
       "      <td>58.0</td>\n",
       "      <td>52.0</td>\n",
       "      <td>68.0</td>\n",
       "      <td>66.0</td>\n",
       "      <td>52.0</td>\n",
       "      <td>66.0</td>\n",
       "      <td>63.0</td>\n",
       "      <td>45.0</td>\n",
       "      <td>63.0</td>\n",
       "      <td>58.0</td>\n",
       "      <td>48.0</td>\n",
       "      <td>61.0</td>\n",
       "      <td>81.0</td>\n",
       "      <td>33.0</td>\n",
       "      <td>75.0</td>\n",
       "      <td>44.0</td>\n",
       "      <td>46.0</td>\n",
       "      <td>70.0</td>\n",
       "      <td>55.0</td>\n",
       "      <td>34.0</td>\n",
       "      <td>69.0</td>\n",
       "      <td>62.0</td>\n",
       "      <td>47.0</td>\n",
       "      <td>65.0</td>\n",
       "      <td>...</td>\n",
       "      <td>40.0</td>\n",
       "      <td>64.0</td>\n",
       "      <td>79.0</td>\n",
       "      <td>65.0</td>\n",
       "      <td>73.0</td>\n",
       "      <td>62.0</td>\n",
       "      <td>47.0</td>\n",
       "      <td>61.0</td>\n",
       "      <td>60.0</td>\n",
       "      <td>46.0</td>\n",
       "      <td>60.0</td>\n",
       "      <td>54.0</td>\n",
       "      <td>43.0</td>\n",
       "      <td>62.0</td>\n",
       "      <td>64.0</td>\n",
       "      <td>41.0</td>\n",
       "      <td>87.0</td>\n",
       "      <td>65.0</td>\n",
       "      <td>42.0</td>\n",
       "      <td>51.0</td>\n",
       "      <td>52.0</td>\n",
       "      <td>39.0</td>\n",
       "      <td>58.0</td>\n",
       "      <td>61.0</td>\n",
       "      <td>41.0</td>\n",
       "    </tr>\n",
       "    <tr>\n",
       "      <th>없다</th>\n",
       "      <td>42.0</td>\n",
       "      <td>40.0</td>\n",
       "      <td>48.0</td>\n",
       "      <td>31.0</td>\n",
       "      <td>33.0</td>\n",
       "      <td>48.0</td>\n",
       "      <td>34.0</td>\n",
       "      <td>37.0</td>\n",
       "      <td>55.0</td>\n",
       "      <td>35.0</td>\n",
       "      <td>42.0</td>\n",
       "      <td>52.0</td>\n",
       "      <td>39.0</td>\n",
       "      <td>19.0</td>\n",
       "      <td>67.0</td>\n",
       "      <td>25.0</td>\n",
       "      <td>55.0</td>\n",
       "      <td>54.0</td>\n",
       "      <td>30.0</td>\n",
       "      <td>44.0</td>\n",
       "      <td>66.0</td>\n",
       "      <td>31.0</td>\n",
       "      <td>38.0</td>\n",
       "      <td>53.0</td>\n",
       "      <td>35.0</td>\n",
       "      <td>...</td>\n",
       "      <td>60.0</td>\n",
       "      <td>32.0</td>\n",
       "      <td>19.0</td>\n",
       "      <td>35.0</td>\n",
       "      <td>25.0</td>\n",
       "      <td>37.0</td>\n",
       "      <td>53.0</td>\n",
       "      <td>37.0</td>\n",
       "      <td>39.0</td>\n",
       "      <td>54.0</td>\n",
       "      <td>40.0</td>\n",
       "      <td>46.0</td>\n",
       "      <td>57.0</td>\n",
       "      <td>36.0</td>\n",
       "      <td>35.0</td>\n",
       "      <td>59.0</td>\n",
       "      <td>13.0</td>\n",
       "      <td>34.0</td>\n",
       "      <td>58.0</td>\n",
       "      <td>48.0</td>\n",
       "      <td>48.0</td>\n",
       "      <td>61.0</td>\n",
       "      <td>41.0</td>\n",
       "      <td>39.0</td>\n",
       "      <td>59.0</td>\n",
       "    </tr>\n",
       "    <tr>\n",
       "      <th>9</th>\n",
       "      <td>NaN</td>\n",
       "      <td>2.0</td>\n",
       "      <td>NaN</td>\n",
       "      <td>1.0</td>\n",
       "      <td>1.0</td>\n",
       "      <td>NaN</td>\n",
       "      <td>1.0</td>\n",
       "      <td>NaN</td>\n",
       "      <td>NaN</td>\n",
       "      <td>1.0</td>\n",
       "      <td>NaN</td>\n",
       "      <td>NaN</td>\n",
       "      <td>NaN</td>\n",
       "      <td>NaN</td>\n",
       "      <td>NaN</td>\n",
       "      <td>NaN</td>\n",
       "      <td>1.0</td>\n",
       "      <td>NaN</td>\n",
       "      <td>NaN</td>\n",
       "      <td>2.0</td>\n",
       "      <td>NaN</td>\n",
       "      <td>NaN</td>\n",
       "      <td>NaN</td>\n",
       "      <td>NaN</td>\n",
       "      <td>0.0</td>\n",
       "      <td>...</td>\n",
       "      <td>NaN</td>\n",
       "      <td>4.0</td>\n",
       "      <td>1.0</td>\n",
       "      <td>NaN</td>\n",
       "      <td>2.0</td>\n",
       "      <td>1.0</td>\n",
       "      <td>NaN</td>\n",
       "      <td>1.0</td>\n",
       "      <td>1.0</td>\n",
       "      <td>NaN</td>\n",
       "      <td>0.0</td>\n",
       "      <td>NaN</td>\n",
       "      <td>NaN</td>\n",
       "      <td>1.0</td>\n",
       "      <td>1.0</td>\n",
       "      <td>NaN</td>\n",
       "      <td>NaN</td>\n",
       "      <td>1.0</td>\n",
       "      <td>NaN</td>\n",
       "      <td>1.0</td>\n",
       "      <td>NaN</td>\n",
       "      <td>NaN</td>\n",
       "      <td>1.0</td>\n",
       "      <td>NaN</td>\n",
       "      <td>NaN</td>\n",
       "    </tr>\n",
       "  </tbody>\n",
       "</table>\n",
       "<p>3 rows × 51 columns</p>\n",
       "</div>"
      ],
      "text/plain": [
       "지역    강원                경기                경남                경북              \\\n",
       "연도  2017  2019  2021  2017  2019  2021  2017  2019  2021  2017  2019  2021   \n",
       "있다  58.0  58.0  52.0  68.0  66.0  52.0  66.0  63.0  45.0  63.0  58.0  48.0   \n",
       "없다  42.0  40.0  48.0  31.0  33.0  48.0  34.0  37.0  55.0  35.0  42.0  52.0   \n",
       "9    NaN   2.0   NaN   1.0   1.0   NaN   1.0   NaN   NaN   1.0   NaN   NaN   \n",
       "\n",
       "지역    광주                대구                대전                부산              \\\n",
       "연도  2017  2019  2021  2017  2019  2021  2017  2019  2021  2017  2019  2021   \n",
       "있다  61.0  81.0  33.0  75.0  44.0  46.0  70.0  55.0  34.0  69.0  62.0  47.0   \n",
       "없다  39.0  19.0  67.0  25.0  55.0  54.0  30.0  44.0  66.0  31.0  38.0  53.0   \n",
       "9    NaN   NaN   NaN   NaN   1.0   NaN   NaN   2.0   NaN   NaN   NaN   NaN   \n",
       "\n",
       "지역    서울  ...          세종                울산                인천              \\\n",
       "연도  2017  ...  2021  2017  2019  2021  2017  2019  2021  2017  2019  2021   \n",
       "있다  65.0  ...  40.0  64.0  79.0  65.0  73.0  62.0  47.0  61.0  60.0  46.0   \n",
       "없다  35.0  ...  60.0  32.0  19.0  35.0  25.0  37.0  53.0  37.0  39.0  54.0   \n",
       "9    0.0  ...   NaN   4.0   1.0   NaN   2.0   1.0   NaN   1.0   1.0   NaN   \n",
       "\n",
       "지역    전남                전북                제주                충남              \\\n",
       "연도  2017  2019  2021  2017  2019  2021  2017  2019  2021  2017  2019  2021   \n",
       "있다  60.0  54.0  43.0  62.0  64.0  41.0  87.0  65.0  42.0  51.0  52.0  39.0   \n",
       "없다  40.0  46.0  57.0  36.0  35.0  59.0  13.0  34.0  58.0  48.0  48.0  61.0   \n",
       "9    0.0   NaN   NaN   1.0   1.0   NaN   NaN   1.0   NaN   1.0   NaN   NaN   \n",
       "\n",
       "지역    충북              \n",
       "연도  2017  2019  2021  \n",
       "있다  58.0  61.0  41.0  \n",
       "없다  41.0  39.0  59.0  \n",
       "9    1.0   NaN   NaN  \n",
       "\n",
       "[3 rows x 51 columns]"
      ]
     },
     "execution_count": 18,
     "metadata": {},
     "output_type": "execute_result"
    }
   ],
   "source": [
    "area_lib_stu.columns.names=['지역','연도']\n",
    "area_lib_stu"
   ]
  },
  {
   "cell_type": "markdown",
   "id": "dbbf3738",
   "metadata": {},
   "source": [
    "----------------------------------------------"
   ]
  },
  {
   "cell_type": "markdown",
   "id": "d2482b61",
   "metadata": {},
   "source": [
    "### 지역별 학교 밖 도서관 이용률 시각화"
   ]
  },
  {
   "cell_type": "markdown",
   "id": "c73e606f",
   "metadata": {},
   "source": [
    "- 학교 밖 도서관 이용률 추출"
   ]
  },
  {
   "cell_type": "code",
   "execution_count": 19,
   "id": "5a486509",
   "metadata": {},
   "outputs": [],
   "source": [
    "area_lib_stu_plot = area_lib_stu.iloc[0]"
   ]
  },
  {
   "cell_type": "markdown",
   "id": "81329b17",
   "metadata": {},
   "source": [
    "- 행인덱스 레벨 해제"
   ]
  },
  {
   "cell_type": "code",
   "execution_count": 20,
   "id": "640bd9bc",
   "metadata": {},
   "outputs": [],
   "source": [
    "area_lib_stu_plot = pd.DataFrame(area_lib_stu_plot).unstack()"
   ]
  },
  {
   "cell_type": "markdown",
   "id": "6b11dbb3",
   "metadata": {},
   "source": [
    " - 컬럼 이름 설정"
   ]
  },
  {
   "cell_type": "code",
   "execution_count": 21,
   "id": "e5641d46",
   "metadata": {},
   "outputs": [],
   "source": [
    "area_lib_stu_plot.columns.names = ['이용 경험','연도']"
   ]
  },
  {
   "cell_type": "markdown",
   "id": "c9e58144",
   "metadata": {},
   "source": [
    "- 지역별 도서관 이용률 바 그래프  : plot.bar()  --> **3) 분석 결과 파트에**"
   ]
  },
  {
   "cell_type": "markdown",
   "id": "f64b7a58",
   "metadata": {},
   "source": [
    "-----------------------------------------------------"
   ]
  },
  {
   "cell_type": "markdown",
   "id": "8da3c493",
   "metadata": {},
   "source": [
    "## 2) 학교 밖 도서관 월 평균 이용 빈도, 연 평균 이용 빈도"
   ]
  },
  {
   "cell_type": "markdown",
   "id": "f99195a5",
   "metadata": {},
   "source": [
    "- 결측치 확인"
   ]
  },
  {
   "cell_type": "code",
   "execution_count": 22,
   "id": "142c9918",
   "metadata": {},
   "outputs": [
    {
     "data": {
      "text/plain": [
       "array(['0.0', '2.0', '1.0', '8.0', '4.0', '20.0', '5.0', '137.0', '없음',\n",
       "       '92.0', '60.0', '10.0', '7.0', '50.0', '6.0', '3.0', '100.0',\n",
       "       '200.0', '140.0', '14.0', '300.0', '24.0', '48.0', '13.0', '30.0',\n",
       "       '15.0', '11.0', '90.0', '80.0', '122.0', '23.0', '55.0', '18.0',\n",
       "       '12.0', '9.0'], dtype=object)"
      ]
     },
     "execution_count": 22,
     "metadata": {},
     "output_type": "execute_result"
    }
   ],
   "source": [
    "area_stu['연 평균 이용빈도'].unique()"
   ]
  },
  {
   "cell_type": "code",
   "execution_count": 23,
   "id": "9b8d3500",
   "metadata": {},
   "outputs": [],
   "source": [
    "# 기술통계를 위해 문자 '없음' -> 0으로 변경\n",
    "area_stu['연 평균 이용빈도'].replace({'없음':0},inplace=True)"
   ]
  },
  {
   "cell_type": "markdown",
   "id": "65cf3ce4",
   "metadata": {},
   "source": [
    "### [전체] 월 평균, 연 평균 학교 밖 도서관 이용 빈도 [전국] 평균"
   ]
  },
  {
   "cell_type": "markdown",
   "id": "e905e30b",
   "metadata": {},
   "source": [
    "- 평균값, 최대값 구하기 : describe()"
   ]
  },
  {
   "cell_type": "code",
   "execution_count": 24,
   "id": "8969cb5e",
   "metadata": {},
   "outputs": [
    {
     "data": {
      "text/html": [
       "<div>\n",
       "<style scoped>\n",
       "    .dataframe tbody tr th:only-of-type {\n",
       "        vertical-align: middle;\n",
       "    }\n",
       "\n",
       "    .dataframe tbody tr th {\n",
       "        vertical-align: top;\n",
       "    }\n",
       "\n",
       "    .dataframe thead th {\n",
       "        text-align: right;\n",
       "    }\n",
       "</style>\n",
       "<table border=\"1\" class=\"dataframe\">\n",
       "  <thead>\n",
       "    <tr style=\"text-align: right;\">\n",
       "      <th></th>\n",
       "      <th>월 평균 이용빈도</th>\n",
       "    </tr>\n",
       "  </thead>\n",
       "  <tbody>\n",
       "    <tr>\n",
       "      <th>count</th>\n",
       "      <td>3126.0</td>\n",
       "    </tr>\n",
       "    <tr>\n",
       "      <th>mean</th>\n",
       "      <td>1.8</td>\n",
       "    </tr>\n",
       "    <tr>\n",
       "      <th>std</th>\n",
       "      <td>3.8</td>\n",
       "    </tr>\n",
       "    <tr>\n",
       "      <th>min</th>\n",
       "      <td>0.0</td>\n",
       "    </tr>\n",
       "    <tr>\n",
       "      <th>25%</th>\n",
       "      <td>0.0</td>\n",
       "    </tr>\n",
       "    <tr>\n",
       "      <th>50%</th>\n",
       "      <td>0.0</td>\n",
       "    </tr>\n",
       "    <tr>\n",
       "      <th>75%</th>\n",
       "      <td>2.0</td>\n",
       "    </tr>\n",
       "    <tr>\n",
       "      <th>max</th>\n",
       "      <td>31.0</td>\n",
       "    </tr>\n",
       "  </tbody>\n",
       "</table>\n",
       "</div>"
      ],
      "text/plain": [
       "       월 평균 이용빈도\n",
       "count     3126.0\n",
       "mean         1.8\n",
       "std          3.8\n",
       "min          0.0\n",
       "25%          0.0\n",
       "50%          0.0\n",
       "75%          2.0\n",
       "max         31.0"
      ]
     },
     "execution_count": 24,
     "metadata": {},
     "output_type": "execute_result"
    },
    {
     "data": {
      "text/html": [
       "<div>\n",
       "<style scoped>\n",
       "    .dataframe tbody tr th:only-of-type {\n",
       "        vertical-align: middle;\n",
       "    }\n",
       "\n",
       "    .dataframe tbody tr th {\n",
       "        vertical-align: top;\n",
       "    }\n",
       "\n",
       "    .dataframe thead th {\n",
       "        text-align: right;\n",
       "    }\n",
       "</style>\n",
       "<table border=\"1\" class=\"dataframe\">\n",
       "  <thead>\n",
       "    <tr style=\"text-align: right;\">\n",
       "      <th></th>\n",
       "      <th>월 평균 이용빈도</th>\n",
       "    </tr>\n",
       "  </thead>\n",
       "  <tbody>\n",
       "    <tr>\n",
       "      <th>count</th>\n",
       "      <td>3320.0</td>\n",
       "    </tr>\n",
       "    <tr>\n",
       "      <th>mean</th>\n",
       "      <td>1.1</td>\n",
       "    </tr>\n",
       "    <tr>\n",
       "      <th>std</th>\n",
       "      <td>2.8</td>\n",
       "    </tr>\n",
       "    <tr>\n",
       "      <th>min</th>\n",
       "      <td>0.0</td>\n",
       "    </tr>\n",
       "    <tr>\n",
       "      <th>25%</th>\n",
       "      <td>0.0</td>\n",
       "    </tr>\n",
       "    <tr>\n",
       "      <th>50%</th>\n",
       "      <td>0.0</td>\n",
       "    </tr>\n",
       "    <tr>\n",
       "      <th>75%</th>\n",
       "      <td>1.0</td>\n",
       "    </tr>\n",
       "    <tr>\n",
       "      <th>max</th>\n",
       "      <td>27.0</td>\n",
       "    </tr>\n",
       "  </tbody>\n",
       "</table>\n",
       "</div>"
      ],
      "text/plain": [
       "       월 평균 이용빈도\n",
       "count     3320.0\n",
       "mean         1.1\n",
       "std          2.8\n",
       "min          0.0\n",
       "25%          0.0\n",
       "50%          0.0\n",
       "75%          1.0\n",
       "max         27.0"
      ]
     },
     "execution_count": 24,
     "metadata": {},
     "output_type": "execute_result"
    }
   ],
   "source": [
    "# 2017년은 월 평균 이용빈도, 연평균 이용빈도 설문X\n",
    "# 2019년, 2021년의 기술통계값, 소숫점 첫째자리까지\n",
    "area_stu.loc[[2019],:].describe().round(1)\n",
    "area_stu.loc[[2021],:].describe().round(1)"
   ]
  },
  {
   "cell_type": "markdown",
   "id": "0001e76b",
   "metadata": {},
   "source": [
    "- 2019년, 전국 학생의 월 평균 도서관 이용빈도는 약 1.8회, 연 평균 도서관 이용빈도는 약 1.5회\n",
    "\n",
    "- 2021년, 전국 학생의 월 평균 도서관 이용빈도는 약 1.1회, 연 평균 도서관 이용빈도는 약 0.6회\n",
    "\n",
    "    -->2019년 대비 2021년 전국 학생의 학교 밖 도서관 이용 빈도는 감소하였다.\n",
    "\n",
    "\n",
    "- 2019년, 월 평균 도서관 이용빈도가 가장 높은 학생은 월 31회, 연 평균 도서관 이용빈도가 가장 높은 학생은 연 300회 학교 밖 도서관을 이용했다.\n",
    "\n",
    "- 2021년, 월 평균 도서관 이용빈도가 가장 높은 학생은 월 27회, 연 평균 도서관 이용빈도가 가장 높은 학생은 연 200회 학교 밖 도서관을 이용했다."
   ]
  },
  {
   "cell_type": "markdown",
   "id": "f89ad743",
   "metadata": {},
   "source": [
    "### [전체] 월 평균, 연 평균 학교 밖 도서관 이용 빈도 [지역별] 평균"
   ]
  },
  {
   "cell_type": "markdown",
   "id": "a0f8cf8b",
   "metadata": {},
   "source": [
    "- df.index.unique(), df.value_counts() 사용\n",
    "- 다중인덱스를 가진 데이터 프레임으로 출력"
   ]
  },
  {
   "cell_type": "code",
   "execution_count": 25,
   "id": "6480dfa7",
   "metadata": {},
   "outputs": [],
   "source": [
    "# 2017년은 월 평균 이용빈도, 연 평균 이용빈도 설문X\n",
    "# 2019,2021년도 지역별 전체 학생들의 월 평균, 연 평균 이용\n",
    "list = area_stu.index.unique()\n",
    "area_freq = pd.DataFrame(columns=[[],[]])\n",
    "\n",
    "for yr_area in list:\n",
    "    if yr_area[0] != 2017 :\n",
    "        freq_temp = area_stu.loc[yr_area,:].mean().round(1)\n",
    "        area_freq[yr_area[1],yr_area[0]] = freq_temp\n"
   ]
  },
  {
   "cell_type": "markdown",
   "id": "7b2f05a5",
   "metadata": {},
   "source": [
    "- 열 인덱스 기준 정렬"
   ]
  },
  {
   "cell_type": "code",
   "execution_count": 26,
   "id": "42e1f818",
   "metadata": {},
   "outputs": [],
   "source": [
    "area_freq = area_freq.sort_index(axis=1)"
   ]
  },
  {
   "cell_type": "markdown",
   "id": "d03653fc",
   "metadata": {},
   "source": [
    "- 다중 인덱스 이름 설정"
   ]
  },
  {
   "cell_type": "code",
   "execution_count": 27,
   "id": "a17fa3e7",
   "metadata": {},
   "outputs": [
    {
     "data": {
      "text/html": [
       "<div>\n",
       "<style scoped>\n",
       "    .dataframe tbody tr th:only-of-type {\n",
       "        vertical-align: middle;\n",
       "    }\n",
       "\n",
       "    .dataframe tbody tr th {\n",
       "        vertical-align: top;\n",
       "    }\n",
       "\n",
       "    .dataframe thead tr th {\n",
       "        text-align: left;\n",
       "    }\n",
       "</style>\n",
       "<table border=\"1\" class=\"dataframe\">\n",
       "  <thead>\n",
       "    <tr>\n",
       "      <th>지역</th>\n",
       "      <th colspan=\"2\" halign=\"left\">강원</th>\n",
       "      <th colspan=\"2\" halign=\"left\">경기</th>\n",
       "      <th colspan=\"2\" halign=\"left\">경남</th>\n",
       "      <th colspan=\"2\" halign=\"left\">경북</th>\n",
       "      <th colspan=\"2\" halign=\"left\">광주</th>\n",
       "      <th colspan=\"2\" halign=\"left\">대구</th>\n",
       "      <th colspan=\"2\" halign=\"left\">대전</th>\n",
       "      <th colspan=\"2\" halign=\"left\">부산</th>\n",
       "      <th colspan=\"2\" halign=\"left\">서울</th>\n",
       "      <th colspan=\"2\" halign=\"left\">세종</th>\n",
       "      <th colspan=\"2\" halign=\"left\">울산</th>\n",
       "      <th colspan=\"2\" halign=\"left\">인천</th>\n",
       "      <th colspan=\"2\" halign=\"left\">전남</th>\n",
       "      <th colspan=\"2\" halign=\"left\">전북</th>\n",
       "      <th colspan=\"2\" halign=\"left\">제주</th>\n",
       "      <th colspan=\"2\" halign=\"left\">충남</th>\n",
       "      <th colspan=\"2\" halign=\"left\">충북</th>\n",
       "    </tr>\n",
       "    <tr>\n",
       "      <th>연도</th>\n",
       "      <th>2019</th>\n",
       "      <th>2021</th>\n",
       "      <th>2019</th>\n",
       "      <th>2021</th>\n",
       "      <th>2019</th>\n",
       "      <th>2021</th>\n",
       "      <th>2019</th>\n",
       "      <th>2021</th>\n",
       "      <th>2019</th>\n",
       "      <th>2021</th>\n",
       "      <th>2019</th>\n",
       "      <th>2021</th>\n",
       "      <th>2019</th>\n",
       "      <th>2021</th>\n",
       "      <th>2019</th>\n",
       "      <th>2021</th>\n",
       "      <th>2019</th>\n",
       "      <th>2021</th>\n",
       "      <th>2019</th>\n",
       "      <th>2021</th>\n",
       "      <th>2019</th>\n",
       "      <th>2021</th>\n",
       "      <th>2019</th>\n",
       "      <th>2021</th>\n",
       "      <th>2019</th>\n",
       "      <th>2021</th>\n",
       "      <th>2019</th>\n",
       "      <th>2021</th>\n",
       "      <th>2019</th>\n",
       "      <th>2021</th>\n",
       "      <th>2019</th>\n",
       "      <th>2021</th>\n",
       "      <th>2019</th>\n",
       "      <th>2021</th>\n",
       "    </tr>\n",
       "  </thead>\n",
       "  <tbody>\n",
       "    <tr>\n",
       "      <th>월 평균 이용빈도</th>\n",
       "      <td>1.5</td>\n",
       "      <td>1.0</td>\n",
       "      <td>2.2</td>\n",
       "      <td>1.2</td>\n",
       "      <td>1.6</td>\n",
       "      <td>1.3</td>\n",
       "      <td>1.7</td>\n",
       "      <td>1.7</td>\n",
       "      <td>3.1</td>\n",
       "      <td>1.3</td>\n",
       "      <td>1.2</td>\n",
       "      <td>1.0</td>\n",
       "      <td>2.3</td>\n",
       "      <td>0.7</td>\n",
       "      <td>1.8</td>\n",
       "      <td>1.0</td>\n",
       "      <td>1.6</td>\n",
       "      <td>1.2</td>\n",
       "      <td>2.2</td>\n",
       "      <td>2.4</td>\n",
       "      <td>1.4</td>\n",
       "      <td>1.4</td>\n",
       "      <td>1.5</td>\n",
       "      <td>1.2</td>\n",
       "      <td>1.7</td>\n",
       "      <td>1.2</td>\n",
       "      <td>1.5</td>\n",
       "      <td>0.7</td>\n",
       "      <td>1.4</td>\n",
       "      <td>0.6</td>\n",
       "      <td>1.6</td>\n",
       "      <td>0.7</td>\n",
       "      <td>2.1</td>\n",
       "      <td>1.2</td>\n",
       "    </tr>\n",
       "  </tbody>\n",
       "</table>\n",
       "</div>"
      ],
      "text/plain": [
       "지역          강원        경기        경남        경북        광주        대구        대전  \\\n",
       "연도        2019 2021 2019 2021 2019 2021 2019 2021 2019 2021 2019 2021 2019   \n",
       "월 평균 이용빈도  1.5  1.0  2.2  1.2  1.6  1.3  1.7  1.7  3.1  1.3  1.2  1.0  2.3   \n",
       "\n",
       "지역               부산        서울        세종        울산        인천        전남       \\\n",
       "연도        2021 2019 2021 2019 2021 2019 2021 2019 2021 2019 2021 2019 2021   \n",
       "월 평균 이용빈도  0.7  1.8  1.0  1.6  1.2  2.2  2.4  1.4  1.4  1.5  1.2  1.7  1.2   \n",
       "\n",
       "지역          전북        제주        충남        충북       \n",
       "연도        2019 2021 2019 2021 2019 2021 2019 2021  \n",
       "월 평균 이용빈도  1.5  0.7  1.4  0.6  1.6  0.7  2.1  1.2  "
      ]
     },
     "execution_count": 27,
     "metadata": {},
     "output_type": "execute_result"
    }
   ],
   "source": [
    "area_freq.columns.names=['지역','연도']\n",
    "area_freq_all_stu = area_freq\n",
    "area_freq_all_stu"
   ]
  },
  {
   "cell_type": "markdown",
   "id": "3c7d0d97",
   "metadata": {},
   "source": [
    "### 지역별 월 평균 학교 밖 도서관 이용빈도 시각화"
   ]
  },
  {
   "cell_type": "markdown",
   "id": "bcce6ee9",
   "metadata": {},
   "source": [
    "- 학교 밖 도서관 월 평균 이용빈도 추출"
   ]
  },
  {
   "cell_type": "code",
   "execution_count": 28,
   "id": "111d597b",
   "metadata": {},
   "outputs": [],
   "source": [
    "area_freq_all_stu_plot = area_freq_all_stu.iloc[0]"
   ]
  },
  {
   "cell_type": "markdown",
   "id": "20d5b7e2",
   "metadata": {},
   "source": [
    "- 행인덱스 레벨 해제"
   ]
  },
  {
   "cell_type": "code",
   "execution_count": 29,
   "id": "b360f72b",
   "metadata": {},
   "outputs": [],
   "source": [
    "area_freq_all_stu_plot = pd.DataFrame(area_freq_all_stu_plot).unstack()"
   ]
  },
  {
   "cell_type": "markdown",
   "id": "446f20d8",
   "metadata": {},
   "source": [
    "- 컬럼 이름 설정"
   ]
  },
  {
   "cell_type": "code",
   "execution_count": 30,
   "id": "862c0973",
   "metadata": {},
   "outputs": [],
   "source": [
    "area_freq_all_stu_plot.columns.names = ['월 평균','연도']"
   ]
  },
  {
   "cell_type": "markdown",
   "id": "aa83a828",
   "metadata": {
    "scrolled": true
   },
   "source": [
    " - 월 평균 학교 밖 도서관 이용 빈도 바 그래프  : plot.bar()  --> **3) 분석 결과 파트에**"
   ]
  },
  {
   "cell_type": "markdown",
   "id": "b25b0ca7",
   "metadata": {},
   "source": [
    "### [도서관 이용 경험有] 월 평균, 연 평균 학교 밖 도서관 이용 빈도 [전국] 평균"
   ]
  },
  {
   "cell_type": "markdown",
   "id": "b7343fa8",
   "metadata": {},
   "source": [
    "- 필요 컬럼값 추출"
   ]
  },
  {
   "cell_type": "code",
   "execution_count": 31,
   "id": "2ca0dc44",
   "metadata": {},
   "outputs": [],
   "source": [
    "lib_freq = area_stu.loc[:,['월 평균 이용빈도','연 평균 이용빈도']]"
   ]
  },
  {
   "cell_type": "code",
   "execution_count": 32,
   "id": "b453c706",
   "metadata": {},
   "outputs": [],
   "source": [
    "# 결측치 처리\n",
    "lib_freq.replace({0:np.nan},inplace=True)\n",
    "lib_freq.dropna(how='all',inplace=True)"
   ]
  },
  {
   "cell_type": "markdown",
   "id": "cf7c4060",
   "metadata": {},
   "source": [
    "- 평균값 : mean()"
   ]
  },
  {
   "cell_type": "code",
   "execution_count": 33,
   "id": "4ab6da2d",
   "metadata": {},
   "outputs": [
    {
     "data": {
      "text/plain": [
       "array(['0.0', '2.0', '1.0', '8.0', '4.0', '20.0', '5.0', '137.0', '92.0',\n",
       "       '60.0', '10.0', '7.0', '50.0', '6.0', '3.0', '100.0', '200.0',\n",
       "       '140.0', '14.0', '300.0', '24.0', '48.0', '13.0', '30.0', '15.0',\n",
       "       '11.0', '90.0', '80.0', '122.0', '23.0', '55.0', '18.0', '12.0',\n",
       "       '9.0'], dtype=object)"
      ]
     },
     "execution_count": 33,
     "metadata": {},
     "output_type": "execute_result"
    }
   ],
   "source": [
    "lib_freq['연 평균 이용빈도'].unique()"
   ]
  },
  {
   "cell_type": "code",
   "execution_count": 34,
   "id": "8812f8d9",
   "metadata": {
    "scrolled": true
   },
   "outputs": [
    {
     "data": {
      "text/plain": [
       "4.002572898799314"
      ]
     },
     "execution_count": 34,
     "metadata": {},
     "output_type": "execute_result"
    }
   ],
   "source": [
    "# 평균값 : 월 평균 이용빈도\n",
    "lib_freq['월 평균 이용빈도'].dropna().mean()"
   ]
  },
  {
   "cell_type": "code",
   "execution_count": 35,
   "id": "3133cbdd",
   "metadata": {},
   "outputs": [
    {
     "ename": "TypeError",
     "evalue": "Could not convert 0.00.00.00.00.00.00.00.00.00.00.00.00.00.00.00.00.00.00.00.00.00.00.00.00.00.00.00.00.00.00.00.00.00.00.00.00.00.00.00.00.00.00.00.00.00.00.00.00.00.00.00.00.00.00.00.00.00.00.00.00.00.00.00.00.00.00.00.00.00.00.00.00.00.00.00.00.00.00.00.00.00.00.00.00.00.00.00.00.00.00.00.00.00.00.00.00.00.00.00.00.00.00.00.00.00.00.00.00.00.00.00.00.00.00.00.00.00.00.00.00.00.00.00.00.00.00.00.00.00.00.00.00.00.00.00.00.00.00.00.00.00.00.00.00.00.00.00.00.00.00.00.00.00.00.00.00.00.00.00.00.00.00.00.00.00.00.00.00.00.00.00.00.00.00.00.00.00.00.00.00.00.00.00.00.00.00.00.00.00.00.00.00.00.00.00.00.00.00.00.00.00.00.00.00.00.00.00.00.00.00.00.00.00.00.00.00.00.00.00.00.00.00.00.00.00.00.00.00.00.00.00.00.00.00.00.00.00.00.00.00.00.00.00.00.00.00.00.00.00.00.00.00.00.00.00.00.00.00.00.00.00.00.00.00.00.00.00.00.00.00.00.00.00.00.00.00.00.00.00.00.00.00.00.00.00.00.00.00.00.00.00.00.00.00.00.00.00.00.00.00.00.00.00.00.00.00.00.00.00.00.00.00.00.00.00.00.00.00.00.00.00.00.00.00.00.00.00.00.00.00.00.00.00.00.00.00.00.00.00.00.00.00.00.00.00.00.00.00.00.00.00.00.00.00.00.00.00.00.00.00.00.00.00.00.00.00.00.00.00.00.00.00.00.00.00.00.00.00.00.00.00.00.00.00.00.00.00.00.00.00.00.00.00.00.00.00.00.00.00.00.00.00.00.00.00.00.00.00.00.00.00.00.00.00.00.00.00.00.00.00.00.00.00.00.00.00.00.00.00.00.00.00.00.00.00.00.00.00.00.00.00.00.00.00.00.00.00.00.00.00.00.00.00.00.00.00.00.00.00.00.00.00.00.00.00.00.00.00.00.00.00.00.00.00.00.00.00.00.00.00.00.00.00.00.00.00.00.00.00.00.00.00.00.00.00.00.00.00.00.00.00.00.00.00.00.00.00.00.00.00.00.00.00.00.00.00.00.00.00.00.00.00.00.00.00.00.00.00.00.00.00.00.00.00.00.00.00.00.00.00.00.00.00.00.00.00.00.00.00.00.00.00.00.00.00.00.00.00.00.00.00.00.00.00.00.00.00.00.00.00.00.00.00.00.00.00.00.00.00.00.00.00.00.00.00.00.00.00.00.00.00.00.00.00.00.00.00.00.00.00.00.00.00.00.00.00.00.00.00.00.00.00.00.00.00.00.00.00.00.00.00.00.00.00.00.00.00.00.00.00.00.00.00.00.00.00.00.00.00.00.00.00.00.00.00.00.00.00.00.00.00.00.00.00.00.00.00.00.00.00.00.00.00.00.00.00.00.00.00.00.00.00.00.00.00.00.00.00.00.00.00.00.00.00.00.00.00.00.00.00.00.00.00.00.00.00.00.00.00.00.00.00.00.00.00.00.00.00.00.00.00.00.00.00.00.00.00.00.00.00.00.00.00.00.00.00.00.00.00.00.00.00.00.00.00.00.00.00.00.00.00.00.00.00.00.00.00.00.00.00.00.00.00.00.00.00.00.00.00.00.00.00.00.00.00.00.00.00.00.00.00.00.00.00.00.00.00.00.00.00.00.00.00.00.00.00.00.00.00.00.00.00.00.00.00.00.00.00.00.00.00.00.00.00.00.00.00.00.00.00.00.00.00.00.00.00.00.00.00.00.00.00.00.00.00.00.00.00.00.00.00.00.00.00.00.00.00.00.00.00.00.00.00.00.00.00.00.00.00.00.00.00.00.00.00.00.00.00.00.00.00.00.00.00.00.00.00.00.00.00.00.00.00.00.00.00.00.00.00.00.00.00.00.00.00.00.00.00.00.00.00.00.00.00.00.00.00.00.00.00.00.00.00.00.00.00.00.00.00.00.00.00.00.00.00.00.00.00.00.00.00.00.00.00.00.00.00.00.00.00.00.00.00.00.00.00.00.00.00.00.00.00.00.00.00.00.00.00.00.00.00.00.00.00.00.00.00.00.00.00.00.00.00.00.00.00.00.00.00.00.00.00.00.00.00.00.00.00.00.00.00.00.00.00.00.00.00.00.00.00.00.00.00.00.00.00.00.00.00.00.00.00.00.00.00.00.00.00.00.00.00.00.00.00.00.00.00.00.00.00.00.00.00.00.00.00.00.00.00.00.00.00.00.00.00.00.00.00.00.00.00.00.00.00.00.00.00.00.00.00.00.00.00.00.00.00.00.00.00.00.00.00.00.00.00.00.00.00.00.00.00.00.00.00.00.00.00.00.00.00.00.00.00.00.00.00.00.00.00.00.00.00.00.00.00.00.00.00.00.00.00.00.00.00.00.00.00.00.00.00.00.00.00.00.00.00.00.00.00.00.00.00.00.00.00.00.00.00.00.00.00.00.00.00.00.00.00.00.00.00.00.00.00.00.00.00.00.00.00.00.00.00.00.00.00.00.00.00.00.00.00.00.00.00.00.00.00.00.00.00.00.00.00.00.00.00.00.00.00.00.00.00.00.00.00.00.00.00.00.00.00.00.00.00.00.00.00.00.00.00.00.00.00.00.00.00.00.00.00.00.00.00.00.00.00.00.00.00.00.00.00.00.00.00.00.00.00.00.00.00.00.00.00.00.00.00.00.00.00.00.00.00.00.00.00.00.00.00.00.00.00.00.00.00.00.00.00.00.00.00.00.00.00.00.00.00.00.00.00.00.00.00.00.00.00.00.00.00.00.00.00.00.00.00.00.00.00.00.00.00.00.00.00.00.00.00.00.00.00.00.00.00.00.00.00.00.00.00.00.00.00.00.00.00.00.00.00.00.00.00.00.00.00.00.00.00.00.00.00.00.00.00.00.00.00.00.00.00.00.00.00.00.00.00.00.00.00.00.00.00.00.00.00.00.00.00.00.00.00.00.00.00.00.00.00.00.00.00.00.00.00.00.00.00.00.00.00.00.00.00.00.00.00.00.00.00.00.00.00.00.00.00.00.00.00.00.00.00.00.00.00.00.00.00.00.00.00.00.00.00.00.00.00.00.00.00.00.00.00.00.00.00.00.00.00.00.00.00.00.00.00.00.00.00.00.00.00.00.00.00.00.00.00.00.00.00.00.00.00.00.00.00.00.00.00.00.00.00.00.00.00.00.00.00.00.00.00.00.00.00.00.00.00.00.00.00.00.00.00.00.00.00.00.00.00.00.00.00.00.00.00.00.00.00.00.00.00.00.00.00.00.00.00.00.00.00.00.00.00.00.00.00.00.00.00.00.00.00.00.00.00.00.00.00.00.00.00.00.00.00.00.00.00.00.00.00.00.00.00.00.00.00.00.00.00.00.00.00.00.00.00.00.00.00.00.00.00.00.00.00.00.00.00.00.00.00.00.00.00.00.00.00.00.00.00.00.00.00.00.00.00.00.00.00.00.00.00.00.00.00.00.00.00.00.00.00.00.00.00.00.00.00.00.00.00.00.00.00.00.00.00.00.00.00.00.00.00.00.00.00.00.00.00.00.00.00.00.00.00.00.00.00.00.00.00.00.00.00.00.00.00.00.00.00.00.00.00.00.00.00.00.00.00.00.00.00.00.00.00.00.00.00.00.00.00.00.00.00.00.00.00.00.00.00.00.00.00.00.00.00.00.00.00.00.00.00.00.00.00.00.00.00.00.00.00.00.00.00.00.00.00.00.00.00.00.00.00.00.00.00.00.00.00.00.00.00.00.00.00.00.00.00.00.00.00.00.00.00.00.00.00.00.00.00.00.00.00.00.00.00.00.00.00.00.00.00.00.00.00.00.00.00.00.00.00.00.00.00.00.00.00.00.00.00.00.00.00.00.00.00.00.00.00.00.00.00.00.00.00.00.00.00.00.00.00.00.00.00.00.00.00.00.00.00.00.00.00.00.00.00.00.00.00.00.00.00.00.00.00.00.00.00.00.00.00.00.00.00.00.00.00.00.00.00.00.00.00.00.00.00.00.00.00.00.00.00.00.00.00.00.00.00.00.00.00.00.00.00.00.00.00.00.00.00.00.00.00.00.00.00.00.00.00.00.00.00.00.00.00.00.00.00.00.00.00.00.00.00.00.00.00.00.00.00.00.00.00.00.00.00.00.00.00.00.00.00.00.00.00.00.00.00.00.00.00.00.00.00.00.00.00.00.00.00.00.00.00.00.00.00.00.00.00.00.00.00.00.00.00.00.00.00.00.00.00.00.00.00.00.00.00.00.00.00.00.00.00.00.00.00.00.00.00.00.00.00.00.00.00.00.00.00.00.00.00.00.00.00.00.00.00.00.00.00.00.00.00.00.00.00.00.00.00.00.00.00.00.00.00.00.00.00.00.00.00.00.00.00.00.00.00.00.00.00.00.00.00.00.00.00.00.00.00.00.00.00.00.00.00.00.00.00.00.00.00.00.00.00.00.00.00.00.00.00.00.00.00.00.00.00.00.00.00.00.00.00.00.00.00.00.00.00.00.00.00.00.00.00.00.00.00.00.00.00.00.00.00.00.00.00.00.00.00.00.00.00.00.00.00.00.00.00.00.00.00.00.00.00.00.00.00.00.00.00.00.00.00.00.00.00.00.00.00.00.00.00.00.00.00.00.00.00.00.00.00.00.00.00.00.00.00.00.00.00.00.00.00.00.00.00.00.00.00.00.00.00.00.00.00.00.00.00.00.00.00.00.00.00.00.00.00.00.00.00.00.00.00.00.00.00.00.00.00.00.00.00.00.00.00.00.00.00.00.00.00.00.00.00.00.00.00.00.00.00.00.00.00.00.00.00.00.00.00.00.00.00.00.00.00.00.00.00.00.00.00.00.00.00.00.00.00.00.00.00.00.00.00.00.00.00.00.00.00.00.00.00.00.00.00.00.00.00.00.00.00.00.00.00.00.00.00.00.00.00.00.00.00.00.00.00.00.00.00.00.00.00.00.00.00.00.00.00.00.00.00.00.00.00.00.00.00.00.00.00.00.00.00.00.00.00.00.00.00.00.00.00.00.00.00.00.00.00.00.00.00.00.00.00.00.00.00.00.00.00.00.00.00.00.00.00.00.00.00.00.00.00.00.00.00.00.00.00.00.00.00.00.00.00.00.00.00.00.00.00.00.00.00.00.00.00.00.00.00.00.00.00.00.00.00.00.00.00.00.00.00.00.00.00.00.00.00.00.00.00.00.00.00.00.00.00.00.00.00.00.00.00.00.00.00.00.00.00.00.00.00.00.00.00.00.00.00.00.00.00.00.00.00.00.00.00.00.00.00.00.00.00.00.00.00.00.00.00.00.00.00.00.00.00.00.00.00.00.00.00.00.00.00.00.00.00.00.00.00.00.00.00.00.00.00.00.00.00.00.00.00.00.00.00.00.00.00.00.00.00.00.00.00.00.00.00.00.00.00.00.00.00.00.00.00.00.00.00.00.00.00.00.00.00.00.00.00.00.00.00.00.00.00.00.00.00.00.00.00.00.00.00.00.00.00.00.00.00.00.00.00.00.00.00.00.00.00.00.00.00.00.00.00.00.00.00.00.00.00.00.00.00.00.00.00.00.00.00.00.00.00.00.00.00.00.00.00.00.00.00.00.00.00.00.00.00.00.00.00.00.00.00.00.00.00.00.00.00.00.00.00.00.00.00.00.00.00.00.00.00.00.00.00.00.00.00.00.00.00.00.00.00.00.00.00.00.00.00.00.00.00.00.00.00.00.00.00.00.00.00.00.00.00.00.00.00.00.00.00.00.00.00.00.00.00.00.00.00.00.00.00.00.00.00.00.00.00.00.00.00.00.00.00.00.00.00.00.00.00.00.00.00.00.00.00.00.00.00.00.00.00.00.00.00.00.00.00.00.00.00.00.00.00.00.00.00.00.00.00.00.00.00.00.00.00.00.00.00.00.00.00.00.00.00.00.00.00.00.00.00.00.00.00.00.00.00.00.00.00.00.00.00.00.00.00.00.00.00.00.00.00.00.00.00.00.00.00.00.00.00.00.00.00.00.00.00.00.00.00.00.00.00.00.00.00.00.00.00.00.00.00.00.00.00.00.00.00.00.00.00.00.00.00.00.00.00.00.00.00.00.00.00.00.00.00.00.00.00.00.00.00.00.00.00.00.00.00.00.00.00.00.00.00.00.00.00.00.00.00.00.00.00.00.00.00.00.00.00.00.00.00.00.00.00.00.00.00.00.00.00.00.00.00.00.00.00.00.00.00.00.00.00.00.00.00.00.00.00.00.00.00.00.00.00.00.00.00.00.00.00.00.00.00.00.00.00.00.00.00.00.00.00.00.00.00.00.00.00.00.00.00.00.00.00.00.00.00.00.00.00.00.00.00.00.00.00.00.00.00.00.00.00.00.00.00.00.00.00.00.00.00.00.00.00.00.00.00.00.00.00.00.00.00.00.00.00.00.00.00.00.00.00.00.00.00.00.00.00.00.00.00.00.00.00.00.00.00.00.00.00.00.00.00.00.00.00.00.00.00.00.00.00.00.00.00.00.00.00.00.00.00.00.00.00.00.00.00.00.00.00.00.00.00.00.00.00.00.00.00.00.00.00.00.00.00.00.00.00.00.00.00.00.00.00.00.00.00.00.00.00.00.00.00.00.00.00.00.00.00.00.00.00.00.00.00.00.00.00.00.00.00.00.00.00.00.00.00.00.00.00.00.00.00.00.00.00.00.00.00.00.00.00.00.00.00.00.00.00.00.00.00.00.00.00.00.00.00.00.00.00.00.00.00.00.00.00.00.00.00.00.00.00.00.00.00.00.00.00.00.00.00.00.00.00.00.00.00.00.00.00.00.00.00.00.00.00.00.00.00.00.00.00.00.00.00.00.00.00.00.00.00.00.00.00.00.00.00.00.00.00.00.00.00.00.00.00.00.00.00.00.00.00.00.00.00.00.00.00.00.00.00.00.00.00.00.00.00.00.00.00.00.00.00.00.00.00.00.00.00.00.00.00.00.00.00.00.00.00.00.00.00.00.00.00.00.00.00.00.00.00.00.00.00.00.00.00.00.00.00.00.00.00.00.00.00.00.00.00.00.00.00.00.00.00.00.00.00.00.00.00.00.00.00.00.00.00.00.00.00.00.00.00.00.00.00.00.00.00.00.00.00.00.00.00.00.00.00.00.00.00.00.00.00.00.00.00.00.00.00.00.00.00.00.00.00.00.00.00.00.00.00.00.00.00.00.00.00.00.00.00.00.00.00.00.00.00.00.00.00.00.00.00.00.00.00.00.00.00.00.00.00.00.00.00.00.00.00.00.00.00.00.00.00.00.00.00.00.00.00.00.00.00.00.00.00.00.00.00.00.00.00.00.00.00.00.00.00.00.00.00.00.00.00.00.00.00.00.00.00.00.00.00.00.00.00.00.00.00.00.00.00.00.00.00.00.00.00.00.00.00.00.02.00.00.00.00.00.00.00.00.00.00.00.00.00.00.00.00.00.00.00.00.01.00.00.00.08.00.00.00.00.00.00.00.00.00.00.00.00.01.01.00.00.00.00.00.00.00.02.00.00.00.00.00.00.00.00.00.00.00.00.00.04.01.00.00.01.00.00.00.00.00.00.00.00.00.00.00.00.00.00.02.00.00.00.00.00.00.00.00.00.00.00.00.00.00.00.00.01.00.00.00.00.00.00.020.01.00.00.00.00.00.00.00.00.00.05.00.00.00.00.00.00.00.0137.01.00.00.00.00.00.00.00.00.00.00.00.00.00.00.092.00.00.00.00.01.01.00.00.00.01.00.00.00.00.00.00.00.00.00.00.00.00.00.00.00.00.01.00.00.02.00.060.00.00.00.00.00.00.00.00.00.00.00.00.00.00.00.00.00.02.02.00.00.02.04.00.02.00.00.00.00.00.00.010.00.00.00.00.00.00.00.00.00.00.00.00.00.00.00.00.07.00.00.00.00.00.00.00.00.00.00.00.00.00.00.00.00.00.00.00.00.00.05.00.00.00.00.00.00.00.00.00.00.00.02.00.00.00.00.00.00.050.00.00.00.00.00.00.00.00.00.00.00.00.00.00.00.00.00.00.00.00.00.00.00.00.00.00.00.05.00.00.00.00.00.00.00.00.00.00.00.00.00.00.00.00.00.00.00.00.00.00.00.00.00.00.00.00.00.00.00.00.00.00.00.00.00.00.00.00.00.00.00.00.00.02.00.00.00.00.00.06.00.00.00.00.00.00.00.05.03.00.00.00.00.00.00.00.00.00.00.00.00.00.00.00.00.00.00.00.00.00.00.00.00.00.00.00.00.03.00.01.00.00.00.02.00.00.01.00.00.00.00.03.04.00.00.00.02.00.00.00.00.00.00.00.00.00.00.00.00.00.00.00.00.00.00.00.03.00.00.00.00.00.00.00.00.00.00.00.00.00.00.00.00.00.00.00.05.00.00.00.010.02.00.00.01.00.00.00.00.010.00.03.00.00.03.00.00.00.00.00.00.00.00.00.00.010.00.00.00.00.00.00.00.00.00.00.00.00.00.00.00.00.00.00.00.00.00.00.00.00.00.060.00.00.01.00.00.04.00.00.05.07.00.00.00.00.00.010.00.00.00.00.00.04.00.00.01.00.00.00.00.00.00.00.00.00.00.00.00.00.02.00.00.00.00.00.00.00.00.00.00.00.00.00.00.00.00.00.00.00.00.00.00.00.00.03.00.00.01.00.00.00.00.00.00.02.00.00.00.00.00.00.00.00.00.00.00.00.00.00.02.00.00.0100.00.00.00.00.00.00.00.00.00.00.00.00.00.00.020.01.00.00.00.03.00.00.00.00.05.00.00.00.00.00.00.00.00.00.06.00.00.01.00.03.00.00.00.00.00.01.00.00.00.00.00.00.00.00.00.00.00.00.00.00.04.00.00.05.010.00.00.00.00.00.00.00.00.00.00.00.0200.00.00.00.00.00.00.00.00.00.00.00.00.00.00.04.00.00.00.00.0140.00.00.06.00.00.00.00.00.014.00.00.00.00.00.00.00.00.02.00.00.00.00.00.00.00.02.00.00.00.00.03.00.00.00.00.00.00.00.00.00.00.00.00.00.00.00.00.02.00.00.00.00.00.00.00.00.00.00.00.03.05.00.00.00.00.00.00.00.00.00.02.01.00.00.00.00.00.00.00.00.00.00.00.00.00.00.00.00.00.00.00.00.00.00.00.00.00.00.00.00.00.00.02.00.00.00.00.00.00.00.00.00.00.00.00.00.01.00.00.00.02.00.00.00.00.00.00.00.00.00.00.00.00.00.0300.00.00.03.00.00.00.00.00.00.00.00.01.00.00.00.00.00.00.00.00.00.00.00.0100.00.00.00.00.00.00.00.00.00.02.03.00.00.00.00.00.00.00.00.00.00.00.00.00.00.00.02.00.00.00.00.00.03.00.00.00.04.00.00.00.00.00.00.00.03.00.00.00.00.00.00.00.00.00.00.00.00.00.00.00.00.00.00.00.00.05.00.00.00.00.01.00.00.02.00.00.03.00.06.00.00.00.00.00.00.00.00.00.00.02.02.00.00.00.00.00.00.00.00.00.00.00.02.05.00.00.04.00.00.00.00.00.00.020.00.00.00.00.00.00.00.01.00.00.00.00.00.00.00.00.00.00.05.07.00.00.00.00.00.00.00.010.00.00.00.00.03.00.00.05.00.00.00.00.00.00.00.00.00.00.00.01.05.00.02.00.024.00.00.00.00.00.00.00.00.00.060.00.00.00.00.00.00.00.010.00.00.00.01.00.02.00.06.020.00.00.00.00.00.01.00.00.00.01.00.02.00.00.00.01.02.00.01.00.00.02.00.00.00.00.00.00.03.00.00.00.01.02.00.00.00.00.00.00.03.00.010.00.00.00.00.00.00.00.00.00.00.00.00.00.00.00.00.00.00.00.00.00.00.00.00.00.00.00.048.00.03.00.00.00.00.00.00.010.00.00.00.00.00.00.04.00.01.00.02.00.010.00.00.00.03.03.00.00.00.00.00.00.00.00.00.00.00.00.00.00.00.00.00.00.02.00.00.00.00.03.00.03.00.00.03.00.03.00.00.00.05.02.00.00.013.00.05.02.01.00.00.00.00.03.00.00.00.00.00.00.00.00.00.00.00.00.00.00.00.00.00.00.00.00.00.00.00.00.00.00.01.00.00.00.00.00.00.03.00.00.00.00.00.01.00.00.00.00.00.00.00.00.00.00.00.00.00.06.00.02.01.00.00.00.00.00.00.00.00.00.00.00.00.00.00.00.05.00.00.00.00.00.00.00.00.00.00.00.00.00.00.00.00.00.00.00.00.00.00.00.00.00.00.00.00.00.00.00.00.00.00.00.00.00.03.00.00.00.00.00.00.01.00.00.00.00.00.00.00.00.01.00.00.00.00.00.00.00.00.00.03.00.00.05.04.03.00.00.00.00.00.00.00.00.00.00.00.00.00.00.00.00.00.00.00.00.00.00.00.00.00.00.00.00.00.00.00.00.02.00.01.02.00.00.06.00.00.00.00.00.00.00.00.00.00.00.00.00.05.00.03.00.02.00.00.00.00.030.00.00.00.00.00.00.00.00.00.01.00.00.00.00.00.00.00.00.00.00.00.020.00.00.00.00.00.00.00.00.03.00.00.00.00.00.00.00.02.00.00.00.03.00.00.00.00.00.00.00.00.00.00.00.00.01.060.00.00.00.00.00.00.00.00.00.00.00.00.00.00.06.00.05.03.00.00.00.00.00.00.06.00.01.07.00.02.00.00.00.00.00.00.00.00.00.00.00.00.00.00.01.04.00.00.00.00.00.00.00.00.00.05.00.010.00.00.00.00.00.00.00.020.00.00.00.00.00.00.00.00.00.00.00.00.00.00.00.00.00.02.02.00.00.03.00.00.00.00.00.00.00.00.00.00.00.00.00.00.00.00.010.00.00.00.00.00.020.00.00.00.00.00.00.00.00.00.00.00.00.02.00.00.00.00.00.06.00.0300.020.00.00.00.015.00.00.00.010.00.00.00.00.02.00.00.00.050.00.00.00.00.00.00.00.00.00.00.02.00.03.00.050.00.00.00.00.03.00.00.04.00.00.04.00.00.00.00.00.02.01.00.00.00.02.00.00.00.00.00.00.00.00.00.00.00.00.00.00.00.00.00.03.00.00.02.00.00.00.00.02.00.00.00.00.00.00.00.00.00.00.00.00.04.00.00.00.00.04.00.015.00.01.00.00.00.00.00.00.00.00.00.030.02.00.00.02.00.00.05.00.00.00.00.00.00.00.00.00.00.00.00.00.00.00.00.02.010.00.00.00.00.00.00.00.00.00.00.00.00.00.00.00.02.00.00.00.02.04.00.00.00.06.060.02.00.00.00.05.02.00.00.00.00.00.00.00.00.00.03.00.02.00.00.00.00.00.00.00.020.00.05.00.00.00.01.02.08.05.00.00.00.00.00.010.00.050.00.00.00.00.00.00.00.01.00.00.00.00.00.00.04.00.00.00.00.00.00.00.00.00.00.02.00.00.010.00.00.00.00.00.00.00.00.00.00.00.00.00.00.00.00.00.00.00.00.03.00.00.00.00.07.02.010.03.00.030.00.00.00.00.010.05.00.03.04.00.00.00.00.00.00.03.00.00.00.00.00.00.00.01.00.00.00.05.00.03.00.00.00.00.02.00.02.00.00.00.00.00.00.04.00.00.00.00.00.00.00.00.011.00.020.024.00.00.00.00.00.01.00.00.00.00.00.02.00.00.00.00.00.00.03.02.00.00.00.00.00.00.00.00.00.03.00.00.00.020.00.00.00.00.00.00.00.02.05.00.00.00.00.00.00.02.00.02.00.00.00.05.00.00.00.00.00.00.00.030.00.00.00.02.03.00.02.030.00.00.00.00.00.00.00.00.00.00.00.00.00.00.00.05.00.00.00.00.02.00.00.00.00.02.00.00.00.06.00.00.00.00.00.00.00.00.00.00.00.00.00.00.00.00.00.00.00.00.00.00.00.00.03.00.00.00.00.00.00.00.00.06.00.00.00.00.00.00.00.00.00.00.03.00.04.00.00.00.00.00.00.00.00.00.00.00.00.00.00.00.00.00.00.00.02.010.00.090.05.00.010.00.00.00.00.00.00.01.00.020.00.03.00.00.00.00.00.00.00.01.05.00.00.06.00.00.00.00.00.00.00.00.02.02.02.00.00.00.00.00.00.00.00.00.00.00.00.00.00.00.00.00.00.00.02.04.05.06.00.00.00.00.00.00.01.00.00.00.00.00.00.00.00.00.00.00.00.00.00.02.00.00.00.06.00.00.00.00.00.00.00.00.00.00.00.00.00.06.00.00.00.00.00.00.01.08.00.020.00.00.03.00.00.00.00.00.05.00.00.00.00.00.00.00.00.00.00.00.00.00.00.00.00.00.00.00.00.06.00.00.00.02.00.00.00.00.00.00.00.00.00.00.00.00.00.00.00.00.010.03.00.00.00.00.00.00.00.00.00.00.00.00.00.00.00.00.00.00.02.00.03.00.00.00.00.010.00.00.00.04.00.00.00.00.00.00.00.01.00.00.00.00.00.05.04.00.00.02.00.00.00.00.00.02.00.00.00.00.00.00.00.00.05.00.00.04.060.00.00.00.00.00.00.00.00.00.00.00.00.00.00.00.00.00.010.00.00.00.00.00.00.00.00.00.00.00.00.00.00.00.00.00.00.00.00.00.00.00.00.00.00.020.00.00.00.00.00.00.00.00.00.00.00.00.010.00.00.00.00.00.00.00.00.00.00.00.00.00.00.03.00.00.00.00.00.00.00.00.00.00.00.00.00.00.00.00.015.010.00.00.00.00.010.00.00.00.00.00.00.00.00.00.00.00.00.00.00.00.00.00.00.00.00.00.00.00.00.00.00.00.00.05.00.00.00.00.00.00.00.00.00.00.00.03.00.00.00.00.00.04.00.02.00.00.00.00.00.00.00.00.00.00.00.00.00.00.00.00.03.00.03.010.00.00.00.015.00.00.02.00.010.05.00.00.00.00.00.00.00.00.00.00.04.00.00.02.020.00.00.00.00.00.00.00.00.00.00.00.00.02.00.00.04.00.02.00.00.03.00.00.00.03.00.00.00.00.00.00.00.00.00.00.00.00.00.00.00.00.00.00.00.04.00.00.00.00.00.00.00.00.02.00.00.00.00.00.02.05.00.00.00.00.00.00.00.00.00.00.00.00.00.00.03.00.00.00.00.03.03.00.00.015.00.00.00.00.01.00.00.03.03.00.00.00.00.00.00.00.00.00.00.00.00.05.04.03.05.00.00.00.00.00.00.04.00.00.00.00.00.00.010.00.00.00.00.00.02.02.010.03.00.00.00.00.00.00.00.00.00.00.00.00.00.00.00.00.00.00.00.07.00.00.00.00.00.02.00.00.00.00.00.00.00.03.00.00.02.00.00.00.00.00.00.05.00.00.00.00.00.00.00.03.00.00.05.01.00.00.00.00.03.020.00.00.00.00.00.00.00.00.010.02.00.00.00.07.02.05.00.00.00.00.02.00.00.00.080.00.00.00.00.02.00.00.04.00.00.01.00.00.00.030.04.013.06.00.00.00.00.00.010.00.00.00.00.03.00.05.00.00.00.00.00.00.00.00.00.00.00.04.03.00.00.00.00.00.00.00.00.00.05.00.02.00.00.00.00.00.00.00.00.00.03.00.00.00.00.00.03.00.00.00.00.03.00.00.00.00.00.05.00.00.00.00.00.00.00.00.00.00.00.00.02.00.00.00.00.00.00.00.00.02.010.00.00.00.00.00.00.00.015.01.00.00.00.05.05.00.00.00.00.02.00.00.00.06.00.00.020.00.00.00.00.00.00.02.00.00.00.04.00.00.00.00.00.06.00.00.00.00.00.00.00.05.00.00.00.00.03.00.00.00.00.00.00.00.06.00.00.04.00.00.00.00.08.00.00.00.00.015.02.00.00.00.00.00.00.00.00.00.00.00.00.00.00.00.00.00.00.00.00.00.00.00.00.03.00.00.00.00.00.00.00.00.00.00.00.03.00.00.00.00.00.00.00.00.00.00.00.00.06.02.03.00.00.0122.00.00.00.04.00.00.010.03.00.00.00.00.00.00.05.00.00.00.00.02.00.00.00.00.00.00.00.00.00.00.00.00.00.00.00.014.00.00.00.00.00.00.04.00.00.00.00.050.00.00.00.00.00.00.00.00.00.00.00.00.00.00.00.00.00.00.00.00.00.00.00.00.00.00.00.06.00.00.00.00.00.03.00.00.00.00.00.00.00.00.00.00.00.00.00.00.00.00.00.00.00.00.00.01.00.00.00.00.00.00.020.00.00.00.02.00.00.00.00.00.00.00.00.00.00.00.00.00.00.00.00.00.00.00.020.00.00.00.00.00.05.00.00.00.00.00.00.00.00.01.00.00.00.00.00.00.00.00.00.02.00.00.00.00.00.00.00.00.00.00.00.00.00.00.00.00.00.00.00.00.00.00.00.00.00.00.00.00.00.00.04.00.00.00.00.00.02.00.00.00.00.00.00.00.00.00.01.00.00.00.00.00.00.00.00.00.00.00.00.00.03.00.00.00.00.00.00.00.00.00.00.00.00.00.00.00.00.00.00.00.00.02.00.00.00.00.00.00.00.00.00.00.00.00.00.00.00.00.00.00.00.00.00.00.00.00.02.00.00.00.00.00.00.00.00.00.00.00.00.00.00.00.00.00.00.00.00.00.00.00.00.00.00.00.00.00.00.00.00.00.01.02.00.00.00.00.00.00.05.00.01.00.00.00.00.00.03.03.00.00.00.00.08.01.00.00.00.00.00.00.00.00.00.00.00.00.00.00.00.00.00.00.00.00.00.00.00.00.00.00.00.00.00.0200.00.00.00.00.00.00.00.00.01.00.00.00.00.00.00.00.00.02.03.00.01.00.00.00.00.04.00.00.00.00.00.00.00.00.00.00.00.00.00.00.00.00.00.01.00.01.00.00.00.00.00.00.00.00.00.00.00.00.00.00.00.00.00.00.00.00.00.00.00.00.00.00.00.00.00.00.00.00.00.00.00.00.00.00.00.00.00.00.00.00.00.00.00.00.00.00.00.00.00.00.02.00.00.00.00.00.00.00.00.00.00.00.02.00.00.00.00.00.00.00.01.00.00.00.00.00.00.00.00.00.00.00.00.00.03.00.00.03.00.00.00.00.00.00.00.00.00.00.00.00.00.00.00.03.00.00.00.01.00.00.00.00.00.05.00.02.00.00.00.00.02.00.00.00.00.00.00.00.00.02.00.00.00.00.00.00.00.00.00.00.00.00.00.00.00.00.00.00.00.00.00.00.00.00.00.00.00.00.00.00.03.00.00.00.04.00.00.00.00.00.00.00.00.00.00.00.00.00.07.00.00.00.00.00.00.00.00.00.00.00.00.00.00.00.00.00.00.00.00.00.03.00.00.00.00.00.00.00.00.00.00.00.00.00.00.00.00.00.00.02.00.00.00.00.00.00.03.00.00.00.00.00.00.00.00.00.02.06.00.00.03.03.00.00.00.00.00.00.01.00.00.00.00.00.00.00.00.00.00.00.00.00.00.00.00.00.00.00.010.00.00.00.00.00.02.00.00.00.00.00.00.00.00.00.00.00.00.00.00.00.00.00.00.00.00.00.05.00.00.00.00.00.00.00.00.00.00.00.00.00.00.00.00.00.03.00.00.00.04.02.00.00.00.02.00.00.00.01.00.00.00.00.00.00.00.00.00.00.00.00.00.00.00.00.00.00.00.00.00.00.00.00.00.00.00.00.00.00.00.023.00.00.05.03.00.00.00.00.00.00.020.00.00.00.00.00.00.00.00.00.00.00.00.00.00.00.00.00.03.00.01.00.00.00.00.00.00.00.00.00.00.00.00.00.00.00.00.00.00.00.00.00.00.00.00.00.00.00.00.00.00.00.0100.00.00.00.00.00.00.00.00.00.00.00.00.00.00.00.00.07.00.00.00.00.00.00.02.02.00.00.00.00.00.00.06.00.00.00.00.00.00.00.00.00.00.00.02.00.00.00.00.00.00.05.00.00.00.00.00.00.00.00.00.00.00.00.00.00.00.00.05.00.00.00.00.00.00.04.00.00.00.00.00.00.00.00.00.00.00.00.00.00.00.00.00.03.00.00.00.00.00.00.00.00.00.00.00.00.00.00.00.00.00.00.00.00.00.00.00.00.00.00.00.00.00.00.00.00.00.00.00.00.00.00.00.05.00.00.00.00.00.00.00.00.00.00.00.00.00.00.00.02.00.00.00.00.00.00.00.03.00.00.00.01.00.00.00.00.00.00.00.00.00.00.00.00.00.00.00.00.00.00.00.00.055.02.00.00.00.00.00.00.00.00.00.00.00.00.00.00.00.00.03.00.00.00.00.00.00.00.00.02.00.00.05.00.00.00.05.00.03.00.00.00.00.00.00.00.00.00.00.00.00.00.00.00.00.00.00.00.00.00.00.02.00.03.00.00.00.00.00.00.05.00.00.00.00.03.00.00.00.00.00.00.00.00.00.00.00.00.02.00.00.00.010.00.00.00.00.00.00.00.00.00.00.00.00.00.05.00.00.00.00.00.00.03.00.00.00.00.00.00.02.00.03.01.00.02.02.04.04.00.00.00.01.00.00.00.00.00.00.00.00.00.00.03.00.00.00.00.00.00.00.00.00.00.00.00.07.00.00.00.02.00.00.00.00.00.00.00.02.00.00.00.00.00.00.00.00.00.00.00.00.00.00.00.00.00.00.00.00.00.01.00.00.00.00.00.00.03.00.00.00.00.00.00.00.00.00.00.00.00.00.00.00.00.00.00.00.00.00.00.00.00.00.00.00.00.00.00.00.00.02.00.00.00.00.00.00.00.00.00.00.00.05.00.00.00.00.00.00.00.00.00.02.00.01.00.00.00.01.00.00.00.00.00.00.00.018.00.00.00.00.04.00.00.00.00.00.00.00.00.00.02.00.00.00.00.00.00.00.00.00.00.00.00.05.05.00.00.01.00.00.00.00.00.00.00.00.00.00.00.00.00.00.00.00.00.00.00.00.00.00.00.01.00.00.00.03.00.00.05.00.00.00.00.00.00.00.00.00.00.02.00.00.00.00.00.00.00.00.00.00.00.00.00.00.00.00.00.00.01.00.00.00.00.00.00.00.00.02.00.00.05.00.00.00.03.00.00.00.00.00.00.00.00.00.00.00.00.00.00.00.00.00.00.00.02.00.00.01.00.00.00.00.01.00.00.03.00.00.00.00.02.00.00.00.00.00.00.00.00.00.00.00.00.00.00.00.00.00.00.00.00.00.00.00.00.00.00.00.00.00.00.00.06.00.00.00.00.00.00.00.00.00.00.00.00.00.00.00.00.00.00.00.00.00.00.00.00.00.00.00.00.00.00.00.03.00.00.00.00.00.00.00.00.00.02.00.00.00.00.00.00.00.00.00.00.00.00.00.00.00.02.00.00.00.00.00.00.00.00.00.00.00.00.00.00.00.012.01.00.00.00.00.010.00.00.00.00.00.04.00.00.00.03.00.00.00.00.00.04.00.00.00.00.00.00.00.00.00.00.00.00.00.00.00.01.00.00.00.00.00.00.00.00.00.00.00.00.00.00.00.00.00.00.00.00.00.00.00.00.00.00.02.00.02.00.00.00.00.00.00.00.03.00.00.00.030.00.00.00.00.00.00.00.00.00.00.00.00.00.01.00.00.00.02.05.00.00.00.00.00.00.00.00.01.04.00.00.00.00.00.00.00.00.00.012.00.00.00.03.00.00.00.00.00.00.00.00.00.00.00.00.00.00.00.00.00.01.00.00.02.00.00.00.00.00.00.01.00.00.00.00.00.00.00.00.00.00.06.02.00.00.00.00.00.00.00.00.03.00.00.03.04.00.00.00.00.00.00.00.00.00.00.00.02.00.00.00.00.00.00.00.00.00.00.00.00.00.00.00.00.00.00.00.00.02.00.00.00.00.00.02.00.00.00.00.00.00.00.00.00.00.00.00.00.00.00.00.00.00.00.00.00.00.00.00.00.00.00.00.00.00.00.00.00.00.00.00.00.00.00.00.00.00.00.00.02.02.00.00.05.00.00.05.00.00.03.00.00.00.00.00.00.00.00.00.00.00.00.00.00.00.00.00.03.00.00.00.00.00.00.05.00.00.00.01.00.00.00.00.00.00.00.00.00.00.00.00.04.00.00.00.00.00.00.00.02.00.00.00.00.00.00.00.00.00.00.00.00.00.00.00.00.00.00.03.01.00.00.00.00.00.00.00.00.00.00.00.00.06.00.00.07.03.00.00.00.00.00.00.00.00.00.00.02.00.00.00.00.00.00.00.00.00.00.00.00.00.00.00.00.00.00.00.00.00.00.00.00.00.00.00.00.00.00.00.00.00.00.00.02.00.00.00.00.00.00.00.00.00.00.00.00.00.00.00.00.00.00.00.00.00.00.00.02.00.00.00.00.00.00.00.00.00.00.00.01.00.05.00.00.010.02.00.03.02.00.00.00.00.05.01.02.00.00.00.00.03.00.00.00.00.00.00.00.00.00.00.00.00.00.00.00.01.00.00.00.010.00.02.00.00.00.00.00.00.00.00.00.00.00.00.00.00.00.00.00.05.00.00.00.00.00.00.00.00.00.00.00.00.00.00.011.00.04.03.00.00.00.00.00.00.00.00.00.00.03.00.00.00.00.00.03.00.00.03.00.05.00.00.05.00.02.01.00.00.00.00.00.00.00.00.00.00.00.00.00.06.00.00.00.01.00.00.05.00.00.00.01.00.00.00.00.00.00.00.00.00.00.00.00.02.00.00.00.00.00.00.00.03.00.00.03.00.00.00.06.00.00.00.00.00.04.04.00.05.00.015.05.04.00.00.00.00.00.00.00.00.00.00.00.00.05.00.00.00.00.00.00.00.00.00.00.00.00.00.00.00.00.00.00.00.00.00.00.00.00.00.03.00.00.00.00.00.00.00.00.00.00.00.00.00.00.00.00.00.00.00.00.00.01.02.00.00.00.00.00.00.00.00.07.00.00.00.00.00.00.00.00.00.00.00.01.00.00.00.05.00.00.00.00.00.03.01.00.04.00.00.00.00.00.00.00.06.03.04.00.00.00.00.02.03.06.02.00.00.00.00.00.00.02.00.00.00.00.00.00.00.00.00.00.00.00.00.00.00.00.00.00.00.00.00.02.00.00.00.015.00.02.00.00.00.00.00.00.00.00.00.00.00.00.00.00.06.00.00.00.00.00.00.00.00.05.02.00.00.00.00.00.00.00.00.00.00.00.00.00.00.00.00.00.00.00.00.00.00.00.00.00.00.00.00.00.00.00.00.00.00.00.00.00.00.00.00.00.07.00.04.00.00.00.00.00.00.02.00.00.02.00.00.00.00.00.00.00.00.00.00.00.00.00.00.00.00.00.00.04.00.00.00.00.00.00.00.00.05.00.00.00.00.00.02.00.00.00.00.00.00.00.00.00.00.00.00.00.00.00.00.00.00.00.00.00.00.01.00.00.00.00.00.00.00.00.00.00.00.00.00.00.02.00.00.01.00.00.00.06.00.00.00.00.00.01.02.00.00.02.00.00.00.00.00.01.00.00.00.00.00.04.00.00.00.02.00.00.00.00.00.00.00.00.00.02.00.00.00.00.00.00.00.00.00.010.00.02.00.00.01.00.00.00.00.03.05.00.00.00.00.00.04.00.00.02.08.00.00.00.00.01.00.00.00.00.00.00.00.00.00.00.00.00.00.00.02.02.00.00.00.00.00.00.00.00.03.00.00.00.00.02.00.00.00.00.00.00.03.00.04.00.00.00.00.00.00.00.00.00.00.00.00.00.00.00.00.03.00.00.00.00.05.00.00.01.00.00.00.00.02.00.00.00.00.00.06.00.00.00.00.00.00.00.00.00.00.00.00.00.00.00.00.00.00.00.00.00.00.00.00.00.00.00.00.00.00.00.00.00.00.00.01.00.00.04.00.00.00.00.00.00.03.00.00.00.04.00.00.00.00.00.00.03.00.00.00.00.00.03.00.00.00.00.00.03.00.00.00.03.00.00.00.00.00.00.00.00.00.00.00.00.00.00.00.00.00.00.00.00.00.00.00.00.00.06.00.00.00.00.00.00.00.00.00.00.00.00.00.05.00.00.00.00.00.02.00.00.02.00.02.00.00.01.00.00.02.00.02.00.00.00.03.00.00.00.00.00.00.00.00.00.00.00.00.00.00.00.06.05.00.00.00.00.00.04.00.02.00.00.00.00.00.010.00.04.00.00.00.00.00.00.00.00.03.00.00.01.00.00.00.00.00.06.00.00.00.00.00.00.05.00.00.00.00.00.00.00.00.00.00.00.010.02.00.00.00.00.00.00.00.00.00.00.00.00.00.00.00.00.00.00.00.00.00.00.00.00.00.00.03.00.03.00.00.00.02.00.00.00.00.00.00.00.00.04.04.00.00.00.00.00.00.00.00.00.05.00.00.00.00.00.00.00.00.03.00.00.03.00.00.00.00.00.00.00.00.01.00.00.00.00.01.00.00.00.00.00.02.02.00.00.00.00.03.00.00.00.00.00.00.03.04.00.010.011.00.00.03.03.00.03.00.00.00.00.00.00.00.00.03.00.00.00.00.02.00.04.00.00.00.05.00.00.00.00.00.00.02.00.00.00.00.00.04.00.00.00.00.010.02.00.00.00.00.00.03.00.00.00.00.00.03.02.00.00.00.00.00.00.00.05.00.00.00.00.00.02.00.00.00.00.02.00.00.05.00.03.00.04.00.00.00.00.00.00.00.00.00.00.02.00.00.00.00.03.00.00.03.00.03.05.00.00.00.00.00.00.00.00.00.00.00.00.00.00.00.00.00.01.00.00.00.03.00.00.00.00.00.010.00.00.00.03.00.04.00.00.00.00.010.00.00.00.00.00.00.015.00.00.05.00.00.00.00.00.02.010.00.00.00.00.00.00.00.00.00.05.00.00.00.03.00.00.00.00.00.00.00.00.00.00.00.00.00.00.00.00.00.00.04.02.00.00.00.00.00.06.03.00.00.00.00.03.00.010.03.00.00.00.04.00.00.02.00.00.00.00.03.06.00.00.00.00.03.010.00.00.00.00.00.02.03.00.03.00.06.00.03.00.030.00.02.00.00.00.00.00.00.00.030.00.00.00.00.00.00.00.00.00.00.00.00.00.010.00.03.00.00.00.00.00.00.00.00.00.02.03.09.00.00.00.00.00.00.00.00.00.03.03.00.06.00.00.00.05.00.020.00.00.06.06.00.01.01.00.01.00.05.00.00.00.03.00.03.00.00.00.00.00.00.00.00.00.00.00.02.00.00.00.00.00.03.00.08.00.02.00.00.00.00.00.00.00.00.00.03.00.02.00.00.00.00.00.00.00.00.00.00.00.00.00.00.00.00.00.00.00.00.00.00.00.00.00.00.00.00.00.00.00.00.00.00.00.00.00.00.00.00.00.00.00.00.00.02.00.00.00.00.00.00.00.00.00.06.03.00.03.00.012.00.00.00.00.00.00.00.00.00.00.00.00.00.00.00.00.00.00.00.00.01.00.00.00.00.00.00.00.00.00.00.00.00.00.00.00.00.00.00.00.00.00.00.00.00.00.00.00.00.00.00.00.00.00.00.00.02.01.00.00.00.00.00.00.00.00.00.02.00.00.00.00.03.00.00.00.07.00.00.00.00.00.00.00.00.00.00.00.00.00.03.00.00.00.00.00.00.00.00.00.00.00.00.00.00.00.00.00.05.00.00.00.05.00.00.00.00.00.00.01.00.00.00.00.00.00.00.00.00.00.00.00.00.00.02.00.02.00.00.00.00.00.00.00.00.00.00.00.00.00.00.00.00.00.00.00.00.0 to numeric",
     "output_type": "error",
     "traceback": [
      "\u001b[1;31m---------------------------------------------------------------------------\u001b[0m",
      "\u001b[1;31mValueError\u001b[0m                                Traceback (most recent call last)",
      "\u001b[1;32mC:\\ProgramData\\Anaconda3\\lib\\site-packages\\pandas\\core\\nanops.py\u001b[0m in \u001b[0;36m_ensure_numeric\u001b[1;34m(x)\u001b[0m\n\u001b[0;32m   1621\u001b[0m         \u001b[1;32mtry\u001b[0m\u001b[1;33m:\u001b[0m\u001b[1;33m\u001b[0m\u001b[1;33m\u001b[0m\u001b[0m\n\u001b[1;32m-> 1622\u001b[1;33m             \u001b[0mx\u001b[0m \u001b[1;33m=\u001b[0m \u001b[0mfloat\u001b[0m\u001b[1;33m(\u001b[0m\u001b[0mx\u001b[0m\u001b[1;33m)\u001b[0m\u001b[1;33m\u001b[0m\u001b[1;33m\u001b[0m\u001b[0m\n\u001b[0m\u001b[0;32m   1623\u001b[0m         \u001b[1;32mexcept\u001b[0m \u001b[1;33m(\u001b[0m\u001b[0mTypeError\u001b[0m\u001b[1;33m,\u001b[0m \u001b[0mValueError\u001b[0m\u001b[1;33m)\u001b[0m\u001b[1;33m:\u001b[0m\u001b[1;33m\u001b[0m\u001b[1;33m\u001b[0m\u001b[0m\n",
      "\u001b[1;31mValueError\u001b[0m: could not convert string to float: '0.00.00.00.00.00.00.00.00.00.00.00.00.00.00.00.00.00.00.00.00.00.00.00.00.00.00.00.00.00.00.00.00.00.00.00.00.00.00.00.00.00.00.00.00.00.00.00.00.00.00.00.00.00.00.00.00.00.00.00.00.00.00.00.00.00.00.00.00.00.00.00.00.00.00.00.00.00.00.00.00.00.00.00.00.00.00.00.00.00.00.00.00.00.00.00.00.00.00.00.00.00.00.00.00.00.00.00.00.00.00.00.00.00.00.00.00.00.00.00.00.00.00.00.00.00.00.00.00.00.00.00.00.00.00.00.00.00.00.00.00.00.00.00.00.00.00.00.00.00.00.00.00.00.00.00.00.00.00.00.00.00.00.00.00.00.00.00.00.00.00.00.00.00.00.00.00.00.00.00.00.00.00.00.00.00.00.00.00.00.00.00.00.00.00.00.00.00.00.00.00.00.00.00.00.00.00.00.00.00.00.00.00.00.00.00.00.00.00.00.00.00.00.00.00.00.00.00.00.00.00.00.00.00.00.00.00.00.00.00.00.00.00.00.00.00.00.00.00.00.00.00.00.00.00.00.00.00.00.00.00.00.00.00.00.00.00.00.00.00.00.00.00.00.00.00.00.00.00.00.00.00.00.00.00.00.00.00.00.00.00.00.00.00.00.00.00.00.00.00.00.00.00.00.00.00.00.00.00.00.00.00.00.00.00.00.00.00.00.00.00.00.00.00.00.00.00.00.00.00.00.00.00.00.00.00.00.00.00.00.00.00.00.00.00.00.00.00.00.00.00.00.00.00.00.00.00.00.00.00.00.00.00.00.00.00.00.00.00.00.00.00.00.00.00.00.00.00.00.00.00.00.00.00.00.00.00.00.00.00.00.00.00.00.00.00.00.00.00.00.00.00.00.00.00.00.00.00.00.00.00.00.00.00.00.00.00.00.00.00.00.00.00.00.00.00.00.00.00.00.00.00.00.00.00.00.00.00.00.00.00.00.00.00.00.00.00.00.00.00.00.00.00.00.00.00.00.00.00.00.00.00.00.00.00.00.00.00.00.00.00.00.00.00.00.00.00.00.00.00.00.00.00.00.00.00.00.00.00.00.00.00.00.00.00.00.00.00.00.00.00.00.00.00.00.00.00.00.00.00.00.00.00.00.00.00.00.00.00.00.00.00.00.00.00.00.00.00.00.00.00.00.00.00.00.00.00.00.00.00.00.00.00.00.00.00.00.00.00.00.00.00.00.00.00.00.00.00.00.00.00.00.00.00.00.00.00.00.00.00.00.00.00.00.00.00.00.00.00.00.00.00.00.00.00.00.00.00.00.00.00.00.00.00.00.00.00.00.00.00.00.00.00.00.00.00.00.00.00.00.00.00.00.00.00.00.00.00.00.00.00.00.00.00.00.00.00.00.00.00.00.00.00.00.00.00.00.00.00.00.00.00.00.00.00.00.00.00.00.00.00.00.00.00.00.00.00.00.00.00.00.00.00.00.00.00.00.00.00.00.00.00.00.00.00.00.00.00.00.00.00.00.00.00.00.00.00.00.00.00.00.00.00.00.00.00.00.00.00.00.00.00.00.00.00.00.00.00.00.00.00.00.00.00.00.00.00.00.00.00.00.00.00.00.00.00.00.00.00.00.00.00.00.00.00.00.00.00.00.00.00.00.00.00.00.00.00.00.00.00.00.00.00.00.00.00.00.00.00.00.00.00.00.00.00.00.00.00.00.00.00.00.00.00.00.00.00.00.00.00.00.00.00.00.00.00.00.00.00.00.00.00.00.00.00.00.00.00.00.00.00.00.00.00.00.00.00.00.00.00.00.00.00.00.00.00.00.00.00.00.00.00.00.00.00.00.00.00.00.00.00.00.00.00.00.00.00.00.00.00.00.00.00.00.00.00.00.00.00.00.00.00.00.00.00.00.00.00.00.00.00.00.00.00.00.00.00.00.00.00.00.00.00.00.00.00.00.00.00.00.00.00.00.00.00.00.00.00.00.00.00.00.00.00.00.00.00.00.00.00.00.00.00.00.00.00.00.00.00.00.00.00.00.00.00.00.00.00.00.00.00.00.00.00.00.00.00.00.00.00.00.00.00.00.00.00.00.00.00.00.00.00.00.00.00.00.00.00.00.00.00.00.00.00.00.00.00.00.00.00.00.00.00.00.00.00.00.00.00.00.00.00.00.00.00.00.00.00.00.00.00.00.00.00.00.00.00.00.00.00.00.00.00.00.00.00.00.00.00.00.00.00.00.00.00.00.00.00.00.00.00.00.00.00.00.00.00.00.00.00.00.00.00.00.00.00.00.00.00.00.00.00.00.00.00.00.00.00.00.00.00.00.00.00.00.00.00.00.00.00.00.00.00.00.00.00.00.00.00.00.00.00.00.00.00.00.00.00.00.00.00.00.00.00.00.00.00.00.00.00.00.00.00.00.00.00.00.00.00.00.00.00.00.00.00.00.00.00.00.00.00.00.00.00.00.00.00.00.00.00.00.00.00.00.00.00.00.00.00.00.00.00.00.00.00.00.00.00.00.00.00.00.00.00.00.00.00.00.00.00.00.00.00.00.00.00.00.00.00.00.00.00.00.00.00.00.00.00.00.00.00.00.00.00.00.00.00.00.00.00.00.00.00.00.00.00.00.00.00.00.00.00.00.00.00.00.00.00.00.00.00.00.00.00.00.00.00.00.00.00.00.00.00.00.00.00.00.00.00.00.00.00.00.00.00.00.00.00.00.00.00.00.00.00.00.00.00.00.00.00.00.00.00.00.00.00.00.00.00.00.00.00.00.00.00.00.00.00.00.00.00.00.00.00.00.00.00.00.00.00.00.00.00.00.00.00.00.00.00.00.00.00.00.00.00.00.00.00.00.00.00.00.00.00.00.00.00.00.00.00.00.00.00.00.00.00.00.00.00.00.00.00.00.00.00.00.00.00.00.00.00.00.00.00.00.00.00.00.00.00.00.00.00.00.00.00.00.00.00.00.00.00.00.00.00.00.00.00.00.00.00.00.00.00.00.00.00.00.00.00.00.00.00.00.00.00.00.00.00.00.00.00.00.00.00.00.00.00.00.00.00.00.00.00.00.00.00.00.00.00.00.00.00.00.00.00.00.00.00.00.00.00.00.00.00.00.00.00.00.00.00.00.00.00.00.00.00.00.00.00.00.00.00.00.00.00.00.00.00.00.00.00.00.00.00.00.00.00.00.00.00.00.00.00.00.00.00.00.00.00.00.00.00.00.00.00.00.00.00.00.00.00.00.00.00.00.00.00.00.00.00.00.00.00.00.00.00.00.00.00.00.00.00.00.00.00.00.00.00.00.00.00.00.00.00.00.00.00.00.00.00.00.00.00.00.00.00.00.00.00.00.00.00.00.00.00.00.00.00.00.00.00.00.00.00.00.00.00.00.00.00.00.00.00.00.00.00.00.00.00.00.00.00.00.00.00.00.00.00.00.00.00.00.00.00.00.00.00.00.00.00.00.00.00.00.00.00.00.00.00.00.00.00.00.00.00.00.00.00.00.00.00.00.00.00.00.00.00.00.00.00.00.00.00.00.00.00.00.00.00.00.00.00.00.00.00.00.00.00.00.00.00.00.00.00.00.00.00.00.00.00.00.00.00.00.00.00.00.00.00.00.00.00.00.00.00.00.00.00.00.00.00.00.00.00.00.00.00.00.00.00.00.00.00.00.00.00.00.00.00.00.00.00.00.00.00.00.00.00.00.00.00.00.00.00.00.00.00.00.00.00.00.00.00.00.00.00.00.00.00.00.00.00.00.00.00.00.00.00.00.00.00.00.00.00.00.00.00.00.00.00.00.00.00.00.00.00.00.00.00.00.00.00.00.00.00.00.00.00.00.00.00.00.00.00.00.00.00.00.00.00.00.00.00.00.00.00.00.00.00.00.00.00.00.00.00.00.00.00.00.00.00.00.00.00.00.00.00.00.00.00.00.00.00.00.00.00.00.00.00.00.00.00.00.00.00.00.00.00.00.00.00.00.00.00.00.00.00.00.00.00.00.00.00.00.00.00.00.00.00.00.00.00.00.00.00.00.00.00.00.00.00.00.00.00.00.00.00.00.00.00.00.00.00.00.00.00.00.00.00.00.00.00.00.00.00.00.00.00.00.00.00.00.00.00.00.00.00.00.00.00.00.00.00.00.00.00.00.00.00.00.00.00.00.00.00.00.00.00.00.00.00.00.00.00.00.00.00.00.00.00.00.00.00.00.00.00.00.00.00.00.00.00.00.00.00.00.00.00.00.00.00.00.00.00.00.00.00.00.00.00.00.00.00.00.00.00.00.00.00.00.00.00.00.00.00.00.00.00.00.00.00.00.00.00.00.00.00.00.00.00.00.00.00.00.00.00.00.00.00.00.00.00.00.00.00.00.00.00.00.00.00.00.00.00.00.00.00.00.00.00.00.00.00.00.00.00.00.00.00.00.00.00.00.00.00.00.00.00.00.00.00.00.00.00.00.00.00.00.00.00.00.00.00.00.00.00.00.00.00.00.00.00.00.00.00.00.00.00.00.00.00.00.00.00.00.00.00.00.00.00.00.00.00.00.00.00.00.00.00.00.00.00.00.00.00.00.00.00.00.00.00.00.00.00.00.00.00.00.00.00.00.00.00.00.00.00.00.00.00.00.00.00.00.00.00.00.00.00.00.00.00.00.00.00.00.00.00.00.00.00.00.00.00.00.00.00.00.00.00.00.00.00.00.00.00.00.00.00.00.00.00.00.00.00.00.00.00.00.00.00.00.00.00.00.00.00.00.00.00.00.00.00.00.00.00.00.00.00.00.00.00.00.00.00.00.00.00.00.00.00.00.00.00.00.00.00.00.00.00.00.00.00.00.00.00.00.00.00.00.00.00.00.00.00.00.00.00.00.00.00.00.00.00.00.00.00.00.00.00.00.00.00.00.00.00.00.00.00.00.00.00.00.00.00.00.00.00.00.00.00.00.00.00.00.00.00.00.00.00.00.00.00.00.00.00.00.00.00.00.00.00.00.00.00.00.00.00.00.00.00.00.00.00.00.00.00.00.00.00.00.00.00.00.00.00.00.00.00.00.00.00.00.00.00.00.00.00.00.00.00.00.00.00.00.00.00.00.00.00.00.00.00.00.00.00.00.00.00.00.00.00.00.00.00.00.00.00.00.00.00.00.00.00.00.00.00.00.00.00.00.00.00.00.00.00.00.00.00.00.00.00.00.00.00.00.00.00.00.00.00.00.00.00.00.00.00.00.00.00.00.00.00.00.00.00.00.00.00.00.00.00.00.00.00.00.00.00.00.00.00.00.00.00.00.00.00.00.00.00.00.00.00.00.00.00.00.00.00.00.00.00.00.00.00.00.00.00.00.00.00.00.00.00.00.00.00.00.00.00.00.00.00.00.00.00.00.00.00.00.00.00.00.00.00.00.00.00.00.00.00.00.00.00.00.00.00.00.00.00.00.00.00.00.00.00.00.00.00.00.00.00.00.00.00.00.00.00.00.00.00.00.00.00.00.00.00.00.00.00.00.00.00.00.00.00.00.00.00.00.00.00.00.00.00.00.00.00.00.00.00.00.00.00.00.00.00.00.00.00.00.00.00.00.00.00.00.00.00.00.00.00.00.00.00.00.00.00.00.00.00.00.00.00.00.00.00.00.00.00.00.00.00.00.00.00.00.00.00.00.00.00.00.00.00.00.00.00.00.00.00.00.00.00.00.00.00.00.00.00.00.00.00.00.00.00.00.00.00.00.00.00.00.00.00.00.00.00.00.00.00.00.00.00.00.00.00.00.00.00.00.00.00.00.00.00.00.00.00.00.00.00.00.00.00.00.00.00.00.00.00.00.00.00.00.00.00.00.00.00.00.00.00.00.00.00.00.00.00.00.00.00.00.00.00.00.00.00.00.00.00.00.00.00.00.00.00.00.00.00.00.00.00.00.00.00.00.00.00.00.00.00.00.00.00.00.00.00.00.00.00.00.00.00.00.00.00.00.00.00.00.00.00.00.00.00.00.00.00.00.00.00.00.00.00.00.00.00.00.00.00.00.00.00.00.00.00.00.00.00.00.00.00.00.00.00.00.00.00.00.00.00.00.00.00.00.00.00.00.00.00.00.00.00.00.00.00.00.00.00.00.00.00.00.00.00.00.00.00.00.00.00.00.00.00.00.00.00.00.00.00.00.00.00.00.00.00.00.00.00.00.00.00.00.00.00.00.00.00.00.00.00.00.00.00.00.00.00.00.00.00.00.00.00.00.00.00.00.00.00.00.00.00.00.00.00.00.00.00.00.00.00.00.00.00.00.00.00.00.00.00.00.00.00.00.00.00.00.00.00.00.00.00.00.00.00.00.00.00.00.00.00.00.00.00.00.00.00.00.00.00.00.00.00.00.00.00.00.00.00.00.00.00.00.00.00.00.00.00.00.00.00.00.00.00.00.00.00.00.00.00.00.00.00.00.00.00.00.00.00.00.00.00.00.00.00.00.00.00.00.00.00.00.00.00.00.00.00.00.00.00.00.00.00.00.00.00.00.00.00.00.00.00.00.00.00.00.00.00.00.00.00.00.00.00.00.00.00.00.00.00.00.00.00.00.00.00.00.00.00.00.00.00.00.00.00.00.00.00.00.00.00.00.00.00.00.00.00.00.00.00.00.00.00.00.00.00.00.00.00.00.00.00.00.00.00.00.00.00.00.00.00.00.00.00.00.00.00.00.00.00.00.00.00.00.00.00.00.00.00.00.00.00.00.00.00.00.00.00.00.00.00.00.00.00.00.00.00.00.00.00.00.00.00.00.00.00.00.00.00.00.00.00.00.00.00.00.00.00.00.00.00.00.00.00.00.00.00.00.00.00.00.00.00.00.00.00.00.00.00.00.00.00.00.00.00.00.00.00.00.00.00.00.00.00.00.00.00.00.00.00.00.00.00.00.00.00.00.00.00.00.00.00.00.00.00.00.00.00.00.00.00.00.00.00.00.00.00.00.00.00.00.00.00.00.00.00.00.00.00.00.00.00.00.00.00.00.00.00.00.00.00.00.00.00.00.00.00.00.00.00.00.00.00.00.00.00.00.00.00.00.00.00.00.00.00.00.00.00.00.00.00.00.00.00.00.00.00.00.00.00.00.00.00.00.00.00.00.00.00.00.00.00.00.00.00.00.00.00.00.00.00.00.00.00.00.00.00.00.00.00.00.00.00.00.00.00.00.00.00.00.00.00.00.00.00.00.00.00.00.00.00.00.00.00.00.00.00.00.00.00.00.00.00.00.00.00.00.00.00.00.00.00.00.00.00.00.00.00.00.00.00.00.00.00.00.00.00.00.00.00.00.00.00.00.00.00.00.00.00.00.00.00.00.00.00.00.00.00.00.00.00.00.00.00.00.00.00.00.00.00.00.00.00.00.00.00.00.00.00.00.00.00.00.00.00.00.00.00.00.00.00.00.00.00.00.00.00.00.00.00.00.00.00.00.00.00.00.00.00.00.00.00.00.00.00.00.00.00.00.00.00.00.00.00.00.00.00.00.00.00.00.00.00.00.00.02.00.00.00.00.00.00.00.00.00.00.00.00.00.00.00.00.00.00.00.00.01.00.00.00.08.00.00.00.00.00.00.00.00.00.00.00.00.01.01.00.00.00.00.00.00.00.02.00.00.00.00.00.00.00.00.00.00.00.00.00.04.01.00.00.01.00.00.00.00.00.00.00.00.00.00.00.00.00.00.02.00.00.00.00.00.00.00.00.00.00.00.00.00.00.00.00.01.00.00.00.00.00.00.020.01.00.00.00.00.00.00.00.00.00.05.00.00.00.00.00.00.00.0137.01.00.00.00.00.00.00.00.00.00.00.00.00.00.00.092.00.00.00.00.01.01.00.00.00.01.00.00.00.00.00.00.00.00.00.00.00.00.00.00.00.00.01.00.00.02.00.060.00.00.00.00.00.00.00.00.00.00.00.00.00.00.00.00.00.02.02.00.00.02.04.00.02.00.00.00.00.00.00.010.00.00.00.00.00.00.00.00.00.00.00.00.00.00.00.00.07.00.00.00.00.00.00.00.00.00.00.00.00.00.00.00.00.00.00.00.00.00.05.00.00.00.00.00.00.00.00.00.00.00.02.00.00.00.00.00.00.050.00.00.00.00.00.00.00.00.00.00.00.00.00.00.00.00.00.00.00.00.00.00.00.00.00.00.00.05.00.00.00.00.00.00.00.00.00.00.00.00.00.00.00.00.00.00.00.00.00.00.00.00.00.00.00.00.00.00.00.00.00.00.00.00.00.00.00.00.00.00.00.00.00.02.00.00.00.00.00.06.00.00.00.00.00.00.00.05.03.00.00.00.00.00.00.00.00.00.00.00.00.00.00.00.00.00.00.00.00.00.00.00.00.00.00.00.00.03.00.01.00.00.00.02.00.00.01.00.00.00.00.03.04.00.00.00.02.00.00.00.00.00.00.00.00.00.00.00.00.00.00.00.00.00.00.00.03.00.00.00.00.00.00.00.00.00.00.00.00.00.00.00.00.00.00.00.05.00.00.00.010.02.00.00.01.00.00.00.00.010.00.03.00.00.03.00.00.00.00.00.00.00.00.00.00.010.00.00.00.00.00.00.00.00.00.00.00.00.00.00.00.00.00.00.00.00.00.00.00.00.00.060.00.00.01.00.00.04.00.00.05.07.00.00.00.00.00.010.00.00.00.00.00.04.00.00.01.00.00.00.00.00.00.00.00.00.00.00.00.00.02.00.00.00.00.00.00.00.00.00.00.00.00.00.00.00.00.00.00.00.00.00.00.00.00.03.00.00.01.00.00.00.00.00.00.02.00.00.00.00.00.00.00.00.00.00.00.00.00.00.02.00.00.0100.00.00.00.00.00.00.00.00.00.00.00.00.00.00.020.01.00.00.00.03.00.00.00.00.05.00.00.00.00.00.00.00.00.00.06.00.00.01.00.03.00.00.00.00.00.01.00.00.00.00.00.00.00.00.00.00.00.00.00.00.04.00.00.05.010.00.00.00.00.00.00.00.00.00.00.00.0200.00.00.00.00.00.00.00.00.00.00.00.00.00.00.04.00.00.00.00.0140.00.00.06.00.00.00.00.00.014.00.00.00.00.00.00.00.00.02.00.00.00.00.00.00.00.02.00.00.00.00.03.00.00.00.00.00.00.00.00.00.00.00.00.00.00.00.00.02.00.00.00.00.00.00.00.00.00.00.00.03.05.00.00.00.00.00.00.00.00.00.02.01.00.00.00.00.00.00.00.00.00.00.00.00.00.00.00.00.00.00.00.00.00.00.00.00.00.00.00.00.00.00.02.00.00.00.00.00.00.00.00.00.00.00.00.00.01.00.00.00.02.00.00.00.00.00.00.00.00.00.00.00.00.00.0300.00.00.03.00.00.00.00.00.00.00.00.01.00.00.00.00.00.00.00.00.00.00.00.0100.00.00.00.00.00.00.00.00.00.02.03.00.00.00.00.00.00.00.00.00.00.00.00.00.00.00.02.00.00.00.00.00.03.00.00.00.04.00.00.00.00.00.00.00.03.00.00.00.00.00.00.00.00.00.00.00.00.00.00.00.00.00.00.00.00.05.00.00.00.00.01.00.00.02.00.00.03.00.06.00.00.00.00.00.00.00.00.00.00.02.02.00.00.00.00.00.00.00.00.00.00.00.02.05.00.00.04.00.00.00.00.00.00.020.00.00.00.00.00.00.00.01.00.00.00.00.00.00.00.00.00.00.05.07.00.00.00.00.00.00.00.010.00.00.00.00.03.00.00.05.00.00.00.00.00.00.00.00.00.00.00.01.05.00.02.00.024.00.00.00.00.00.00.00.00.00.060.00.00.00.00.00.00.00.010.00.00.00.01.00.02.00.06.020.00.00.00.00.00.01.00.00.00.01.00.02.00.00.00.01.02.00.01.00.00.02.00.00.00.00.00.00.03.00.00.00.01.02.00.00.00.00.00.00.03.00.010.00.00.00.00.00.00.00.00.00.00.00.00.00.00.00.00.00.00.00.00.00.00.00.00.00.00.00.048.00.03.00.00.00.00.00.00.010.00.00.00.00.00.00.04.00.01.00.02.00.010.00.00.00.03.03.00.00.00.00.00.00.00.00.00.00.00.00.00.00.00.00.00.00.02.00.00.00.00.03.00.03.00.00.03.00.03.00.00.00.05.02.00.00.013.00.05.02.01.00.00.00.00.03.00.00.00.00.00.00.00.00.00.00.00.00.00.00.00.00.00.00.00.00.00.00.00.00.00.00.01.00.00.00.00.00.00.03.00.00.00.00.00.01.00.00.00.00.00.00.00.00.00.00.00.00.00.06.00.02.01.00.00.00.00.00.00.00.00.00.00.00.00.00.00.00.05.00.00.00.00.00.00.00.00.00.00.00.00.00.00.00.00.00.00.00.00.00.00.00.00.00.00.00.00.00.00.00.00.00.00.00.00.00.03.00.00.00.00.00.00.01.00.00.00.00.00.00.00.00.01.00.00.00.00.00.00.00.00.00.03.00.00.05.04.03.00.00.00.00.00.00.00.00.00.00.00.00.00.00.00.00.00.00.00.00.00.00.00.00.00.00.00.00.00.00.00.00.02.00.01.02.00.00.06.00.00.00.00.00.00.00.00.00.00.00.00.00.05.00.03.00.02.00.00.00.00.030.00.00.00.00.00.00.00.00.00.01.00.00.00.00.00.00.00.00.00.00.00.020.00.00.00.00.00.00.00.00.03.00.00.00.00.00.00.00.02.00.00.00.03.00.00.00.00.00.00.00.00.00.00.00.00.01.060.00.00.00.00.00.00.00.00.00.00.00.00.00.00.06.00.05.03.00.00.00.00.00.00.06.00.01.07.00.02.00.00.00.00.00.00.00.00.00.00.00.00.00.00.01.04.00.00.00.00.00.00.00.00.00.05.00.010.00.00.00.00.00.00.00.020.00.00.00.00.00.00.00.00.00.00.00.00.00.00.00.00.00.02.02.00.00.03.00.00.00.00.00.00.00.00.00.00.00.00.00.00.00.00.010.00.00.00.00.00.020.00.00.00.00.00.00.00.00.00.00.00.00.02.00.00.00.00.00.06.00.0300.020.00.00.00.015.00.00.00.010.00.00.00.00.02.00.00.00.050.00.00.00.00.00.00.00.00.00.00.02.00.03.00.050.00.00.00.00.03.00.00.04.00.00.04.00.00.00.00.00.02.01.00.00.00.02.00.00.00.00.00.00.00.00.00.00.00.00.00.00.00.00.00.03.00.00.02.00.00.00.00.02.00.00.00.00.00.00.00.00.00.00.00.00.04.00.00.00.00.04.00.015.00.01.00.00.00.00.00.00.00.00.00.030.02.00.00.02.00.00.05.00.00.00.00.00.00.00.00.00.00.00.00.00.00.00.00.02.010.00.00.00.00.00.00.00.00.00.00.00.00.00.00.00.02.00.00.00.02.04.00.00.00.06.060.02.00.00.00.05.02.00.00.00.00.00.00.00.00.00.03.00.02.00.00.00.00.00.00.00.020.00.05.00.00.00.01.02.08.05.00.00.00.00.00.010.00.050.00.00.00.00.00.00.00.01.00.00.00.00.00.00.04.00.00.00.00.00.00.00.00.00.00.02.00.00.010.00.00.00.00.00.00.00.00.00.00.00.00.00.00.00.00.00.00.00.00.03.00.00.00.00.07.02.010.03.00.030.00.00.00.00.010.05.00.03.04.00.00.00.00.00.00.03.00.00.00.00.00.00.00.01.00.00.00.05.00.03.00.00.00.00.02.00.02.00.00.00.00.00.00.04.00.00.00.00.00.00.00.00.011.00.020.024.00.00.00.00.00.01.00.00.00.00.00.02.00.00.00.00.00.00.03.02.00.00.00.00.00.00.00.00.00.03.00.00.00.020.00.00.00.00.00.00.00.02.05.00.00.00.00.00.00.02.00.02.00.00.00.05.00.00.00.00.00.00.00.030.00.00.00.02.03.00.02.030.00.00.00.00.00.00.00.00.00.00.00.00.00.00.00.05.00.00.00.00.02.00.00.00.00.02.00.00.00.06.00.00.00.00.00.00.00.00.00.00.00.00.00.00.00.00.00.00.00.00.00.00.00.00.03.00.00.00.00.00.00.00.00.06.00.00.00.00.00.00.00.00.00.00.03.00.04.00.00.00.00.00.00.00.00.00.00.00.00.00.00.00.00.00.00.00.02.010.00.090.05.00.010.00.00.00.00.00.00.01.00.020.00.03.00.00.00.00.00.00.00.01.05.00.00.06.00.00.00.00.00.00.00.00.02.02.02.00.00.00.00.00.00.00.00.00.00.00.00.00.00.00.00.00.00.00.02.04.05.06.00.00.00.00.00.00.01.00.00.00.00.00.00.00.00.00.00.00.00.00.00.02.00.00.00.06.00.00.00.00.00.00.00.00.00.00.00.00.00.06.00.00.00.00.00.00.01.08.00.020.00.00.03.00.00.00.00.00.05.00.00.00.00.00.00.00.00.00.00.00.00.00.00.00.00.00.00.00.00.06.00.00.00.02.00.00.00.00.00.00.00.00.00.00.00.00.00.00.00.00.010.03.00.00.00.00.00.00.00.00.00.00.00.00.00.00.00.00.00.00.02.00.03.00.00.00.00.010.00.00.00.04.00.00.00.00.00.00.00.01.00.00.00.00.00.05.04.00.00.02.00.00.00.00.00.02.00.00.00.00.00.00.00.00.05.00.00.04.060.00.00.00.00.00.00.00.00.00.00.00.00.00.00.00.00.00.010.00.00.00.00.00.00.00.00.00.00.00.00.00.00.00.00.00.00.00.00.00.00.00.00.00.00.020.00.00.00.00.00.00.00.00.00.00.00.00.010.00.00.00.00.00.00.00.00.00.00.00.00.00.00.03.00.00.00.00.00.00.00.00.00.00.00.00.00.00.00.00.015.010.00.00.00.00.010.00.00.00.00.00.00.00.00.00.00.00.00.00.00.00.00.00.00.00.00.00.00.00.00.00.00.00.00.05.00.00.00.00.00.00.00.00.00.00.00.03.00.00.00.00.00.04.00.02.00.00.00.00.00.00.00.00.00.00.00.00.00.00.00.00.03.00.03.010.00.00.00.015.00.00.02.00.010.05.00.00.00.00.00.00.00.00.00.00.04.00.00.02.020.00.00.00.00.00.00.00.00.00.00.00.00.02.00.00.04.00.02.00.00.03.00.00.00.03.00.00.00.00.00.00.00.00.00.00.00.00.00.00.00.00.00.00.00.04.00.00.00.00.00.00.00.00.02.00.00.00.00.00.02.05.00.00.00.00.00.00.00.00.00.00.00.00.00.00.03.00.00.00.00.03.03.00.00.015.00.00.00.00.01.00.00.03.03.00.00.00.00.00.00.00.00.00.00.00.00.05.04.03.05.00.00.00.00.00.00.04.00.00.00.00.00.00.010.00.00.00.00.00.02.02.010.03.00.00.00.00.00.00.00.00.00.00.00.00.00.00.00.00.00.00.00.07.00.00.00.00.00.02.00.00.00.00.00.00.00.03.00.00.02.00.00.00.00.00.00.05.00.00.00.00.00.00.00.03.00.00.05.01.00.00.00.00.03.020.00.00.00.00.00.00.00.00.010.02.00.00.00.07.02.05.00.00.00.00.02.00.00.00.080.00.00.00.00.02.00.00.04.00.00.01.00.00.00.030.04.013.06.00.00.00.00.00.010.00.00.00.00.03.00.05.00.00.00.00.00.00.00.00.00.00.00.04.03.00.00.00.00.00.00.00.00.00.05.00.02.00.00.00.00.00.00.00.00.00.03.00.00.00.00.00.03.00.00.00.00.03.00.00.00.00.00.05.00.00.00.00.00.00.00.00.00.00.00.00.02.00.00.00.00.00.00.00.00.02.010.00.00.00.00.00.00.00.015.01.00.00.00.05.05.00.00.00.00.02.00.00.00.06.00.00.020.00.00.00.00.00.00.02.00.00.00.04.00.00.00.00.00.06.00.00.00.00.00.00.00.05.00.00.00.00.03.00.00.00.00.00.00.00.06.00.00.04.00.00.00.00.08.00.00.00.00.015.02.00.00.00.00.00.00.00.00.00.00.00.00.00.00.00.00.00.00.00.00.00.00.00.00.03.00.00.00.00.00.00.00.00.00.00.00.03.00.00.00.00.00.00.00.00.00.00.00.00.06.02.03.00.00.0122.00.00.00.04.00.00.010.03.00.00.00.00.00.00.05.00.00.00.00.02.00.00.00.00.00.00.00.00.00.00.00.00.00.00.00.014.00.00.00.00.00.00.04.00.00.00.00.050.00.00.00.00.00.00.00.00.00.00.00.00.00.00.00.00.00.00.00.00.00.00.00.00.00.00.00.06.00.00.00.00.00.03.00.00.00.00.00.00.00.00.00.00.00.00.00.00.00.00.00.00.00.00.00.01.00.00.00.00.00.00.020.00.00.00.02.00.00.00.00.00.00.00.00.00.00.00.00.00.00.00.00.00.00.00.020.00.00.00.00.00.05.00.00.00.00.00.00.00.00.01.00.00.00.00.00.00.00.00.00.02.00.00.00.00.00.00.00.00.00.00.00.00.00.00.00.00.00.00.00.00.00.00.00.00.00.00.00.00.00.00.04.00.00.00.00.00.02.00.00.00.00.00.00.00.00.00.01.00.00.00.00.00.00.00.00.00.00.00.00.00.03.00.00.00.00.00.00.00.00.00.00.00.00.00.00.00.00.00.00.00.00.02.00.00.00.00.00.00.00.00.00.00.00.00.00.00.00.00.00.00.00.00.00.00.00.00.02.00.00.00.00.00.00.00.00.00.00.00.00.00.00.00.00.00.00.00.00.00.00.00.00.00.00.00.00.00.00.00.00.00.01.02.00.00.00.00.00.00.05.00.01.00.00.00.00.00.03.03.00.00.00.00.08.01.00.00.00.00.00.00.00.00.00.00.00.00.00.00.00.00.00.00.00.00.00.00.00.00.00.00.00.00.00.0200.00.00.00.00.00.00.00.00.01.00.00.00.00.00.00.00.00.02.03.00.01.00.00.00.00.04.00.00.00.00.00.00.00.00.00.00.00.00.00.00.00.00.00.01.00.01.00.00.00.00.00.00.00.00.00.00.00.00.00.00.00.00.00.00.00.00.00.00.00.00.00.00.00.00.00.00.00.00.00.00.00.00.00.00.00.00.00.00.00.00.00.00.00.00.00.00.00.00.00.00.02.00.00.00.00.00.00.00.00.00.00.00.02.00.00.00.00.00.00.00.01.00.00.00.00.00.00.00.00.00.00.00.00.00.03.00.00.03.00.00.00.00.00.00.00.00.00.00.00.00.00.00.00.03.00.00.00.01.00.00.00.00.00.05.00.02.00.00.00.00.02.00.00.00.00.00.00.00.00.02.00.00.00.00.00.00.00.00.00.00.00.00.00.00.00.00.00.00.00.00.00.00.00.00.00.00.00.00.00.00.03.00.00.00.04.00.00.00.00.00.00.00.00.00.00.00.00.00.07.00.00.00.00.00.00.00.00.00.00.00.00.00.00.00.00.00.00.00.00.00.03.00.00.00.00.00.00.00.00.00.00.00.00.00.00.00.00.00.00.02.00.00.00.00.00.00.03.00.00.00.00.00.00.00.00.00.02.06.00.00.03.03.00.00.00.00.00.00.01.00.00.00.00.00.00.00.00.00.00.00.00.00.00.00.00.00.00.00.010.00.00.00.00.00.02.00.00.00.00.00.00.00.00.00.00.00.00.00.00.00.00.00.00.00.00.00.05.00.00.00.00.00.00.00.00.00.00.00.00.00.00.00.00.00.03.00.00.00.04.02.00.00.00.02.00.00.00.01.00.00.00.00.00.00.00.00.00.00.00.00.00.00.00.00.00.00.00.00.00.00.00.00.00.00.00.00.00.00.00.023.00.00.05.03.00.00.00.00.00.00.020.00.00.00.00.00.00.00.00.00.00.00.00.00.00.00.00.00.03.00.01.00.00.00.00.00.00.00.00.00.00.00.00.00.00.00.00.00.00.00.00.00.00.00.00.00.00.00.00.00.00.00.0100.00.00.00.00.00.00.00.00.00.00.00.00.00.00.00.00.07.00.00.00.00.00.00.02.02.00.00.00.00.00.00.06.00.00.00.00.00.00.00.00.00.00.00.02.00.00.00.00.00.00.05.00.00.00.00.00.00.00.00.00.00.00.00.00.00.00.00.05.00.00.00.00.00.00.04.00.00.00.00.00.00.00.00.00.00.00.00.00.00.00.00.00.03.00.00.00.00.00.00.00.00.00.00.00.00.00.00.00.00.00.00.00.00.00.00.00.00.00.00.00.00.00.00.00.00.00.00.00.00.00.00.00.05.00.00.00.00.00.00.00.00.00.00.00.00.00.00.00.02.00.00.00.00.00.00.00.03.00.00.00.01.00.00.00.00.00.00.00.00.00.00.00.00.00.00.00.00.00.00.00.00.055.02.00.00.00.00.00.00.00.00.00.00.00.00.00.00.00.00.03.00.00.00.00.00.00.00.00.02.00.00.05.00.00.00.05.00.03.00.00.00.00.00.00.00.00.00.00.00.00.00.00.00.00.00.00.00.00.00.00.02.00.03.00.00.00.00.00.00.05.00.00.00.00.03.00.00.00.00.00.00.00.00.00.00.00.00.02.00.00.00.010.00.00.00.00.00.00.00.00.00.00.00.00.00.05.00.00.00.00.00.00.03.00.00.00.00.00.00.02.00.03.01.00.02.02.04.04.00.00.00.01.00.00.00.00.00.00.00.00.00.00.03.00.00.00.00.00.00.00.00.00.00.00.00.07.00.00.00.02.00.00.00.00.00.00.00.02.00.00.00.00.00.00.00.00.00.00.00.00.00.00.00.00.00.00.00.00.00.01.00.00.00.00.00.00.03.00.00.00.00.00.00.00.00.00.00.00.00.00.00.00.00.00.00.00.00.00.00.00.00.00.00.00.00.00.00.00.00.02.00.00.00.00.00.00.00.00.00.00.00.05.00.00.00.00.00.00.00.00.00.02.00.01.00.00.00.01.00.00.00.00.00.00.00.018.00.00.00.00.04.00.00.00.00.00.00.00.00.00.02.00.00.00.00.00.00.00.00.00.00.00.00.05.05.00.00.01.00.00.00.00.00.00.00.00.00.00.00.00.00.00.00.00.00.00.00.00.00.00.00.01.00.00.00.03.00.00.05.00.00.00.00.00.00.00.00.00.00.02.00.00.00.00.00.00.00.00.00.00.00.00.00.00.00.00.00.00.01.00.00.00.00.00.00.00.00.02.00.00.05.00.00.00.03.00.00.00.00.00.00.00.00.00.00.00.00.00.00.00.00.00.00.00.02.00.00.01.00.00.00.00.01.00.00.03.00.00.00.00.02.00.00.00.00.00.00.00.00.00.00.00.00.00.00.00.00.00.00.00.00.00.00.00.00.00.00.00.00.00.00.00.06.00.00.00.00.00.00.00.00.00.00.00.00.00.00.00.00.00.00.00.00.00.00.00.00.00.00.00.00.00.00.00.03.00.00.00.00.00.00.00.00.00.02.00.00.00.00.00.00.00.00.00.00.00.00.00.00.00.02.00.00.00.00.00.00.00.00.00.00.00.00.00.00.00.012.01.00.00.00.00.010.00.00.00.00.00.04.00.00.00.03.00.00.00.00.00.04.00.00.00.00.00.00.00.00.00.00.00.00.00.00.00.01.00.00.00.00.00.00.00.00.00.00.00.00.00.00.00.00.00.00.00.00.00.00.00.00.00.00.02.00.02.00.00.00.00.00.00.00.03.00.00.00.030.00.00.00.00.00.00.00.00.00.00.00.00.00.01.00.00.00.02.05.00.00.00.00.00.00.00.00.01.04.00.00.00.00.00.00.00.00.00.012.00.00.00.03.00.00.00.00.00.00.00.00.00.00.00.00.00.00.00.00.00.01.00.00.02.00.00.00.00.00.00.01.00.00.00.00.00.00.00.00.00.00.06.02.00.00.00.00.00.00.00.00.03.00.00.03.04.00.00.00.00.00.00.00.00.00.00.00.02.00.00.00.00.00.00.00.00.00.00.00.00.00.00.00.00.00.00.00.00.02.00.00.00.00.00.02.00.00.00.00.00.00.00.00.00.00.00.00.00.00.00.00.00.00.00.00.00.00.00.00.00.00.00.00.00.00.00.00.00.00.00.00.00.00.00.00.00.00.00.00.02.02.00.00.05.00.00.05.00.00.03.00.00.00.00.00.00.00.00.00.00.00.00.00.00.00.00.00.03.00.00.00.00.00.00.05.00.00.00.01.00.00.00.00.00.00.00.00.00.00.00.00.04.00.00.00.00.00.00.00.02.00.00.00.00.00.00.00.00.00.00.00.00.00.00.00.00.00.00.03.01.00.00.00.00.00.00.00.00.00.00.00.00.06.00.00.07.03.00.00.00.00.00.00.00.00.00.00.02.00.00.00.00.00.00.00.00.00.00.00.00.00.00.00.00.00.00.00.00.00.00.00.00.00.00.00.00.00.00.00.00.00.00.00.02.00.00.00.00.00.00.00.00.00.00.00.00.00.00.00.00.00.00.00.00.00.00.00.02.00.00.00.00.00.00.00.00.00.00.00.01.00.05.00.00.010.02.00.03.02.00.00.00.00.05.01.02.00.00.00.00.03.00.00.00.00.00.00.00.00.00.00.00.00.00.00.00.01.00.00.00.010.00.02.00.00.00.00.00.00.00.00.00.00.00.00.00.00.00.00.00.05.00.00.00.00.00.00.00.00.00.00.00.00.00.00.011.00.04.03.00.00.00.00.00.00.00.00.00.00.03.00.00.00.00.00.03.00.00.03.00.05.00.00.05.00.02.01.00.00.00.00.00.00.00.00.00.00.00.00.00.06.00.00.00.01.00.00.05.00.00.00.01.00.00.00.00.00.00.00.00.00.00.00.00.02.00.00.00.00.00.00.00.03.00.00.03.00.00.00.06.00.00.00.00.00.04.04.00.05.00.015.05.04.00.00.00.00.00.00.00.00.00.00.00.00.05.00.00.00.00.00.00.00.00.00.00.00.00.00.00.00.00.00.00.00.00.00.00.00.00.00.03.00.00.00.00.00.00.00.00.00.00.00.00.00.00.00.00.00.00.00.00.00.01.02.00.00.00.00.00.00.00.00.07.00.00.00.00.00.00.00.00.00.00.00.01.00.00.00.05.00.00.00.00.00.03.01.00.04.00.00.00.00.00.00.00.06.03.04.00.00.00.00.02.03.06.02.00.00.00.00.00.00.02.00.00.00.00.00.00.00.00.00.00.00.00.00.00.00.00.00.00.00.00.00.02.00.00.00.015.00.02.00.00.00.00.00.00.00.00.00.00.00.00.00.00.06.00.00.00.00.00.00.00.00.05.02.00.00.00.00.00.00.00.00.00.00.00.00.00.00.00.00.00.00.00.00.00.00.00.00.00.00.00.00.00.00.00.00.00.00.00.00.00.00.00.00.00.07.00.04.00.00.00.00.00.00.02.00.00.02.00.00.00.00.00.00.00.00.00.00.00.00.00.00.00.00.00.00.04.00.00.00.00.00.00.00.00.05.00.00.00.00.00.02.00.00.00.00.00.00.00.00.00.00.00.00.00.00.00.00.00.00.00.00.00.00.01.00.00.00.00.00.00.00.00.00.00.00.00.00.00.02.00.00.01.00.00.00.06.00.00.00.00.00.01.02.00.00.02.00.00.00.00.00.01.00.00.00.00.00.04.00.00.00.02.00.00.00.00.00.00.00.00.00.02.00.00.00.00.00.00.00.00.00.010.00.02.00.00.01.00.00.00.00.03.05.00.00.00.00.00.04.00.00.02.08.00.00.00.00.01.00.00.00.00.00.00.00.00.00.00.00.00.00.00.02.02.00.00.00.00.00.00.00.00.03.00.00.00.00.02.00.00.00.00.00.00.03.00.04.00.00.00.00.00.00.00.00.00.00.00.00.00.00.00.00.03.00.00.00.00.05.00.00.01.00.00.00.00.02.00.00.00.00.00.06.00.00.00.00.00.00.00.00.00.00.00.00.00.00.00.00.00.00.00.00.00.00.00.00.00.00.00.00.00.00.00.00.00.00.00.01.00.00.04.00.00.00.00.00.00.03.00.00.00.04.00.00.00.00.00.00.03.00.00.00.00.00.03.00.00.00.00.00.03.00.00.00.03.00.00.00.00.00.00.00.00.00.00.00.00.00.00.00.00.00.00.00.00.00.00.00.00.00.06.00.00.00.00.00.00.00.00.00.00.00.00.00.05.00.00.00.00.00.02.00.00.02.00.02.00.00.01.00.00.02.00.02.00.00.00.03.00.00.00.00.00.00.00.00.00.00.00.00.00.00.00.06.05.00.00.00.00.00.04.00.02.00.00.00.00.00.010.00.04.00.00.00.00.00.00.00.00.03.00.00.01.00.00.00.00.00.06.00.00.00.00.00.00.05.00.00.00.00.00.00.00.00.00.00.00.010.02.00.00.00.00.00.00.00.00.00.00.00.00.00.00.00.00.00.00.00.00.00.00.00.00.00.00.03.00.03.00.00.00.02.00.00.00.00.00.00.00.00.04.04.00.00.00.00.00.00.00.00.00.05.00.00.00.00.00.00.00.00.03.00.00.03.00.00.00.00.00.00.00.00.01.00.00.00.00.01.00.00.00.00.00.02.02.00.00.00.00.03.00.00.00.00.00.00.03.04.00.010.011.00.00.03.03.00.03.00.00.00.00.00.00.00.00.03.00.00.00.00.02.00.04.00.00.00.05.00.00.00.00.00.00.02.00.00.00.00.00.04.00.00.00.00.010.02.00.00.00.00.00.03.00.00.00.00.00.03.02.00.00.00.00.00.00.00.05.00.00.00.00.00.02.00.00.00.00.02.00.00.05.00.03.00.04.00.00.00.00.00.00.00.00.00.00.02.00.00.00.00.03.00.00.03.00.03.05.00.00.00.00.00.00.00.00.00.00.00.00.00.00.00.00.00.01.00.00.00.03.00.00.00.00.00.010.00.00.00.03.00.04.00.00.00.00.010.00.00.00.00.00.00.015.00.00.05.00.00.00.00.00.02.010.00.00.00.00.00.00.00.00.00.05.00.00.00.03.00.00.00.00.00.00.00.00.00.00.00.00.00.00.00.00.00.00.04.02.00.00.00.00.00.06.03.00.00.00.00.03.00.010.03.00.00.00.04.00.00.02.00.00.00.00.03.06.00.00.00.00.03.010.00.00.00.00.00.02.03.00.03.00.06.00.03.00.030.00.02.00.00.00.00.00.00.00.030.00.00.00.00.00.00.00.00.00.00.00.00.00.010.00.03.00.00.00.00.00.00.00.00.00.02.03.09.00.00.00.00.00.00.00.00.00.03.03.00.06.00.00.00.05.00.020.00.00.06.06.00.01.01.00.01.00.05.00.00.00.03.00.03.00.00.00.00.00.00.00.00.00.00.00.02.00.00.00.00.00.03.00.08.00.02.00.00.00.00.00.00.00.00.00.03.00.02.00.00.00.00.00.00.00.00.00.00.00.00.00.00.00.00.00.00.00.00.00.00.00.00.00.00.00.00.00.00.00.00.00.00.00.00.00.00.00.00.00.00.00.00.00.02.00.00.00.00.00.00.00.00.00.06.03.00.03.00.012.00.00.00.00.00.00.00.00.00.00.00.00.00.00.00.00.00.00.00.00.01.00.00.00.00.00.00.00.00.00.00.00.00.00.00.00.00.00.00.00.00.00.00.00.00.00.00.00.00.00.00.00.00.00.00.00.02.01.00.00.00.00.00.00.00.00.00.02.00.00.00.00.03.00.00.00.07.00.00.00.00.00.00.00.00.00.00.00.00.00.03.00.00.00.00.00.00.00.00.00.00.00.00.00.00.00.00.00.05.00.00.00.05.00.00.00.00.00.00.01.00.00.00.00.00.00.00.00.00.00.00.00.00.00.02.00.02.00.00.00.00.00.00.00.00.00.00.00.00.00.00.00.00.00.00.00.00.0'",
      "\nDuring handling of the above exception, another exception occurred:\n",
      "\u001b[1;31mValueError\u001b[0m                                Traceback (most recent call last)",
      "\u001b[1;32mC:\\ProgramData\\Anaconda3\\lib\\site-packages\\pandas\\core\\nanops.py\u001b[0m in \u001b[0;36m_ensure_numeric\u001b[1;34m(x)\u001b[0m\n\u001b[0;32m   1625\u001b[0m             \u001b[1;32mtry\u001b[0m\u001b[1;33m:\u001b[0m\u001b[1;33m\u001b[0m\u001b[1;33m\u001b[0m\u001b[0m\n\u001b[1;32m-> 1626\u001b[1;33m                 \u001b[0mx\u001b[0m \u001b[1;33m=\u001b[0m \u001b[0mcomplex\u001b[0m\u001b[1;33m(\u001b[0m\u001b[0mx\u001b[0m\u001b[1;33m)\u001b[0m\u001b[1;33m\u001b[0m\u001b[1;33m\u001b[0m\u001b[0m\n\u001b[0m\u001b[0;32m   1627\u001b[0m             \u001b[1;32mexcept\u001b[0m \u001b[0mValueError\u001b[0m \u001b[1;32mas\u001b[0m \u001b[0merr\u001b[0m\u001b[1;33m:\u001b[0m\u001b[1;33m\u001b[0m\u001b[1;33m\u001b[0m\u001b[0m\n",
      "\u001b[1;31mValueError\u001b[0m: complex() arg is a malformed string",
      "\nThe above exception was the direct cause of the following exception:\n",
      "\u001b[1;31mTypeError\u001b[0m                                 Traceback (most recent call last)",
      "\u001b[1;32m~\\AppData\\Local\\Temp\\ipykernel_39424\\1809605908.py\u001b[0m in \u001b[0;36m<module>\u001b[1;34m\u001b[0m\n\u001b[0;32m      1\u001b[0m \u001b[1;31m# 평균값 : 일 평균 이용빈도\u001b[0m\u001b[1;33m\u001b[0m\u001b[1;33m\u001b[0m\u001b[0m\n\u001b[1;32m----> 2\u001b[1;33m \u001b[0mlib_freq\u001b[0m\u001b[1;33m[\u001b[0m\u001b[1;34m'연 평균 이용빈도'\u001b[0m\u001b[1;33m]\u001b[0m\u001b[1;33m.\u001b[0m\u001b[0mdropna\u001b[0m\u001b[1;33m(\u001b[0m\u001b[1;33m)\u001b[0m\u001b[1;33m.\u001b[0m\u001b[0mmean\u001b[0m\u001b[1;33m(\u001b[0m\u001b[1;33m)\u001b[0m\u001b[1;33m\u001b[0m\u001b[1;33m\u001b[0m\u001b[0m\n\u001b[0m",
      "\u001b[1;32mC:\\ProgramData\\Anaconda3\\lib\\site-packages\\pandas\\core\\generic.py\u001b[0m in \u001b[0;36mmean\u001b[1;34m(self, axis, skipna, level, numeric_only, **kwargs)\u001b[0m\n\u001b[0;32m  11122\u001b[0m             \u001b[1;33m**\u001b[0m\u001b[0mkwargs\u001b[0m\u001b[1;33m,\u001b[0m\u001b[1;33m\u001b[0m\u001b[1;33m\u001b[0m\u001b[0m\n\u001b[0;32m  11123\u001b[0m         ):\n\u001b[1;32m> 11124\u001b[1;33m             \u001b[1;32mreturn\u001b[0m \u001b[0mNDFrame\u001b[0m\u001b[1;33m.\u001b[0m\u001b[0mmean\u001b[0m\u001b[1;33m(\u001b[0m\u001b[0mself\u001b[0m\u001b[1;33m,\u001b[0m \u001b[0maxis\u001b[0m\u001b[1;33m,\u001b[0m \u001b[0mskipna\u001b[0m\u001b[1;33m,\u001b[0m \u001b[0mlevel\u001b[0m\u001b[1;33m,\u001b[0m \u001b[0mnumeric_only\u001b[0m\u001b[1;33m,\u001b[0m \u001b[1;33m**\u001b[0m\u001b[0mkwargs\u001b[0m\u001b[1;33m)\u001b[0m\u001b[1;33m\u001b[0m\u001b[1;33m\u001b[0m\u001b[0m\n\u001b[0m\u001b[0;32m  11125\u001b[0m \u001b[1;33m\u001b[0m\u001b[0m\n\u001b[0;32m  11126\u001b[0m         \u001b[0msetattr\u001b[0m\u001b[1;33m(\u001b[0m\u001b[0mcls\u001b[0m\u001b[1;33m,\u001b[0m \u001b[1;34m\"mean\"\u001b[0m\u001b[1;33m,\u001b[0m \u001b[0mmean\u001b[0m\u001b[1;33m)\u001b[0m\u001b[1;33m\u001b[0m\u001b[1;33m\u001b[0m\u001b[0m\n",
      "\u001b[1;32mC:\\ProgramData\\Anaconda3\\lib\\site-packages\\pandas\\core\\generic.py\u001b[0m in \u001b[0;36mmean\u001b[1;34m(self, axis, skipna, level, numeric_only, **kwargs)\u001b[0m\n\u001b[0;32m  10692\u001b[0m         \u001b[1;33m**\u001b[0m\u001b[0mkwargs\u001b[0m\u001b[1;33m,\u001b[0m\u001b[1;33m\u001b[0m\u001b[1;33m\u001b[0m\u001b[0m\n\u001b[0;32m  10693\u001b[0m     ) -> Series | float:\n\u001b[1;32m> 10694\u001b[1;33m         return self._stat_function(\n\u001b[0m\u001b[0;32m  10695\u001b[0m             \u001b[1;34m\"mean\"\u001b[0m\u001b[1;33m,\u001b[0m \u001b[0mnanops\u001b[0m\u001b[1;33m.\u001b[0m\u001b[0mnanmean\u001b[0m\u001b[1;33m,\u001b[0m \u001b[0maxis\u001b[0m\u001b[1;33m,\u001b[0m \u001b[0mskipna\u001b[0m\u001b[1;33m,\u001b[0m \u001b[0mlevel\u001b[0m\u001b[1;33m,\u001b[0m \u001b[0mnumeric_only\u001b[0m\u001b[1;33m,\u001b[0m \u001b[1;33m**\u001b[0m\u001b[0mkwargs\u001b[0m\u001b[1;33m\u001b[0m\u001b[1;33m\u001b[0m\u001b[0m\n\u001b[0;32m  10696\u001b[0m         )\n",
      "\u001b[1;32mC:\\ProgramData\\Anaconda3\\lib\\site-packages\\pandas\\core\\generic.py\u001b[0m in \u001b[0;36m_stat_function\u001b[1;34m(self, name, func, axis, skipna, level, numeric_only, **kwargs)\u001b[0m\n\u001b[0;32m  10644\u001b[0m                 \u001b[0mname\u001b[0m\u001b[1;33m,\u001b[0m \u001b[0maxis\u001b[0m\u001b[1;33m=\u001b[0m\u001b[0maxis\u001b[0m\u001b[1;33m,\u001b[0m \u001b[0mlevel\u001b[0m\u001b[1;33m=\u001b[0m\u001b[0mlevel\u001b[0m\u001b[1;33m,\u001b[0m \u001b[0mskipna\u001b[0m\u001b[1;33m=\u001b[0m\u001b[0mskipna\u001b[0m\u001b[1;33m,\u001b[0m \u001b[0mnumeric_only\u001b[0m\u001b[1;33m=\u001b[0m\u001b[0mnumeric_only\u001b[0m\u001b[1;33m\u001b[0m\u001b[1;33m\u001b[0m\u001b[0m\n\u001b[0;32m  10645\u001b[0m             )\n\u001b[1;32m> 10646\u001b[1;33m         return self._reduce(\n\u001b[0m\u001b[0;32m  10647\u001b[0m             \u001b[0mfunc\u001b[0m\u001b[1;33m,\u001b[0m \u001b[0mname\u001b[0m\u001b[1;33m=\u001b[0m\u001b[0mname\u001b[0m\u001b[1;33m,\u001b[0m \u001b[0maxis\u001b[0m\u001b[1;33m=\u001b[0m\u001b[0maxis\u001b[0m\u001b[1;33m,\u001b[0m \u001b[0mskipna\u001b[0m\u001b[1;33m=\u001b[0m\u001b[0mskipna\u001b[0m\u001b[1;33m,\u001b[0m \u001b[0mnumeric_only\u001b[0m\u001b[1;33m=\u001b[0m\u001b[0mnumeric_only\u001b[0m\u001b[1;33m\u001b[0m\u001b[1;33m\u001b[0m\u001b[0m\n\u001b[0;32m  10648\u001b[0m         )\n",
      "\u001b[1;32mC:\\ProgramData\\Anaconda3\\lib\\site-packages\\pandas\\core\\series.py\u001b[0m in \u001b[0;36m_reduce\u001b[1;34m(self, op, name, axis, skipna, numeric_only, filter_type, **kwds)\u001b[0m\n\u001b[0;32m   4469\u001b[0m                 )\n\u001b[0;32m   4470\u001b[0m             \u001b[1;32mwith\u001b[0m \u001b[0mnp\u001b[0m\u001b[1;33m.\u001b[0m\u001b[0merrstate\u001b[0m\u001b[1;33m(\u001b[0m\u001b[0mall\u001b[0m\u001b[1;33m=\u001b[0m\u001b[1;34m\"ignore\"\u001b[0m\u001b[1;33m)\u001b[0m\u001b[1;33m:\u001b[0m\u001b[1;33m\u001b[0m\u001b[1;33m\u001b[0m\u001b[0m\n\u001b[1;32m-> 4471\u001b[1;33m                 \u001b[1;32mreturn\u001b[0m \u001b[0mop\u001b[0m\u001b[1;33m(\u001b[0m\u001b[0mdelegate\u001b[0m\u001b[1;33m,\u001b[0m \u001b[0mskipna\u001b[0m\u001b[1;33m=\u001b[0m\u001b[0mskipna\u001b[0m\u001b[1;33m,\u001b[0m \u001b[1;33m**\u001b[0m\u001b[0mkwds\u001b[0m\u001b[1;33m)\u001b[0m\u001b[1;33m\u001b[0m\u001b[1;33m\u001b[0m\u001b[0m\n\u001b[0m\u001b[0;32m   4472\u001b[0m \u001b[1;33m\u001b[0m\u001b[0m\n\u001b[0;32m   4473\u001b[0m     def _reindex_indexer(\n",
      "\u001b[1;32mC:\\ProgramData\\Anaconda3\\lib\\site-packages\\pandas\\core\\nanops.py\u001b[0m in \u001b[0;36m_f\u001b[1;34m(*args, **kwargs)\u001b[0m\n\u001b[0;32m     91\u001b[0m             \u001b[1;32mtry\u001b[0m\u001b[1;33m:\u001b[0m\u001b[1;33m\u001b[0m\u001b[1;33m\u001b[0m\u001b[0m\n\u001b[0;32m     92\u001b[0m                 \u001b[1;32mwith\u001b[0m \u001b[0mnp\u001b[0m\u001b[1;33m.\u001b[0m\u001b[0merrstate\u001b[0m\u001b[1;33m(\u001b[0m\u001b[0minvalid\u001b[0m\u001b[1;33m=\u001b[0m\u001b[1;34m\"ignore\"\u001b[0m\u001b[1;33m)\u001b[0m\u001b[1;33m:\u001b[0m\u001b[1;33m\u001b[0m\u001b[1;33m\u001b[0m\u001b[0m\n\u001b[1;32m---> 93\u001b[1;33m                     \u001b[1;32mreturn\u001b[0m \u001b[0mf\u001b[0m\u001b[1;33m(\u001b[0m\u001b[1;33m*\u001b[0m\u001b[0margs\u001b[0m\u001b[1;33m,\u001b[0m \u001b[1;33m**\u001b[0m\u001b[0mkwargs\u001b[0m\u001b[1;33m)\u001b[0m\u001b[1;33m\u001b[0m\u001b[1;33m\u001b[0m\u001b[0m\n\u001b[0m\u001b[0;32m     94\u001b[0m             \u001b[1;32mexcept\u001b[0m \u001b[0mValueError\u001b[0m \u001b[1;32mas\u001b[0m \u001b[0me\u001b[0m\u001b[1;33m:\u001b[0m\u001b[1;33m\u001b[0m\u001b[1;33m\u001b[0m\u001b[0m\n\u001b[0;32m     95\u001b[0m                 \u001b[1;31m# we want to transform an object array\u001b[0m\u001b[1;33m\u001b[0m\u001b[1;33m\u001b[0m\u001b[0m\n",
      "\u001b[1;32mC:\\ProgramData\\Anaconda3\\lib\\site-packages\\pandas\\core\\nanops.py\u001b[0m in \u001b[0;36mf\u001b[1;34m(values, axis, skipna, **kwds)\u001b[0m\n\u001b[0;32m    153\u001b[0m                     \u001b[0mresult\u001b[0m \u001b[1;33m=\u001b[0m \u001b[0malt\u001b[0m\u001b[1;33m(\u001b[0m\u001b[0mvalues\u001b[0m\u001b[1;33m,\u001b[0m \u001b[0maxis\u001b[0m\u001b[1;33m=\u001b[0m\u001b[0maxis\u001b[0m\u001b[1;33m,\u001b[0m \u001b[0mskipna\u001b[0m\u001b[1;33m=\u001b[0m\u001b[0mskipna\u001b[0m\u001b[1;33m,\u001b[0m \u001b[1;33m**\u001b[0m\u001b[0mkwds\u001b[0m\u001b[1;33m)\u001b[0m\u001b[1;33m\u001b[0m\u001b[1;33m\u001b[0m\u001b[0m\n\u001b[0;32m    154\u001b[0m             \u001b[1;32melse\u001b[0m\u001b[1;33m:\u001b[0m\u001b[1;33m\u001b[0m\u001b[1;33m\u001b[0m\u001b[0m\n\u001b[1;32m--> 155\u001b[1;33m                 \u001b[0mresult\u001b[0m \u001b[1;33m=\u001b[0m \u001b[0malt\u001b[0m\u001b[1;33m(\u001b[0m\u001b[0mvalues\u001b[0m\u001b[1;33m,\u001b[0m \u001b[0maxis\u001b[0m\u001b[1;33m=\u001b[0m\u001b[0maxis\u001b[0m\u001b[1;33m,\u001b[0m \u001b[0mskipna\u001b[0m\u001b[1;33m=\u001b[0m\u001b[0mskipna\u001b[0m\u001b[1;33m,\u001b[0m \u001b[1;33m**\u001b[0m\u001b[0mkwds\u001b[0m\u001b[1;33m)\u001b[0m\u001b[1;33m\u001b[0m\u001b[1;33m\u001b[0m\u001b[0m\n\u001b[0m\u001b[0;32m    156\u001b[0m \u001b[1;33m\u001b[0m\u001b[0m\n\u001b[0;32m    157\u001b[0m             \u001b[1;32mreturn\u001b[0m \u001b[0mresult\u001b[0m\u001b[1;33m\u001b[0m\u001b[1;33m\u001b[0m\u001b[0m\n",
      "\u001b[1;32mC:\\ProgramData\\Anaconda3\\lib\\site-packages\\pandas\\core\\nanops.py\u001b[0m in \u001b[0;36mnew_func\u001b[1;34m(values, axis, skipna, mask, **kwargs)\u001b[0m\n\u001b[0;32m    408\u001b[0m             \u001b[0mmask\u001b[0m \u001b[1;33m=\u001b[0m \u001b[0misna\u001b[0m\u001b[1;33m(\u001b[0m\u001b[0mvalues\u001b[0m\u001b[1;33m)\u001b[0m\u001b[1;33m\u001b[0m\u001b[1;33m\u001b[0m\u001b[0m\n\u001b[0;32m    409\u001b[0m \u001b[1;33m\u001b[0m\u001b[0m\n\u001b[1;32m--> 410\u001b[1;33m         \u001b[0mresult\u001b[0m \u001b[1;33m=\u001b[0m \u001b[0mfunc\u001b[0m\u001b[1;33m(\u001b[0m\u001b[0mvalues\u001b[0m\u001b[1;33m,\u001b[0m \u001b[0maxis\u001b[0m\u001b[1;33m=\u001b[0m\u001b[0maxis\u001b[0m\u001b[1;33m,\u001b[0m \u001b[0mskipna\u001b[0m\u001b[1;33m=\u001b[0m\u001b[0mskipna\u001b[0m\u001b[1;33m,\u001b[0m \u001b[0mmask\u001b[0m\u001b[1;33m=\u001b[0m\u001b[0mmask\u001b[0m\u001b[1;33m,\u001b[0m \u001b[1;33m**\u001b[0m\u001b[0mkwargs\u001b[0m\u001b[1;33m)\u001b[0m\u001b[1;33m\u001b[0m\u001b[1;33m\u001b[0m\u001b[0m\n\u001b[0m\u001b[0;32m    411\u001b[0m \u001b[1;33m\u001b[0m\u001b[0m\n\u001b[0;32m    412\u001b[0m         \u001b[1;32mif\u001b[0m \u001b[0mdatetimelike\u001b[0m\u001b[1;33m:\u001b[0m\u001b[1;33m\u001b[0m\u001b[1;33m\u001b[0m\u001b[0m\n",
      "\u001b[1;32mC:\\ProgramData\\Anaconda3\\lib\\site-packages\\pandas\\core\\nanops.py\u001b[0m in \u001b[0;36mnanmean\u001b[1;34m(values, axis, skipna, mask)\u001b[0m\n\u001b[0;32m    696\u001b[0m \u001b[1;33m\u001b[0m\u001b[0m\n\u001b[0;32m    697\u001b[0m     \u001b[0mcount\u001b[0m \u001b[1;33m=\u001b[0m \u001b[0m_get_counts\u001b[0m\u001b[1;33m(\u001b[0m\u001b[0mvalues\u001b[0m\u001b[1;33m.\u001b[0m\u001b[0mshape\u001b[0m\u001b[1;33m,\u001b[0m \u001b[0mmask\u001b[0m\u001b[1;33m,\u001b[0m \u001b[0maxis\u001b[0m\u001b[1;33m,\u001b[0m \u001b[0mdtype\u001b[0m\u001b[1;33m=\u001b[0m\u001b[0mdtype_count\u001b[0m\u001b[1;33m)\u001b[0m\u001b[1;33m\u001b[0m\u001b[1;33m\u001b[0m\u001b[0m\n\u001b[1;32m--> 698\u001b[1;33m     \u001b[0mthe_sum\u001b[0m \u001b[1;33m=\u001b[0m \u001b[0m_ensure_numeric\u001b[0m\u001b[1;33m(\u001b[0m\u001b[0mvalues\u001b[0m\u001b[1;33m.\u001b[0m\u001b[0msum\u001b[0m\u001b[1;33m(\u001b[0m\u001b[0maxis\u001b[0m\u001b[1;33m,\u001b[0m \u001b[0mdtype\u001b[0m\u001b[1;33m=\u001b[0m\u001b[0mdtype_sum\u001b[0m\u001b[1;33m)\u001b[0m\u001b[1;33m)\u001b[0m\u001b[1;33m\u001b[0m\u001b[1;33m\u001b[0m\u001b[0m\n\u001b[0m\u001b[0;32m    699\u001b[0m \u001b[1;33m\u001b[0m\u001b[0m\n\u001b[0;32m    700\u001b[0m     \u001b[1;32mif\u001b[0m \u001b[0maxis\u001b[0m \u001b[1;32mis\u001b[0m \u001b[1;32mnot\u001b[0m \u001b[1;32mNone\u001b[0m \u001b[1;32mand\u001b[0m \u001b[0mgetattr\u001b[0m\u001b[1;33m(\u001b[0m\u001b[0mthe_sum\u001b[0m\u001b[1;33m,\u001b[0m \u001b[1;34m\"ndim\"\u001b[0m\u001b[1;33m,\u001b[0m \u001b[1;32mFalse\u001b[0m\u001b[1;33m)\u001b[0m\u001b[1;33m:\u001b[0m\u001b[1;33m\u001b[0m\u001b[1;33m\u001b[0m\u001b[0m\n",
      "\u001b[1;32mC:\\ProgramData\\Anaconda3\\lib\\site-packages\\pandas\\core\\nanops.py\u001b[0m in \u001b[0;36m_ensure_numeric\u001b[1;34m(x)\u001b[0m\n\u001b[0;32m   1627\u001b[0m             \u001b[1;32mexcept\u001b[0m \u001b[0mValueError\u001b[0m \u001b[1;32mas\u001b[0m \u001b[0merr\u001b[0m\u001b[1;33m:\u001b[0m\u001b[1;33m\u001b[0m\u001b[1;33m\u001b[0m\u001b[0m\n\u001b[0;32m   1628\u001b[0m                 \u001b[1;31m# e.g. \"foo\"\u001b[0m\u001b[1;33m\u001b[0m\u001b[1;33m\u001b[0m\u001b[0m\n\u001b[1;32m-> 1629\u001b[1;33m                 \u001b[1;32mraise\u001b[0m \u001b[0mTypeError\u001b[0m\u001b[1;33m(\u001b[0m\u001b[1;34mf\"Could not convert {x} to numeric\"\u001b[0m\u001b[1;33m)\u001b[0m \u001b[1;32mfrom\u001b[0m \u001b[0merr\u001b[0m\u001b[1;33m\u001b[0m\u001b[1;33m\u001b[0m\u001b[0m\n\u001b[0m\u001b[0;32m   1630\u001b[0m     \u001b[1;32mreturn\u001b[0m \u001b[0mx\u001b[0m\u001b[1;33m\u001b[0m\u001b[1;33m\u001b[0m\u001b[0m\n\u001b[0;32m   1631\u001b[0m \u001b[1;33m\u001b[0m\u001b[0m\n",
      "\u001b[1;31mTypeError\u001b[0m: Could not convert 0.00.00.00.00.00.00.00.00.00.00.00.00.00.00.00.00.00.00.00.00.00.00.00.00.00.00.00.00.00.00.00.00.00.00.00.00.00.00.00.00.00.00.00.00.00.00.00.00.00.00.00.00.00.00.00.00.00.00.00.00.00.00.00.00.00.00.00.00.00.00.00.00.00.00.00.00.00.00.00.00.00.00.00.00.00.00.00.00.00.00.00.00.00.00.00.00.00.00.00.00.00.00.00.00.00.00.00.00.00.00.00.00.00.00.00.00.00.00.00.00.00.00.00.00.00.00.00.00.00.00.00.00.00.00.00.00.00.00.00.00.00.00.00.00.00.00.00.00.00.00.00.00.00.00.00.00.00.00.00.00.00.00.00.00.00.00.00.00.00.00.00.00.00.00.00.00.00.00.00.00.00.00.00.00.00.00.00.00.00.00.00.00.00.00.00.00.00.00.00.00.00.00.00.00.00.00.00.00.00.00.00.00.00.00.00.00.00.00.00.00.00.00.00.00.00.00.00.00.00.00.00.00.00.00.00.00.00.00.00.00.00.00.00.00.00.00.00.00.00.00.00.00.00.00.00.00.00.00.00.00.00.00.00.00.00.00.00.00.00.00.00.00.00.00.00.00.00.00.00.00.00.00.00.00.00.00.00.00.00.00.00.00.00.00.00.00.00.00.00.00.00.00.00.00.00.00.00.00.00.00.00.00.00.00.00.00.00.00.00.00.00.00.00.00.00.00.00.00.00.00.00.00.00.00.00.00.00.00.00.00.00.00.00.00.00.00.00.00.00.00.00.00.00.00.00.00.00.00.00.00.00.00.00.00.00.00.00.00.00.00.00.00.00.00.00.00.00.00.00.00.00.00.00.00.00.00.00.00.00.00.00.00.00.00.00.00.00.00.00.00.00.00.00.00.00.00.00.00.00.00.00.00.00.00.00.00.00.00.00.00.00.00.00.00.00.00.00.00.00.00.00.00.00.00.00.00.00.00.00.00.00.00.00.00.00.00.00.00.00.00.00.00.00.00.00.00.00.00.00.00.00.00.00.00.00.00.00.00.00.00.00.00.00.00.00.00.00.00.00.00.00.00.00.00.00.00.00.00.00.00.00.00.00.00.00.00.00.00.00.00.00.00.00.00.00.00.00.00.00.00.00.00.00.00.00.00.00.00.00.00.00.00.00.00.00.00.00.00.00.00.00.00.00.00.00.00.00.00.00.00.00.00.00.00.00.00.00.00.00.00.00.00.00.00.00.00.00.00.00.00.00.00.00.00.00.00.00.00.00.00.00.00.00.00.00.00.00.00.00.00.00.00.00.00.00.00.00.00.00.00.00.00.00.00.00.00.00.00.00.00.00.00.00.00.00.00.00.00.00.00.00.00.00.00.00.00.00.00.00.00.00.00.00.00.00.00.00.00.00.00.00.00.00.00.00.00.00.00.00.00.00.00.00.00.00.00.00.00.00.00.00.00.00.00.00.00.00.00.00.00.00.00.00.00.00.00.00.00.00.00.00.00.00.00.00.00.00.00.00.00.00.00.00.00.00.00.00.00.00.00.00.00.00.00.00.00.00.00.00.00.00.00.00.00.00.00.00.00.00.00.00.00.00.00.00.00.00.00.00.00.00.00.00.00.00.00.00.00.00.00.00.00.00.00.00.00.00.00.00.00.00.00.00.00.00.00.00.00.00.00.00.00.00.00.00.00.00.00.00.00.00.00.00.00.00.00.00.00.00.00.00.00.00.00.00.00.00.00.00.00.00.00.00.00.00.00.00.00.00.00.00.00.00.00.00.00.00.00.00.00.00.00.00.00.00.00.00.00.00.00.00.00.00.00.00.00.00.00.00.00.00.00.00.00.00.00.00.00.00.00.00.00.00.00.00.00.00.00.00.00.00.00.00.00.00.00.00.00.00.00.00.00.00.00.00.00.00.00.00.00.00.00.00.00.00.00.00.00.00.00.00.00.00.00.00.00.00.00.00.00.00.00.00.00.00.00.00.00.00.00.00.00.00.00.00.00.00.00.00.00.00.00.00.00.00.00.00.00.00.00.00.00.00.00.00.00.00.00.00.00.00.00.00.00.00.00.00.00.00.00.00.00.00.00.00.00.00.00.00.00.00.00.00.00.00.00.00.00.00.00.00.00.00.00.00.00.00.00.00.00.00.00.00.00.00.00.00.00.00.00.00.00.00.00.00.00.00.00.00.00.00.00.00.00.00.00.00.00.00.00.00.00.00.00.00.00.00.00.00.00.00.00.00.00.00.00.00.00.00.00.00.00.00.00.00.00.00.00.00.00.00.00.00.00.00.00.00.00.00.00.00.00.00.00.00.00.00.00.00.00.00.00.00.00.00.00.00.00.00.00.00.00.00.00.00.00.00.00.00.00.00.00.00.00.00.00.00.00.00.00.00.00.00.00.00.00.00.00.00.00.00.00.00.00.00.00.00.00.00.00.00.00.00.00.00.00.00.00.00.00.00.00.00.00.00.00.00.00.00.00.00.00.00.00.00.00.00.00.00.00.00.00.00.00.00.00.00.00.00.00.00.00.00.00.00.00.00.00.00.00.00.00.00.00.00.00.00.00.00.00.00.00.00.00.00.00.00.00.00.00.00.00.00.00.00.00.00.00.00.00.00.00.00.00.00.00.00.00.00.00.00.00.00.00.00.00.00.00.00.00.00.00.00.00.00.00.00.00.00.00.00.00.00.00.00.00.00.00.00.00.00.00.00.00.00.00.00.00.00.00.00.00.00.00.00.00.00.00.00.00.00.00.00.00.00.00.00.00.00.00.00.00.00.00.00.00.00.00.00.00.00.00.00.00.00.00.00.00.00.00.00.00.00.00.00.00.00.00.00.00.00.00.00.00.00.00.00.00.00.00.00.00.00.00.00.00.00.00.00.00.00.00.00.00.00.00.00.00.00.00.00.00.00.00.00.00.00.00.00.00.00.00.00.00.00.00.00.00.00.00.00.00.00.00.00.00.00.00.00.00.00.00.00.00.00.00.00.00.00.00.00.00.00.00.00.00.00.00.00.00.00.00.00.00.00.00.00.00.00.00.00.00.00.00.00.00.00.00.00.00.00.00.00.00.00.00.00.00.00.00.00.00.00.00.00.00.00.00.00.00.00.00.00.00.00.00.00.00.00.00.00.00.00.00.00.00.00.00.00.00.00.00.00.00.00.00.00.00.00.00.00.00.00.00.00.00.00.00.00.00.00.00.00.00.00.00.00.00.00.00.00.00.00.00.00.00.00.00.00.00.00.00.00.00.00.00.00.00.00.00.00.00.00.00.00.00.00.00.00.00.00.00.00.00.00.00.00.00.00.00.00.00.00.00.00.00.00.00.00.00.00.00.00.00.00.00.00.00.00.00.00.00.00.00.00.00.00.00.00.00.00.00.00.00.00.00.00.00.00.00.00.00.00.00.00.00.00.00.00.00.00.00.00.00.00.00.00.00.00.00.00.00.00.00.00.00.00.00.00.00.00.00.00.00.00.00.00.00.00.00.00.00.00.00.00.00.00.00.00.00.00.00.00.00.00.00.00.00.00.00.00.00.00.00.00.00.00.00.00.00.00.00.00.00.00.00.00.00.00.00.00.00.00.00.00.00.00.00.00.00.00.00.00.00.00.00.00.00.00.00.00.00.00.00.00.00.00.00.00.00.00.00.00.00.00.00.00.00.00.00.00.00.00.00.00.00.00.00.00.00.00.00.00.00.00.00.00.00.00.00.00.00.00.00.00.00.00.00.00.00.00.00.00.00.00.00.00.00.00.00.00.00.00.00.00.00.00.00.00.00.00.00.00.00.00.00.00.00.00.00.00.00.00.00.00.00.00.00.00.00.00.00.00.00.00.00.00.00.00.00.00.00.00.00.00.00.00.00.00.00.00.00.00.00.00.00.00.00.00.00.00.00.00.00.00.00.00.00.00.00.00.00.00.00.00.00.00.00.00.00.00.00.00.00.00.00.00.00.00.00.00.00.00.00.00.00.00.00.00.00.00.00.00.00.00.00.00.00.00.00.00.00.00.00.00.00.00.00.00.00.00.00.00.00.00.00.00.00.00.00.00.00.00.00.00.00.00.00.00.00.00.00.00.00.00.00.00.00.00.00.00.00.00.00.00.00.00.00.00.00.00.00.00.00.00.00.00.00.00.00.00.00.00.00.00.00.00.00.00.00.00.00.00.00.00.00.00.00.00.00.00.00.00.00.00.00.00.00.00.00.00.00.00.00.00.00.00.00.00.00.00.00.00.00.00.00.00.00.00.00.00.00.00.00.00.00.00.00.00.00.00.00.00.00.00.00.00.00.00.00.00.00.00.00.00.00.00.00.00.00.00.00.00.00.00.00.00.00.00.00.00.00.00.00.00.00.00.00.00.00.00.00.00.00.00.00.00.00.00.00.00.00.00.00.00.00.00.00.00.00.00.00.00.00.00.00.00.00.00.00.00.00.00.00.00.00.00.00.00.00.00.00.00.00.00.00.00.00.00.00.00.00.00.00.00.00.00.00.00.00.00.00.00.00.00.00.00.00.00.00.00.00.00.00.00.00.00.00.00.00.00.00.00.00.00.00.00.00.00.00.00.00.00.00.00.00.00.00.00.00.00.00.00.00.00.00.00.00.00.00.00.00.00.00.00.00.00.00.00.00.00.00.00.00.00.00.00.00.00.00.00.00.00.00.00.00.00.00.00.00.00.00.00.00.00.00.00.00.00.00.00.00.00.00.00.00.00.00.00.00.00.00.00.00.00.00.00.00.00.00.00.00.00.00.00.00.00.00.00.00.00.00.00.00.00.00.00.00.00.00.00.00.00.00.00.00.00.00.00.00.00.00.00.00.00.00.00.00.00.00.00.00.00.00.00.00.00.00.00.00.00.00.00.00.00.00.00.00.00.00.00.00.00.00.00.00.00.00.00.00.00.00.00.00.00.00.00.00.00.00.00.00.00.00.00.00.00.00.00.00.00.00.00.00.00.00.00.00.00.00.00.00.00.00.00.00.00.00.00.00.00.00.00.00.00.00.00.00.00.00.00.00.00.00.00.00.00.00.00.00.00.00.00.00.00.00.00.00.00.00.00.00.00.00.00.00.00.00.00.00.00.00.00.00.00.00.00.00.00.00.00.00.00.00.00.00.00.00.00.00.00.00.00.00.00.00.00.00.00.00.00.00.00.00.00.00.00.00.00.00.00.00.00.00.00.00.00.00.00.00.00.00.00.00.00.00.00.00.00.00.00.00.00.00.00.00.00.00.00.00.00.00.00.00.00.00.00.00.00.00.00.00.00.00.00.00.00.00.00.00.00.00.00.00.00.00.00.00.00.00.00.00.00.00.00.00.00.00.00.00.00.00.00.00.00.00.00.00.00.00.00.00.00.00.00.00.00.00.00.00.00.00.00.00.00.00.00.00.00.00.00.00.00.00.00.00.00.00.00.00.00.00.00.00.00.00.00.00.00.00.00.00.00.00.00.00.00.00.00.00.00.00.00.00.00.00.00.00.00.00.00.00.00.00.00.00.00.00.00.00.00.00.00.00.00.00.00.00.00.00.00.00.00.00.00.00.00.00.00.00.00.00.00.00.00.00.00.00.00.00.00.00.00.00.00.00.00.00.00.00.00.00.00.00.00.00.00.00.00.00.00.00.00.00.00.00.00.00.00.00.00.00.00.00.00.00.00.00.00.00.00.00.00.00.00.00.00.00.00.00.00.00.00.00.00.00.00.00.00.00.00.00.00.00.00.00.00.00.00.00.00.00.00.00.00.00.00.00.00.00.00.00.00.00.00.00.00.00.00.00.00.00.00.00.00.00.00.00.00.00.00.00.00.00.00.00.00.00.00.00.00.00.00.00.00.00.00.00.00.00.00.00.00.00.00.00.00.00.00.00.00.00.00.00.00.00.00.00.00.00.00.00.00.00.00.00.00.00.00.00.00.00.00.00.00.00.00.00.00.00.00.00.00.00.00.00.00.00.00.00.00.00.00.00.00.00.00.00.00.00.00.00.00.00.00.00.00.00.00.00.00.00.00.00.00.00.00.00.00.00.00.00.00.00.00.00.00.00.00.00.00.00.00.00.00.00.00.00.00.00.00.00.00.00.00.00.00.00.00.00.00.00.00.00.00.00.00.00.00.00.00.00.00.00.00.00.00.00.00.00.00.00.00.00.00.00.00.00.00.00.00.00.00.00.00.00.00.00.00.00.00.00.00.00.00.00.00.00.00.00.00.00.00.00.00.00.00.00.00.00.00.00.00.00.00.00.00.00.00.00.00.00.00.00.00.00.00.00.00.00.00.00.00.00.00.00.00.00.00.00.00.00.00.00.00.00.00.00.00.00.00.00.00.00.00.00.00.00.00.00.00.00.00.00.00.00.00.00.00.00.00.00.00.00.00.00.00.00.00.00.00.00.00.00.00.00.00.00.00.00.00.00.00.00.00.00.00.00.00.00.00.00.00.00.00.00.00.00.00.00.00.00.00.00.00.00.00.00.00.00.00.00.00.00.00.00.00.00.00.00.00.00.00.00.00.00.00.00.00.00.00.00.00.00.00.00.00.00.00.00.00.00.00.00.00.00.00.00.00.00.00.00.00.00.00.00.00.00.00.00.00.00.00.00.00.00.00.00.00.00.00.00.00.00.00.00.00.00.00.00.00.00.00.00.00.00.00.00.00.00.00.00.00.00.00.00.00.00.00.00.00.00.00.00.00.00.00.00.00.00.00.00.00.00.00.00.00.00.00.00.00.00.00.00.00.00.00.00.00.00.00.00.00.00.00.00.00.00.00.00.00.00.00.00.00.00.00.00.00.00.00.00.00.00.00.00.00.00.00.00.00.00.00.00.00.00.00.00.00.00.00.00.00.00.00.00.00.00.00.00.00.00.00.00.00.00.00.00.00.00.00.00.00.00.00.00.00.00.00.00.00.00.00.00.00.00.00.00.00.00.00.00.00.00.00.00.00.00.00.00.00.00.00.00.00.00.00.00.00.00.00.00.00.00.00.00.00.00.00.00.00.00.00.00.00.00.00.00.00.00.00.00.00.00.00.00.00.00.00.00.00.00.00.00.00.00.00.00.00.00.00.00.00.00.00.00.00.00.00.00.00.00.00.00.00.00.00.00.00.00.00.00.00.00.00.00.00.00.00.00.00.00.00.00.00.00.00.00.00.00.00.00.00.00.00.00.00.00.00.00.00.00.00.00.00.00.00.00.00.00.00.00.00.00.00.00.00.00.00.00.00.00.00.00.00.00.00.00.00.00.00.00.00.00.00.00.00.00.00.00.00.00.00.00.00.00.00.00.00.00.00.00.00.00.00.00.00.00.00.00.00.00.00.00.00.00.00.00.00.00.00.00.00.00.00.00.00.00.00.00.00.00.00.00.00.00.00.00.00.00.00.00.00.00.00.00.00.00.00.00.00.00.00.00.00.00.00.00.00.00.00.00.00.00.00.00.00.00.00.00.00.00.00.00.00.00.00.00.00.00.00.00.00.00.00.00.00.00.00.00.00.00.00.00.00.00.00.00.00.00.00.00.00.00.00.02.00.00.00.00.00.00.00.00.00.00.00.00.00.00.00.00.00.00.00.00.01.00.00.00.08.00.00.00.00.00.00.00.00.00.00.00.00.01.01.00.00.00.00.00.00.00.02.00.00.00.00.00.00.00.00.00.00.00.00.00.04.01.00.00.01.00.00.00.00.00.00.00.00.00.00.00.00.00.00.02.00.00.00.00.00.00.00.00.00.00.00.00.00.00.00.00.01.00.00.00.00.00.00.020.01.00.00.00.00.00.00.00.00.00.05.00.00.00.00.00.00.00.0137.01.00.00.00.00.00.00.00.00.00.00.00.00.00.00.092.00.00.00.00.01.01.00.00.00.01.00.00.00.00.00.00.00.00.00.00.00.00.00.00.00.00.01.00.00.02.00.060.00.00.00.00.00.00.00.00.00.00.00.00.00.00.00.00.00.02.02.00.00.02.04.00.02.00.00.00.00.00.00.010.00.00.00.00.00.00.00.00.00.00.00.00.00.00.00.00.07.00.00.00.00.00.00.00.00.00.00.00.00.00.00.00.00.00.00.00.00.00.05.00.00.00.00.00.00.00.00.00.00.00.02.00.00.00.00.00.00.050.00.00.00.00.00.00.00.00.00.00.00.00.00.00.00.00.00.00.00.00.00.00.00.00.00.00.00.05.00.00.00.00.00.00.00.00.00.00.00.00.00.00.00.00.00.00.00.00.00.00.00.00.00.00.00.00.00.00.00.00.00.00.00.00.00.00.00.00.00.00.00.00.00.02.00.00.00.00.00.06.00.00.00.00.00.00.00.05.03.00.00.00.00.00.00.00.00.00.00.00.00.00.00.00.00.00.00.00.00.00.00.00.00.00.00.00.00.03.00.01.00.00.00.02.00.00.01.00.00.00.00.03.04.00.00.00.02.00.00.00.00.00.00.00.00.00.00.00.00.00.00.00.00.00.00.00.03.00.00.00.00.00.00.00.00.00.00.00.00.00.00.00.00.00.00.00.05.00.00.00.010.02.00.00.01.00.00.00.00.010.00.03.00.00.03.00.00.00.00.00.00.00.00.00.00.010.00.00.00.00.00.00.00.00.00.00.00.00.00.00.00.00.00.00.00.00.00.00.00.00.00.060.00.00.01.00.00.04.00.00.05.07.00.00.00.00.00.010.00.00.00.00.00.04.00.00.01.00.00.00.00.00.00.00.00.00.00.00.00.00.02.00.00.00.00.00.00.00.00.00.00.00.00.00.00.00.00.00.00.00.00.00.00.00.00.03.00.00.01.00.00.00.00.00.00.02.00.00.00.00.00.00.00.00.00.00.00.00.00.00.02.00.00.0100.00.00.00.00.00.00.00.00.00.00.00.00.00.00.020.01.00.00.00.03.00.00.00.00.05.00.00.00.00.00.00.00.00.00.06.00.00.01.00.03.00.00.00.00.00.01.00.00.00.00.00.00.00.00.00.00.00.00.00.00.04.00.00.05.010.00.00.00.00.00.00.00.00.00.00.00.0200.00.00.00.00.00.00.00.00.00.00.00.00.00.00.04.00.00.00.00.0140.00.00.06.00.00.00.00.00.014.00.00.00.00.00.00.00.00.02.00.00.00.00.00.00.00.02.00.00.00.00.03.00.00.00.00.00.00.00.00.00.00.00.00.00.00.00.00.02.00.00.00.00.00.00.00.00.00.00.00.03.05.00.00.00.00.00.00.00.00.00.02.01.00.00.00.00.00.00.00.00.00.00.00.00.00.00.00.00.00.00.00.00.00.00.00.00.00.00.00.00.00.00.02.00.00.00.00.00.00.00.00.00.00.00.00.00.01.00.00.00.02.00.00.00.00.00.00.00.00.00.00.00.00.00.0300.00.00.03.00.00.00.00.00.00.00.00.01.00.00.00.00.00.00.00.00.00.00.00.0100.00.00.00.00.00.00.00.00.00.02.03.00.00.00.00.00.00.00.00.00.00.00.00.00.00.00.02.00.00.00.00.00.03.00.00.00.04.00.00.00.00.00.00.00.03.00.00.00.00.00.00.00.00.00.00.00.00.00.00.00.00.00.00.00.00.05.00.00.00.00.01.00.00.02.00.00.03.00.06.00.00.00.00.00.00.00.00.00.00.02.02.00.00.00.00.00.00.00.00.00.00.00.02.05.00.00.04.00.00.00.00.00.00.020.00.00.00.00.00.00.00.01.00.00.00.00.00.00.00.00.00.00.05.07.00.00.00.00.00.00.00.010.00.00.00.00.03.00.00.05.00.00.00.00.00.00.00.00.00.00.00.01.05.00.02.00.024.00.00.00.00.00.00.00.00.00.060.00.00.00.00.00.00.00.010.00.00.00.01.00.02.00.06.020.00.00.00.00.00.01.00.00.00.01.00.02.00.00.00.01.02.00.01.00.00.02.00.00.00.00.00.00.03.00.00.00.01.02.00.00.00.00.00.00.03.00.010.00.00.00.00.00.00.00.00.00.00.00.00.00.00.00.00.00.00.00.00.00.00.00.00.00.00.00.048.00.03.00.00.00.00.00.00.010.00.00.00.00.00.00.04.00.01.00.02.00.010.00.00.00.03.03.00.00.00.00.00.00.00.00.00.00.00.00.00.00.00.00.00.00.02.00.00.00.00.03.00.03.00.00.03.00.03.00.00.00.05.02.00.00.013.00.05.02.01.00.00.00.00.03.00.00.00.00.00.00.00.00.00.00.00.00.00.00.00.00.00.00.00.00.00.00.00.00.00.00.01.00.00.00.00.00.00.03.00.00.00.00.00.01.00.00.00.00.00.00.00.00.00.00.00.00.00.06.00.02.01.00.00.00.00.00.00.00.00.00.00.00.00.00.00.00.05.00.00.00.00.00.00.00.00.00.00.00.00.00.00.00.00.00.00.00.00.00.00.00.00.00.00.00.00.00.00.00.00.00.00.00.00.00.03.00.00.00.00.00.00.01.00.00.00.00.00.00.00.00.01.00.00.00.00.00.00.00.00.00.03.00.00.05.04.03.00.00.00.00.00.00.00.00.00.00.00.00.00.00.00.00.00.00.00.00.00.00.00.00.00.00.00.00.00.00.00.00.02.00.01.02.00.00.06.00.00.00.00.00.00.00.00.00.00.00.00.00.05.00.03.00.02.00.00.00.00.030.00.00.00.00.00.00.00.00.00.01.00.00.00.00.00.00.00.00.00.00.00.020.00.00.00.00.00.00.00.00.03.00.00.00.00.00.00.00.02.00.00.00.03.00.00.00.00.00.00.00.00.00.00.00.00.01.060.00.00.00.00.00.00.00.00.00.00.00.00.00.00.06.00.05.03.00.00.00.00.00.00.06.00.01.07.00.02.00.00.00.00.00.00.00.00.00.00.00.00.00.00.01.04.00.00.00.00.00.00.00.00.00.05.00.010.00.00.00.00.00.00.00.020.00.00.00.00.00.00.00.00.00.00.00.00.00.00.00.00.00.02.02.00.00.03.00.00.00.00.00.00.00.00.00.00.00.00.00.00.00.00.010.00.00.00.00.00.020.00.00.00.00.00.00.00.00.00.00.00.00.02.00.00.00.00.00.06.00.0300.020.00.00.00.015.00.00.00.010.00.00.00.00.02.00.00.00.050.00.00.00.00.00.00.00.00.00.00.02.00.03.00.050.00.00.00.00.03.00.00.04.00.00.04.00.00.00.00.00.02.01.00.00.00.02.00.00.00.00.00.00.00.00.00.00.00.00.00.00.00.00.00.03.00.00.02.00.00.00.00.02.00.00.00.00.00.00.00.00.00.00.00.00.04.00.00.00.00.04.00.015.00.01.00.00.00.00.00.00.00.00.00.030.02.00.00.02.00.00.05.00.00.00.00.00.00.00.00.00.00.00.00.00.00.00.00.02.010.00.00.00.00.00.00.00.00.00.00.00.00.00.00.00.02.00.00.00.02.04.00.00.00.06.060.02.00.00.00.05.02.00.00.00.00.00.00.00.00.00.03.00.02.00.00.00.00.00.00.00.020.00.05.00.00.00.01.02.08.05.00.00.00.00.00.010.00.050.00.00.00.00.00.00.00.01.00.00.00.00.00.00.04.00.00.00.00.00.00.00.00.00.00.02.00.00.010.00.00.00.00.00.00.00.00.00.00.00.00.00.00.00.00.00.00.00.00.03.00.00.00.00.07.02.010.03.00.030.00.00.00.00.010.05.00.03.04.00.00.00.00.00.00.03.00.00.00.00.00.00.00.01.00.00.00.05.00.03.00.00.00.00.02.00.02.00.00.00.00.00.00.04.00.00.00.00.00.00.00.00.011.00.020.024.00.00.00.00.00.01.00.00.00.00.00.02.00.00.00.00.00.00.03.02.00.00.00.00.00.00.00.00.00.03.00.00.00.020.00.00.00.00.00.00.00.02.05.00.00.00.00.00.00.02.00.02.00.00.00.05.00.00.00.00.00.00.00.030.00.00.00.02.03.00.02.030.00.00.00.00.00.00.00.00.00.00.00.00.00.00.00.05.00.00.00.00.02.00.00.00.00.02.00.00.00.06.00.00.00.00.00.00.00.00.00.00.00.00.00.00.00.00.00.00.00.00.00.00.00.00.03.00.00.00.00.00.00.00.00.06.00.00.00.00.00.00.00.00.00.00.03.00.04.00.00.00.00.00.00.00.00.00.00.00.00.00.00.00.00.00.00.00.02.010.00.090.05.00.010.00.00.00.00.00.00.01.00.020.00.03.00.00.00.00.00.00.00.01.05.00.00.06.00.00.00.00.00.00.00.00.02.02.02.00.00.00.00.00.00.00.00.00.00.00.00.00.00.00.00.00.00.00.02.04.05.06.00.00.00.00.00.00.01.00.00.00.00.00.00.00.00.00.00.00.00.00.00.02.00.00.00.06.00.00.00.00.00.00.00.00.00.00.00.00.00.06.00.00.00.00.00.00.01.08.00.020.00.00.03.00.00.00.00.00.05.00.00.00.00.00.00.00.00.00.00.00.00.00.00.00.00.00.00.00.00.06.00.00.00.02.00.00.00.00.00.00.00.00.00.00.00.00.00.00.00.00.010.03.00.00.00.00.00.00.00.00.00.00.00.00.00.00.00.00.00.00.02.00.03.00.00.00.00.010.00.00.00.04.00.00.00.00.00.00.00.01.00.00.00.00.00.05.04.00.00.02.00.00.00.00.00.02.00.00.00.00.00.00.00.00.05.00.00.04.060.00.00.00.00.00.00.00.00.00.00.00.00.00.00.00.00.00.010.00.00.00.00.00.00.00.00.00.00.00.00.00.00.00.00.00.00.00.00.00.00.00.00.00.00.020.00.00.00.00.00.00.00.00.00.00.00.00.010.00.00.00.00.00.00.00.00.00.00.00.00.00.00.03.00.00.00.00.00.00.00.00.00.00.00.00.00.00.00.00.015.010.00.00.00.00.010.00.00.00.00.00.00.00.00.00.00.00.00.00.00.00.00.00.00.00.00.00.00.00.00.00.00.00.00.05.00.00.00.00.00.00.00.00.00.00.00.03.00.00.00.00.00.04.00.02.00.00.00.00.00.00.00.00.00.00.00.00.00.00.00.00.03.00.03.010.00.00.00.015.00.00.02.00.010.05.00.00.00.00.00.00.00.00.00.00.04.00.00.02.020.00.00.00.00.00.00.00.00.00.00.00.00.02.00.00.04.00.02.00.00.03.00.00.00.03.00.00.00.00.00.00.00.00.00.00.00.00.00.00.00.00.00.00.00.04.00.00.00.00.00.00.00.00.02.00.00.00.00.00.02.05.00.00.00.00.00.00.00.00.00.00.00.00.00.00.03.00.00.00.00.03.03.00.00.015.00.00.00.00.01.00.00.03.03.00.00.00.00.00.00.00.00.00.00.00.00.05.04.03.05.00.00.00.00.00.00.04.00.00.00.00.00.00.010.00.00.00.00.00.02.02.010.03.00.00.00.00.00.00.00.00.00.00.00.00.00.00.00.00.00.00.00.07.00.00.00.00.00.02.00.00.00.00.00.00.00.03.00.00.02.00.00.00.00.00.00.05.00.00.00.00.00.00.00.03.00.00.05.01.00.00.00.00.03.020.00.00.00.00.00.00.00.00.010.02.00.00.00.07.02.05.00.00.00.00.02.00.00.00.080.00.00.00.00.02.00.00.04.00.00.01.00.00.00.030.04.013.06.00.00.00.00.00.010.00.00.00.00.03.00.05.00.00.00.00.00.00.00.00.00.00.00.04.03.00.00.00.00.00.00.00.00.00.05.00.02.00.00.00.00.00.00.00.00.00.03.00.00.00.00.00.03.00.00.00.00.03.00.00.00.00.00.05.00.00.00.00.00.00.00.00.00.00.00.00.02.00.00.00.00.00.00.00.00.02.010.00.00.00.00.00.00.00.015.01.00.00.00.05.05.00.00.00.00.02.00.00.00.06.00.00.020.00.00.00.00.00.00.02.00.00.00.04.00.00.00.00.00.06.00.00.00.00.00.00.00.05.00.00.00.00.03.00.00.00.00.00.00.00.06.00.00.04.00.00.00.00.08.00.00.00.00.015.02.00.00.00.00.00.00.00.00.00.00.00.00.00.00.00.00.00.00.00.00.00.00.00.00.03.00.00.00.00.00.00.00.00.00.00.00.03.00.00.00.00.00.00.00.00.00.00.00.00.06.02.03.00.00.0122.00.00.00.04.00.00.010.03.00.00.00.00.00.00.05.00.00.00.00.02.00.00.00.00.00.00.00.00.00.00.00.00.00.00.00.014.00.00.00.00.00.00.04.00.00.00.00.050.00.00.00.00.00.00.00.00.00.00.00.00.00.00.00.00.00.00.00.00.00.00.00.00.00.00.00.06.00.00.00.00.00.03.00.00.00.00.00.00.00.00.00.00.00.00.00.00.00.00.00.00.00.00.00.01.00.00.00.00.00.00.020.00.00.00.02.00.00.00.00.00.00.00.00.00.00.00.00.00.00.00.00.00.00.00.020.00.00.00.00.00.05.00.00.00.00.00.00.00.00.01.00.00.00.00.00.00.00.00.00.02.00.00.00.00.00.00.00.00.00.00.00.00.00.00.00.00.00.00.00.00.00.00.00.00.00.00.00.00.00.00.04.00.00.00.00.00.02.00.00.00.00.00.00.00.00.00.01.00.00.00.00.00.00.00.00.00.00.00.00.00.03.00.00.00.00.00.00.00.00.00.00.00.00.00.00.00.00.00.00.00.00.02.00.00.00.00.00.00.00.00.00.00.00.00.00.00.00.00.00.00.00.00.00.00.00.00.02.00.00.00.00.00.00.00.00.00.00.00.00.00.00.00.00.00.00.00.00.00.00.00.00.00.00.00.00.00.00.00.00.00.01.02.00.00.00.00.00.00.05.00.01.00.00.00.00.00.03.03.00.00.00.00.08.01.00.00.00.00.00.00.00.00.00.00.00.00.00.00.00.00.00.00.00.00.00.00.00.00.00.00.00.00.00.0200.00.00.00.00.00.00.00.00.01.00.00.00.00.00.00.00.00.02.03.00.01.00.00.00.00.04.00.00.00.00.00.00.00.00.00.00.00.00.00.00.00.00.00.01.00.01.00.00.00.00.00.00.00.00.00.00.00.00.00.00.00.00.00.00.00.00.00.00.00.00.00.00.00.00.00.00.00.00.00.00.00.00.00.00.00.00.00.00.00.00.00.00.00.00.00.00.00.00.00.00.02.00.00.00.00.00.00.00.00.00.00.00.02.00.00.00.00.00.00.00.01.00.00.00.00.00.00.00.00.00.00.00.00.00.03.00.00.03.00.00.00.00.00.00.00.00.00.00.00.00.00.00.00.03.00.00.00.01.00.00.00.00.00.05.00.02.00.00.00.00.02.00.00.00.00.00.00.00.00.02.00.00.00.00.00.00.00.00.00.00.00.00.00.00.00.00.00.00.00.00.00.00.00.00.00.00.00.00.00.00.03.00.00.00.04.00.00.00.00.00.00.00.00.00.00.00.00.00.07.00.00.00.00.00.00.00.00.00.00.00.00.00.00.00.00.00.00.00.00.00.03.00.00.00.00.00.00.00.00.00.00.00.00.00.00.00.00.00.00.02.00.00.00.00.00.00.03.00.00.00.00.00.00.00.00.00.02.06.00.00.03.03.00.00.00.00.00.00.01.00.00.00.00.00.00.00.00.00.00.00.00.00.00.00.00.00.00.00.010.00.00.00.00.00.02.00.00.00.00.00.00.00.00.00.00.00.00.00.00.00.00.00.00.00.00.00.05.00.00.00.00.00.00.00.00.00.00.00.00.00.00.00.00.00.03.00.00.00.04.02.00.00.00.02.00.00.00.01.00.00.00.00.00.00.00.00.00.00.00.00.00.00.00.00.00.00.00.00.00.00.00.00.00.00.00.00.00.00.00.023.00.00.05.03.00.00.00.00.00.00.020.00.00.00.00.00.00.00.00.00.00.00.00.00.00.00.00.00.03.00.01.00.00.00.00.00.00.00.00.00.00.00.00.00.00.00.00.00.00.00.00.00.00.00.00.00.00.00.00.00.00.00.0100.00.00.00.00.00.00.00.00.00.00.00.00.00.00.00.00.07.00.00.00.00.00.00.02.02.00.00.00.00.00.00.06.00.00.00.00.00.00.00.00.00.00.00.02.00.00.00.00.00.00.05.00.00.00.00.00.00.00.00.00.00.00.00.00.00.00.00.05.00.00.00.00.00.00.04.00.00.00.00.00.00.00.00.00.00.00.00.00.00.00.00.00.03.00.00.00.00.00.00.00.00.00.00.00.00.00.00.00.00.00.00.00.00.00.00.00.00.00.00.00.00.00.00.00.00.00.00.00.00.00.00.00.05.00.00.00.00.00.00.00.00.00.00.00.00.00.00.00.02.00.00.00.00.00.00.00.03.00.00.00.01.00.00.00.00.00.00.00.00.00.00.00.00.00.00.00.00.00.00.00.00.055.02.00.00.00.00.00.00.00.00.00.00.00.00.00.00.00.00.03.00.00.00.00.00.00.00.00.02.00.00.05.00.00.00.05.00.03.00.00.00.00.00.00.00.00.00.00.00.00.00.00.00.00.00.00.00.00.00.00.02.00.03.00.00.00.00.00.00.05.00.00.00.00.03.00.00.00.00.00.00.00.00.00.00.00.00.02.00.00.00.010.00.00.00.00.00.00.00.00.00.00.00.00.00.05.00.00.00.00.00.00.03.00.00.00.00.00.00.02.00.03.01.00.02.02.04.04.00.00.00.01.00.00.00.00.00.00.00.00.00.00.03.00.00.00.00.00.00.00.00.00.00.00.00.07.00.00.00.02.00.00.00.00.00.00.00.02.00.00.00.00.00.00.00.00.00.00.00.00.00.00.00.00.00.00.00.00.00.01.00.00.00.00.00.00.03.00.00.00.00.00.00.00.00.00.00.00.00.00.00.00.00.00.00.00.00.00.00.00.00.00.00.00.00.00.00.00.00.02.00.00.00.00.00.00.00.00.00.00.00.05.00.00.00.00.00.00.00.00.00.02.00.01.00.00.00.01.00.00.00.00.00.00.00.018.00.00.00.00.04.00.00.00.00.00.00.00.00.00.02.00.00.00.00.00.00.00.00.00.00.00.00.05.05.00.00.01.00.00.00.00.00.00.00.00.00.00.00.00.00.00.00.00.00.00.00.00.00.00.00.01.00.00.00.03.00.00.05.00.00.00.00.00.00.00.00.00.00.02.00.00.00.00.00.00.00.00.00.00.00.00.00.00.00.00.00.00.01.00.00.00.00.00.00.00.00.02.00.00.05.00.00.00.03.00.00.00.00.00.00.00.00.00.00.00.00.00.00.00.00.00.00.00.02.00.00.01.00.00.00.00.01.00.00.03.00.00.00.00.02.00.00.00.00.00.00.00.00.00.00.00.00.00.00.00.00.00.00.00.00.00.00.00.00.00.00.00.00.00.00.00.06.00.00.00.00.00.00.00.00.00.00.00.00.00.00.00.00.00.00.00.00.00.00.00.00.00.00.00.00.00.00.00.03.00.00.00.00.00.00.00.00.00.02.00.00.00.00.00.00.00.00.00.00.00.00.00.00.00.02.00.00.00.00.00.00.00.00.00.00.00.00.00.00.00.012.01.00.00.00.00.010.00.00.00.00.00.04.00.00.00.03.00.00.00.00.00.04.00.00.00.00.00.00.00.00.00.00.00.00.00.00.00.01.00.00.00.00.00.00.00.00.00.00.00.00.00.00.00.00.00.00.00.00.00.00.00.00.00.00.02.00.02.00.00.00.00.00.00.00.03.00.00.00.030.00.00.00.00.00.00.00.00.00.00.00.00.00.01.00.00.00.02.05.00.00.00.00.00.00.00.00.01.04.00.00.00.00.00.00.00.00.00.012.00.00.00.03.00.00.00.00.00.00.00.00.00.00.00.00.00.00.00.00.00.01.00.00.02.00.00.00.00.00.00.01.00.00.00.00.00.00.00.00.00.00.06.02.00.00.00.00.00.00.00.00.03.00.00.03.04.00.00.00.00.00.00.00.00.00.00.00.02.00.00.00.00.00.00.00.00.00.00.00.00.00.00.00.00.00.00.00.00.02.00.00.00.00.00.02.00.00.00.00.00.00.00.00.00.00.00.00.00.00.00.00.00.00.00.00.00.00.00.00.00.00.00.00.00.00.00.00.00.00.00.00.00.00.00.00.00.00.00.00.02.02.00.00.05.00.00.05.00.00.03.00.00.00.00.00.00.00.00.00.00.00.00.00.00.00.00.00.03.00.00.00.00.00.00.05.00.00.00.01.00.00.00.00.00.00.00.00.00.00.00.00.04.00.00.00.00.00.00.00.02.00.00.00.00.00.00.00.00.00.00.00.00.00.00.00.00.00.00.03.01.00.00.00.00.00.00.00.00.00.00.00.00.06.00.00.07.03.00.00.00.00.00.00.00.00.00.00.02.00.00.00.00.00.00.00.00.00.00.00.00.00.00.00.00.00.00.00.00.00.00.00.00.00.00.00.00.00.00.00.00.00.00.00.02.00.00.00.00.00.00.00.00.00.00.00.00.00.00.00.00.00.00.00.00.00.00.00.02.00.00.00.00.00.00.00.00.00.00.00.01.00.05.00.00.010.02.00.03.02.00.00.00.00.05.01.02.00.00.00.00.03.00.00.00.00.00.00.00.00.00.00.00.00.00.00.00.01.00.00.00.010.00.02.00.00.00.00.00.00.00.00.00.00.00.00.00.00.00.00.00.05.00.00.00.00.00.00.00.00.00.00.00.00.00.00.011.00.04.03.00.00.00.00.00.00.00.00.00.00.03.00.00.00.00.00.03.00.00.03.00.05.00.00.05.00.02.01.00.00.00.00.00.00.00.00.00.00.00.00.00.06.00.00.00.01.00.00.05.00.00.00.01.00.00.00.00.00.00.00.00.00.00.00.00.02.00.00.00.00.00.00.00.03.00.00.03.00.00.00.06.00.00.00.00.00.04.04.00.05.00.015.05.04.00.00.00.00.00.00.00.00.00.00.00.00.05.00.00.00.00.00.00.00.00.00.00.00.00.00.00.00.00.00.00.00.00.00.00.00.00.00.03.00.00.00.00.00.00.00.00.00.00.00.00.00.00.00.00.00.00.00.00.00.01.02.00.00.00.00.00.00.00.00.07.00.00.00.00.00.00.00.00.00.00.00.01.00.00.00.05.00.00.00.00.00.03.01.00.04.00.00.00.00.00.00.00.06.03.04.00.00.00.00.02.03.06.02.00.00.00.00.00.00.02.00.00.00.00.00.00.00.00.00.00.00.00.00.00.00.00.00.00.00.00.00.02.00.00.00.015.00.02.00.00.00.00.00.00.00.00.00.00.00.00.00.00.06.00.00.00.00.00.00.00.00.05.02.00.00.00.00.00.00.00.00.00.00.00.00.00.00.00.00.00.00.00.00.00.00.00.00.00.00.00.00.00.00.00.00.00.00.00.00.00.00.00.00.00.07.00.04.00.00.00.00.00.00.02.00.00.02.00.00.00.00.00.00.00.00.00.00.00.00.00.00.00.00.00.00.04.00.00.00.00.00.00.00.00.05.00.00.00.00.00.02.00.00.00.00.00.00.00.00.00.00.00.00.00.00.00.00.00.00.00.00.00.00.01.00.00.00.00.00.00.00.00.00.00.00.00.00.00.02.00.00.01.00.00.00.06.00.00.00.00.00.01.02.00.00.02.00.00.00.00.00.01.00.00.00.00.00.04.00.00.00.02.00.00.00.00.00.00.00.00.00.02.00.00.00.00.00.00.00.00.00.010.00.02.00.00.01.00.00.00.00.03.05.00.00.00.00.00.04.00.00.02.08.00.00.00.00.01.00.00.00.00.00.00.00.00.00.00.00.00.00.00.02.02.00.00.00.00.00.00.00.00.03.00.00.00.00.02.00.00.00.00.00.00.03.00.04.00.00.00.00.00.00.00.00.00.00.00.00.00.00.00.00.03.00.00.00.00.05.00.00.01.00.00.00.00.02.00.00.00.00.00.06.00.00.00.00.00.00.00.00.00.00.00.00.00.00.00.00.00.00.00.00.00.00.00.00.00.00.00.00.00.00.00.00.00.00.00.01.00.00.04.00.00.00.00.00.00.03.00.00.00.04.00.00.00.00.00.00.03.00.00.00.00.00.03.00.00.00.00.00.03.00.00.00.03.00.00.00.00.00.00.00.00.00.00.00.00.00.00.00.00.00.00.00.00.00.00.00.00.00.06.00.00.00.00.00.00.00.00.00.00.00.00.00.05.00.00.00.00.00.02.00.00.02.00.02.00.00.01.00.00.02.00.02.00.00.00.03.00.00.00.00.00.00.00.00.00.00.00.00.00.00.00.06.05.00.00.00.00.00.04.00.02.00.00.00.00.00.010.00.04.00.00.00.00.00.00.00.00.03.00.00.01.00.00.00.00.00.06.00.00.00.00.00.00.05.00.00.00.00.00.00.00.00.00.00.00.010.02.00.00.00.00.00.00.00.00.00.00.00.00.00.00.00.00.00.00.00.00.00.00.00.00.00.00.03.00.03.00.00.00.02.00.00.00.00.00.00.00.00.04.04.00.00.00.00.00.00.00.00.00.05.00.00.00.00.00.00.00.00.03.00.00.03.00.00.00.00.00.00.00.00.01.00.00.00.00.01.00.00.00.00.00.02.02.00.00.00.00.03.00.00.00.00.00.00.03.04.00.010.011.00.00.03.03.00.03.00.00.00.00.00.00.00.00.03.00.00.00.00.02.00.04.00.00.00.05.00.00.00.00.00.00.02.00.00.00.00.00.04.00.00.00.00.010.02.00.00.00.00.00.03.00.00.00.00.00.03.02.00.00.00.00.00.00.00.05.00.00.00.00.00.02.00.00.00.00.02.00.00.05.00.03.00.04.00.00.00.00.00.00.00.00.00.00.02.00.00.00.00.03.00.00.03.00.03.05.00.00.00.00.00.00.00.00.00.00.00.00.00.00.00.00.00.01.00.00.00.03.00.00.00.00.00.010.00.00.00.03.00.04.00.00.00.00.010.00.00.00.00.00.00.015.00.00.05.00.00.00.00.00.02.010.00.00.00.00.00.00.00.00.00.05.00.00.00.03.00.00.00.00.00.00.00.00.00.00.00.00.00.00.00.00.00.00.04.02.00.00.00.00.00.06.03.00.00.00.00.03.00.010.03.00.00.00.04.00.00.02.00.00.00.00.03.06.00.00.00.00.03.010.00.00.00.00.00.02.03.00.03.00.06.00.03.00.030.00.02.00.00.00.00.00.00.00.030.00.00.00.00.00.00.00.00.00.00.00.00.00.010.00.03.00.00.00.00.00.00.00.00.00.02.03.09.00.00.00.00.00.00.00.00.00.03.03.00.06.00.00.00.05.00.020.00.00.06.06.00.01.01.00.01.00.05.00.00.00.03.00.03.00.00.00.00.00.00.00.00.00.00.00.02.00.00.00.00.00.03.00.08.00.02.00.00.00.00.00.00.00.00.00.03.00.02.00.00.00.00.00.00.00.00.00.00.00.00.00.00.00.00.00.00.00.00.00.00.00.00.00.00.00.00.00.00.00.00.00.00.00.00.00.00.00.00.00.00.00.00.00.02.00.00.00.00.00.00.00.00.00.06.03.00.03.00.012.00.00.00.00.00.00.00.00.00.00.00.00.00.00.00.00.00.00.00.00.01.00.00.00.00.00.00.00.00.00.00.00.00.00.00.00.00.00.00.00.00.00.00.00.00.00.00.00.00.00.00.00.00.00.00.00.02.01.00.00.00.00.00.00.00.00.00.02.00.00.00.00.03.00.00.00.07.00.00.00.00.00.00.00.00.00.00.00.00.00.03.00.00.00.00.00.00.00.00.00.00.00.00.00.00.00.00.00.05.00.00.00.05.00.00.00.00.00.00.01.00.00.00.00.00.00.00.00.00.00.00.00.00.00.02.00.02.00.00.00.00.00.00.00.00.00.00.00.00.00.00.00.00.00.00.00.00.0 to numeric"
     ]
    }
   ],
   "source": [
    "# 평균값 : 일 평균 이용빈도\n",
    "lib_freq['연 평균 이용빈도'].dropna().mean()"
   ]
  },
  {
   "cell_type": "markdown",
   "id": "71513c93",
   "metadata": {},
   "source": [
    "- 월 평균 이용빈도 : 약 4회 \n",
    "- 연 평균 이용빈도 : 약 7.3회"
   ]
  },
  {
   "cell_type": "markdown",
   "id": "aa0c2ff0",
   "metadata": {},
   "source": [
    "### [도서관 이용 경험有] 월 평균, 연 평균 학교 밖 도서관 이용 빈도 [지역별] 평균"
   ]
  },
  {
   "cell_type": "markdown",
   "id": "9769a601",
   "metadata": {},
   "source": [
    "- df.index.unique(), df.value_counts() 사용\n",
    "- 다중인덱스를 가진 데이터 프레임으로 출력"
   ]
  },
  {
   "cell_type": "code",
   "execution_count": null,
   "id": "6dd3d03b",
   "metadata": {},
   "outputs": [],
   "source": [
    "# 2017년은 월 평균 이용빈도, 연 평균 이용빈도 설문X\n",
    "# 2019,2021년도 지역별 학생들의 월 평균, 연 평균 이용빈도\n",
    "\n",
    "list = area_stu.index.unique()\n",
    "area_freq_total = pd.DataFrame(columns=[[],[]])\n",
    "\n",
    "for yr_area in list:\n",
    "    if yr_area[0] != 2017 :\n",
    "        lib_freq_m =lib_freq.loc[yr_area]['월 평균 이용빈도'].dropna().mean()\n",
    "        lib_freq_y =lib_freq.loc[yr_area]['연 평균 이용빈도'].dropna().mean()\n",
    "        area_freq_total[yr_area] = lib_freq_m,lib_freq_y"
   ]
  },
  {
   "cell_type": "markdown",
   "id": "be86a24d",
   "metadata": {},
   "source": [
    "- 컬럼, 인덱스명 설정"
   ]
  },
  {
   "cell_type": "code",
   "execution_count": null,
   "id": "e250fd08",
   "metadata": {},
   "outputs": [],
   "source": [
    "area_freq_total.columns.names = ['연도','지역']\n",
    "area_freq_total.index = ['월 평균 이용빈도','연 평균 이용빈도']"
   ]
  },
  {
   "cell_type": "code",
   "execution_count": null,
   "id": "be686091",
   "metadata": {
    "scrolled": true
   },
   "outputs": [],
   "source": [
    "# 소숫점 첫째자리까지\n",
    "area_freq_total = area_freq_total.round(1)"
   ]
  },
  {
   "cell_type": "markdown",
   "id": "51c6c46a",
   "metadata": {},
   "source": [
    "- 다중인덱스 레벨 변경, 컬럼명 기준 정렬"
   ]
  },
  {
   "cell_type": "code",
   "execution_count": null,
   "id": "9eda8e21",
   "metadata": {},
   "outputs": [],
   "source": [
    "area_freq_total = area_freq_total.swaplevel(i=-2, j=-1, axis=1).sort_index(axis=1)\n",
    "area_freq_lib_stu = area_freq_total"
   ]
  },
  {
   "cell_type": "code",
   "execution_count": null,
   "id": "c0665fd0",
   "metadata": {},
   "outputs": [],
   "source": [
    "area_freq_lib_stu"
   ]
  },
  {
   "cell_type": "markdown",
   "id": "c20b6df6",
   "metadata": {},
   "source": [
    "- 월 평균 이용빈도 추출"
   ]
  },
  {
   "cell_type": "code",
   "execution_count": null,
   "id": "1e6c0368",
   "metadata": {},
   "outputs": [],
   "source": [
    "area_freq_lib_stu_plot = area_freq_total.iloc[0]"
   ]
  },
  {
   "cell_type": "markdown",
   "id": "fb1546ce",
   "metadata": {},
   "source": [
    "- 행인덱스 레벨 해제"
   ]
  },
  {
   "cell_type": "code",
   "execution_count": null,
   "id": "70f72f93",
   "metadata": {},
   "outputs": [],
   "source": [
    "area_freq_lib_stu_plot  = pd.DataFrame(area_freq_lib_stu_plot  ).unstack()\n",
    "\n",
    "area_freq_lib_stu_plot.columns.names = ['월 이용빈도','연도']"
   ]
  },
  {
   "cell_type": "markdown",
   "id": "c7a4d937",
   "metadata": {},
   "source": [
    "- 지역별 월 평균 이용빈도 바 그래프  : plot.bar() --> **3) 분석 결과 파트에**"
   ]
  },
  {
   "cell_type": "markdown",
   "id": "7cbe685c",
   "metadata": {},
   "source": [
    "---------------------------------------"
   ]
  },
  {
   "cell_type": "markdown",
   "id": "8f6bfbe6",
   "metadata": {},
   "source": [
    "## 3) 주이용 도서관 종류 빈도분석"
   ]
  },
  {
   "cell_type": "markdown",
   "id": "7504f16f",
   "metadata": {},
   "source": [
    "- 필요한 컬럼 추출"
   ]
  },
  {
   "cell_type": "code",
   "execution_count": null,
   "id": "5202851f",
   "metadata": {},
   "outputs": [],
   "source": [
    "main_lib = total_stu.loc[:,['연도', '주이용 도서관 종류1', '주이용 도서관 종류2']]"
   ]
  },
  {
   "cell_type": "code",
   "execution_count": null,
   "id": "5f07b448",
   "metadata": {},
   "outputs": [],
   "source": [
    "main_lib"
   ]
  },
  {
   "cell_type": "markdown",
   "id": "49b1e7ea",
   "metadata": {},
   "source": [
    "- 연도기준 그룹화 : groupby()"
   ]
  },
  {
   "cell_type": "code",
   "execution_count": null,
   "id": "794c6feb",
   "metadata": {},
   "outputs": [],
   "source": [
    "main_lib_gr = main_lib.groupby('연도')"
   ]
  },
  {
   "cell_type": "markdown",
   "id": "43dd0be6",
   "metadata": {},
   "source": [
    "- 함수 정의 : 주이용 도서관 1순위에 가중치 2를 부여, 합산한 값 구하기."
   ]
  },
  {
   "cell_type": "code",
   "execution_count": null,
   "id": "a0ade5c1",
   "metadata": {},
   "outputs": [],
   "source": [
    "def func_main_lib (gr) :\n",
    "    gr.replace({9:np.nan,0:np.nan},inplace=True)\n",
    "    gr.dropna(how='any',inplace=True)\n",
    "    return gr['주이용 도서관 종류1'].value_counts()*2 + gr['주이용 도서관 종류2'].value_counts()"
   ]
  },
  {
   "cell_type": "markdown",
   "id": "d53a7bc1",
   "metadata": {},
   "source": [
    "- 그룹화에 함수 적용"
   ]
  },
  {
   "cell_type": "code",
   "execution_count": null,
   "id": "6214f018",
   "metadata": {},
   "outputs": [],
   "source": [
    "lib_rank = main_lib_gr.apply(func_main_lib)\n",
    "lib_rank"
   ]
  },
  {
   "cell_type": "code",
   "execution_count": null,
   "id": "889484e0",
   "metadata": {
    "scrolled": true
   },
   "outputs": [],
   "source": [
    "# 백분율로 확인하기\n",
    "lib_rank_col = lib_rank.columns\n",
    "lib_rank = lib_rank.div(lib_rank[lib_rank_col].sum(axis = 1),axis = 0).round(3)*100\n",
    "lib_rank_stu = lib_rank"
   ]
  },
  {
   "cell_type": "markdown",
   "id": "c2570ca9",
   "metadata": {},
   "source": [
    "---------------------------------------"
   ]
  },
  {
   "cell_type": "markdown",
   "id": "b4e056a8",
   "metadata": {},
   "source": [
    "## 4) 학교 밖 도서관을 이용하는 / 이용하지 않는 이유 빈도분석"
   ]
  },
  {
   "cell_type": "markdown",
   "id": "e6c612cd",
   "metadata": {},
   "source": [
    "- 필요한 컬럼값 추출"
   ]
  },
  {
   "cell_type": "code",
   "execution_count": null,
   "id": "0ebc040f",
   "metadata": {},
   "outputs": [],
   "source": [
    "reason_lib = total_stu.loc[:,['연도', '이용 이유', '비이용 이유']]\n",
    "reason_lib"
   ]
  },
  {
   "cell_type": "markdown",
   "id": "9e21a26e",
   "metadata": {},
   "source": [
    "- 연도 기준 groupby()"
   ]
  },
  {
   "cell_type": "code",
   "execution_count": null,
   "id": "d76a0e95",
   "metadata": {},
   "outputs": [],
   "source": [
    "reason_lib_gr = reason_lib.groupby('연도')"
   ]
  },
  {
   "cell_type": "markdown",
   "id": "f1e3e796",
   "metadata": {},
   "source": [
    "### 도서관을 이용하는 이유"
   ]
  },
  {
   "cell_type": "markdown",
   "id": "2f61ca03",
   "metadata": {},
   "source": [
    "- 도서관을 이용하는 이유의 빈도를 구하는 함수 정의"
   ]
  },
  {
   "cell_type": "code",
   "execution_count": null,
   "id": "575b74f9",
   "metadata": {},
   "outputs": [],
   "source": [
    "def func_reason (gr) :\n",
    "    gr.replace({9:np.nan,0:np.nan},inplace=True)\n",
    "    return pd.DataFrame(gr['이용 이유'].value_counts())"
   ]
  },
  {
   "cell_type": "markdown",
   "id": "6c69a8aa",
   "metadata": {},
   "source": [
    "- 그룹화 함수 적용"
   ]
  },
  {
   "cell_type": "code",
   "execution_count": null,
   "id": "90872e88",
   "metadata": {},
   "outputs": [],
   "source": [
    "reason_rank = reason_lib_gr.apply(func_reason)"
   ]
  },
  {
   "cell_type": "markdown",
   "id": "c0faaad6",
   "metadata": {},
   "source": [
    "- 다중인덱스 제거"
   ]
  },
  {
   "cell_type": "code",
   "execution_count": null,
   "id": "a45e4c57",
   "metadata": {},
   "outputs": [],
   "source": [
    "reason_rank = reason_rank.unstack(level=1)\n",
    "reason_rank"
   ]
  },
  {
   "cell_type": "markdown",
   "id": "97a142d0",
   "metadata": {
    "scrolled": false
   },
   "source": [
    "- 백분율로 확인하기 : value_count()"
   ]
  },
  {
   "cell_type": "code",
   "execution_count": null,
   "id": "c02fe575",
   "metadata": {
    "scrolled": false
   },
   "outputs": [],
   "source": [
    "reason_rank_col = reason_rank.columns\n",
    "reason_rank_stu = reason_rank.div(reason_rank[reason_rank_col].sum(axis = 1),axis = 0).round(3)*100\n",
    "reason_rank_stu"
   ]
  },
  {
   "cell_type": "markdown",
   "id": "90689177",
   "metadata": {},
   "source": [
    "### 도서관을 이용하지 않는 이유"
   ]
  },
  {
   "cell_type": "markdown",
   "id": "37e0607e",
   "metadata": {},
   "source": [
    "- 비이용 이유 데이터값의 빈도를 구하는 함수 정의"
   ]
  },
  {
   "cell_type": "code",
   "execution_count": null,
   "id": "852ec21c",
   "metadata": {},
   "outputs": [],
   "source": [
    "def func_reason_not (gr) :\n",
    "    gr.replace({9:np.nan,0:np.nan},inplace=True)\n",
    "    return pd.DataFrame(gr['비이용 이유'].value_counts())"
   ]
  },
  {
   "cell_type": "markdown",
   "id": "f668b59d",
   "metadata": {},
   "source": [
    "- 그룹화 함수 적용"
   ]
  },
  {
   "cell_type": "code",
   "execution_count": null,
   "id": "9a7edcbb",
   "metadata": {},
   "outputs": [],
   "source": [
    "reason_not_rank = reason_lib_gr.apply(func_reason_not)"
   ]
  },
  {
   "cell_type": "markdown",
   "id": "943a16c8",
   "metadata": {},
   "source": [
    "- 다중인덱스 제거"
   ]
  },
  {
   "cell_type": "code",
   "execution_count": null,
   "id": "4b003d8f",
   "metadata": {},
   "outputs": [],
   "source": [
    "reason_not_rank = reason_not_rank.unstack(level=1)"
   ]
  },
  {
   "cell_type": "markdown",
   "id": "730603ad",
   "metadata": {},
   "source": [
    "- 결측치 제거"
   ]
  },
  {
   "cell_type": "code",
   "execution_count": null,
   "id": "59cf720f",
   "metadata": {},
   "outputs": [],
   "source": [
    "reason_not_rank.fillna(0,inplace=True)\n",
    "reason_not_rank"
   ]
  },
  {
   "cell_type": "markdown",
   "id": "dd5d360f",
   "metadata": {
    "scrolled": false
   },
   "source": [
    "- 백분율로 확인하기"
   ]
  },
  {
   "cell_type": "code",
   "execution_count": null,
   "id": "37279ff1",
   "metadata": {
    "scrolled": false
   },
   "outputs": [],
   "source": [
    "reason_not_rank_col = reason_not_rank.columns\n",
    "reason_not_rank_stu = reason_not_rank.div(reason_not_rank[reason_not_rank_col].sum(axis = 1),axis = 0).round(3)*100"
   ]
  },
  {
   "cell_type": "markdown",
   "id": "a105c4d1",
   "metadata": {},
   "source": [
    "---------------------------------------"
   ]
  },
  {
   "cell_type": "markdown",
   "id": "babd19d0",
   "metadata": {},
   "source": [
    "## 5) 도서 선택시 이용 정보, 도서 입수경로 빈도분석"
   ]
  },
  {
   "cell_type": "markdown",
   "id": "d474a917",
   "metadata": {},
   "source": [
    "### 도서 선택시 이용 정보"
   ]
  },
  {
   "cell_type": "markdown",
   "id": "824e6ff7",
   "metadata": {},
   "source": [
    "- 필요한 컬럼값 추출"
   ]
  },
  {
   "cell_type": "code",
   "execution_count": null,
   "id": "2b562657",
   "metadata": {},
   "outputs": [],
   "source": [
    "book_stu = total_stu.loc[:,['연도','도서 선택시 이용정보1','도서 선택시 이용정보2', '도서 입수경로1', '도서 입수경로2']]"
   ]
  },
  {
   "cell_type": "markdown",
   "id": "5cc63f97",
   "metadata": {},
   "source": [
    "- 연도별 그룹화 : groupby()"
   ]
  },
  {
   "cell_type": "code",
   "execution_count": null,
   "id": "9330c043",
   "metadata": {},
   "outputs": [],
   "source": [
    "stu_year = book_stu.groupby('연도')"
   ]
  },
  {
   "cell_type": "markdown",
   "id": "aff32d06",
   "metadata": {},
   "source": [
    "- 함수 정의 : 도서 선택 시 이용하는 정보 1순위에 가중치 2를 부여, 합산한 값 구하기"
   ]
  },
  {
   "cell_type": "code",
   "execution_count": null,
   "id": "702b98aa",
   "metadata": {},
   "outputs": [],
   "source": [
    "def func_book_info (gr) :\n",
    "    gr.replace({9:np.nan,0:np.nan},inplace=True)\n",
    "    gr.dropna(how='any',inplace=True)\n",
    "    return gr['도서 선택시 이용정보1'].value_counts()*2 + gr['도서 선택시 이용정보2'].value_counts()"
   ]
  },
  {
   "cell_type": "markdown",
   "id": "9d8f5c8c",
   "metadata": {},
   "source": [
    "- 그룹화에 함수 적용"
   ]
  },
  {
   "cell_type": "code",
   "execution_count": null,
   "id": "faffea98",
   "metadata": {},
   "outputs": [],
   "source": [
    "book_info_rank = stu_year.apply(func_book_info)\n",
    "book_info_rank"
   ]
  },
  {
   "cell_type": "markdown",
   "id": "c314c2f2",
   "metadata": {
    "scrolled": false
   },
   "source": [
    "- 백분율로 확인하기"
   ]
  },
  {
   "cell_type": "code",
   "execution_count": null,
   "id": "8fa421ff",
   "metadata": {
    "scrolled": false
   },
   "outputs": [],
   "source": [
    "book_info_rank_col = book_info_rank.columns\n",
    "book_info_rank_stu = book_info_rank.div(book_info_rank[book_info_rank_col].sum(axis = 1),axis = 0).round(3)*100\n",
    "book_info_rank_stu"
   ]
  },
  {
   "cell_type": "markdown",
   "id": "3e50b631",
   "metadata": {},
   "source": [
    "### 도서 입수 경로"
   ]
  },
  {
   "cell_type": "markdown",
   "id": "f35811aa",
   "metadata": {},
   "source": [
    "- 함수 정의 : 도서 입수 경로 1순위에 가중치 2를 부여, 합산한 값 구하기"
   ]
  },
  {
   "cell_type": "code",
   "execution_count": null,
   "id": "31505383",
   "metadata": {},
   "outputs": [],
   "source": [
    "def func_book_get (gr) :\n",
    "    gr.replace({9:np.nan,0:np.nan},inplace = True)\n",
    "    gr.dropna(how='any',inplace=True)\n",
    "    return gr['도서 입수경로1'].value_counts()*2 + gr['도서 입수경로2'].value_counts()"
   ]
  },
  {
   "cell_type": "markdown",
   "id": "f0d89436",
   "metadata": {},
   "source": [
    "- 그룹화에 함수 적용"
   ]
  },
  {
   "cell_type": "code",
   "execution_count": null,
   "id": "9d00458a",
   "metadata": {},
   "outputs": [],
   "source": [
    "book_get_rank = stu_year.apply(func_book_get)\n",
    "book_get_rank = pd.DataFrame(book_get_rank)"
   ]
  },
  {
   "cell_type": "markdown",
   "id": "e74e1c35",
   "metadata": {},
   "source": [
    "- 행인덱스 레벨 해제"
   ]
  },
  {
   "cell_type": "code",
   "execution_count": null,
   "id": "2a2de05a",
   "metadata": {},
   "outputs": [],
   "source": [
    "book_get_rank = book_get_rank.unstack(level=1)"
   ]
  },
  {
   "cell_type": "markdown",
   "id": "768885cf",
   "metadata": {},
   "source": [
    "- 결측치 처리"
   ]
  },
  {
   "cell_type": "code",
   "execution_count": null,
   "id": "2a3ffbac",
   "metadata": {},
   "outputs": [],
   "source": [
    "book_get_rank.fillna(0,inplace=True)"
   ]
  },
  {
   "cell_type": "markdown",
   "id": "bf149031",
   "metadata": {},
   "source": [
    "- 다중인덱스 특정 레벨 제거"
   ]
  },
  {
   "cell_type": "code",
   "execution_count": null,
   "id": "dcefc3b5",
   "metadata": {},
   "outputs": [],
   "source": [
    "book_get_rank = book_get_rank.droplevel(level=0,axis=1)"
   ]
  },
  {
   "cell_type": "markdown",
   "id": "cffc2407",
   "metadata": {
    "scrolled": false
   },
   "source": [
    "- 백분율로 확인하기"
   ]
  },
  {
   "cell_type": "code",
   "execution_count": null,
   "id": "b47759a7",
   "metadata": {
    "scrolled": false
   },
   "outputs": [],
   "source": [
    "book_get_rank_col = book_get_rank.columns\n",
    "book_get_rank_stu = book_get_rank.div(book_get_rank[book_get_rank_col].sum(axis = 1),axis = 0).round(3)*100\n",
    "book_get_rank_stu"
   ]
  },
  {
   "cell_type": "markdown",
   "id": "40aa42fd",
   "metadata": {},
   "source": [
    "------------------------------------"
   ]
  },
  {
   "cell_type": "markdown",
   "id": "8f2e3ffa",
   "metadata": {},
   "source": [
    "------------------------------------"
   ]
  },
  {
   "cell_type": "markdown",
   "id": "b3588962",
   "metadata": {},
   "source": [
    "# ②성인들의 도서관 이용 분석"
   ]
  },
  {
   "cell_type": "markdown",
   "id": "7342fdd0",
   "metadata": {},
   "source": [
    "## 1) 지역별 도서관 이용률"
   ]
  },
  {
   "cell_type": "markdown",
   "id": "6ebc0772",
   "metadata": {},
   "source": [
    "- 컬럼값 확인"
   ]
  },
  {
   "cell_type": "code",
   "execution_count": null,
   "id": "65fc5ad3",
   "metadata": {},
   "outputs": [],
   "source": [
    "total_adult.columns"
   ]
  },
  {
   "cell_type": "markdown",
   "id": "be0076e9",
   "metadata": {
    "scrolled": true
   },
   "source": [
    "- 필요한 컬럼 출력"
   ]
  },
  {
   "cell_type": "code",
   "execution_count": null,
   "id": "1c8da583",
   "metadata": {
    "scrolled": true
   },
   "outputs": [],
   "source": [
    "area_adult = total_adult.loc[:,['연도','지역','도서관 이용경험','월 평균 이용빈도', '연 평균 이용빈도', '주이용 도서관 종류1', \n",
    "                            '주이용 도서관 종류2', '이용 목적', '비이용 이유']]"
   ]
  },
  {
   "cell_type": "markdown",
   "id": "abb1fa83",
   "metadata": {
    "scrolled": true
   },
   "source": [
    "- 연도와 지역 다중인덱스 설정 : set_index()"
   ]
  },
  {
   "cell_type": "code",
   "execution_count": null,
   "id": "1a64f96f",
   "metadata": {
    "scrolled": true
   },
   "outputs": [],
   "source": [
    "area_adult = area_adult.set_index(['연도','지역'])\n",
    "area_adult"
   ]
  },
  {
   "cell_type": "markdown",
   "id": "a2bf2633",
   "metadata": {},
   "source": [
    "- 무응답 값 결측치 처리 : unique()"
   ]
  },
  {
   "cell_type": "code",
   "execution_count": null,
   "id": "86314558",
   "metadata": {},
   "outputs": [],
   "source": [
    "area_adult['도서관 이용경험'].unique()"
   ]
  },
  {
   "cell_type": "markdown",
   "id": "6fe1995f",
   "metadata": {},
   "source": [
    "### 지역별 도서관 이용률 계산"
   ]
  },
  {
   "cell_type": "markdown",
   "id": "e2c20986",
   "metadata": {},
   "source": [
    "- df.index.unique(), df.value_counts() 사용\n",
    "- 다중인덱스를 가진 데이터 프레임으로 출력"
   ]
  },
  {
   "cell_type": "code",
   "execution_count": null,
   "id": "ff49df72",
   "metadata": {},
   "outputs": [],
   "source": [
    "list = area_adult.index.unique()\n",
    "area_lib = pd.DataFrame(columns=[[],[]])\n",
    "\n",
    "for yr_area in list:\n",
    "    lib_temp = area_adult.loc[yr_area]['도서관 이용경험'].value_counts(normalize=True).round(2)*100\n",
    "    area_lib[yr_area[1],yr_area[0]] = lib_temp"
   ]
  },
  {
   "cell_type": "markdown",
   "id": "5aec263e",
   "metadata": {},
   "source": [
    "- 열 인덱스 기준 정렬 : sort_index()"
   ]
  },
  {
   "cell_type": "code",
   "execution_count": null,
   "id": "6fb9c64e",
   "metadata": {},
   "outputs": [],
   "source": [
    "area_lib = area_lib.sort_index(axis=1)"
   ]
  },
  {
   "cell_type": "markdown",
   "id": "1104fd40",
   "metadata": {},
   "source": [
    "- 다중 인덱스 이름 설정 :columns.names"
   ]
  },
  {
   "cell_type": "code",
   "execution_count": null,
   "id": "248c689f",
   "metadata": {},
   "outputs": [],
   "source": [
    "area_lib.columns.names=['지역','연도']\n",
    "area_lib_adult = area_lib\n",
    "area_lib_adult"
   ]
  },
  {
   "cell_type": "markdown",
   "id": "d8523d18",
   "metadata": {},
   "source": [
    "----------------------------------------------"
   ]
  },
  {
   "cell_type": "markdown",
   "id": "c5917dff",
   "metadata": {},
   "source": [
    "### 지역별 도서관 이용률 시각화"
   ]
  },
  {
   "cell_type": "markdown",
   "id": "9ab63f42",
   "metadata": {},
   "source": [
    "- 도서관 이용률 추출"
   ]
  },
  {
   "cell_type": "code",
   "execution_count": null,
   "id": "df6036ed",
   "metadata": {},
   "outputs": [],
   "source": [
    "area_lib_adult_plot =area_lib_adult.iloc[1]"
   ]
  },
  {
   "cell_type": "markdown",
   "id": "e4665453",
   "metadata": {},
   "source": [
    "- 행인덱스 레벨 해제"
   ]
  },
  {
   "cell_type": "code",
   "execution_count": null,
   "id": "b58b48c2",
   "metadata": {},
   "outputs": [],
   "source": [
    "area_lib_adult_plot = pd.DataFrame(area_lib_adult_plot).unstack()"
   ]
  },
  {
   "cell_type": "markdown",
   "id": "d0b2606e",
   "metadata": {},
   "source": [
    "- 컬럼 이름 설정"
   ]
  },
  {
   "cell_type": "code",
   "execution_count": null,
   "id": "0bfe1180",
   "metadata": {},
   "outputs": [],
   "source": [
    "area_lib_adult_plot.columns.names = ['이용 경험','연도']"
   ]
  },
  {
   "cell_type": "markdown",
   "id": "17fe7123",
   "metadata": {},
   "source": [
    "- 지역별 도서관 이용률 바 그래프  : plot.bar() --> **3) 분석 결과 파트에**"
   ]
  },
  {
   "cell_type": "markdown",
   "id": "a0a1a0bf",
   "metadata": {},
   "source": [
    "-----------------------------------------------------"
   ]
  },
  {
   "cell_type": "markdown",
   "id": "97010a89",
   "metadata": {},
   "source": [
    "## 2) 월 평균 이용 빈도, 연 평균 이용 빈도"
   ]
  },
  {
   "cell_type": "markdown",
   "id": "04d8fad1",
   "metadata": {},
   "source": [
    "### [전체] 월 평균, 연 평균 도서관 이용 빈도 [전국] 평균"
   ]
  },
  {
   "cell_type": "markdown",
   "id": "0c267917",
   "metadata": {},
   "source": [
    "- 평균값, 최대값 구하기 : describe()"
   ]
  },
  {
   "cell_type": "code",
   "execution_count": null,
   "id": "24bc827e",
   "metadata": {},
   "outputs": [],
   "source": [
    "# 2017년은 월 평균 이용빈도, 연평균 이용빈도 설문X\n",
    "# 2019년, 2021년의 기술통계값, 소숫점 첫째자리까지\n",
    "area_adult.loc[[2019],:].describe().round(1)\n",
    "area_adult.loc[[2021],:].describe().round(1)"
   ]
  },
  {
   "cell_type": "markdown",
   "id": "6f3e79d7",
   "metadata": {},
   "source": [
    "- 2019년, 전체 성인의 월 평균 도서관 이용빈도는 약 0.5회, 연 평균 도서관 이용빈도는 약 0.4회\n",
    "\n",
    "- 2021년, 전체 성인의 월 평균 도서관 이용빈도는 약 0.5회, 연 평균 도서관 이용빈도는 약 0.3회\n",
    "\n",
    "\n",
    "- 2019년, 월 평균 도서관 이용빈도가 가장 높은 성인은 월 30회, 연 평균 도서관 이용빈도가 가장 높은 성인은 연 60회 도서관을 이용했다.\n",
    "\n",
    "- 2021년, 월 평균 도서관 이용빈도가 가장 높은 성인은 월 30회, 연 평균 도서관 이용빈도가 가장 높은 성인은 연 60회 학교 밖 도서관을 이용했다."
   ]
  },
  {
   "cell_type": "markdown",
   "id": "f6e87c7a",
   "metadata": {},
   "source": [
    "### [전체] 월 평균, 연 평균 학교 밖 도서관 이용 빈도 [지역] 평균"
   ]
  },
  {
   "cell_type": "code",
   "execution_count": null,
   "id": "fda23ebd",
   "metadata": {},
   "outputs": [],
   "source": [
    "area_adult"
   ]
  },
  {
   "cell_type": "markdown",
   "id": "52b76ec4",
   "metadata": {},
   "source": [
    "- df.index.unique(), df.value_counts() 사용\n",
    "- 다중인덱스를 가진 데이터 프레임으로 출력"
   ]
  },
  {
   "cell_type": "code",
   "execution_count": null,
   "id": "6639eff2",
   "metadata": {},
   "outputs": [],
   "source": [
    "# 2017년은 월 평균 이용빈도, 연 평균 이용빈도 설문X\n",
    "# 2019,2021년도 지역별 전체 성인의 월 평균, 연 평균 이용\n",
    "list = area_adult.index.unique()\n",
    "area_freq = pd.DataFrame(columns=[[],[]])\n",
    "\n",
    "for yr_area in list:\n",
    "    if yr_area[0] != 2017 :\n",
    "        freq_temp = area_adult.loc[yr_area,['월 평균 이용빈도','연 평균 이용빈도']].mean().round(1)\n",
    "        area_freq[yr_area[1],yr_area[0]] = freq_temp\n"
   ]
  },
  {
   "cell_type": "markdown",
   "id": "3135bc1b",
   "metadata": {},
   "source": [
    "- 열 인덱스 기준 정렬 : sort_index"
   ]
  },
  {
   "cell_type": "code",
   "execution_count": null,
   "id": "969c2c54",
   "metadata": {},
   "outputs": [],
   "source": [
    "area_freq = area_freq.sort_index(axis=1)"
   ]
  },
  {
   "cell_type": "markdown",
   "id": "1b81bc20",
   "metadata": {},
   "source": [
    "- 다중 인덱스 이름 설정 : columns.names()"
   ]
  },
  {
   "cell_type": "code",
   "execution_count": null,
   "id": "2f4073e3",
   "metadata": {},
   "outputs": [],
   "source": [
    "area_freq.columns.names=['지역','연도']\n",
    "area_freq_all_adult = area_freq\n",
    "area_freq_all_adult "
   ]
  },
  {
   "cell_type": "markdown",
   "id": "d17569d5",
   "metadata": {},
   "source": [
    "### 지역별 월 평균 도서관 이용빈도 시각화"
   ]
  },
  {
   "cell_type": "markdown",
   "id": "f972a6c2",
   "metadata": {},
   "source": [
    "- 도서관 월 평균 이용빈도 추출"
   ]
  },
  {
   "cell_type": "code",
   "execution_count": null,
   "id": "7469b1af",
   "metadata": {},
   "outputs": [],
   "source": [
    "area_freq_plot = area_freq.iloc[0]"
   ]
  },
  {
   "cell_type": "markdown",
   "id": "72885708",
   "metadata": {},
   "source": [
    "- 행인덱스 레벨 해제"
   ]
  },
  {
   "cell_type": "code",
   "execution_count": null,
   "id": "e8d061a6",
   "metadata": {},
   "outputs": [],
   "source": [
    "area_freq_plot = pd.DataFrame(area_freq_plot).unstack()"
   ]
  },
  {
   "cell_type": "markdown",
   "id": "389ea19c",
   "metadata": {},
   "source": [
    "- 컬럼 이름 설정"
   ]
  },
  {
   "cell_type": "code",
   "execution_count": null,
   "id": "2f2f809f",
   "metadata": {},
   "outputs": [],
   "source": [
    "area_freq_plot.columns.names = ['월 평균','연도']"
   ]
  },
  {
   "cell_type": "markdown",
   "id": "8289dd4a",
   "metadata": {},
   "source": [
    " - 월 평균 공공 도서관 이용 빈도 바 그래프  : plot.bar() --> 3) 분석 결과 파트에"
   ]
  },
  {
   "cell_type": "markdown",
   "id": "f38af7cb",
   "metadata": {},
   "source": [
    "### [도서관 이용 경험有] 월 평균, 연 평균 도서관 이용 빈도 [전국] 평균"
   ]
  },
  {
   "cell_type": "markdown",
   "id": "2e1d9f4c",
   "metadata": {},
   "source": [
    "- 필요 컬럼값 추출"
   ]
  },
  {
   "cell_type": "code",
   "execution_count": null,
   "id": "7f1db53f",
   "metadata": {},
   "outputs": [],
   "source": [
    "lib_freq = area_adult.loc[:,['월 평균 이용빈도','연 평균 이용빈도']]"
   ]
  },
  {
   "cell_type": "markdown",
   "id": "d9a42939",
   "metadata": {},
   "source": [
    "- 결측치 처리"
   ]
  },
  {
   "cell_type": "code",
   "execution_count": null,
   "id": "555466dd",
   "metadata": {},
   "outputs": [],
   "source": [
    "lib_freq.replace({0:np.nan},inplace=True)\n",
    "lib_freq.dropna(how='all',inplace=True)"
   ]
  },
  {
   "cell_type": "markdown",
   "id": "c2f574c2",
   "metadata": {
    "scrolled": true
   },
   "source": [
    "- 평균값 : 월 평균 이용빈도"
   ]
  },
  {
   "cell_type": "code",
   "execution_count": null,
   "id": "a2184b7c",
   "metadata": {
    "scrolled": true
   },
   "outputs": [],
   "source": [
    "lib_freq['월 평균 이용빈도'].dropna().mean()"
   ]
  },
  {
   "cell_type": "markdown",
   "id": "67270812",
   "metadata": {},
   "source": [
    "- 평균값 : 일 평균 이용빈도"
   ]
  },
  {
   "cell_type": "code",
   "execution_count": null,
   "id": "3f6f7b27",
   "metadata": {},
   "outputs": [],
   "source": [
    "lib_freq['연 평균 이용빈도'].dropna().mean()"
   ]
  },
  {
   "cell_type": "markdown",
   "id": "1f172a8d",
   "metadata": {},
   "source": [
    "- 월 평균 이용빈도 : 약 4.1회 \n",
    "- 연 평균 이용빈도 : 약 4.7회"
   ]
  },
  {
   "cell_type": "markdown",
   "id": "5998979c",
   "metadata": {},
   "source": [
    "### [도서관 이용 경험有] 월 평균, 연 평균 도서관 이용 빈도 [지역별] 평균"
   ]
  },
  {
   "cell_type": "markdown",
   "id": "da172e00",
   "metadata": {},
   "source": [
    "- df.index.unique(), df.value_counts() 사용\n",
    "- 다중인덱스를 가진 데이터 프레임으로 출력"
   ]
  },
  {
   "cell_type": "code",
   "execution_count": null,
   "id": "8f3a5424",
   "metadata": {},
   "outputs": [],
   "source": [
    "# 2017년은 월 평균 이용빈도, 연 평균 이용빈도 설문X\n",
    "# 2019,2021년도 지역별 성인들의 월 평균, 연 평균 이용빈도\n",
    "\n",
    "list = area_adult.index.unique()\n",
    "area_freq_total = pd.DataFrame(columns=[[],[]])\n",
    "\n",
    "for yr_area in list:\n",
    "    if yr_area[0] != 2017 :\n",
    "        lib_freq_m =lib_freq.loc[yr_area]['월 평균 이용빈도'].dropna().mean()\n",
    "        lib_freq_y =lib_freq.loc[yr_area]['연 평균 이용빈도'].dropna().mean()\n",
    "        area_freq_total[yr_area] = lib_freq_m,lib_freq_y"
   ]
  },
  {
   "cell_type": "markdown",
   "id": "3fc377b8",
   "metadata": {
    "scrolled": true
   },
   "source": [
    "- 컬럼, 인덱스명 설정"
   ]
  },
  {
   "cell_type": "code",
   "execution_count": null,
   "id": "1dc070de",
   "metadata": {},
   "outputs": [],
   "source": [
    "area_freq_total.columns.names = ['연도','지역']\n",
    "area_freq_total.index = ['월 평균 이용빈도','연 평균 이용빈도']"
   ]
  },
  {
   "cell_type": "markdown",
   "id": "414e772a",
   "metadata": {
    "scrolled": true
   },
   "source": [
    "- 소숫점 첫째자리까지"
   ]
  },
  {
   "cell_type": "code",
   "execution_count": null,
   "id": "db549dcb",
   "metadata": {
    "scrolled": true
   },
   "outputs": [],
   "source": [
    "area_freq_total = area_freq_total.round(1)"
   ]
  },
  {
   "cell_type": "markdown",
   "id": "ba69a5a2",
   "metadata": {},
   "source": [
    "- 다중인덱스 레벨 변경, 컬럼명 기준 정렬"
   ]
  },
  {
   "cell_type": "code",
   "execution_count": null,
   "id": "443971b2",
   "metadata": {},
   "outputs": [],
   "source": [
    "area_freq_total = area_freq_total.swaplevel(i=-2, j=-1, axis=1).sort_index(axis=1)\n",
    "area_freq_lib_adult = area_freq_total\n",
    "area_freq_lib_adult"
   ]
  },
  {
   "cell_type": "markdown",
   "id": "bf6e6b02",
   "metadata": {},
   "source": [
    "### 월 이용 빈도 시각화"
   ]
  },
  {
   "cell_type": "markdown",
   "id": "06ac16e2",
   "metadata": {},
   "source": [
    "- 월 평균 이용빈도 추출"
   ]
  },
  {
   "cell_type": "code",
   "execution_count": null,
   "id": "4bd4d2bd",
   "metadata": {},
   "outputs": [],
   "source": [
    "area_freq_m_plot = area_freq_total.iloc[0]"
   ]
  },
  {
   "cell_type": "markdown",
   "id": "f96fe1dd",
   "metadata": {},
   "source": [
    "- 행인덱스 레벨 해제"
   ]
  },
  {
   "cell_type": "code",
   "execution_count": null,
   "id": "ec42a0fe",
   "metadata": {},
   "outputs": [],
   "source": [
    "area_freq_m_plot = pd.DataFrame(area_freq_m_plot).unstack()\n",
    "\n",
    "area_freq_m_plot.columns.names = ['월 이용빈도','연도']"
   ]
  },
  {
   "cell_type": "markdown",
   "id": "d24f9177",
   "metadata": {},
   "source": [
    "- 지역별 월 평균 이용빈도 바 그래프  : plot.bar() --> 3)분석 결과 파트에"
   ]
  },
  {
   "cell_type": "markdown",
   "id": "3ff6e3a4",
   "metadata": {},
   "source": [
    "### 연 이용 빈도 시각화"
   ]
  },
  {
   "cell_type": "markdown",
   "id": "7ef0a28d",
   "metadata": {},
   "source": [
    "- 연 평균 이용빈도 추출"
   ]
  },
  {
   "cell_type": "code",
   "execution_count": null,
   "id": "4b022080",
   "metadata": {},
   "outputs": [],
   "source": [
    "area_freq_y_plot = area_freq_total.iloc[1]"
   ]
  },
  {
   "cell_type": "markdown",
   "id": "bb4512cb",
   "metadata": {},
   "source": [
    "- 행인덱스 레벨 해제"
   ]
  },
  {
   "cell_type": "code",
   "execution_count": null,
   "id": "06819fd2",
   "metadata": {},
   "outputs": [],
   "source": [
    "area_freq_y_plot = pd.DataFrame(area_freq_y_plot).unstack()\n",
    "\n",
    "area_freq_y_plot.columns.names = ['연 이용빈도','연도']"
   ]
  },
  {
   "cell_type": "markdown",
   "id": "5fc4117e",
   "metadata": {},
   "source": [
    "- 지역별 연 평균 이용빈도 그래프  : plot.bar()"
   ]
  },
  {
   "cell_type": "code",
   "execution_count": null,
   "id": "67471c8d",
   "metadata": {},
   "outputs": [],
   "source": [
    "area_freq_y_plot.plot.bar(figsize=(13,7))"
   ]
  },
  {
   "cell_type": "markdown",
   "id": "5ce2634c",
   "metadata": {},
   "source": [
    "#### 모든 행에 결측치가 하나 이상 존재하여, 결측치를 모두 제거할 경우 값을 구할 수 없음.\n",
    "#### 해당 통계의 신뢰도 낮음."
   ]
  },
  {
   "cell_type": "markdown",
   "id": "efcfd2a6",
   "metadata": {},
   "source": [
    "---------------------------------------"
   ]
  },
  {
   "cell_type": "markdown",
   "id": "480f475c",
   "metadata": {},
   "source": [
    "## 3) 주 이용 도서관 종류 빈도분석"
   ]
  },
  {
   "cell_type": "markdown",
   "id": "0e16e2c1",
   "metadata": {},
   "source": [
    "- 필요한 컬럼 추출"
   ]
  },
  {
   "cell_type": "code",
   "execution_count": null,
   "id": "2d8a9689",
   "metadata": {},
   "outputs": [],
   "source": [
    "main_lib = total_adult.loc[:,['연도', '주이용 도서관 종류1', '주이용 도서관 종류2']]"
   ]
  },
  {
   "cell_type": "code",
   "execution_count": null,
   "id": "ec56dfb3",
   "metadata": {},
   "outputs": [],
   "source": [
    "main_lib"
   ]
  },
  {
   "cell_type": "markdown",
   "id": "de4d770c",
   "metadata": {},
   "source": [
    "- 연도 기준 groupby()"
   ]
  },
  {
   "cell_type": "code",
   "execution_count": null,
   "id": "435123a8",
   "metadata": {},
   "outputs": [],
   "source": [
    "main_lib_gr = main_lib.groupby('연도')"
   ]
  },
  {
   "cell_type": "markdown",
   "id": "b99f83b0",
   "metadata": {},
   "source": [
    "#### 2017년, 2019년은 1순위만 조사"
   ]
  },
  {
   "cell_type": "markdown",
   "id": "1b7f84ac",
   "metadata": {},
   "source": [
    "2017년 그룹 데이터 추출 : get_group"
   ]
  },
  {
   "cell_type": "code",
   "execution_count": null,
   "id": "2ce8b19b",
   "metadata": {},
   "outputs": [],
   "source": [
    "main_lib_2017 = main_lib_gr.get_group(2017)"
   ]
  },
  {
   "cell_type": "markdown",
   "id": "a7cc4e87",
   "metadata": {},
   "source": [
    "- 결측치 제거"
   ]
  },
  {
   "cell_type": "code",
   "execution_count": null,
   "id": "a57f0e33",
   "metadata": {},
   "outputs": [],
   "source": [
    "main_lib_2017['주이용 도서관 종류1'].unique()"
   ]
  },
  {
   "cell_type": "code",
   "execution_count": null,
   "id": "d8dea408",
   "metadata": {},
   "outputs": [],
   "source": [
    "main_lib_2017.replace({0:np.nan},inplace=True)\n",
    "main_lib_2017.dropna(how='all',inplace=True)"
   ]
  },
  {
   "cell_type": "markdown",
   "id": "87e28532",
   "metadata": {},
   "source": [
    "- 빈도값 구하기 : value_count()"
   ]
  },
  {
   "cell_type": "code",
   "execution_count": null,
   "id": "8d69c70d",
   "metadata": {
    "scrolled": true
   },
   "outputs": [],
   "source": [
    "main_lib_2017_rank = main_lib_2017['주이용 도서관 종류1'].value_counts()\n",
    "main_lib_2017_rank"
   ]
  },
  {
   "cell_type": "markdown",
   "id": "7cbfc3bc",
   "metadata": {},
   "source": [
    "- 인덱스명 변경"
   ]
  },
  {
   "cell_type": "code",
   "execution_count": null,
   "id": "fe033c69",
   "metadata": {
    "scrolled": true
   },
   "outputs": [],
   "source": [
    "main_lib_2017_rank = main_lib_2017_rank.rename(index=2017)"
   ]
  },
  {
   "cell_type": "markdown",
   "id": "1c02b021",
   "metadata": {},
   "source": [
    "2019년 그룹 데이터 추출"
   ]
  },
  {
   "cell_type": "code",
   "execution_count": null,
   "id": "5343f88e",
   "metadata": {},
   "outputs": [],
   "source": [
    "main_lib_2019 = main_lib_gr.get_group(2019)"
   ]
  },
  {
   "cell_type": "markdown",
   "id": "63523652",
   "metadata": {},
   "source": [
    "- 결측치 제거"
   ]
  },
  {
   "cell_type": "code",
   "execution_count": null,
   "id": "0cfb9975",
   "metadata": {},
   "outputs": [],
   "source": [
    "main_lib_2019['주이용 도서관 종류1'].unique()"
   ]
  },
  {
   "cell_type": "code",
   "execution_count": null,
   "id": "bddec148",
   "metadata": {},
   "outputs": [],
   "source": [
    "main_lib_2019.replace({0:np.nan},inplace=True)\n",
    "main_lib_2019.dropna(how='all',inplace=True)"
   ]
  },
  {
   "cell_type": "markdown",
   "id": "a348a4a2",
   "metadata": {},
   "source": [
    "- 빈도값 구하기 : value_count()"
   ]
  },
  {
   "cell_type": "code",
   "execution_count": null,
   "id": "ccfe4115",
   "metadata": {
    "scrolled": true
   },
   "outputs": [],
   "source": [
    "main_lib_2019_rank = main_lib_2019['주이용 도서관 종류1'].value_counts()\n",
    "main_lib_2019_rank"
   ]
  },
  {
   "cell_type": "markdown",
   "id": "c1de40b3",
   "metadata": {},
   "source": [
    "- 인덱스명 변경"
   ]
  },
  {
   "cell_type": "code",
   "execution_count": null,
   "id": "6793ed68",
   "metadata": {
    "scrolled": true
   },
   "outputs": [],
   "source": [
    "main_lib_2019_rank = main_lib_2019_rank.rename(index=2019)"
   ]
  },
  {
   "cell_type": "markdown",
   "id": "ceab79f2",
   "metadata": {},
   "source": [
    "2021년 그룹 데이터 추출"
   ]
  },
  {
   "cell_type": "code",
   "execution_count": null,
   "id": "a9b959b5",
   "metadata": {},
   "outputs": [],
   "source": [
    "main_lib_2021 = main_lib_gr.get_group(2021)"
   ]
  },
  {
   "cell_type": "markdown",
   "id": "458403fa",
   "metadata": {},
   "source": [
    "- 결측치 제거"
   ]
  },
  {
   "cell_type": "code",
   "execution_count": null,
   "id": "40da4103",
   "metadata": {},
   "outputs": [],
   "source": [
    "main_lib_2021.replace({0:np.nan},inplace=True)"
   ]
  },
  {
   "cell_type": "code",
   "execution_count": null,
   "id": "798203d1",
   "metadata": {},
   "outputs": [],
   "source": [
    "main_lib_2021.dropna(how='any',inplace=True)"
   ]
  },
  {
   "cell_type": "markdown",
   "id": "96709575",
   "metadata": {},
   "source": [
    "- 주이용 도서관 1순위에 가중치 2를 부여, 합산한 값 구하기."
   ]
  },
  {
   "cell_type": "code",
   "execution_count": null,
   "id": "c92522e0",
   "metadata": {},
   "outputs": [],
   "source": [
    "main_lib_2021_rank = main_lib_2021['주이용 도서관 종류1'].value_counts()*2 + main_lib_2021['주이용 도서관 종류2'].value_counts()"
   ]
  },
  {
   "cell_type": "code",
   "execution_count": null,
   "id": "7d9f3e60",
   "metadata": {},
   "outputs": [],
   "source": [
    "main_lib_2021_rank"
   ]
  },
  {
   "cell_type": "markdown",
   "id": "d4ad1959",
   "metadata": {},
   "source": [
    "- 인덱스명 변경"
   ]
  },
  {
   "cell_type": "code",
   "execution_count": null,
   "id": "56506ae9",
   "metadata": {
    "scrolled": true
   },
   "outputs": [],
   "source": [
    "main_lib_2021_rank = main_lib_2021_rank.rename(index=2021)"
   ]
  },
  {
   "cell_type": "markdown",
   "id": "5817fd57",
   "metadata": {},
   "source": [
    "- 데이터 프레임으로 만들기"
   ]
  },
  {
   "cell_type": "code",
   "execution_count": null,
   "id": "a7557972",
   "metadata": {},
   "outputs": [],
   "source": [
    "main_lib_rank = pd.DataFrame([main_lib_2017_rank,main_lib_2019_rank,main_lib_2021_rank])"
   ]
  },
  {
   "cell_type": "markdown",
   "id": "28ecf057",
   "metadata": {},
   "source": [
    "- 결측치 제거"
   ]
  },
  {
   "cell_type": "code",
   "execution_count": null,
   "id": "65c3e5e7",
   "metadata": {
    "scrolled": true
   },
   "outputs": [],
   "source": [
    "main_lib_rank = main_lib_rank.fillna(0)\n",
    "main_lib_rank"
   ]
  },
  {
   "cell_type": "markdown",
   "id": "f6b59fa2",
   "metadata": {
    "scrolled": true
   },
   "source": [
    "- 백분율로 확인하기"
   ]
  },
  {
   "cell_type": "code",
   "execution_count": null,
   "id": "9d495442",
   "metadata": {},
   "outputs": [],
   "source": [
    "main_lib_rank_col = main_lib_rank.columns"
   ]
  },
  {
   "cell_type": "code",
   "execution_count": null,
   "id": "fed1677e",
   "metadata": {
    "scrolled": true
   },
   "outputs": [],
   "source": [
    "main_lib_rank = main_lib_rank.div(main_lib_rank[main_lib_rank_col].sum(axis = 1),axis = 0).round(3)*100\n",
    "main_lib_rank"
   ]
  },
  {
   "cell_type": "markdown",
   "id": "e3c216d8",
   "metadata": {},
   "source": [
    "---------------------------------------"
   ]
  },
  {
   "cell_type": "markdown",
   "id": "bf1d747e",
   "metadata": {},
   "source": [
    "## 4) 도서관을 이용하는 / 이용하지 않는 이유 빈도분석"
   ]
  },
  {
   "cell_type": "markdown",
   "id": "a8509476",
   "metadata": {},
   "source": [
    "### 도서관을 이용하는 이유"
   ]
  },
  {
   "cell_type": "markdown",
   "id": "e70af1fa",
   "metadata": {},
   "source": [
    "- 필요한 컬럼값 추출"
   ]
  },
  {
   "cell_type": "code",
   "execution_count": null,
   "id": "75615804",
   "metadata": {},
   "outputs": [],
   "source": [
    "reason_lib = total_adult.loc[:,['연도', '이용 목적', '비이용 이유']]\n",
    "reason_lib"
   ]
  },
  {
   "cell_type": "markdown",
   "id": "10941a69",
   "metadata": {},
   "source": [
    "- 연도 기준 groupby()"
   ]
  },
  {
   "cell_type": "code",
   "execution_count": null,
   "id": "f0387928",
   "metadata": {},
   "outputs": [],
   "source": [
    "reason_lib_gr = reason_lib.groupby('연도')"
   ]
  },
  {
   "cell_type": "markdown",
   "id": "7a4ab81e",
   "metadata": {},
   "source": [
    "- 도서관을 이용하는 이유의 데이터값의 빈도를 구하는 함수 정의"
   ]
  },
  {
   "cell_type": "code",
   "execution_count": null,
   "id": "6aab47df",
   "metadata": {},
   "outputs": [],
   "source": [
    "def func_reason (gr) :\n",
    "    gr.replace({9:np.nan,0:np.nan},inplace=True)\n",
    "    return pd.DataFrame(gr['이용 목적'].value_counts())"
   ]
  },
  {
   "cell_type": "markdown",
   "id": "7ac08a5c",
   "metadata": {},
   "source": [
    "- 그룹화 함수 적용"
   ]
  },
  {
   "cell_type": "code",
   "execution_count": null,
   "id": "a4c6b5a2",
   "metadata": {},
   "outputs": [],
   "source": [
    "reason_rank = reason_lib_gr.apply(func_reason)"
   ]
  },
  {
   "cell_type": "markdown",
   "id": "c0876ace",
   "metadata": {},
   "source": [
    "- 다중인덱스 제거"
   ]
  },
  {
   "cell_type": "code",
   "execution_count": null,
   "id": "d1dc37ac",
   "metadata": {},
   "outputs": [],
   "source": [
    "reason_rank = reason_rank.unstack(level=1)\n",
    "reason_rank.fillna(0,inplace=True)"
   ]
  },
  {
   "cell_type": "markdown",
   "id": "40f632bb",
   "metadata": {},
   "source": [
    "- 시리즈 형태를 데이터 프레임으로 변경"
   ]
  },
  {
   "cell_type": "code",
   "execution_count": null,
   "id": "587d1441",
   "metadata": {},
   "outputs": [],
   "source": [
    "reason_rank =pd.DataFrame(reason_rank)"
   ]
  },
  {
   "cell_type": "code",
   "execution_count": null,
   "id": "b8a4e3ab",
   "metadata": {},
   "outputs": [],
   "source": [
    "reason_rank"
   ]
  },
  {
   "cell_type": "markdown",
   "id": "05ac9dad",
   "metadata": {
    "scrolled": true
   },
   "source": [
    "- 백분율로 확인하기"
   ]
  },
  {
   "cell_type": "code",
   "execution_count": null,
   "id": "74ffb86e",
   "metadata": {
    "scrolled": true
   },
   "outputs": [],
   "source": [
    "reason_rank_col = reason_rank.columns\n",
    "reason_rank = reason_rank.div(reason_rank[reason_rank_col].sum(axis = 1),axis = 0).round(3)*100\n",
    "reason_rank"
   ]
  },
  {
   "cell_type": "markdown",
   "id": "1f1790e6",
   "metadata": {},
   "source": [
    "### 도서관을 이용하지 않는 이유"
   ]
  },
  {
   "cell_type": "markdown",
   "id": "7265e1a3",
   "metadata": {},
   "source": [
    "- 비이용 이유 데이터값의 빈도를 구하는 함수 정의"
   ]
  },
  {
   "cell_type": "code",
   "execution_count": null,
   "id": "63f2459d",
   "metadata": {},
   "outputs": [],
   "source": [
    "def func_reason_not (gr) :\n",
    "    gr.replace({9:np.nan,0:np.nan},inplace=True)\n",
    "    return pd.DataFrame(gr['비이용 이유'].value_counts())"
   ]
  },
  {
   "cell_type": "markdown",
   "id": "3812ea02",
   "metadata": {},
   "source": [
    "- 그룹화 함수 적용"
   ]
  },
  {
   "cell_type": "code",
   "execution_count": null,
   "id": "29984efc",
   "metadata": {},
   "outputs": [],
   "source": [
    "reason_not_rank = reason_lib_gr.apply(func_reason_not)"
   ]
  },
  {
   "cell_type": "markdown",
   "id": "909aaf25",
   "metadata": {},
   "source": [
    "- 다중인덱스 제거"
   ]
  },
  {
   "cell_type": "code",
   "execution_count": null,
   "id": "cf05027a",
   "metadata": {},
   "outputs": [],
   "source": [
    "reason_not_rank = reason_not_rank.unstack(level=1)\n",
    "reason_not_rank.fillna(0,inplace=True)\n",
    "reason_not_rank"
   ]
  },
  {
   "cell_type": "markdown",
   "id": "4a84f542",
   "metadata": {
    "scrolled": false
   },
   "source": [
    "- 백분율로 확인하기"
   ]
  },
  {
   "cell_type": "code",
   "execution_count": null,
   "id": "b88b66c8",
   "metadata": {
    "scrolled": false
   },
   "outputs": [],
   "source": [
    "reason_not_rank_col = reason_not_rank.columns\n",
    "reason_not_rank = reason_not_rank.div(reason_not_rank[reason_not_rank_col].sum(axis = 1),axis = 0).round(3)*100\n",
    "reason_not_rank"
   ]
  },
  {
   "cell_type": "markdown",
   "id": "f240384a",
   "metadata": {},
   "source": [
    "---------------------------------------"
   ]
  },
  {
   "cell_type": "markdown",
   "id": "ec0bfe1a",
   "metadata": {},
   "source": [
    "## 5) 도서 선택시 이용 정보, 도서 입수경로 빈도분석"
   ]
  },
  {
   "cell_type": "markdown",
   "id": "c028bd1e",
   "metadata": {},
   "source": [
    "### 도서 선택시 이용 정보"
   ]
  },
  {
   "cell_type": "markdown",
   "id": "9dd1cf1e",
   "metadata": {},
   "source": [
    "- 필요한 컬럼값 추출"
   ]
  },
  {
   "cell_type": "code",
   "execution_count": null,
   "id": "f846bd19",
   "metadata": {},
   "outputs": [],
   "source": [
    "book_adult = total_adult.loc[:,['연도','도서 선택시 이용정보1','도서 선택시 이용정보2', '도서 입수경로1', '도서 입수경로2']]"
   ]
  },
  {
   "cell_type": "code",
   "execution_count": null,
   "id": "3267d1a6",
   "metadata": {},
   "outputs": [],
   "source": [
    "adult_year = book_adult.groupby('연도')"
   ]
  },
  {
   "cell_type": "markdown",
   "id": "c0a40951",
   "metadata": {},
   "source": [
    "- 도서 선택시 이용 정보 순위를 도출하는 사용자 정의 함수 : func_book_info()\n",
    "- 그룹화에 함수 적용"
   ]
  },
  {
   "cell_type": "code",
   "execution_count": null,
   "id": "a3c400cc",
   "metadata": {},
   "outputs": [],
   "source": [
    "book_info_rank = adult_year.apply(func_book_info)\n",
    "book_info_rank = pd.DataFrame(book_info_rank)"
   ]
  },
  {
   "cell_type": "markdown",
   "id": "9ec0683d",
   "metadata": {
    "scrolled": true
   },
   "source": [
    "- 열 인덱스 레벨 제거"
   ]
  },
  {
   "cell_type": "code",
   "execution_count": null,
   "id": "581f9b49",
   "metadata": {
    "scrolled": true
   },
   "outputs": [],
   "source": [
    "book_info_rank = book_info_rank.unstack(level=1)"
   ]
  },
  {
   "cell_type": "code",
   "execution_count": null,
   "id": "4004d9bd",
   "metadata": {},
   "outputs": [],
   "source": [
    "book_info_rank.fillna(0,inplace=True)"
   ]
  },
  {
   "cell_type": "markdown",
   "id": "9897892e",
   "metadata": {
    "scrolled": false
   },
   "source": [
    "- 백분율로 확인하기"
   ]
  },
  {
   "cell_type": "code",
   "execution_count": null,
   "id": "19015b86",
   "metadata": {},
   "outputs": [],
   "source": [
    "book_info_rank_col = book_info_rank.columns\n",
    "book_info_rank = book_info_rank.div(book_info_rank[book_info_rank_col].sum(axis = 1),axis = 0).round(3)*100"
   ]
  },
  {
   "cell_type": "markdown",
   "id": "9c4c8c2b",
   "metadata": {},
   "source": [
    "- 다중 인덱스 레벨 제거"
   ]
  },
  {
   "cell_type": "code",
   "execution_count": null,
   "id": "1642c3e6",
   "metadata": {
    "scrolled": false
   },
   "outputs": [],
   "source": [
    "book_info_rank_adult = book_info_rank.droplevel(0, axis=1)\n",
    "book_info_rank_adult"
   ]
  },
  {
   "cell_type": "markdown",
   "id": "5f2fa343",
   "metadata": {},
   "source": [
    "### 도서 입수 경로"
   ]
  },
  {
   "cell_type": "markdown",
   "id": "deb9fd89",
   "metadata": {},
   "source": [
    "- 도서 입수경로 순위를 추출하는 사용자 정의 함수 : func_book_get()\n",
    "- 그룹화에 함수 적용"
   ]
  },
  {
   "cell_type": "code",
   "execution_count": null,
   "id": "726c3cac",
   "metadata": {},
   "outputs": [],
   "source": [
    "book_get_rank = adult_year.apply(func_book_get)\n",
    "book_get_rank = pd.DataFrame(book_get_rank)"
   ]
  },
  {
   "cell_type": "code",
   "execution_count": null,
   "id": "24d2eb39",
   "metadata": {},
   "outputs": [],
   "source": [
    "book_get_rank"
   ]
  },
  {
   "cell_type": "markdown",
   "id": "37265ee7",
   "metadata": {
    "scrolled": false
   },
   "source": [
    "- 백분율로 확인하기"
   ]
  },
  {
   "cell_type": "code",
   "execution_count": null,
   "id": "bb0a358f",
   "metadata": {
    "scrolled": false
   },
   "outputs": [],
   "source": [
    "book_get_rank_col = book_get_rank.columns\n",
    "book_get_rank = book_get_rank.div(book_get_rank[book_get_rank_col].sum(axis = 1),axis = 0).round(3)*100\n",
    "book_get_rank"
   ]
  },
  {
   "cell_type": "markdown",
   "id": "1f764555",
   "metadata": {},
   "source": [
    "------------------------------------"
   ]
  },
  {
   "cell_type": "markdown",
   "id": "ab3dbc47",
   "metadata": {},
   "source": [
    "------------------------------------"
   ]
  },
  {
   "cell_type": "markdown",
   "id": "dffbdad4",
   "metadata": {},
   "source": [
    "# ③학생들의 독서 인식 분석"
   ]
  },
  {
   "cell_type": "markdown",
   "id": "461bf051",
   "metadata": {},
   "source": [
    "- 연도별 그룹화 : groupby()"
   ]
  },
  {
   "cell_type": "code",
   "execution_count": null,
   "id": "a0274516",
   "metadata": {},
   "outputs": [],
   "source": [
    "stu_gr = total_stu.groupby('연도')\n",
    "stu_gr"
   ]
  },
  {
   "cell_type": "markdown",
   "id": "ffde30af",
   "metadata": {},
   "source": [
    "## 1) 종이책/전자책/오디오북 독서 시간과 총 독서 시간의 평균값"
   ]
  },
  {
   "cell_type": "markdown",
   "id": "1b63fdf6",
   "metadata": {},
   "source": [
    "- 연도별 독서시간의 평균값 "
   ]
  },
  {
   "cell_type": "code",
   "execution_count": null,
   "id": "34654b48",
   "metadata": {},
   "outputs": [],
   "source": [
    "read_avg_stu = stu_gr.mean().round(1).drop('월 평균 이용빈도',axis=1)"
   ]
  },
  {
   "cell_type": "code",
   "execution_count": null,
   "id": "80c6f424",
   "metadata": {
    "scrolled": true
   },
   "outputs": [],
   "source": [
    "# 필요한 컬럼값 추출\n",
    "read_avg_stu = read_avg_stu.loc[:,'평일 평균 독서시간(분)':]\n",
    "read_avg_stu"
   ]
  },
  {
   "cell_type": "markdown",
   "id": "ce82938e",
   "metadata": {},
   "source": [
    "- 2019,2021년의 종류별 독서시간을 전체 독서시간으로 변환"
   ]
  },
  {
   "cell_type": "code",
   "execution_count": null,
   "id": "431118c5",
   "metadata": {},
   "outputs": [],
   "source": [
    "for i in range(1,3):\n",
    "    read_avg_stu.iloc[i,0] = read_avg_stu.iloc[i,2] + read_avg_stu.iloc[i,4] + read_avg_stu.iloc[i,6]\n",
    "    read_avg_stu.iloc[i,1] = read_avg_stu.iloc[i,3] + read_avg_stu.iloc[i,5] + read_avg_stu.iloc[i,6]\n",
    "    \n",
    "read_avg_stu"
   ]
  },
  {
   "cell_type": "markdown",
   "id": "ed204cf9",
   "metadata": {},
   "source": [
    "- 종류별 평일/주말 평균 독서시간을 일 평균 독서시간을 변환"
   ]
  },
  {
   "cell_type": "code",
   "execution_count": null,
   "id": "8f5e4adc",
   "metadata": {},
   "outputs": [],
   "source": [
    "read_avg_stu.insert(2,'일 평균 독서시간(분)',(read_avg_stu.iloc[:,0]*5 + read_avg_stu.iloc[:,1]*2)/7)\n",
    "read_avg_stu.insert(5,'종이_일 평균 독서시간(분)',(read_avg_stu.iloc[:,3]*5 + read_avg_stu.iloc[:,4]*2)/7)\n",
    "read_avg_stu.insert(8,'전자_일 평균 독서시간(분)',(read_avg_stu.iloc[:,6]*5 + read_avg_stu.iloc[:,7]*2)/7)\n",
    "read_avg_stu.insert(11,'오디오_일 평균 독서시간(분)',(read_avg_stu.iloc[:,9]*5 + read_avg_stu.iloc[:,10]*2)/7)\n",
    "\n",
    "read_avg_stu"
   ]
  },
  {
   "cell_type": "markdown",
   "id": "49c9939f",
   "metadata": {},
   "source": [
    "------------------------------------"
   ]
  },
  {
   "cell_type": "markdown",
   "id": "9233991a",
   "metadata": {},
   "source": [
    "## 2) 초/중/고등학생의 선호 독서분야 빈도 분석"
   ]
  },
  {
   "cell_type": "markdown",
   "id": "05ac79dd",
   "metadata": {},
   "source": [
    "- 필요한 컬럼값 추출 : df.loc[]"
   ]
  },
  {
   "cell_type": "code",
   "execution_count": null,
   "id": "113acac0",
   "metadata": {},
   "outputs": [],
   "source": [
    "book_kind = total_stu.loc[:,['연도','학교구분','초등 독서분야 선호도1', '초등 독서분야 선호도2', '중고등 독서분야 선호도1', '중고등 독서분야 선호도2']]"
   ]
  },
  {
   "cell_type": "code",
   "execution_count": null,
   "id": "006e3e05",
   "metadata": {
    "scrolled": true
   },
   "outputs": [],
   "source": [
    "book_kind"
   ]
  },
  {
   "cell_type": "markdown",
   "id": "0df739c7",
   "metadata": {},
   "source": [
    "- 인덱스 설정"
   ]
  },
  {
   "cell_type": "code",
   "execution_count": null,
   "id": "89b20ec3",
   "metadata": {},
   "outputs": [],
   "source": [
    "book_kind = book_kind.set_index('학교구분')"
   ]
  },
  {
   "cell_type": "code",
   "execution_count": null,
   "id": "cda70f84",
   "metadata": {},
   "outputs": [],
   "source": [
    "book_kind"
   ]
  },
  {
   "cell_type": "markdown",
   "id": "6e5f4457",
   "metadata": {},
   "source": [
    "### 초등학생의 선호 독서분야"
   ]
  },
  {
   "cell_type": "markdown",
   "id": "cde25161",
   "metadata": {},
   "source": [
    "- 필요 행 인덱스 추출"
   ]
  },
  {
   "cell_type": "code",
   "execution_count": null,
   "id": "5117ae59",
   "metadata": {},
   "outputs": [],
   "source": [
    "book_kind_ele = book_kind.loc['초등']"
   ]
  },
  {
   "cell_type": "code",
   "execution_count": null,
   "id": "4561f4a3",
   "metadata": {},
   "outputs": [],
   "source": [
    "book_kind_ele"
   ]
  },
  {
   "cell_type": "markdown",
   "id": "c92da36a",
   "metadata": {},
   "source": [
    "- 연도별 그룹화"
   ]
  },
  {
   "cell_type": "code",
   "execution_count": null,
   "id": "1aa0c384",
   "metadata": {},
   "outputs": [],
   "source": [
    "book_kind_ele_gr = book_kind_ele.groupby('연도')"
   ]
  },
  {
   "cell_type": "markdown",
   "id": "595f39a7",
   "metadata": {},
   "source": [
    "- 함수 정의 : func_book_fav () - 초등학생의 선호 독서분야 순위를 구하는 함수"
   ]
  },
  {
   "cell_type": "code",
   "execution_count": null,
   "id": "c69bf174",
   "metadata": {},
   "outputs": [],
   "source": [
    "def func_book_fav (gr) :\n",
    "    gr.replace({0:np.nan},inplace=True)\n",
    "    gr.dropna(thresh=3,inplace=True)\n",
    "    return gr['초등 독서분야 선호도1'].value_counts()*2 + gr['초등 독서분야 선호도2'].value_counts()"
   ]
  },
  {
   "cell_type": "markdown",
   "id": "9b084281",
   "metadata": {},
   "source": [
    "- 그룹별 함수 적용"
   ]
  },
  {
   "cell_type": "code",
   "execution_count": null,
   "id": "5f701e72",
   "metadata": {},
   "outputs": [],
   "source": [
    "book_kind_ele = book_kind_ele_gr.apply(func_book_fav)"
   ]
  },
  {
   "cell_type": "code",
   "execution_count": null,
   "id": "1ca4af92",
   "metadata": {},
   "outputs": [],
   "source": [
    "book_kind_ele"
   ]
  },
  {
   "cell_type": "markdown",
   "id": "7554ffa9",
   "metadata": {},
   "source": [
    "- 백분율로 확인하기"
   ]
  },
  {
   "cell_type": "code",
   "execution_count": null,
   "id": "942a595b",
   "metadata": {},
   "outputs": [],
   "source": [
    "book_kind_ele_col =book_kind_ele.columns\n",
    "book_kind_ele = book_kind_ele.div(book_kind_ele[book_kind_ele_col].sum(axis = 1),axis = 0).round(3)*100\n",
    "book_kind_ele"
   ]
  },
  {
   "cell_type": "markdown",
   "id": "081dc6a6",
   "metadata": {},
   "source": [
    "### 중학생의 선호 독서분야"
   ]
  },
  {
   "cell_type": "markdown",
   "id": "292355b4",
   "metadata": {},
   "source": [
    "- 필요 행 인덱스 추출"
   ]
  },
  {
   "cell_type": "code",
   "execution_count": null,
   "id": "93bd3f61",
   "metadata": {},
   "outputs": [],
   "source": [
    "book_kind_mdl = book_kind.loc['중등']"
   ]
  },
  {
   "cell_type": "code",
   "execution_count": null,
   "id": "31358429",
   "metadata": {},
   "outputs": [],
   "source": [
    "book_kind_mdl"
   ]
  },
  {
   "cell_type": "markdown",
   "id": "6a46d497",
   "metadata": {},
   "source": [
    "- 연도별 그룹화"
   ]
  },
  {
   "cell_type": "code",
   "execution_count": null,
   "id": "188459b2",
   "metadata": {},
   "outputs": [],
   "source": [
    "book_kind_mdl_gr = book_kind_mdl.groupby('연도')"
   ]
  },
  {
   "cell_type": "markdown",
   "id": "b39cac9c",
   "metadata": {},
   "source": [
    "- 함수 정의 : func_book_fav () - 중고등학생의 선호 독서분야 순위를 구하는 함수"
   ]
  },
  {
   "cell_type": "code",
   "execution_count": null,
   "id": "0b88cca6",
   "metadata": {},
   "outputs": [],
   "source": [
    "def func_book_fav (gr) :\n",
    "    gr.replace({0:np.nan},inplace=True)\n",
    "    gr.dropna(thresh=3,inplace=True)\n",
    "    return gr['중고등 독서분야 선호도1'].value_counts()*2 + gr['중고등 독서분야 선호도2'].value_counts()"
   ]
  },
  {
   "cell_type": "markdown",
   "id": "ae525be2",
   "metadata": {},
   "source": [
    "- 그룹별 함수 적용"
   ]
  },
  {
   "cell_type": "code",
   "execution_count": null,
   "id": "0939090b",
   "metadata": {},
   "outputs": [],
   "source": [
    "book_kind_mdl = book_kind_mdl_gr.apply(func_book_fav)"
   ]
  },
  {
   "cell_type": "code",
   "execution_count": null,
   "id": "0b121b46",
   "metadata": {},
   "outputs": [],
   "source": [
    "book_kind_mdl"
   ]
  },
  {
   "cell_type": "markdown",
   "id": "34020f20",
   "metadata": {},
   "source": [
    "- 백분율로 확인하기"
   ]
  },
  {
   "cell_type": "code",
   "execution_count": null,
   "id": "29903e5a",
   "metadata": {},
   "outputs": [],
   "source": [
    "book_kind_mdl_col =book_kind_mdl.columns\n",
    "book_kind_mdl = book_kind_mdl.div(book_kind_mdl[book_kind_mdl_col].sum(axis = 1),axis = 0).round(3)*100\n",
    "book_kind_mdl"
   ]
  },
  {
   "cell_type": "markdown",
   "id": "74a1e80e",
   "metadata": {},
   "source": [
    "### 고등학생의 선호 독서분야"
   ]
  },
  {
   "cell_type": "markdown",
   "id": "a7c28df8",
   "metadata": {},
   "source": [
    "- 필요 행 인덱스 추출"
   ]
  },
  {
   "cell_type": "code",
   "execution_count": null,
   "id": "96dca0df",
   "metadata": {},
   "outputs": [],
   "source": [
    "book_kind_high = book_kind.loc['고등']"
   ]
  },
  {
   "cell_type": "code",
   "execution_count": null,
   "id": "98efe545",
   "metadata": {},
   "outputs": [],
   "source": [
    "book_kind_high"
   ]
  },
  {
   "cell_type": "markdown",
   "id": "a8ec9d32",
   "metadata": {},
   "source": [
    "- 연도별 그룹화"
   ]
  },
  {
   "cell_type": "code",
   "execution_count": null,
   "id": "b2c2ee4f",
   "metadata": {},
   "outputs": [],
   "source": [
    "book_kind_high_gr = book_kind_high.groupby('연도')"
   ]
  },
  {
   "cell_type": "markdown",
   "id": "788d18b4",
   "metadata": {},
   "source": [
    "- 사용자 정의함수 호출: func_book_fav () - 초등학생의 선호 독서분야 순위를 구하는 함수\n",
    "- 그룹별 함수 적용"
   ]
  },
  {
   "cell_type": "code",
   "execution_count": null,
   "id": "bc9ef528",
   "metadata": {},
   "outputs": [],
   "source": [
    "book_kind_high = book_kind_high_gr.apply(func_book_fav)"
   ]
  },
  {
   "cell_type": "code",
   "execution_count": null,
   "id": "e56399c0",
   "metadata": {},
   "outputs": [],
   "source": [
    "book_kind_high"
   ]
  },
  {
   "cell_type": "markdown",
   "id": "aeddfac6",
   "metadata": {},
   "source": [
    "- 백분율로 확인하기"
   ]
  },
  {
   "cell_type": "code",
   "execution_count": null,
   "id": "9c08131b",
   "metadata": {},
   "outputs": [],
   "source": [
    "book_kind_high_col = book_kind_high.columns\n",
    "book_kind_high =book_kind_high.div(book_kind_high[book_kind_high_col].sum(axis = 1),axis = 0).round(3)*100\n",
    "book_kind_high"
   ]
  },
  {
   "cell_type": "markdown",
   "id": "592e400a",
   "metadata": {},
   "source": [
    "---------------------------------------"
   ]
  },
  {
   "cell_type": "markdown",
   "id": "457c2309",
   "metadata": {},
   "source": [
    "## 3) 학생들의 독서 장애 요인 빈도분석"
   ]
  },
  {
   "cell_type": "markdown",
   "id": "a708d5e7",
   "metadata": {},
   "source": [
    "- 필요한 컬럼 추출"
   ]
  },
  {
   "cell_type": "code",
   "execution_count": null,
   "id": "878192a7",
   "metadata": {},
   "outputs": [],
   "source": [
    "reason_not_read = total_stu.loc[:,['연도', '독서장애요인1', '독서장애요인2']]\n",
    "reason_not_read"
   ]
  },
  {
   "cell_type": "code",
   "execution_count": null,
   "id": "01977548",
   "metadata": {},
   "outputs": [],
   "source": [
    "reason_not_read"
   ]
  },
  {
   "cell_type": "markdown",
   "id": "9aa3fbf4",
   "metadata": {},
   "source": [
    "- 연도 기준 groupby()"
   ]
  },
  {
   "cell_type": "code",
   "execution_count": null,
   "id": "2d4b3650",
   "metadata": {},
   "outputs": [],
   "source": [
    "reason_not_read_gr = reason_not_read.groupby('연도')"
   ]
  },
  {
   "cell_type": "markdown",
   "id": "785d4911",
   "metadata": {},
   "source": [
    "- 함수 정의 :func_reason_not_read() - 독서장애요인 1순위에 가중치 2를 부여, 합산한 값 구하기"
   ]
  },
  {
   "cell_type": "code",
   "execution_count": null,
   "id": "dfcc6fc5",
   "metadata": {},
   "outputs": [],
   "source": [
    "def func_reason_not_read (gr) :\n",
    "    gr.replace({9:np.nan,0:np.nan},inplace=True)\n",
    "    gr.dropna(how='any',inplace=True)\n",
    "    return gr['독서장애요인1'].value_counts()*2 + gr['독서장애요인2'].value_counts()"
   ]
  },
  {
   "cell_type": "markdown",
   "id": "0c32623c",
   "metadata": {},
   "source": [
    "- 그룹화 함수 적용"
   ]
  },
  {
   "cell_type": "code",
   "execution_count": null,
   "id": "9f1792e7",
   "metadata": {},
   "outputs": [],
   "source": [
    "reason_not_read = reason_not_read_gr.apply(func_reason_not_read)"
   ]
  },
  {
   "cell_type": "markdown",
   "id": "e31312d4",
   "metadata": {},
   "source": [
    "- 다중인덱스 제거"
   ]
  },
  {
   "cell_type": "code",
   "execution_count": null,
   "id": "46640da4",
   "metadata": {},
   "outputs": [],
   "source": [
    "reason_not_read = reason_not_read.unstack(level=1)\n",
    "reason_not_read.fillna(0,inplace=True)"
   ]
  },
  {
   "cell_type": "code",
   "execution_count": null,
   "id": "66733132",
   "metadata": {},
   "outputs": [],
   "source": [
    "# 시리즈 형태를 데이터 프레임으로 변경\n",
    "reason_not_read =pd.DataFrame(reason_not_read)"
   ]
  },
  {
   "cell_type": "code",
   "execution_count": null,
   "id": "e25e9848",
   "metadata": {},
   "outputs": [],
   "source": [
    "reason_not_read"
   ]
  },
  {
   "cell_type": "markdown",
   "id": "653451e5",
   "metadata": {
    "scrolled": true
   },
   "source": [
    "- 백분율로 확인하기"
   ]
  },
  {
   "cell_type": "code",
   "execution_count": null,
   "id": "66498fb4",
   "metadata": {
    "scrolled": true
   },
   "outputs": [],
   "source": [
    "reason_not_read_col = reason_not_read.columns\n",
    "reason_not_read_stu = reason_not_read.div(reason_not_read[reason_not_read_col].sum(axis = 1),axis = 0).round(3)*100\n",
    "reason_not_read_stu"
   ]
  },
  {
   "cell_type": "markdown",
   "id": "a5678333",
   "metadata": {},
   "source": [
    "------------------------------------"
   ]
  },
  {
   "cell_type": "markdown",
   "id": "11bda7a2",
   "metadata": {},
   "source": [
    "------------------------------------"
   ]
  },
  {
   "cell_type": "markdown",
   "id": "5d000715",
   "metadata": {},
   "source": [
    "# ④ 성인들의 독서 인식 분석"
   ]
  },
  {
   "cell_type": "markdown",
   "id": "0a2aa06e",
   "metadata": {},
   "source": [
    "## 1) 종이책/전자책/오디오북 독서 시간과 총 독서 시간의 평균값"
   ]
  },
  {
   "cell_type": "markdown",
   "id": "43232124",
   "metadata": {},
   "source": [
    "그룹화 : group_by()"
   ]
  },
  {
   "cell_type": "code",
   "execution_count": null,
   "id": "0f580948",
   "metadata": {},
   "outputs": [],
   "source": [
    "# 연도별 그룹화\n",
    "adult_gr = total_adult.groupby('연도')\n",
    "adult_gr"
   ]
  },
  {
   "cell_type": "code",
   "execution_count": null,
   "id": "ebf37274",
   "metadata": {},
   "outputs": [],
   "source": [
    "# 연도별 독서시간 평균값 데이터프레임\n",
    "read_avg_adult = adult_gr.mean().round(1).drop(['월 평균 이용빈도','연 평균 이용빈도'],axis=1)"
   ]
  },
  {
   "cell_type": "markdown",
   "id": "de1b3815",
   "metadata": {},
   "source": [
    "필요 컬럼 추출"
   ]
  },
  {
   "cell_type": "code",
   "execution_count": null,
   "id": "d1151d45",
   "metadata": {},
   "outputs": [],
   "source": [
    "read_avg_adult = read_avg_adult.loc[:,'평일 평균 독서시간(분)':]\n",
    "read_avg_adult"
   ]
  },
  {
   "cell_type": "markdown",
   "id": "b454d4d0",
   "metadata": {},
   "source": [
    "- 2019,2021년의 독서매체별 독서시간을 전체 독서시간으로 변환"
   ]
  },
  {
   "cell_type": "code",
   "execution_count": null,
   "id": "91244287",
   "metadata": {},
   "outputs": [],
   "source": [
    "for i in range(1,3):\n",
    "    for j in range(2) :\n",
    "        read_avg_adult.iloc[i,j] = read_avg_adult.iloc[i,j+2] + read_avg_adult.iloc[i,j+4] + read_avg_adult.iloc[i,j+6]\n",
    "    \n",
    "read_avg_adult"
   ]
  },
  {
   "cell_type": "markdown",
   "id": "e1c48023",
   "metadata": {},
   "source": [
    "- 매체별 평일/주말 평균 독서시간을 일 평균 독서시간으로 변환"
   ]
  },
  {
   "cell_type": "code",
   "execution_count": null,
   "id": "a5801c29",
   "metadata": {},
   "outputs": [],
   "source": [
    "read_avg_adult.insert(2,'일 평균 독서시간(분)',(read_avg_adult.iloc[:,0]*5 + read_avg_adult.iloc[:,1]*2)/7)\n",
    "read_avg_adult.insert(5,'종이_일 평균 독서시간(분)',(read_avg_adult.iloc[:,3]*5 + read_avg_adult.iloc[:,4]*2)/7)\n",
    "read_avg_adult.insert(8,'전자_일 평균 독서시간(분)',(read_avg_adult.iloc[:,6]*5 + read_avg_adult.iloc[:,7]*2)/7)\n",
    "read_avg_adult.insert(11,'오디오_일 평균 독서시간(분)',(read_avg_adult.iloc[:,9]*5 + read_avg_adult.iloc[:,10]*2)/7)\n",
    "\n",
    "read_avg_adult.round(1)"
   ]
  },
  {
   "cell_type": "markdown",
   "id": "f1f27a1b",
   "metadata": {},
   "source": [
    "------------------------------------"
   ]
  },
  {
   "cell_type": "markdown",
   "id": "86f44bb6",
   "metadata": {},
   "source": [
    "## 2) 종이책/전자책 선호 독서분야 빈도 분석"
   ]
  },
  {
   "cell_type": "markdown",
   "id": "a527642c",
   "metadata": {},
   "source": [
    "- 필요한 컬럼값 추출 : df.loc[]"
   ]
  },
  {
   "cell_type": "code",
   "execution_count": null,
   "id": "1de5c108",
   "metadata": {},
   "outputs": [],
   "source": [
    "book_kind = total_adult.loc[:,['연도','종이책 선호분야1', '종이책 선호분야2','전자책 선호분야1', '전자책 선호분야2']]"
   ]
  },
  {
   "cell_type": "code",
   "execution_count": null,
   "id": "4cccc110",
   "metadata": {
    "scrolled": true
   },
   "outputs": [],
   "source": [
    "book_kind"
   ]
  },
  {
   "cell_type": "markdown",
   "id": "576bbfa5",
   "metadata": {},
   "source": [
    "### 종이책 독서분야 선호도"
   ]
  },
  {
   "cell_type": "markdown",
   "id": "d06cf75f",
   "metadata": {},
   "source": [
    "- 연도별 그룹화"
   ]
  },
  {
   "cell_type": "code",
   "execution_count": null,
   "id": "64442cb6",
   "metadata": {},
   "outputs": [],
   "source": [
    "book_kind_paper_gr = book_kind.groupby('연도')"
   ]
  },
  {
   "cell_type": "markdown",
   "id": "13f06d3b",
   "metadata": {},
   "source": [
    "- 함수 정의 : func_pbook_fav() - 종이책 선호 독서분야 순위를 구하는 함수."
   ]
  },
  {
   "cell_type": "code",
   "execution_count": null,
   "id": "4b46a7d4",
   "metadata": {},
   "outputs": [],
   "source": [
    "def func_pbook_fav (gr) :\n",
    "    gr.replace({0:np.nan},inplace=True)\n",
    "    gr.dropna(thresh=3,inplace=True)\n",
    "    return gr['종이책 선호분야1'].value_counts()*2 + gr['종이책 선호분야2'].value_counts()"
   ]
  },
  {
   "cell_type": "markdown",
   "id": "6c35bc27",
   "metadata": {},
   "source": [
    "- 그룹별 함수 적용"
   ]
  },
  {
   "cell_type": "code",
   "execution_count": null,
   "id": "a7f03d9c",
   "metadata": {},
   "outputs": [],
   "source": [
    "book_kind_paper = book_kind_paper_gr.apply(func_pbook_fav)"
   ]
  },
  {
   "cell_type": "code",
   "execution_count": null,
   "id": "002a3e4f",
   "metadata": {},
   "outputs": [],
   "source": [
    "book_kind_paper"
   ]
  },
  {
   "cell_type": "markdown",
   "id": "a5c2a517",
   "metadata": {},
   "source": [
    "- 백분율로 확인하기"
   ]
  },
  {
   "cell_type": "code",
   "execution_count": null,
   "id": "e5892e93",
   "metadata": {},
   "outputs": [],
   "source": [
    "book_kind_paper_col = book_kind_paper.columns\n",
    "book_kind_paper =book_kind_paper.div(book_kind_paper[book_kind_paper_col].sum(axis = 1),axis = 0).round(3)*100\n",
    "book_kind_paper"
   ]
  },
  {
   "cell_type": "markdown",
   "id": "a37b7f14",
   "metadata": {},
   "source": [
    "### 전자책 독서분야 선호도"
   ]
  },
  {
   "cell_type": "markdown",
   "id": "93357461",
   "metadata": {},
   "source": [
    "- 연도별 그룹화"
   ]
  },
  {
   "cell_type": "code",
   "execution_count": null,
   "id": "57ff2f69",
   "metadata": {},
   "outputs": [],
   "source": [
    "book_kind_e_gr = book_kind.groupby('연도')"
   ]
  },
  {
   "cell_type": "markdown",
   "id": "c23b9a52",
   "metadata": {},
   "source": [
    "- 함수 정의 : func_ebook_fav() - 종이책 선호 독서분야 순위를 구하는 함수."
   ]
  },
  {
   "cell_type": "code",
   "execution_count": null,
   "id": "4bc97c89",
   "metadata": {},
   "outputs": [],
   "source": [
    "def func_ebook_fav (gr) :\n",
    "    gr.replace({0:np.nan},inplace=True)\n",
    "    gr.dropna(thresh=3,inplace=True)\n",
    "    return gr['전자책 선호분야1'].value_counts()*2 + gr['전자책 선호분야2'].value_counts()"
   ]
  },
  {
   "cell_type": "markdown",
   "id": "6542a2d0",
   "metadata": {},
   "source": [
    "- 그룹별 함수 적용"
   ]
  },
  {
   "cell_type": "code",
   "execution_count": null,
   "id": "58bdf176",
   "metadata": {},
   "outputs": [],
   "source": [
    "book_kind_e = book_kind_e_gr.apply(func_ebook_fav)"
   ]
  },
  {
   "cell_type": "code",
   "execution_count": null,
   "id": "1f261c3d",
   "metadata": {},
   "outputs": [],
   "source": [
    "book_kind_e"
   ]
  },
  {
   "cell_type": "markdown",
   "id": "d202b8bc",
   "metadata": {},
   "source": [
    "- 백분율로 확인하기"
   ]
  },
  {
   "cell_type": "code",
   "execution_count": null,
   "id": "f65a6705",
   "metadata": {},
   "outputs": [],
   "source": [
    "book_kind_e_col = book_kind_e.columns\n",
    "book_kind_e =book_kind_e.div(book_kind_e[book_kind_e_col].sum(axis = 1),axis = 0).round(3)*100"
   ]
  },
  {
   "cell_type": "markdown",
   "id": "bac045c6",
   "metadata": {},
   "source": [
    "- 결측치 제거"
   ]
  },
  {
   "cell_type": "code",
   "execution_count": null,
   "id": "2e5bc3e2",
   "metadata": {},
   "outputs": [],
   "source": [
    "book_kind_e = book_kind_e.fillna(0)\n",
    "book_kind_e"
   ]
  },
  {
   "cell_type": "markdown",
   "id": "761ef1ac",
   "metadata": {},
   "source": [
    "------------------------------------"
   ]
  },
  {
   "cell_type": "markdown",
   "id": "29f5e992",
   "metadata": {},
   "source": [
    "## 3) 2021년도 전자책 이용 이유, 이용 방식 빈도 분석"
   ]
  },
  {
   "cell_type": "markdown",
   "id": "cff38202",
   "metadata": {},
   "source": [
    "- 필요한 컬럼값 추출"
   ]
  },
  {
   "cell_type": "code",
   "execution_count": null,
   "id": "dac9f8d6",
   "metadata": {},
   "outputs": [],
   "source": [
    "ebook = ebook_adult.loc[:,['연도', '전자책 이용이유1','전자책 이용이유2', '전자책 이용방식1', '전자책 이용방식2']]"
   ]
  },
  {
   "cell_type": "code",
   "execution_count": null,
   "id": "fd81c447",
   "metadata": {},
   "outputs": [],
   "source": [
    "ebook"
   ]
  },
  {
   "cell_type": "markdown",
   "id": "757bd8cf",
   "metadata": {},
   "source": [
    "### 전자책을 이용하는 이유"
   ]
  },
  {
   "cell_type": "markdown",
   "id": "4df1d012",
   "metadata": {},
   "source": [
    "- 전자책 이용이유 1순위에 가중치 2를 부여, 합산한 값 구하기."
   ]
  },
  {
   "cell_type": "code",
   "execution_count": null,
   "id": "a1fb2d3a",
   "metadata": {},
   "outputs": [],
   "source": [
    "ebook.replace({0:np.nan},inplace=True)\n",
    "ebook.dropna(how='any',inplace=True)\n",
    "reason_ebook = ebook['전자책 이용이유1'].value_counts()*2 + ebook['전자책 이용이유2'].value_counts()"
   ]
  },
  {
   "cell_type": "code",
   "execution_count": null,
   "id": "148f7fa0",
   "metadata": {},
   "outputs": [],
   "source": [
    "# 시리즈 -> 데이터프레임\n",
    "reason_ebook = pd.DataFrame(reason_ebook)"
   ]
  },
  {
   "cell_type": "markdown",
   "id": "6a67086c",
   "metadata": {},
   "source": [
    "- 행과 열 위치 변환 : df.T"
   ]
  },
  {
   "cell_type": "code",
   "execution_count": null,
   "id": "16f4302b",
   "metadata": {},
   "outputs": [],
   "source": [
    "reason_ebook = reason_ebook.T\n",
    "reason_ebook = reason_ebook.fillna(0)"
   ]
  },
  {
   "cell_type": "code",
   "execution_count": null,
   "id": "ff4d6f3f",
   "metadata": {},
   "outputs": [],
   "source": [
    "reason_ebook"
   ]
  },
  {
   "cell_type": "markdown",
   "id": "1cdb2bb8",
   "metadata": {},
   "source": [
    "- 인덱스명 변경"
   ]
  },
  {
   "cell_type": "code",
   "execution_count": null,
   "id": "f85e9b4e",
   "metadata": {},
   "outputs": [],
   "source": [
    "reason_ebook = reason_ebook.rename(index={0:'전자책 이용이유'})"
   ]
  },
  {
   "cell_type": "markdown",
   "id": "e4b02b5c",
   "metadata": {
    "scrolled": false
   },
   "source": [
    "- 백분율로 확인하기"
   ]
  },
  {
   "cell_type": "code",
   "execution_count": null,
   "id": "9d5183b8",
   "metadata": {
    "scrolled": false
   },
   "outputs": [],
   "source": [
    "reason_ebook_col = reason_ebook.columns\n",
    "reason_ebook = reason_ebook.div(reason_ebook[reason_ebook_col].sum(axis = 1),axis = 0).round(3)*100\n",
    "reason_ebook"
   ]
  },
  {
   "cell_type": "markdown",
   "id": "f78b0065",
   "metadata": {},
   "source": [
    "### 전자책을 이용하는 방식"
   ]
  },
  {
   "cell_type": "markdown",
   "id": "588ad9bb",
   "metadata": {},
   "source": [
    "- 전자책 이용방식 1순위에 가중치 2를 부여, 합산한 값 구하기."
   ]
  },
  {
   "cell_type": "code",
   "execution_count": null,
   "id": "e46163a9",
   "metadata": {},
   "outputs": [],
   "source": [
    "ebook.replace({0:np.nan},inplace=True)\n",
    "ebook.dropna(how='any',inplace=True)\n",
    "how_ebook = ebook['전자책 이용방식1'].value_counts()*2 + ebook['전자책 이용방식2'].value_counts()"
   ]
  },
  {
   "cell_type": "code",
   "execution_count": null,
   "id": "306e3bea",
   "metadata": {},
   "outputs": [],
   "source": [
    "# 시리즈 -> 데이터프레임\n",
    "how_ebook = pd.DataFrame(how_ebook)"
   ]
  },
  {
   "cell_type": "markdown",
   "id": "ef83f5c9",
   "metadata": {},
   "source": [
    "- 행과 열 위치 변환 : df.T"
   ]
  },
  {
   "cell_type": "code",
   "execution_count": null,
   "id": "2f86b781",
   "metadata": {},
   "outputs": [],
   "source": [
    "how_ebook = how_ebook.T\n",
    "how_ebook = how_ebook.fillna(0)"
   ]
  },
  {
   "cell_type": "code",
   "execution_count": null,
   "id": "6df963e7",
   "metadata": {},
   "outputs": [],
   "source": [
    "how_ebook"
   ]
  },
  {
   "cell_type": "markdown",
   "id": "19a93e30",
   "metadata": {},
   "source": [
    "- 인덱스명 변경"
   ]
  },
  {
   "cell_type": "code",
   "execution_count": null,
   "id": "3173ea82",
   "metadata": {},
   "outputs": [],
   "source": [
    "how_ebook = how_ebook.rename(index={0:'전자책 이용방식'})"
   ]
  },
  {
   "cell_type": "code",
   "execution_count": null,
   "id": "9950912f",
   "metadata": {
    "scrolled": false
   },
   "outputs": [],
   "source": [
    "how_ebook_col = how_ebook.columns\n",
    "how_ebook = how_ebook.div(how_ebook[how_ebook_col].sum(axis = 1),axis = 0).round(3)*100\n",
    "how_ebook"
   ]
  },
  {
   "cell_type": "markdown",
   "id": "1a0a23e3",
   "metadata": {},
   "source": [
    "## 4) 성인들의 독서 장애 요인 빈도분석"
   ]
  },
  {
   "cell_type": "markdown",
   "id": "a18fcafd",
   "metadata": {},
   "source": [
    "- 필요한 컬럼값 추출"
   ]
  },
  {
   "cell_type": "code",
   "execution_count": null,
   "id": "1cbe9cf9",
   "metadata": {},
   "outputs": [],
   "source": [
    "reason_not_read = total_adult.loc[:,['연도', '독서장애요인1', '독서장애요인2']]"
   ]
  },
  {
   "cell_type": "code",
   "execution_count": null,
   "id": "24d2eb08",
   "metadata": {},
   "outputs": [],
   "source": [
    "reason_not_read"
   ]
  },
  {
   "cell_type": "markdown",
   "id": "ba6ac761",
   "metadata": {},
   "source": [
    "- 연도 기준 groupby()"
   ]
  },
  {
   "cell_type": "code",
   "execution_count": null,
   "id": "d0bf3ff8",
   "metadata": {},
   "outputs": [],
   "source": [
    "reason_not_read_gr = reason_not_read.groupby('연도')"
   ]
  },
  {
   "cell_type": "markdown",
   "id": "57b1c307",
   "metadata": {},
   "source": [
    "- 사용자 정의 함수 :func_reason_not_read() - 독서장애요인 1순위에 가중치 2를 부여, 합산한 값 구하기"
   ]
  },
  {
   "cell_type": "code",
   "execution_count": null,
   "id": "724dd1cc",
   "metadata": {},
   "outputs": [],
   "source": [
    "# 그룹화 함수 적용\n",
    "reason_not_read = reason_not_read_gr.apply(func_reason_not_read)"
   ]
  },
  {
   "cell_type": "markdown",
   "id": "b0c09b9f",
   "metadata": {},
   "source": [
    "- 다중인덱스 제거"
   ]
  },
  {
   "cell_type": "code",
   "execution_count": null,
   "id": "42096173",
   "metadata": {},
   "outputs": [],
   "source": [
    "reason_not_read = reason_not_read.unstack(level=1)\n",
    "reason_not_read.fillna(0,inplace=True)"
   ]
  },
  {
   "cell_type": "code",
   "execution_count": null,
   "id": "6a8d60a8",
   "metadata": {},
   "outputs": [],
   "source": [
    "# 시리즈 형태를 데이터 프레임으로 변경\n",
    "reason_not_read =pd.DataFrame(reason_not_read)"
   ]
  },
  {
   "cell_type": "code",
   "execution_count": null,
   "id": "541ce010",
   "metadata": {},
   "outputs": [],
   "source": [
    "reason_not_read"
   ]
  },
  {
   "cell_type": "markdown",
   "id": "a50b1f54",
   "metadata": {
    "scrolled": true
   },
   "source": [
    "- 백분율로 확인하기"
   ]
  },
  {
   "cell_type": "code",
   "execution_count": null,
   "id": "bd59166a",
   "metadata": {
    "scrolled": false
   },
   "outputs": [],
   "source": [
    "reason_not_read_col = reason_not_read.columns\n",
    "reason_not_read_adult = reason_not_read.div(reason_not_read[reason_not_read_col].sum(axis = 1),axis = 0).round(3)*100\n",
    "reason_not_read_adult"
   ]
  },
  {
   "cell_type": "markdown",
   "id": "0cfcd65c",
   "metadata": {},
   "source": [
    "------------------------------------"
   ]
  },
  {
   "cell_type": "markdown",
   "id": "57f07248",
   "metadata": {},
   "source": [
    "--------------------------"
   ]
  },
  {
   "cell_type": "markdown",
   "id": "00b2190c",
   "metadata": {},
   "source": [
    "# ⑤ 코로나 이후 학생, 성인들의 독서생활 변화"
   ]
  },
  {
   "cell_type": "markdown",
   "id": "556adae7",
   "metadata": {},
   "source": [
    "## 1) 코로나 이후 학생들의 독서생활 변화 빈도분석"
   ]
  },
  {
   "cell_type": "markdown",
   "id": "a5bf0211",
   "metadata": {},
   "source": [
    "- 필요한 컬럼값 추출"
   ]
  },
  {
   "cell_type": "code",
   "execution_count": null,
   "id": "5797ef52",
   "metadata": {},
   "outputs": [],
   "source": [
    "covid_stu_2021 = Stu_covid_2021.loc[:,['종이책', '전자책', '웹소설', '오디오북',\n",
    "       '총 독서량', '도서관 방문', '전자도서관 이용', '전자책/오디오북/웹소설 구독']]"
   ]
  },
  {
   "cell_type": "markdown",
   "id": "ce0e32bb",
   "metadata": {},
   "source": [
    "- 데이터 값 확인"
   ]
  },
  {
   "cell_type": "code",
   "execution_count": null,
   "id": "4c15454e",
   "metadata": {},
   "outputs": [],
   "source": [
    "covid_stu_2021['종이책'].unique()"
   ]
  },
  {
   "cell_type": "markdown",
   "id": "19965107",
   "metadata": {},
   "source": [
    "- 결측치 제거"
   ]
  },
  {
   "cell_type": "code",
   "execution_count": null,
   "id": "310a84c5",
   "metadata": {},
   "outputs": [],
   "source": [
    "covid_stu_2021.replace({9:np.nan},inplace=True)\n",
    "covid_stu_2021.dropna()"
   ]
  },
  {
   "cell_type": "markdown",
   "id": "ed4a1a6a",
   "metadata": {},
   "source": [
    "- 빈도 측정 : value_counts()"
   ]
  },
  {
   "cell_type": "code",
   "execution_count": null,
   "id": "50a3c977",
   "metadata": {},
   "outputs": [],
   "source": [
    "list = covid_stu_2021.columns\n",
    "total = pd.DataFrame()\n",
    "\n",
    "for i in list :\n",
    "    temp = covid_stu_2021[i].value_counts(normalize=True).round(3)*100\n",
    "    total = pd.concat([total,temp], axis=1)\n",
    "    \n",
    "total = total.T[['매우 감소','약간 감소','변함 없음','약간 증가','매우 증가']]"
   ]
  },
  {
   "cell_type": "code",
   "execution_count": null,
   "id": "6c8af402",
   "metadata": {},
   "outputs": [],
   "source": [
    "total"
   ]
  },
  {
   "cell_type": "markdown",
   "id": "f737629d",
   "metadata": {},
   "source": [
    "- 컬럼 간소화"
   ]
  },
  {
   "cell_type": "code",
   "execution_count": null,
   "id": "56bc2fb6",
   "metadata": {
    "scrolled": true
   },
   "outputs": [],
   "source": [
    "# 컬럼 간소화\n",
    "total['감소'] = total['매우 감소'] + total['약간 감소']\n",
    "total['증가'] = total['매우 증가'] + total['약간 증가']\n",
    "\n",
    "total_sim_stu = total.drop(['매우 감소','매우 증가','약간 감소','약간 증가'],axis=1)\n",
    "total_sim_stu.sort_index(ascending=True, axis=1)"
   ]
  },
  {
   "cell_type": "markdown",
   "id": "522ab8af",
   "metadata": {},
   "source": [
    "------------------------------------------------"
   ]
  },
  {
   "cell_type": "markdown",
   "id": "a79e3b96",
   "metadata": {},
   "source": [
    "## 2) 코로나 이후 성인들의 독서생활 변화 빈도분석"
   ]
  },
  {
   "cell_type": "markdown",
   "id": "1f776691",
   "metadata": {},
   "source": [
    "- 필요한 컬럼값 추출"
   ]
  },
  {
   "cell_type": "code",
   "execution_count": null,
   "id": "475bdd59",
   "metadata": {},
   "outputs": [],
   "source": [
    "covid_2021 = Adult_covid_2021.loc[:,['종이책', '전자책', '웹소설', '오디오북',\n",
    "       '총 독서량', '도서관 방문', '전자도서관 이용', '전자책/오디오북/웹소설 구독']]"
   ]
  },
  {
   "cell_type": "markdown",
   "id": "c84ffbc6",
   "metadata": {},
   "source": [
    "- 빈도 측정 : value_counts()"
   ]
  },
  {
   "cell_type": "code",
   "execution_count": null,
   "id": "291542ae",
   "metadata": {},
   "outputs": [],
   "source": [
    "covid_2021"
   ]
  },
  {
   "cell_type": "code",
   "execution_count": null,
   "id": "eec3da97",
   "metadata": {},
   "outputs": [],
   "source": [
    "list = covid_2021.columns\n",
    "total = pd.DataFrame()\n",
    "\n",
    "for i in list :\n",
    "    temp = covid_2021[i].value_counts(normalize=True).round(3)*100\n",
    "    total = pd.concat([total,temp], axis=1)\n",
    "    \n",
    "total = total.T[['매우 감소','약간 감소','변함 없음','약간 증가','매우 증가']].fillna(0)"
   ]
  },
  {
   "cell_type": "code",
   "execution_count": null,
   "id": "03b375d6",
   "metadata": {
    "scrolled": false
   },
   "outputs": [],
   "source": [
    "total"
   ]
  },
  {
   "cell_type": "markdown",
   "id": "bc93cf36",
   "metadata": {
    "scrolled": true
   },
   "source": [
    "- 컬럼 간소화"
   ]
  },
  {
   "cell_type": "code",
   "execution_count": null,
   "id": "e71b6902",
   "metadata": {
    "scrolled": true
   },
   "outputs": [],
   "source": [
    "total['감소'] = total['매우 감소'] + total['약간 감소']\n",
    "total['증가'] = total['매우 증가'] + total['약간 증가']\n",
    "\n",
    "total_sim_adult = total.drop(['매우 감소','매우 증가','약간 감소','약간 증가'],axis=1)\n",
    "total_sim_adult.sort_index(ascending=True, axis=1)"
   ]
  },
  {
   "cell_type": "markdown",
   "id": "2c9d08f1",
   "metadata": {},
   "source": [
    "--------------------------------------------------------"
   ]
  },
  {
   "cell_type": "markdown",
   "id": "11ae7fc8",
   "metadata": {},
   "source": [
    "---------------------------------------"
   ]
  },
  {
   "cell_type": "markdown",
   "id": "4d2f940a",
   "metadata": {},
   "source": [
    "# 3) 분석 결과"
   ]
  },
  {
   "cell_type": "markdown",
   "id": "d7d6326f",
   "metadata": {},
   "source": [
    "## ① 학생들의 도서관 이용 분석"
   ]
  },
  {
   "cell_type": "markdown",
   "id": "ffaf64bc",
   "metadata": {},
   "source": [
    "### (1) 전국에서 학교 밖 도서관 이용률이 가장 높은 지역은 어디인가?"
   ]
  },
  {
   "cell_type": "code",
   "execution_count": null,
   "id": "6925222f",
   "metadata": {},
   "outputs": [],
   "source": [
    "area_lib_stu "
   ]
  },
  {
   "cell_type": "code",
   "execution_count": null,
   "id": "cda08d9c",
   "metadata": {},
   "outputs": [],
   "source": [
    "area_lib_stu_plot.plot.bar(figsize=(15,8), title = '지역별 학생들의 학교 밖 도서관 이용률 변화')"
   ]
  },
  {
   "cell_type": "markdown",
   "id": "2db1a9fe",
   "metadata": {},
   "source": [
    "- 전국에서 학교 밖 도서관 이용률이 가장 높은 지역 Top5\n",
    "\n",
    "    -2017년: 제주 > 대구 > 울산 > 대전 > 경기 = 부산\n",
    "    \n",
    "    -2019년: 광주 > 세종 > 경기 > 제주 > 전북\n",
    "    \n",
    "    -2021년: 세종 > 강원 = 경기 > 경북 > 부산 = 울산\n",
    "    \n",
    "    \n",
    "- 대부분의 지역에서 학교 밖 도서관 이용률이 매해 감소하는 추세를 보인다."
   ]
  },
  {
   "cell_type": "markdown",
   "id": "56150271",
   "metadata": {},
   "source": [
    "### (2) 전국에서 월 평균/연 평균 학교 밖 도서관 이용빈도가 가장 높은 지역은 어디인가?"
   ]
  },
  {
   "cell_type": "markdown",
   "id": "13c8eddc",
   "metadata": {},
   "source": [
    "### [전체평균]"
   ]
  },
  {
   "cell_type": "code",
   "execution_count": null,
   "id": "38be7bfb",
   "metadata": {},
   "outputs": [],
   "source": [
    "area_freq_all_stu"
   ]
  },
  {
   "cell_type": "code",
   "execution_count": null,
   "id": "14f16586",
   "metadata": {},
   "outputs": [],
   "source": [
    "area_freq_all_stu_plot.plot.bar(figsize=(15,8), title = '지역별 학생들의 월 평균 도서관 이용 빈도 변화')"
   ]
  },
  {
   "cell_type": "markdown",
   "id": "10253b20",
   "metadata": {},
   "source": [
    "- 전국에서 학교 밖 도서관 월 이용 빈도가 가장 높은 지역 Top5\n",
    "    \n",
    "    -2019년: 광주 > 대전 > 경기 > 세종 > 충북\n",
    "    \n",
    "    -2021년: 세종 > 경북 > 울산 > 경남 > 광주\n",
    "    \n",
    "    \n",
    "- 대부분의 지역에서 학교 밖 도서관 이용빈도가 매해 감소하는 추세를 보인다."
   ]
  },
  {
   "cell_type": "markdown",
   "id": "35baed0e",
   "metadata": {},
   "source": [
    "### [도서관 이용자 평균]"
   ]
  },
  {
   "cell_type": "code",
   "execution_count": null,
   "id": "2175b6ad",
   "metadata": {},
   "outputs": [],
   "source": [
    "area_freq_lib_stu "
   ]
  },
  {
   "cell_type": "code",
   "execution_count": null,
   "id": "27a86ac5",
   "metadata": {},
   "outputs": [],
   "source": [
    "area_freq_lib_stu_plot.plot.bar(figsize=(13,7), title = '지역별 도서관 이용 학생들의 월 평균 도서관 이용 빈도 변화')"
   ]
  },
  {
   "cell_type": "markdown",
   "id": "3f9d789c",
   "metadata": {},
   "source": [
    "- 전국에서 학교 밖 도서관 월 이용 빈도가 가장 높은 지역 Top5\n",
    "    \n",
    "    -2019년: 대전 > 경기 > 광주 > 충북 > 강원 \n",
    "    \n",
    "    -2021년: 광주 > 경북 > 충북 > 세종 > 울산 \n",
    "    \n",
    "    \n",
    "- 대부분의 지역에서 학교 밖 도서관 이용빈도가 매해 감소하는 추세를 보인다."
   ]
  },
  {
   "cell_type": "markdown",
   "id": "657b5bcb",
   "metadata": {},
   "source": [
    "### (3) 학생들이 주로 이용하는 도서관 종류는 무엇인가?"
   ]
  },
  {
   "cell_type": "code",
   "execution_count": null,
   "id": "8d86b9aa",
   "metadata": {},
   "outputs": [],
   "source": [
    "lib_rank_stu"
   ]
  },
  {
   "cell_type": "markdown",
   "id": "830aef08",
   "metadata": {},
   "source": [
    "- 3개년 모두 **공동도서관 > 작은도서관 > 어린이도서관 > 기타** 순으로 주이용한다.\n",
    "\n",
    "\n",
    "- **작은 도서관 이용 비율은 매년 소폭 증가**하고 있다"
   ]
  },
  {
   "cell_type": "markdown",
   "id": "8d7127c5",
   "metadata": {},
   "source": [
    "### (4) 학생들이 학교 밖 도서관을 이용하는 이유 또는 이용하지 않는 이유는 무엇인가?"
   ]
  },
  {
   "cell_type": "markdown",
   "id": "14d82b67",
   "metadata": {},
   "source": [
    "### [도서관을 이용하는 이유]"
   ]
  },
  {
   "cell_type": "code",
   "execution_count": null,
   "id": "d6be6d71",
   "metadata": {},
   "outputs": [],
   "source": [
    "reason_rank_stu"
   ]
  },
  {
   "cell_type": "markdown",
   "id": "ac4e7a5b",
   "metadata": {},
   "source": [
    "- 학교 밖 도서관을 이용하는 이유는 3년 연속 **독서 및 도서대출 > 시험공부 > 숙제에 필요한 자료조사** 순이다.\n",
    "\n",
    "\n",
    "- 2019년 대비 2021년의 독서 및 도서 대출의 비율이 약 14.5 퍼센트 포인트 증가했다."
   ]
  },
  {
   "cell_type": "markdown",
   "id": "cb9d1125",
   "metadata": {},
   "source": [
    "### [도서관을 이용하지 않는 이유]"
   ]
  },
  {
   "cell_type": "code",
   "execution_count": null,
   "id": "e4b6e3e3",
   "metadata": {},
   "outputs": [],
   "source": [
    "reason_not_rank_stu"
   ]
  },
  {
   "cell_type": "markdown",
   "id": "7e599495",
   "metadata": {},
   "source": [
    "- 2017년, 2019년 도서관을 이용하지 않는 이유는 **집에서 멀다**가 약 33%로 가장 높다.\n",
    "\n",
    "\n",
    "- 2021년에는 **책을 잘 읽지 않는다**는 이유가 1위를 차지했지만, **집에서 멀다**는 이유가 2위로 여전히 높다.\n",
    "\n"
   ]
  },
  {
   "cell_type": "markdown",
   "id": "e4d80d4e",
   "metadata": {},
   "source": [
    "### (5) 학생들이 도서 선택시 이용하는 정보와 도서 입수 경로는 무엇인가? "
   ]
  },
  {
   "cell_type": "markdown",
   "id": "b912d423",
   "metadata": {},
   "source": [
    "### [도서 선택 시 이용하는 정보]"
   ]
  },
  {
   "cell_type": "code",
   "execution_count": null,
   "id": "4b93c686",
   "metadata": {},
   "outputs": [],
   "source": [
    "book_info_rank_stu"
   ]
  },
  {
   "cell_type": "markdown",
   "id": "a1663a28",
   "metadata": {},
   "source": [
    "- 3년 모두 **서점, 도서관 등에서 책을 직접 보고** 결정하는 비율이 가장 높으나, 매년 그 비율은 감소하고 있다."
   ]
  },
  {
   "cell_type": "markdown",
   "id": "45279a78",
   "metadata": {},
   "source": [
    "### [도서 입수 경로]"
   ]
  },
  {
   "cell_type": "code",
   "execution_count": null,
   "id": "e92f509f",
   "metadata": {},
   "outputs": [],
   "source": [
    "book_get_rank_stu"
   ]
  },
  {
   "cell_type": "markdown",
   "id": "9d8752d9",
   "metadata": {},
   "source": [
    "- 2017년, 2019년은 **직접 구입 > 학교 도서관 > 집에 있는 책** 순으로 도서를 입수하는 비율이 높다.\n",
    "\n",
    "\n",
    "- 학교 밖 도서관에서 대여하여 책을 읽는 학생은 매년 10%대 초반을 유지하고 있다."
   ]
  },
  {
   "cell_type": "markdown",
   "id": "ddc7c820",
   "metadata": {},
   "source": [
    "--------------------------------"
   ]
  },
  {
   "cell_type": "markdown",
   "id": "946c26a6",
   "metadata": {},
   "source": [
    "## ② 성인들의 도서관 이용 분석"
   ]
  },
  {
   "cell_type": "markdown",
   "id": "a205b30a",
   "metadata": {},
   "source": [
    "### (1) 전국에서 도서관 이용률이 가장 높은 지역은 어디인가?"
   ]
  },
  {
   "cell_type": "code",
   "execution_count": null,
   "id": "6d8f09fe",
   "metadata": {},
   "outputs": [],
   "source": [
    "area_lib_adult"
   ]
  },
  {
   "cell_type": "code",
   "execution_count": null,
   "id": "813c3684",
   "metadata": {},
   "outputs": [],
   "source": [
    "area_lib_adult_plot.plot.bar(figsize=(13,7))"
   ]
  },
  {
   "cell_type": "markdown",
   "id": "9495f48c",
   "metadata": {},
   "source": [
    "- 전국에서 도서관 이용률이 가장 높은 지역 Top5\n",
    "\n",
    "    -2017년: 제주 > 강원 = 울산 > 경기 = 서울\n",
    "    \n",
    "    -2019년: 서울 > 제주 > 경기 = 대구 = 세종 \n",
    "    \n",
    "    -2021년: 광주 > 대구 > 경기 > 서울 > 제주\n",
    "    \n",
    "    \n",
    "- 대부분의 지역에서 도서관 이용률이 매해 감소하는 추세를 보인다.\n",
    "\n",
    "\n",
    "- 매년, 모든 지역에서 도서관을 이용한 경험이 있는 성인보다 도서관을 이용한 경험이 없는 성인이 더 많다."
   ]
  },
  {
   "cell_type": "markdown",
   "id": "f69b5545",
   "metadata": {},
   "source": [
    "### (2) 전국에서 월 평균/연 평균 도서관 이용빈도가 가장 높은 지역은 어디인가?"
   ]
  },
  {
   "cell_type": "markdown",
   "id": "d3cd3448",
   "metadata": {},
   "source": [
    "### [전체 평균]"
   ]
  },
  {
   "cell_type": "code",
   "execution_count": null,
   "id": "4c9bbf0d",
   "metadata": {},
   "outputs": [],
   "source": [
    "area_freq_all_adult "
   ]
  },
  {
   "cell_type": "code",
   "execution_count": null,
   "id": "f9aec8a0",
   "metadata": {},
   "outputs": [],
   "source": [
    "area_freq_plot.plot.bar(figsize=(10,6), title = '지역별 성인의 월 평균 도서관 이용 빈도 변화')"
   ]
  },
  {
   "cell_type": "markdown",
   "id": "791be5f1",
   "metadata": {},
   "source": [
    "- 매년 모든 지역의 성인 월 평균 도서관 이용 빈도는 월 1회 이하이다."
   ]
  },
  {
   "cell_type": "markdown",
   "id": "8006c8d1",
   "metadata": {},
   "source": [
    "### [도서관 이용자 평균]"
   ]
  },
  {
   "cell_type": "code",
   "execution_count": null,
   "id": "044ba9ef",
   "metadata": {},
   "outputs": [],
   "source": [
    "area_freq_lib_adult"
   ]
  },
  {
   "cell_type": "code",
   "execution_count": null,
   "id": "94b7c64e",
   "metadata": {},
   "outputs": [],
   "source": [
    "area_freq_m_plot.plot.bar(figsize=(13,7))"
   ]
  },
  {
   "cell_type": "markdown",
   "id": "9c6755c7",
   "metadata": {},
   "source": [
    "- 2019년, 2021년 모두 성인의 도서관 월 이용빈도 1위는 **세종특별시**이다.\n",
    "\n",
    "\n",
    "- 전국에서 도서관 월 이용 빈도가 가장 높은 지역 Top5\n",
    "    \n",
    "    -2019년: 세종 > 부산 > 전남 = 전북 > 강원\n",
    "    \n",
    "    -2021년: 세종 > 대전 > 충북 > 전남 > 경기"
   ]
  },
  {
   "cell_type": "markdown",
   "id": "d9d199f9",
   "metadata": {},
   "source": [
    "### (3) 성인들이 주로 이용하는 도서관 종류는 무엇인가?"
   ]
  },
  {
   "cell_type": "code",
   "execution_count": null,
   "id": "f2ff6367",
   "metadata": {},
   "outputs": [],
   "source": [
    "main_lib_rank"
   ]
  },
  {
   "cell_type": "markdown",
   "id": "242f657a",
   "metadata": {},
   "source": [
    "(본 설문에서의 공공 도서관은 작은 도서관을 포함하고 있음.)\n",
    "\n",
    "- 3개년 모두 **공공도서관**이 가장 높은 이용 빈도를 보이고 있으나, 비율은 매년 약 20퍼센트 포인트씩 감소하고 있다. \n",
    "\n",
    "\n",
    "- 이는 2017년도의 답변 항목이 공공 도서관/어린이 도서관/전문 도서관/기타 총 4개의 항목으로 이루어져있던 점의 영향이 있었을 것으로 보인다.\n",
    "\n",
    "\n",
    "- 2021년도 전문도서관과 학교도서관 이용률이 크게 증가하였다."
   ]
  },
  {
   "cell_type": "markdown",
   "id": "90232eb9",
   "metadata": {},
   "source": [
    "### (4) 성인들이 도서관을 이용하는 목적 또는 이용하지 않는 이유는 무엇인가?"
   ]
  },
  {
   "cell_type": "markdown",
   "id": "32b41d4a",
   "metadata": {},
   "source": [
    "### [도서관을 이용하는 목적]"
   ]
  },
  {
   "cell_type": "code",
   "execution_count": null,
   "id": "0dd60fdb",
   "metadata": {},
   "outputs": [],
   "source": [
    "reason_rank"
   ]
  },
  {
   "cell_type": "markdown",
   "id": "3dc4068f",
   "metadata": {},
   "source": [
    "- 매년 성인이 도서관을 이용하는 이유는 **독서 및 도서대출 > 공부,학습 > 자료조사** 순이다."
   ]
  },
  {
   "cell_type": "markdown",
   "id": "881baa64",
   "metadata": {},
   "source": [
    "### [도서관을 이용하지 않는 이유]"
   ]
  },
  {
   "cell_type": "code",
   "execution_count": null,
   "id": "7432eeaa",
   "metadata": {},
   "outputs": [],
   "source": [
    "reason_not_rank"
   ]
  },
  {
   "cell_type": "markdown",
   "id": "e88cf7ad",
   "metadata": {},
   "source": [
    "- 도서관을 이용하지 않는 이유로 2017년에는 **일이 바빠 갈 시간이 없다.**가, 2019년, 2021년 **'책을 읽지 않는다'**가 1순위로 뽑혔다."
   ]
  },
  {
   "cell_type": "markdown",
   "id": "234c1103",
   "metadata": {},
   "source": [
    "### (5) 성인들이 도서 선택시 이용하는 정보와 도서 입수 경로는 무엇인가? "
   ]
  },
  {
   "cell_type": "markdown",
   "id": "00273e2b",
   "metadata": {},
   "source": [
    "### [도서 선택시 이용하는 정보]"
   ]
  },
  {
   "cell_type": "code",
   "execution_count": null,
   "id": "9f61bd0f",
   "metadata": {},
   "outputs": [],
   "source": [
    "book_info_rank_adult"
   ]
  },
  {
   "cell_type": "markdown",
   "id": "f3383db9",
   "metadata": {},
   "source": [
    "- 3년 모두 **서점, 도서관 등에서 책을 직접 보고** 결정하는 비율이 가장 높다."
   ]
  },
  {
   "cell_type": "markdown",
   "id": "0f17a9d4",
   "metadata": {},
   "source": [
    "### [도서 입수경로]"
   ]
  },
  {
   "cell_type": "code",
   "execution_count": null,
   "id": "88a19d80",
   "metadata": {},
   "outputs": [],
   "source": [
    "book_get_rank"
   ]
  },
  {
   "cell_type": "markdown",
   "id": "84c04c9f",
   "metadata": {},
   "source": [
    "- 3년 모두 도서를 **직접 구입**하는 비율이 가장 높다.\n",
    "\n",
    "\n",
    "- **도서관에서 대여**하여 책을 읽는 사람의 비율은 매년 10% 초반대를 유지하고 있다."
   ]
  },
  {
   "cell_type": "markdown",
   "id": "fb85b49e",
   "metadata": {},
   "source": [
    "--------------------------------"
   ]
  },
  {
   "cell_type": "markdown",
   "id": "1f4e0942",
   "metadata": {},
   "source": [
    "## ③ 학생들의 독서 인식 분석"
   ]
  },
  {
   "cell_type": "markdown",
   "id": "0d0b1ccf",
   "metadata": {},
   "source": [
    "### (1) 학생들의 평균 독서시간의 연도별 변화는 어떠한가?"
   ]
  },
  {
   "cell_type": "code",
   "execution_count": null,
   "id": "acb98f61",
   "metadata": {},
   "outputs": [],
   "source": [
    "read_avg_stu.round(1)"
   ]
  },
  {
   "cell_type": "code",
   "execution_count": null,
   "id": "d5f380f4",
   "metadata": {},
   "outputs": [],
   "source": [
    "read_avg_stu.iloc[:,0:3].plot(figsize=(5,3), title='학생들의 평균 독서시간')"
   ]
  },
  {
   "cell_type": "code",
   "execution_count": null,
   "id": "3bb1a21c",
   "metadata": {},
   "outputs": [],
   "source": [
    "read_avg_stu.iloc[1:3,3:6].plot(figsize=(5,3), title='종이책 평균 독서시간')"
   ]
  },
  {
   "cell_type": "code",
   "execution_count": null,
   "id": "4b37dbec",
   "metadata": {},
   "outputs": [],
   "source": [
    "read_avg_stu.iloc[1:3,6:9].plot(figsize=(5,3), title='전자책 평균 독서시간')"
   ]
  },
  {
   "cell_type": "code",
   "execution_count": null,
   "id": "f9207b32",
   "metadata": {
    "scrolled": true
   },
   "outputs": [],
   "source": [
    "read_avg_stu.iloc[1:3,9:12].plot(figsize=(5,3), title='오디오북 평균 독서시간')"
   ]
  },
  {
   "cell_type": "markdown",
   "id": "0bd45111",
   "metadata": {},
   "source": [
    "- 학생들의 주말 평균 독서시간은 꾸준한 증가세를 보인다.\n",
    "\n",
    "\n",
    "- 학생들의 일 평균 독서 시간과 평일 평균 독서 시간은 2019년에 크게 증가하였으나, 2021년에 소폭 감소세를 보인다.\n",
    "\n",
    "  \n",
    "- 종이책 독서 시간은 매년 감소하는 반면, 전자책, 오디오북을 통한 독서는 매년 증가한다.\n"
   ]
  },
  {
   "cell_type": "markdown",
   "id": "2cfb81bd",
   "metadata": {},
   "source": [
    "### (2) 학생들이 선호하는 도서 종류 순위는 무엇인가?"
   ]
  },
  {
   "cell_type": "markdown",
   "id": "aaa953c3",
   "metadata": {},
   "source": [
    "### [초등학생]"
   ]
  },
  {
   "cell_type": "code",
   "execution_count": null,
   "id": "5cb4b995",
   "metadata": {},
   "outputs": [],
   "source": [
    "book_kind_ele"
   ]
  },
  {
   "cell_type": "code",
   "execution_count": null,
   "id": "359d3eb4",
   "metadata": {},
   "outputs": [],
   "source": [
    " book_kind_ele.T.plot(kind='bar')"
   ]
  },
  {
   "cell_type": "markdown",
   "id": "4526b94a",
   "metadata": {},
   "source": [
    "- 2017년 : 동화/소설(32%) >역사,위인전 > 사회\n",
    "\n",
    "\n",
    "- 2019년 : 동화/소설(32%) > 역사, 위인전 > 사회 = 취미\n",
    "\n",
    "\n",
    "- 2021년 : 동화/소설 (26%) > 역사, 위인 > 그림책 \n",
    "\n",
    "\n",
    "--> 3년 내내 동화/소설이 높은 비율로 1위를 기록하고 있으며, 그림책, 취미는 매년 증가하고 있다."
   ]
  },
  {
   "cell_type": "markdown",
   "id": "67b8524b",
   "metadata": {},
   "source": [
    "### [중학생]"
   ]
  },
  {
   "cell_type": "code",
   "execution_count": null,
   "id": "189c592f",
   "metadata": {},
   "outputs": [],
   "source": [
    "book_kind_mdl"
   ]
  },
  {
   "cell_type": "code",
   "execution_count": null,
   "id": "740c3aa5",
   "metadata": {},
   "outputs": [],
   "source": [
    " book_kind_mdl.T.plot(kind='bar')"
   ]
  },
  {
   "cell_type": "markdown",
   "id": "c8f24918",
   "metadata": {},
   "source": [
    "- 2017년 : 소설 ＞ 문학 > 연예,오락,스포츠,취미,여행 \n",
    "\n",
    "\n",
    "- 2019년 : 소설 ＞ 문학 > 연예,오락,스포츠,취미,여행 \n",
    "\n",
    "\n",
    "- 2021년 : 소설 ＞ 연예,오락,스포츠,취미,여행  > 직업,취업 관련\n",
    "\n",
    "\n",
    "--> 3년 내내 소설이 높은 비율로 1위를 기록하고 있으며, 연예,오락,스포츠,취미,여행은 매년 증가하고 있다."
   ]
  },
  {
   "cell_type": "markdown",
   "id": "be80bf1b",
   "metadata": {},
   "source": [
    "### [고등학생]"
   ]
  },
  {
   "cell_type": "code",
   "execution_count": null,
   "id": "5b7880c4",
   "metadata": {},
   "outputs": [],
   "source": [
    "book_kind_high"
   ]
  },
  {
   "cell_type": "code",
   "execution_count": null,
   "id": "42a541d5",
   "metadata": {},
   "outputs": [],
   "source": [
    "book_kind_high.T.plot(kind='bar')"
   ]
  },
  {
   "cell_type": "markdown",
   "id": "9b5a4cbf",
   "metadata": {},
   "source": [
    "- 2017년 : 소설 > 문학 > 연예,오락,스포츠,취미,여행 \n",
    "\n",
    "\n",
    "- 2019년 : 소설 > 문학 > 직업,취업\n",
    "\n",
    "\n",
    "- 2021년 : 소설 > 연예,오락,스포츠,취미,여행 > 문학\n",
    "\n",
    "\n",
    "--> 3년 내내 소설이 높은 비율로 1위를 기록하고 있으며, 문학은 매년 감소하고 있다."
   ]
  },
  {
   "cell_type": "markdown",
   "id": "ddc320f0",
   "metadata": {},
   "source": [
    "### (3) 학생들의 주된 독서 장애요인은 무엇인가?"
   ]
  },
  {
   "cell_type": "code",
   "execution_count": null,
   "id": "28ee760f",
   "metadata": {},
   "outputs": [],
   "source": [
    "reason_not_read_stu"
   ]
  },
  {
   "cell_type": "markdown",
   "id": "58127357",
   "metadata": {},
   "source": [
    "- 2017년 : 학업 때문에 책읽을시간이 없어서 > 휴대전화,인터넷,텔레비전,게임 등을 이용해서 > 책읽기가 싫고 습관이 들지않아서\n",
    "\n",
    "\n",
    "- 2019년 : 학업 때문에 책읽을시간이 없어서 > 휴대전화,인터넷,텔레비전,게임 등을 이용해서 > 책읽기가 싫고 습관이 들지않아서\t\n",
    "\n",
    "\n",
    "- 2021년 : 책읽기가 싫고 습관이 들지않아서 > 휴대전화,인터넷,텔레비전,게임 등을 이용해서 > 학업 때문에 책읽을시간이 없어서"
   ]
  },
  {
   "cell_type": "markdown",
   "id": "31f84af4",
   "metadata": {},
   "source": [
    "--------------------------------"
   ]
  },
  {
   "cell_type": "markdown",
   "id": "46d67f16",
   "metadata": {},
   "source": [
    "## ④ 성인들의 독서 인식 분석"
   ]
  },
  {
   "cell_type": "markdown",
   "id": "27db9b20",
   "metadata": {},
   "source": [
    "### (1) 성인들의 평균 독서시간의 연도별 변화는 어떠한가?"
   ]
  },
  {
   "cell_type": "code",
   "execution_count": null,
   "id": "39c85faa",
   "metadata": {},
   "outputs": [],
   "source": [
    "read_avg_adult.round(1)"
   ]
  },
  {
   "cell_type": "code",
   "execution_count": null,
   "id": "9eca5823",
   "metadata": {},
   "outputs": [],
   "source": [
    "read_avg_adult.iloc[:,0:3].plot(figsize=(5,3), title='성인들의 평균 독서시간')"
   ]
  },
  {
   "cell_type": "code",
   "execution_count": null,
   "id": "ab5745b4",
   "metadata": {},
   "outputs": [],
   "source": [
    "read_avg_adult.iloc[1:3,3:6].plot(figsize=(5,3), title='종이책 평균 독서시간')"
   ]
  },
  {
   "cell_type": "code",
   "execution_count": null,
   "id": "c04a24cc",
   "metadata": {},
   "outputs": [],
   "source": [
    "read_avg_adult.iloc[1:3,6:9].plot(figsize=(5,3), title='전자책 평균 독서시간')"
   ]
  },
  {
   "cell_type": "code",
   "execution_count": null,
   "id": "ffdfbc01",
   "metadata": {},
   "outputs": [],
   "source": [
    "read_avg_adult.iloc[1:3,9:12].plot(figsize=(5,3), title='오디오북 평균 독서시간')"
   ]
  },
  {
   "cell_type": "markdown",
   "id": "2f4d9626",
   "metadata": {},
   "source": [
    "- 2017년과 2019년 성인들의 주말 평균 독서시간은 유사하나, 2021년에 소폭 증가세를 보인다.\n",
    "\n",
    "\n",
    "- 성인들의 일 평균 독서 시간과 평일 평균 독서 시간은 2019년에 크게 증가하였으나, 2021년에 큰 감소세를 보여 3개년 중 최저를 기록했다.\n",
    "\n",
    "\n",
    "--> **종이책 독서시간은 매년 감소**하고, **전자책과 오디오북 독서시간은 매년 증가**하고 있다."
   ]
  },
  {
   "cell_type": "markdown",
   "id": "137fad0a",
   "metadata": {},
   "source": [
    "### (2) 성인들이 선호하는 도서 종류 순위는 무엇인가?"
   ]
  },
  {
   "cell_type": "markdown",
   "id": "f612e5f6",
   "metadata": {},
   "source": [
    "### [종이책]"
   ]
  },
  {
   "cell_type": "code",
   "execution_count": null,
   "id": "11bf3edb",
   "metadata": {},
   "outputs": [],
   "source": [
    "book_kind_paper"
   ]
  },
  {
   "cell_type": "code",
   "execution_count": null,
   "id": "ac135d7b",
   "metadata": {},
   "outputs": [],
   "source": [
    "book_kind_paper.T.plot(kind='bar')"
   ]
  },
  {
   "cell_type": "markdown",
   "id": "4584ed80",
   "metadata": {},
   "source": [
    "- 2017년 : 문학 > 소설 > 철학,사상,종교 \n",
    "\n",
    "\n",
    "- 2019년 : 문학 > 소설 > 자기계발서\n",
    "\n",
    "\n",
    "- 2021년 :소설 > 자기계발서 > 재테크\n",
    "\n",
    "\n",
    "-- > 재태크에 대한 선호도는 매년 증가하고 있으며, 2021년도 소설 선호도가 크게 증가했다."
   ]
  },
  {
   "cell_type": "markdown",
   "id": "9029a861",
   "metadata": {},
   "source": [
    "### [전자책]"
   ]
  },
  {
   "cell_type": "code",
   "execution_count": null,
   "id": "e1db3468",
   "metadata": {},
   "outputs": [],
   "source": [
    "book_kind_e"
   ]
  },
  {
   "cell_type": "code",
   "execution_count": null,
   "id": "85401dc3",
   "metadata": {},
   "outputs": [],
   "source": [
    "book_kind_e.T.plot(kind='bar')"
   ]
  },
  {
   "cell_type": "markdown",
   "id": "61328aaf",
   "metadata": {},
   "source": [
    "- 전자책 선호 분야는 2017년, 2019년, 2021년 모두 **소설 > 문학 > 취미,오락,여행,건강** 순이다."
   ]
  },
  {
   "cell_type": "markdown",
   "id": "027ff3d3",
   "metadata": {},
   "source": [
    "### (3) 성인들이 전자책을 이용하는 이유와 방식은무엇인가?"
   ]
  },
  {
   "cell_type": "markdown",
   "id": "18aece30",
   "metadata": {},
   "source": [
    "### [전자책을 이용하는 이유]"
   ]
  },
  {
   "cell_type": "code",
   "execution_count": null,
   "id": "c8d59965",
   "metadata": {},
   "outputs": [],
   "source": [
    "reason_ebook"
   ]
  },
  {
   "cell_type": "code",
   "execution_count": null,
   "id": "971ea356",
   "metadata": {},
   "outputs": [],
   "source": [
    "reason_ebook.T.plot(kind='barh')"
   ]
  },
  {
   "cell_type": "markdown",
   "id": "1c98eda7",
   "metadata": {},
   "source": [
    "- 전자책을 이용하는 이유는 **보관과 휴대가 편리해서 > 시간과 장소에 관계없이 이용할 수 있어서 > 무료로 이용할 수 있어서** 순으로 나타났다."
   ]
  },
  {
   "cell_type": "markdown",
   "id": "b002e4e7",
   "metadata": {},
   "source": [
    "### [전자책을 이용하는 방식]"
   ]
  },
  {
   "cell_type": "code",
   "execution_count": null,
   "id": "3dbab466",
   "metadata": {},
   "outputs": [],
   "source": [
    "how_ebook"
   ]
  },
  {
   "cell_type": "markdown",
   "id": "e134806e",
   "metadata": {},
   "source": [
    "- 전자책을 이용하는 방식은 **무료 이용 > 구매 이용 > 대여 이용 > 정기구독 이용** 순으로 나타났다."
   ]
  },
  {
   "cell_type": "markdown",
   "id": "0df90851",
   "metadata": {},
   "source": [
    "### (4) 성인들의 주된 독서 장애요인은 무엇인가?"
   ]
  },
  {
   "cell_type": "code",
   "execution_count": null,
   "id": "138f0c44",
   "metadata": {},
   "outputs": [],
   "source": [
    "reason_not_read_adult"
   ]
  },
  {
   "cell_type": "markdown",
   "id": "74578149",
   "metadata": {},
   "source": [
    "- 2017년 : 일 또는 학업 때문에 책읽을시간이 없어서 > 휴대전화,인터넷,텔레비전,게임 등 콘텐트 이용 > 여가/취미활동\n",
    "\n",
    "- 2019년 : 휴대전화,인터넷,텔레비전,게임 등 콘텐트 이용 > 일 또는 학업 때문에 책읽을시간이 없어서 > 책읽기가 싫고 습관이 들지않아서\t\n",
    "\n",
    "- 2021년 : 일 또는 학업 때문에 책읽을시간이 없어서 > 휴대전화,인터넷,텔레비전,게임 등을 이용해서 > 책읽기가 싫고 습관이 들지않아서"
   ]
  },
  {
   "cell_type": "markdown",
   "id": "1b903f3b",
   "metadata": {},
   "source": [
    "--------------------------------"
   ]
  },
  {
   "cell_type": "markdown",
   "id": "c625e92b",
   "metadata": {},
   "source": [
    "## ⑤ 코로나 이후 학생, 성인들의 독서생활 변화"
   ]
  },
  {
   "cell_type": "markdown",
   "id": "56a02b39",
   "metadata": {},
   "source": [
    "### (1) 코로나 이후 독서량의 변화는 어떠한가?"
   ]
  },
  {
   "cell_type": "markdown",
   "id": "6e05217b",
   "metadata": {},
   "source": [
    "### (2) 코로나 이후 도서관 또는 전자도서관 이용의 변화는 어떠한가?"
   ]
  },
  {
   "cell_type": "markdown",
   "id": "042b08d0",
   "metadata": {},
   "source": [
    "### [학생]"
   ]
  },
  {
   "cell_type": "code",
   "execution_count": null,
   "id": "61a0e7d4",
   "metadata": {},
   "outputs": [],
   "source": [
    "total_sim_stu.sort_index(ascending=True, axis=1)"
   ]
  },
  {
   "cell_type": "code",
   "execution_count": null,
   "id": "d419df4a",
   "metadata": {},
   "outputs": [],
   "source": [
    "total_sim_stu.T['총 독서량'].plot.pie(figsize=(4,4), \n",
    "               colors=['orange','yellow','green'],\n",
    "               subplots=True,\n",
    "               autopct='%.1f',\n",
    "               fontsize=10,\n",
    "                title='코로나 이후 학생들의 총 독서량 변화')"
   ]
  },
  {
   "cell_type": "markdown",
   "id": "2bb25c95",
   "metadata": {},
   "source": [
    "#### (1)독서 매체별 변화\n",
    "\n",
    "- 실제 종이책 독서시간은 크게 감소하였으나, 코로나 이후 종이책 독서량이 '증가'했다는 답변이 전체의 40.1%, '변함 없다'는 답변이 42.5%를 차지하고 있다.\n",
    "\n",
    "\n",
    "- 또한, 실제 오디오북 독서시간은 증가하였으나, 코로나 이후 오디오북 독서량이 '증가'했다는 답변은 전체의 7.4% 밖에 되지 않는다.\n",
    "\n",
    "\n",
    "\n",
    "#### (2)도서관 이용 변화\n",
    "\n",
    "- 코로나 이후 도서관 이용빈도가 증가했다는 답변이 25.6%, 감소했다는 답변이 29%를 차지한다.\n",
    "\n",
    "\n",
    "- 반면, 전자도서관 이용빈도는 **감소했다**는 답변이 **증가했다**는 답변의 3배의 수치를 보인다."
   ]
  },
  {
   "cell_type": "markdown",
   "id": "a6694dec",
   "metadata": {},
   "source": [
    "### [성인]"
   ]
  },
  {
   "cell_type": "code",
   "execution_count": null,
   "id": "2dbba461",
   "metadata": {},
   "outputs": [],
   "source": [
    "total_sim_adult.sort_index(ascending=True, axis=1)"
   ]
  },
  {
   "cell_type": "code",
   "execution_count": null,
   "id": "10293104",
   "metadata": {},
   "outputs": [],
   "source": [
    "total_sim_adult.T['총 독서량'].plot.pie(figsize=(4,4), \n",
    "               colors=['orange','yellow','green'],\n",
    "               subplots=True,\n",
    "               autopct='%.1f',\n",
    "               fontsize=10,\n",
    "                title='코로나 이후 성인의 총 독서량 변화')"
   ]
  },
  {
   "cell_type": "markdown",
   "id": "37836940",
   "metadata": {},
   "source": [
    "#### (1) 독서 매체별 변화\n",
    "\n",
    "- 실제 종이책 독서시간은 크게 감소하였으나, 코로나 이후 종이책 독서량이 '감소'했다는 답변은 전체의 13.9% 밖에 되지 않는다.\n",
    "\n",
    "\n",
    "- 또한, 실제 오디오북 독서시간은 증가하였으나, 코로나 이후 오디오북 독서량이 '증가'했다는 답변은 전체의 2.6% 밖에 되지 않는다.\n",
    "\n",
    "\n",
    "#### (2) 도서관 이용 변화\n",
    "\n",
    "- 코로나 이후 도서관 이용빈도가 증가했다는 답변이 3.7%, 감소했다는 답변이 13.2%를 차지한다.\n",
    "\n",
    "\n",
    "- 반면, 전자도서관 이용빈도는 **감소했다**는 답변이 **증가했다**는 답변의 3배의 수치를 보인다."
   ]
  },
  {
   "cell_type": "markdown",
   "id": "ccf9fccb",
   "metadata": {},
   "source": [
    "---------------------------------------"
   ]
  }
 ],
 "metadata": {
  "kernelspec": {
   "display_name": "Python 3 (ipykernel)",
   "language": "python",
   "name": "python3"
  },
  "language_info": {
   "codemirror_mode": {
    "name": "ipython",
    "version": 3
   },
   "file_extension": ".py",
   "mimetype": "text/x-python",
   "name": "python",
   "nbconvert_exporter": "python",
   "pygments_lexer": "ipython3",
   "version": "3.9.13"
  }
 },
 "nbformat": 4,
 "nbformat_minor": 5
}

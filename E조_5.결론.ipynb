{
 "cells": [
  {
   "cell_type": "markdown",
   "id": "4b261b82",
   "metadata": {},
   "source": [
    "# 세미프로젝트_E조(MGP조)"
   ]
  },
  {
   "cell_type": "markdown",
   "id": "a7ea84de",
   "metadata": {},
   "source": [
    "---------------------------------"
   ]
  },
  {
   "cell_type": "markdown",
   "id": "8b0378c3",
   "metadata": {},
   "source": [
    "## 5. 결론"
   ]
  },
  {
   "cell_type": "markdown",
   "id": "7824c576",
   "metadata": {},
   "source": [
    "### : 작은 도서관 운영 및 지원 방향 제안"
   ]
  },
  {
   "cell_type": "markdown",
   "id": "6b6eb965",
   "metadata": {},
   "source": [
    "### 1) 공공도서관의 지원 방향"
   ]
  },
  {
   "cell_type": "markdown",
   "id": "a548a9ca",
   "metadata": {},
   "source": [
    "#### 화상 회의 등을 이용한 비대면 인문/문화 프로그램 제공\n",
    "\n",
    "<3. 공공도서관 운영실태> 분석 내용을 보면 도서관의 **운영 프로그램**과 도서관 **이용자 수** 간의 양의 상관관계가 있다는 것을 확인할 수 있다. \n",
    "반면, <2. 작은도서관 운영실태> 분석 내용을 보면 독서/문화프로그램을 실시하는 작은도서관의 비율이 **2017년 67.83%**에서 **2021년 30.31%로** 감소하고 있음을 알 수 있다.\n",
    "\n",
    "따라서, 공공도서관은 작은도서관과 연계하여 **화상 회의 등을 이용한 비대면 인문/문화 프로그램**을 제공함으로써, 작은 도서관의 인력 및 공간의 제약을 보완하고 \n",
    "\n",
    "\n",
    ">시간과 공간의 제약이 줄어든다는 점에서 진입장벽이 낮아짐\n",
    "\n",
    ">위 과정에서 도서관은 진행자와 참가자 간의 수요와 공급을 파악하고 연결해주는 중간다리 역을 맡는다."
   ]
  },
  {
   "cell_type": "markdown",
   "id": "3d476431",
   "metadata": {},
   "source": [
    "### 2) 작은도서관의 개선 방향"
   ]
  },
  {
   "cell_type": "markdown",
   "id": "6aa7c0c3",
   "metadata": {},
   "source": []
  },
  {
   "cell_type": "markdown",
   "id": "a3dcb6ae",
   "metadata": {},
   "source": [
    "2. 작은도서관 차원에서 개선점\n",
    "2-1.굳이 책이 없어도 조용히 책 읽을 수 있는 곳이라는 장소 제공\n",
    ">작은도서관의 장점 강화[무료/접근성]\n",
    ">도서대출을 제외하면 공부, 학습목적으로 주로 이용한다는 점에서 착안\n",
    ">분위기 환기 목적\n",
    ">조용한 공간 목적\n",
    ">분위기 유지 위해 추가적인 관리가 필요할수 있음"
   ]
  },
  {
   "cell_type": "markdown",
   "id": "06b133f7",
   "metadata": {},
   "source": [
    "2-2.부모 도서관과 연계하여 신청받은 책을 작은도서관까지 배달해주는 서비스 제공\n",
    ">작은 도서관에 없는 도서를 원격으로 대여신청을 하면 부모도서관이 해당 책들을 근처 작은도서관에 대여해주는 서비스\n",
    ">작은도서관의 최대 장점인 접근성을 강화(서비스 제공 분야는 제한될 필요 있음, 절판된 서적 등 소장가치가 있는 서적은 배달대여x)\n",
    ">분실에 대비하여 보증금 형식으로 돈을 받고 대여해주는 것도 괜찮을 듯"
   ]
  },
  {
   "cell_type": "markdown",
   "id": "4e6022b9",
   "metadata": {},
   "source": [
    "### 3)"
   ]
  },
  {
   "cell_type": "markdown",
   "id": "ec904a2f",
   "metadata": {},
   "source": [
    "* 작은도서관은 주민의 참여와 자치를 기반으로 **지역사회의 생활 친화적 도서관 문화의 향상**을 주된 목적으로 하는 바, 유지의 필요성이 높다. \n",
    "\n",
    "독서인식실태 분석 결과 "
   ]
  },
  {
   "cell_type": "markdown",
   "id": "5ddc9aa4",
   "metadata": {},
   "source": [
    "---------------------------------"
   ]
  },
  {
   "cell_type": "markdown",
   "id": "71035501",
   "metadata": {},
   "source": [
    "---------------------------------"
   ]
  }
 ],
 "metadata": {
  "kernelspec": {
   "display_name": "Python 3 (ipykernel)",
   "language": "python",
   "name": "python3"
  },
  "language_info": {
   "codemirror_mode": {
    "name": "ipython",
    "version": 3
   },
   "file_extension": ".py",
   "mimetype": "text/x-python",
   "name": "python",
   "nbconvert_exporter": "python",
   "pygments_lexer": "ipython3",
   "version": "3.9.13"
  }
 },
 "nbformat": 4,
 "nbformat_minor": 5
}
